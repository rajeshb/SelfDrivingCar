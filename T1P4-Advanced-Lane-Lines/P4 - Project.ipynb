{
 "cells": [
  {
   "cell_type": "markdown",
   "metadata": {},
   "source": [
    "## Advanced Lane Finding Project\n",
    "\n",
    "The goals / steps of this project are the following:\n",
    "\n",
    "* Compute the camera calibration matrix and distortion coefficients given a set of chessboard images.\n",
    "* Apply a distortion correction to raw images.\n",
    "* Use color transforms, gradients, etc., to create a thresholded binary image.\n",
    "* Apply a perspective transform to rectify binary image (\"birds-eye view\").\n",
    "* Detect lane pixels and fit to find the lane boundary.\n",
    "* Determine the curvature of the lane and vehicle position with respect to center.\n",
    "* Warp the detected lane boundaries back onto the original image.\n",
    "* Output visual display of the lane boundaries and numerical estimation of lane curvature and vehicle position.\n"
   ]
  },
  {
   "cell_type": "code",
   "execution_count": 1,
   "metadata": {
    "collapsed": true
   },
   "outputs": [],
   "source": [
    "import os\n",
    "import cv2\n",
    "import glob\n",
    "import numpy as np\n",
    "import glob\n",
    "import matplotlib.image as mpimg\n",
    "from moviepy.editor import VideoFileClip\n",
    "import matplotlib.pyplot as plt\n",
    "from AdvancedLaneLine import AdvancedLaneLine"
   ]
  },
  {
   "cell_type": "code",
   "execution_count": 2,
   "metadata": {
    "collapsed": false
   },
   "outputs": [
    {
     "name": "stdout",
     "output_type": "stream",
     "text": [
      "processing image (./test_images/test1.jpg) ...\n",
      "processing image (./test_images/test2.jpg) ...\n",
      "processing image (./test_images/test3.jpg) ...\n",
      "processing image (./test_images/test4.jpg) ...\n",
      "processing image (./test_images/test5.jpg) ...\n",
      "processing image (./test_images/test6.jpg) ...\n"
     ]
    }
   ],
   "source": [
    "# try against all test images\n",
    "images = glob.glob('./test_images/t*.jpg')\n",
    "\n",
    "for idx, fname in enumerate(images):\n",
    "    print(\"processing image ({}) ...\".format(fname))\n",
    "    file_path_split = os.path.splitext(os.path.basename(fname))\n",
    "    file_name = file_path_split[-2]\n",
    "\n",
    "    advanced_lane_line = AdvancedLaneLine(session=file_name, debug=True)\n",
    "    img = mpimg.imread(fname)\n",
    "    out = advanced_lane_line.image_pipeline(img)\n",
    "print(\"Done.\")"
   ]
  },
  {
   "cell_type": "code",
   "execution_count": null,
   "metadata": {
    "collapsed": true
   },
   "outputs": [],
   "source": [
    "print(\"processing project video ...\")\n",
    "# create an instance per video\n",
    "advanced_lane_line_1 = AdvancedLaneLine(session=\"session1\", debug=False)\n",
    "input_video = VideoFileClip(\"./project_video.mp4\")\n",
    "outclip = input_video.fl_image(advanced_lane_line_1.image_pipeline)\n",
    "outclip.write_videofile(\"./output/project_video_out.mp4\", audio=False)\n",
    "print(\"Number of frames using sliding windows : {}, from existing lane info : {}\".format(advanced_lane_line_1.sliding_window_count, advanced_lane_line_1.from_existing_count))\n",
    "print(\"Done.\")"
   ]
  },
  {
   "cell_type": "code",
   "execution_count": null,
   "metadata": {
    "collapsed": true
   },
   "outputs": [],
   "source": [
    "print(\"processing challenge video ...\")\n",
    "advanced_lane_line_2 = AdvancedLaneLine(session=\"session2\", debug=False)\n",
    "input_video = VideoFileClip(\"./challenge_video_out.mp4\")\n",
    "outclip = input_video.fl_image(advanced_lane_line_2.image_pipeline)\n",
    "outclip.write_videofile(\"./output/challenge_video.mp4\", audio=False)\n",
    "print(\"Number of frames using sliding windows : {}, from existing lane info : {}\".format(advanced_lane_line_2.sliding_window_count, advanced_lane_line_2.from_existing_count))\n",
    "print(\"Done.\")"
   ]
  }
 ],
 "metadata": {
  "kernelspec": {
   "display_name": "Python [default]",
   "language": "python",
   "name": "python3"
  },
  "language_info": {
   "codemirror_mode": {
    "name": "ipython",
    "version": 3
   },
   "file_extension": ".py",
   "mimetype": "text/x-python",
   "name": "python",
   "nbconvert_exporter": "python",
   "pygments_lexer": "ipython3",
   "version": "3.5.2"
  }
 },
 "nbformat": 4,
 "nbformat_minor": 2
}
