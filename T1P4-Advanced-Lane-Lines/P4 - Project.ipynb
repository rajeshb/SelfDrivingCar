{
 "cells": [
  {
   "cell_type": "markdown",
   "metadata": {},
   "source": [
    "## Advanced Lane Finding Project\n",
    "\n",
    "The goals / steps of this project are the following:\n",
    "\n",
    "* Compute the camera calibration matrix and distortion coefficients given a set of chessboard images.\n",
    "* Apply a distortion correction to raw images.\n",
    "* Use color transforms, gradients, etc., to create a thresholded binary image.\n",
    "* Apply a perspective transform to rectify binary image (\"birds-eye view\").\n",
    "* Detect lane pixels and fit to find the lane boundary.\n",
    "* Determine the curvature of the lane and vehicle position with respect to center.\n",
    "* Warp the detected lane boundaries back onto the original image.\n",
    "* Output visual display of the lane boundaries and numerical estimation of lane curvature and vehicle position.\n",
    "\n",
    "---\n",
    "## First, I'll compute the camera calibration using chessboard images"
   ]
  },
  {
   "cell_type": "code",
   "execution_count": 1,
   "metadata": {
    "collapsed": false
   },
   "outputs": [
    {
     "name": "stdout",
     "output_type": "stream",
     "text": [
      "processing image (./test_images/test5.jpg) ...\n",
      "All good for frame : 0\n",
      "processing image (./test_images/straight_lines1.jpg) ...\n",
      "All good for frame : 0\n",
      "processing image (./test_images/test1.jpg) ...\n",
      "All good for frame : 0\n",
      "processing image (./test_images/test6.jpg) ...\n",
      "All good for frame : 0\n",
      "processing image (./test_images/test2.jpg) ...\n",
      "All good for frame : 0\n",
      "processing image (./test_images/straight_lines2.jpg) ...\n",
      "All good for frame : 0\n",
      "processing image (./test_images/test4.jpg) ...\n",
      "All good for frame : 0\n",
      "processing image (./test_images/test3.jpg) ...\n",
      "All good for frame : 0\n",
      "processing project video ...\n",
      "All good for frame : 0\n",
      "[MoviePy] >>>> Building video ./output/project_video_out.mp4\n",
      "[MoviePy] Writing video ./output/project_video_out.mp4\n"
     ]
    },
    {
     "name": "stderr",
     "output_type": "stream",
     "text": [
      "\r",
      "  0%|          | 0/1261 [00:00<?, ?it/s]"
     ]
    },
    {
     "name": "stdout",
     "output_type": "stream",
     "text": [
      "first coefficient diff : 3.897298680743944e-05 second coefficient diff : 0.06887532289393572\n",
      "fit pos : 274.52 px 1051.57 px\n",
      "fit distance : 777.05 px 4.11 m\n",
      "All good for frame : 1\n"
     ]
    },
    {
     "name": "stderr",
     "output_type": "stream",
     "text": [
      "\r",
      "  0%|          | 1/1261 [00:03<1:05:42,  3.13s/it]"
     ]
    },
    {
     "name": "stdout",
     "output_type": "stream",
     "text": [
      "first coefficient diff : 6.563278965826579e-05 second coefficient diff : 0.055027856994797786\n",
      "fit pos : 275.00 px 1051.85 px\n",
      "fit distance : 776.86 px 4.11 m\n",
      "All good for frame : 2\n"
     ]
    },
    {
     "name": "stderr",
     "output_type": "stream",
     "text": [
      "\r",
      "  0%|          | 2/1261 [00:06<1:06:30,  3.17s/it]"
     ]
    },
    {
     "name": "stdout",
     "output_type": "stream",
     "text": [
      "first coefficient diff : 5.954538510454367e-05 second coefficient diff : 0.06840950497785825\n",
      "fit pos : 275.62 px 1050.82 px\n",
      "fit distance : 775.20 px 4.10 m\n",
      "All good for frame : 3\n"
     ]
    },
    {
     "name": "stderr",
     "output_type": "stream",
     "text": [
      "\r",
      "  0%|          | 3/1261 [00:09<1:05:05,  3.10s/it]"
     ]
    },
    {
     "name": "stdout",
     "output_type": "stream",
     "text": [
      "first coefficient diff : 5.6682173354870074e-05 second coefficient diff : 0.07969950154048622\n",
      "fit pos : 276.73 px 1051.69 px\n",
      "fit distance : 774.96 px 4.10 m\n",
      "All good for frame : 4\n"
     ]
    },
    {
     "name": "stderr",
     "output_type": "stream",
     "text": [
      "\r",
      "  0%|          | 4/1261 [00:12<1:03:05,  3.01s/it]"
     ]
    },
    {
     "name": "stdout",
     "output_type": "stream",
     "text": [
      "first coefficient diff : 4.343388501468768e-05 second coefficient diff : 0.08490951149109482\n",
      "fit pos : 280.34 px 1051.89 px\n",
      "fit distance : 771.55 px 4.08 m\n",
      "All good for frame : 5\n"
     ]
    },
    {
     "name": "stderr",
     "output_type": "stream",
     "text": [
      "\r",
      "  0%|          | 5/1261 [00:14<1:01:29,  2.94s/it]"
     ]
    },
    {
     "name": "stdout",
     "output_type": "stream",
     "text": [
      "first coefficient diff : 1.1713381812387426e-05 second coefficient diff : 0.11426710259976125\n",
      "fit pos : 283.42 px 1049.32 px\n",
      "fit distance : 765.90 px 4.05 m\n",
      "All good for frame : 6\n"
     ]
    },
    {
     "name": "stderr",
     "output_type": "stream",
     "text": [
      "\r",
      "  0%|          | 6/1261 [00:17<1:00:01,  2.87s/it]"
     ]
    },
    {
     "name": "stdout",
     "output_type": "stream",
     "text": [
      "first coefficient diff : 2.3660897762797046e-05 second coefficient diff : 0.13084208599192043\n",
      "fit pos : 285.32 px 1047.85 px\n",
      "fit distance : 762.53 px 4.03 m\n",
      "All good for frame : 7\n"
     ]
    },
    {
     "name": "stderr",
     "output_type": "stream",
     "text": [
      "\r",
      "  1%|          | 7/1261 [00:20<58:47,  2.81s/it]  "
     ]
    },
    {
     "name": "stdout",
     "output_type": "stream",
     "text": [
      "first coefficient diff : 0.00018534532684567778 second coefficient diff : 0.01158030046267361\n",
      "fit pos : 288.49 px 1070.75 px\n",
      "fit distance : 782.26 px 4.13 m\n",
      "All good for frame : 8\n"
     ]
    },
    {
     "name": "stderr",
     "output_type": "stream",
     "text": [
      "\r",
      "  1%|          | 8/1261 [00:22<57:47,  2.77s/it]"
     ]
    },
    {
     "name": "stdout",
     "output_type": "stream",
     "text": [
      "first coefficient diff : 0.0001774915493038942 second coefficient diff : 0.008576631646485922\n",
      "fit pos : 288.99 px 1073.98 px\n",
      "fit distance : 784.99 px 4.15 m\n",
      "All good for frame : 9\n"
     ]
    },
    {
     "name": "stderr",
     "output_type": "stream",
     "text": [
      "\r",
      "  1%|          | 9/1261 [00:25<56:57,  2.73s/it]"
     ]
    },
    {
     "name": "stdout",
     "output_type": "stream",
     "text": [
      "first coefficient diff : 8.459533719760483e-05 second coefficient diff : 0.05769365037531993\n",
      "fit pos : 289.40 px 1064.77 px\n",
      "fit distance : 775.37 px 4.10 m\n",
      "All good for frame : 10\n"
     ]
    },
    {
     "name": "stderr",
     "output_type": "stream",
     "text": [
      "\r",
      "  1%|          | 10/1261 [00:28<56:28,  2.71s/it]"
     ]
    },
    {
     "name": "stdout",
     "output_type": "stream",
     "text": [
      "first coefficient diff : 1.6792941831247823e-06 second coefficient diff : 0.1236501735550335\n",
      "fit pos : 290.45 px 1055.11 px\n",
      "fit distance : 764.66 px 4.04 m\n",
      "All good for frame : 11\n"
     ]
    },
    {
     "name": "stderr",
     "output_type": "stream",
     "text": [
      "\r",
      "  1%|          | 11/1261 [00:30<56:07,  2.69s/it]"
     ]
    },
    {
     "name": "stdout",
     "output_type": "stream",
     "text": [
      "first coefficient diff : 2.0417526970776997e-05 second coefficient diff : 0.06798110723857143\n",
      "fit pos : 288.75 px 1060.04 px\n",
      "fit distance : 771.28 px 4.08 m\n",
      "All good for frame : 12\n"
     ]
    },
    {
     "name": "stderr",
     "output_type": "stream",
     "text": [
      "\r",
      "  1%|          | 12/1261 [00:33<56:05,  2.69s/it]"
     ]
    },
    {
     "name": "stdout",
     "output_type": "stream",
     "text": [
      "first coefficient diff : 1.470902402835172e-05 second coefficient diff : 0.10218967518588312\n",
      "fit pos : 289.21 px 1055.44 px\n",
      "fit distance : 766.23 px 4.05 m\n",
      "All good for frame : 13\n"
     ]
    },
    {
     "name": "stderr",
     "output_type": "stream",
     "text": [
      "\r",
      "  1%|          | 13/1261 [00:36<55:56,  2.69s/it]"
     ]
    },
    {
     "name": "stdout",
     "output_type": "stream",
     "text": [
      "first coefficient diff : 6.896602724247136e-07 second coefficient diff : 0.09535624642408908\n",
      "fit pos : 287.99 px 1054.90 px\n",
      "fit distance : 766.91 px 4.05 m\n",
      "All good for frame : 14\n"
     ]
    },
    {
     "name": "stderr",
     "output_type": "stream",
     "text": [
      "\r",
      "  1%|          | 14/1261 [00:39<56:15,  2.71s/it]"
     ]
    },
    {
     "name": "stdout",
     "output_type": "stream",
     "text": [
      "first coefficient diff : 1.6227565900236562e-06 second coefficient diff : 0.12766767308742483\n",
      "fit pos : 286.94 px 1051.81 px\n",
      "fit distance : 764.87 px 4.04 m\n",
      "All good for frame : 15\n"
     ]
    },
    {
     "name": "stderr",
     "output_type": "stream",
     "text": [
      "\r",
      "  1%|          | 15/1261 [00:41<56:30,  2.72s/it]"
     ]
    },
    {
     "name": "stdout",
     "output_type": "stream",
     "text": [
      "first coefficient diff : 1.7460278951993786e-05 second coefficient diff : 0.13216324710159644\n",
      "fit pos : 285.72 px 1048.13 px\n",
      "fit distance : 762.41 px 4.03 m\n",
      "All good for frame : 16\n"
     ]
    },
    {
     "name": "stderr",
     "output_type": "stream",
     "text": [
      "\r",
      "  1%|▏         | 16/1261 [00:44<56:49,  2.74s/it]"
     ]
    },
    {
     "name": "stdout",
     "output_type": "stream",
     "text": [
      "first coefficient diff : 3.489587020907018e-05 second coefficient diff : 0.11334019765828313\n",
      "fit pos : 283.62 px 1045.49 px\n",
      "fit distance : 761.87 px 4.03 m\n",
      "All good for frame : 17\n"
     ]
    },
    {
     "name": "stderr",
     "output_type": "stream",
     "text": [
      "\r",
      "  1%|▏         | 17/1261 [00:47<57:11,  2.76s/it]"
     ]
    },
    {
     "name": "stdout",
     "output_type": "stream",
     "text": [
      "first coefficient diff : 1.6179385699195735e-07 second coefficient diff : 0.1527721157861222\n",
      "fit pos : 283.28 px 1041.18 px\n",
      "fit distance : 757.89 px 4.01 m\n",
      "All good for frame : 18\n"
     ]
    },
    {
     "name": "stderr",
     "output_type": "stream",
     "text": [
      "\r",
      "  1%|▏         | 18/1261 [00:50<57:24,  2.77s/it]"
     ]
    },
    {
     "name": "stdout",
     "output_type": "stream",
     "text": [
      "first coefficient diff : 1.7914019667546188e-05 second coefficient diff : 0.14460649786321456\n",
      "fit pos : 281.56 px 1039.16 px\n",
      "fit distance : 757.60 px 4.00 m\n",
      "All good for frame : 19\n"
     ]
    },
    {
     "name": "stderr",
     "output_type": "stream",
     "text": [
      "\r",
      "  2%|▏         | 19/1261 [00:52<57:23,  2.77s/it]"
     ]
    },
    {
     "name": "stdout",
     "output_type": "stream",
     "text": [
      "first coefficient diff : 0.000158752006645378 second coefficient diff : 0.2246723514751477\n",
      "fit pos : 280.01 px 1020.88 px\n",
      "fit distance : 740.86 px 3.92 m\n",
      "All good for frame : 20\n"
     ]
    },
    {
     "name": "stderr",
     "output_type": "stream",
     "text": [
      "\r",
      "  2%|▏         | 20/1261 [00:55<57:22,  2.77s/it]"
     ]
    },
    {
     "name": "stdout",
     "output_type": "stream",
     "text": [
      "first coefficient diff : 0.00015762693590423374 second coefficient diff : 0.2026800508683982\n",
      "fit pos : 277.55 px 1019.51 px\n",
      "fit distance : 741.96 px 3.92 m\n",
      "All good for frame : 21\n"
     ]
    },
    {
     "name": "stderr",
     "output_type": "stream",
     "text": [
      "\r",
      "  2%|▏         | 21/1261 [00:58<57:04,  2.76s/it]"
     ]
    },
    {
     "name": "stdout",
     "output_type": "stream",
     "text": [
      "first coefficient diff : 0.00012023480279514274 second coefficient diff : 0.17265807751083473\n",
      "fit pos : 275.55 px 1030.87 px\n",
      "fit distance : 755.32 px 3.99 m\n",
      "All good for frame : 22\n"
     ]
    },
    {
     "name": "stderr",
     "output_type": "stream",
     "text": [
      "\r",
      "  2%|▏         | 22/1261 [01:01<57:03,  2.76s/it]"
     ]
    },
    {
     "name": "stdout",
     "output_type": "stream",
     "text": [
      "first coefficient diff : 0.0001629687766312219 second coefficient diff : 0.1940559870286332\n",
      "fit pos : 272.71 px 1028.41 px\n",
      "fit distance : 755.70 px 3.99 m\n",
      "All good for frame : 23\n"
     ]
    },
    {
     "name": "stderr",
     "output_type": "stream",
     "text": [
      "\r",
      "  2%|▏         | 23/1261 [01:03<56:40,  2.75s/it]"
     ]
    },
    {
     "name": "stdout",
     "output_type": "stream",
     "text": [
      "first coefficient diff : 4.3090287239683396e-05 second coefficient diff : 0.13460877760418505\n",
      "fit pos : 270.22 px 1039.97 px\n",
      "fit distance : 769.75 px 4.07 m\n",
      "All good for frame : 24\n"
     ]
    },
    {
     "name": "stderr",
     "output_type": "stream",
     "text": [
      "\r",
      "  2%|▏         | 24/1261 [01:06<56:41,  2.75s/it]"
     ]
    },
    {
     "name": "stdout",
     "output_type": "stream",
     "text": [
      "first coefficient diff : 1.338961035252448e-05 second coefficient diff : 0.1241458503116532\n",
      "fit pos : 266.92 px 1039.58 px\n",
      "fit distance : 772.66 px 4.08 m\n",
      "All good for frame : 25\n"
     ]
    },
    {
     "name": "stderr",
     "output_type": "stream",
     "text": [
      "\r",
      "  2%|▏         | 25/1261 [01:09<57:09,  2.77s/it]"
     ]
    },
    {
     "name": "stdout",
     "output_type": "stream",
     "text": [
      "first coefficient diff : 5.578096785547568e-05 second coefficient diff : 0.13421248097485522\n",
      "fit pos : 263.67 px 1036.65 px\n",
      "fit distance : 772.98 px 4.09 m\n",
      "All good for frame : 26\n"
     ]
    },
    {
     "name": "stderr",
     "output_type": "stream",
     "text": [
      "\r",
      "  2%|▏         | 26/1261 [01:12<57:05,  2.77s/it]"
     ]
    },
    {
     "name": "stdout",
     "output_type": "stream",
     "text": [
      "first coefficient diff : 6.185044076137186e-06 second coefficient diff : 0.0983061480231383\n",
      "fit pos : 260.74 px 1041.05 px\n",
      "fit distance : 780.31 px 4.12 m\n",
      "All good for frame : 27\n"
     ]
    },
    {
     "name": "stderr",
     "output_type": "stream",
     "text": [
      "\r",
      "  2%|▏         | 27/1261 [01:15<56:39,  2.75s/it]"
     ]
    },
    {
     "name": "stdout",
     "output_type": "stream",
     "text": [
      "first coefficient diff : 3.1449379380853355e-07 second coefficient diff : 0.06785466502608828\n",
      "fit pos : 257.56 px 1042.53 px\n",
      "fit distance : 784.97 px 4.15 m\n",
      "All good for frame : 28\n"
     ]
    },
    {
     "name": "stderr",
     "output_type": "stream",
     "text": [
      "\r",
      "  2%|▏         | 28/1261 [01:17<56:12,  2.74s/it]"
     ]
    },
    {
     "name": "stdout",
     "output_type": "stream",
     "text": [
      "first coefficient diff : 1.7135802458033064e-05 second coefficient diff : 0.07347970805256193\n",
      "fit pos : 255.70 px 1042.90 px\n",
      "fit distance : 787.20 px 4.16 m\n",
      "All good for frame : 29\n"
     ]
    },
    {
     "name": "stderr",
     "output_type": "stream",
     "text": [
      "\r",
      "  2%|▏         | 29/1261 [01:20<56:34,  2.76s/it]"
     ]
    },
    {
     "name": "stdout",
     "output_type": "stream",
     "text": [
      "first coefficient diff : 2.6573640398657285e-05 second coefficient diff : 0.08550705834216221\n",
      "fit pos : 255.85 px 1041.20 px\n",
      "fit distance : 785.35 px 4.15 m\n",
      "All good for frame : 30\n"
     ]
    },
    {
     "name": "stderr",
     "output_type": "stream",
     "text": [
      "\r",
      "  2%|▏         | 30/1261 [01:23<56:28,  2.75s/it]"
     ]
    },
    {
     "name": "stdout",
     "output_type": "stream",
     "text": [
      "first coefficient diff : 6.1255228127638384e-06 second coefficient diff : 0.12195576429132626\n",
      "fit pos : 256.81 px 1038.84 px\n",
      "fit distance : 782.03 px 4.13 m\n",
      "All good for frame : 31\n"
     ]
    },
    {
     "name": "stderr",
     "output_type": "stream",
     "text": [
      "\r",
      "  2%|▏         | 31/1261 [01:26<58:50,  2.87s/it]"
     ]
    },
    {
     "name": "stdout",
     "output_type": "stream",
     "text": [
      "first coefficient diff : 9.659936641095057e-07 second coefficient diff : 0.14758680555199255\n",
      "fit pos : 257.57 px 1033.20 px\n",
      "fit distance : 775.63 px 4.10 m\n",
      "All good for frame : 32\n"
     ]
    },
    {
     "name": "stderr",
     "output_type": "stream",
     "text": [
      "\r",
      "  3%|▎         | 32/1261 [01:29<58:26,  2.85s/it]"
     ]
    },
    {
     "name": "stdout",
     "output_type": "stream",
     "text": [
      "first coefficient diff : 0.00022812140870106748 second coefficient diff : 0.27298523626855165\n",
      "fit pos : 256.87 px 1000.68 px\n",
      "fit distance : 743.81 px 3.93 m\n",
      "All good for frame : 33\n"
     ]
    },
    {
     "name": "stderr",
     "output_type": "stream",
     "text": [
      "\r",
      "  3%|▎         | 33/1261 [01:31<57:24,  2.81s/it]"
     ]
    },
    {
     "name": "stdout",
     "output_type": "stream",
     "text": [
      "first coefficient diff : 0.0002672746006590539 second coefficient diff : 0.33041526689927236\n",
      "fit pos : 258.35 px 1002.29 px\n",
      "fit distance : 743.94 px 3.93 m\n",
      "All good for frame : 34\n"
     ]
    },
    {
     "name": "stderr",
     "output_type": "stream",
     "text": [
      "\r",
      "  3%|▎         | 34/1261 [01:34<56:31,  2.76s/it]"
     ]
    },
    {
     "name": "stdout",
     "output_type": "stream",
     "text": [
      "first coefficient diff : 7.719906119568656e-05 second coefficient diff : 0.09309327853445937\n",
      "fit pos : 258.63 px 1040.89 px\n",
      "fit distance : 782.26 px 4.13 m\n",
      "All good for frame : 35\n"
     ]
    },
    {
     "name": "stderr",
     "output_type": "stream",
     "text": [
      "\r",
      "  3%|▎         | 35/1261 [01:37<55:56,  2.74s/it]"
     ]
    },
    {
     "name": "stdout",
     "output_type": "stream",
     "text": [
      "first coefficient diff : 7.411024681739113e-05 second coefficient diff : 0.10891198991140572\n",
      "fit pos : 261.80 px 1040.53 px\n",
      "fit distance : 778.72 px 4.12 m\n",
      "All good for frame : 36\n"
     ]
    },
    {
     "name": "stderr",
     "output_type": "stream",
     "text": [
      "\r",
      "  3%|▎         | 36/1261 [01:39<55:36,  2.72s/it]"
     ]
    },
    {
     "name": "stdout",
     "output_type": "stream",
     "text": [
      "first coefficient diff : 7.749648319775848e-05 second coefficient diff : 0.10120604252020104\n",
      "fit pos : 263.60 px 1038.38 px\n",
      "fit distance : 774.78 px 4.10 m\n",
      "All good for frame : 37\n"
     ]
    },
    {
     "name": "stderr",
     "output_type": "stream",
     "text": [
      "\r",
      "  3%|▎         | 37/1261 [01:42<55:21,  2.71s/it]"
     ]
    },
    {
     "name": "stdout",
     "output_type": "stream",
     "text": [
      "first coefficient diff : 6.060530940301892e-05 second coefficient diff : 0.11796600522497735\n",
      "fit pos : 265.27 px 1035.29 px\n",
      "fit distance : 770.02 px 4.07 m\n",
      "All good for frame : 38\n"
     ]
    },
    {
     "name": "stderr",
     "output_type": "stream",
     "text": [
      "\r",
      "  3%|▎         | 38/1261 [01:45<55:15,  2.71s/it]"
     ]
    },
    {
     "name": "stdout",
     "output_type": "stream",
     "text": [
      "first coefficient diff : 5.280011800023809e-05 second coefficient diff : 0.1381919510393318\n",
      "fit pos : 266.65 px 1033.31 px\n",
      "fit distance : 766.66 px 4.05 m\n",
      "All good for frame : 39\n"
     ]
    },
    {
     "name": "stderr",
     "output_type": "stream",
     "text": [
      "\r",
      "  3%|▎         | 39/1261 [01:48<55:03,  2.70s/it]"
     ]
    },
    {
     "name": "stdout",
     "output_type": "stream",
     "text": [
      "first coefficient diff : 6.056631420842573e-05 second coefficient diff : 0.1236894730212239\n",
      "fit pos : 267.03 px 1035.47 px\n",
      "fit distance : 768.44 px 4.06 m\n",
      "All good for frame : 40\n"
     ]
    },
    {
     "name": "stderr",
     "output_type": "stream",
     "text": [
      "\r",
      "  3%|▎         | 40/1261 [01:50<54:53,  2.70s/it]"
     ]
    },
    {
     "name": "stdout",
     "output_type": "stream",
     "text": [
      "first coefficient diff : 4.37038376322475e-05 second coefficient diff : 0.1336925374940494\n",
      "fit pos : 268.71 px 1035.65 px\n",
      "fit distance : 766.93 px 4.05 m\n",
      "All good for frame : 41\n"
     ]
    },
    {
     "name": "stderr",
     "output_type": "stream",
     "text": [
      "\r",
      "  3%|▎         | 41/1261 [01:53<54:45,  2.69s/it]"
     ]
    },
    {
     "name": "stdout",
     "output_type": "stream",
     "text": [
      "first coefficient diff : 9.556399144161777e-05 second coefficient diff : 0.07416317569311404\n",
      "fit pos : 270.59 px 1039.37 px\n",
      "fit distance : 768.77 px 4.06 m\n",
      "All good for frame : 42\n"
     ]
    },
    {
     "name": "stderr",
     "output_type": "stream",
     "text": [
      "\r",
      "  3%|▎         | 42/1261 [01:56<54:46,  2.70s/it]"
     ]
    },
    {
     "name": "stdout",
     "output_type": "stream",
     "text": [
      "first coefficient diff : 4.1662962617961994e-05 second coefficient diff : 0.10230008234598043\n",
      "fit pos : 273.46 px 1038.46 px\n",
      "fit distance : 765.00 px 4.04 m\n",
      "All good for frame : 43\n"
     ]
    },
    {
     "name": "stderr",
     "output_type": "stream",
     "text": [
      "\r",
      "  3%|▎         | 43/1261 [01:58<54:48,  2.70s/it]"
     ]
    },
    {
     "name": "stdout",
     "output_type": "stream",
     "text": [
      "first coefficient diff : 1.4128117674357045e-05 second coefficient diff : 0.10054963302345554\n",
      "fit pos : 273.94 px 1036.88 px\n",
      "fit distance : 762.94 px 4.03 m\n",
      "All good for frame : 44\n"
     ]
    },
    {
     "name": "stderr",
     "output_type": "stream",
     "text": [
      "\r",
      "  3%|▎         | 44/1261 [02:01<55:15,  2.72s/it]"
     ]
    },
    {
     "name": "stdout",
     "output_type": "stream",
     "text": [
      "first coefficient diff : 8.99978714467537e-05 second coefficient diff : 0.1608977399606768\n",
      "fit pos : 276.05 px 1028.06 px\n",
      "fit distance : 752.01 px 3.97 m\n",
      "All good for frame : 45\n"
     ]
    },
    {
     "name": "stderr",
     "output_type": "stream",
     "text": [
      "\r",
      "  4%|▎         | 45/1261 [02:04<55:35,  2.74s/it]"
     ]
    },
    {
     "name": "stdout",
     "output_type": "stream",
     "text": [
      "first coefficient diff : 0.0002651646295327181 second coefficient diff : 0.2677531405589194\n",
      "fit pos : 276.73 px 1002.59 px\n",
      "fit distance : 725.86 px 3.84 m\n",
      "All good for frame : 46\n"
     ]
    },
    {
     "name": "stderr",
     "output_type": "stream",
     "text": [
      "\r",
      "  4%|▎         | 46/1261 [02:07<55:44,  2.75s/it]"
     ]
    },
    {
     "name": "stdout",
     "output_type": "stream",
     "text": [
      "first coefficient diff : 0.00025322525750888167 second coefficient diff : 0.2718619336449206\n",
      "fit pos : 277.06 px 1013.26 px\n",
      "fit distance : 736.20 px 3.89 m\n",
      "All good for frame : 47\n"
     ]
    },
    {
     "name": "stderr",
     "output_type": "stream",
     "text": [
      "\r",
      "  4%|▎         | 47/1261 [02:09<55:26,  2.74s/it]"
     ]
    },
    {
     "name": "stdout",
     "output_type": "stream",
     "text": [
      "first coefficient diff : 4.354275581791827e-05 second coefficient diff : 0.15248550328657118\n",
      "fit pos : 279.19 px 1044.25 px\n",
      "fit distance : 765.07 px 4.04 m\n",
      "All good for frame : 48\n"
     ]
    },
    {
     "name": "stderr",
     "output_type": "stream",
     "text": [
      "\r",
      "  4%|▍         | 48/1261 [02:12<55:28,  2.74s/it]"
     ]
    },
    {
     "name": "stdout",
     "output_type": "stream",
     "text": [
      "first coefficient diff : 4.5323072638053775e-05 second coefficient diff : 0.1306450016795938\n",
      "fit pos : 280.68 px 1047.10 px\n",
      "fit distance : 766.42 px 4.05 m\n",
      "All good for frame : 49\n"
     ]
    },
    {
     "name": "stderr",
     "output_type": "stream",
     "text": [
      "\r",
      "  4%|▍         | 49/1261 [02:15<55:35,  2.75s/it]"
     ]
    },
    {
     "name": "stdout",
     "output_type": "stream",
     "text": [
      "first coefficient diff : 4.963574921240069e-05 second coefficient diff : 0.14087399737629935\n",
      "fit pos : 281.36 px 1047.62 px\n",
      "fit distance : 766.26 px 4.05 m\n",
      "All good for frame : 50\n"
     ]
    },
    {
     "name": "stderr",
     "output_type": "stream",
     "text": [
      "\r",
      "  4%|▍         | 50/1261 [02:18<55:42,  2.76s/it]"
     ]
    },
    {
     "name": "stdout",
     "output_type": "stream",
     "text": [
      "first coefficient diff : 9.241645473759784e-05 second coefficient diff : 0.1760886747396908\n",
      "fit pos : 282.16 px 1045.36 px\n",
      "fit distance : 763.20 px 4.03 m\n",
      "All good for frame : 51\n"
     ]
    },
    {
     "name": "stderr",
     "output_type": "stream",
     "text": [
      "\r",
      "  4%|▍         | 51/1261 [02:20<56:06,  2.78s/it]"
     ]
    },
    {
     "name": "stdout",
     "output_type": "stream",
     "text": [
      "first coefficient diff : 8.756323985509426e-05 second coefficient diff : 0.1909702875149486\n",
      "fit pos : 282.33 px 1043.59 px\n",
      "fit distance : 761.26 px 4.02 m\n",
      "All good for frame : 52\n"
     ]
    },
    {
     "name": "stderr",
     "output_type": "stream",
     "text": [
      "\r",
      "  4%|▍         | 52/1261 [02:23<56:11,  2.79s/it]"
     ]
    },
    {
     "name": "stdout",
     "output_type": "stream",
     "text": [
      "first coefficient diff : 0.0001160874579680068 second coefficient diff : 0.22130708524516762\n",
      "fit pos : 281.01 px 1040.09 px\n",
      "fit distance : 759.08 px 4.01 m\n",
      "All good for frame : 53\n"
     ]
    },
    {
     "name": "stderr",
     "output_type": "stream",
     "text": [
      "\r",
      "  4%|▍         | 53/1261 [02:26<55:42,  2.77s/it]"
     ]
    },
    {
     "name": "stdout",
     "output_type": "stream",
     "text": [
      "first coefficient diff : 9.56096413841941e-05 second coefficient diff : 0.21249962464844252\n",
      "fit pos : 279.38 px 1040.42 px\n",
      "fit distance : 761.04 px 4.02 m\n",
      "All good for frame : 54\n"
     ]
    },
    {
     "name": "stderr",
     "output_type": "stream",
     "text": [
      "\r",
      "  4%|▍         | 54/1261 [02:29<55:45,  2.77s/it]"
     ]
    },
    {
     "name": "stdout",
     "output_type": "stream",
     "text": [
      "first coefficient diff : 0.00011199947422871407 second coefficient diff : 0.22125624657920195\n",
      "fit pos : 279.28 px 1040.52 px\n",
      "fit distance : 761.24 px 4.02 m\n",
      "All good for frame : 55\n"
     ]
    },
    {
     "name": "stderr",
     "output_type": "stream",
     "text": [
      "\r",
      "  4%|▍         | 55/1261 [02:32<55:44,  2.77s/it]"
     ]
    },
    {
     "name": "stdout",
     "output_type": "stream",
     "text": [
      "first coefficient diff : 0.0001438480282923013 second coefficient diff : 0.24240597456163254\n",
      "fit pos : 277.11 px 1038.20 px\n",
      "fit distance : 761.09 px 4.02 m\n",
      "All good for frame : 56\n"
     ]
    },
    {
     "name": "stderr",
     "output_type": "stream",
     "text": [
      "\r",
      "  4%|▍         | 56/1261 [02:34<55:36,  2.77s/it]"
     ]
    },
    {
     "name": "stdout",
     "output_type": "stream",
     "text": [
      "first coefficient diff : 0.00015371853647752485 second coefficient diff : 0.25863550245997113\n",
      "fit pos : 274.99 px 1035.82 px\n",
      "fit distance : 760.83 px 4.02 m\n",
      "All good for frame : 57\n"
     ]
    },
    {
     "name": "stderr",
     "output_type": "stream",
     "text": [
      "\r",
      "  5%|▍         | 57/1261 [02:37<55:31,  2.77s/it]"
     ]
    },
    {
     "name": "stdout",
     "output_type": "stream",
     "text": [
      "first coefficient diff : 0.00015679527094722965 second coefficient diff : 0.251269480732326\n",
      "fit pos : 273.27 px 1031.56 px\n",
      "fit distance : 758.29 px 4.01 m\n",
      "All good for frame : 58\n"
     ]
    },
    {
     "name": "stderr",
     "output_type": "stream",
     "text": [
      "\r",
      "  5%|▍         | 58/1261 [02:40<55:11,  2.75s/it]"
     ]
    },
    {
     "name": "stdout",
     "output_type": "stream",
     "text": [
      "first coefficient diff : 9.070908820235242e-05 second coefficient diff : 0.12909956701668102\n",
      "fit pos : 272.19 px 1060.70 px\n",
      "fit distance : 788.51 px 4.17 m\n",
      "All good for frame : 59\n"
     ]
    },
    {
     "name": "stderr",
     "output_type": "stream",
     "text": [
      "\r",
      "  5%|▍         | 59/1261 [02:43<54:49,  2.74s/it]"
     ]
    },
    {
     "name": "stdout",
     "output_type": "stream",
     "text": [
      "first coefficient diff : 0.00012607338980820314 second coefficient diff : 0.11481506543502162\n",
      "fit pos : 271.22 px 1055.88 px\n",
      "fit distance : 784.66 px 4.15 m\n",
      "All good for frame : 60\n"
     ]
    },
    {
     "name": "stderr",
     "output_type": "stream",
     "text": [
      "\r",
      "  5%|▍         | 60/1261 [02:45<54:21,  2.72s/it]"
     ]
    },
    {
     "name": "stdout",
     "output_type": "stream",
     "text": [
      "first coefficient diff : 0.00013611046264209726 second coefficient diff : 0.1084784052438299\n",
      "fit pos : 268.65 px 1050.30 px\n",
      "fit distance : 781.65 px 4.13 m\n",
      "All good for frame : 61\n"
     ]
    },
    {
     "name": "stderr",
     "output_type": "stream",
     "text": [
      "\r",
      "  5%|▍         | 61/1261 [02:48<56:17,  2.81s/it]"
     ]
    },
    {
     "name": "stdout",
     "output_type": "stream",
     "text": [
      "first coefficient diff : 0.00011935367494760721 second coefficient diff : 0.1308019061024408\n",
      "fit pos : 267.51 px 1044.10 px\n",
      "fit distance : 776.59 px 4.10 m\n",
      "All good for frame : 62\n"
     ]
    },
    {
     "name": "stderr",
     "output_type": "stream",
     "text": [
      "\r",
      "  5%|▍         | 62/1261 [02:51<55:43,  2.79s/it]"
     ]
    },
    {
     "name": "stdout",
     "output_type": "stream",
     "text": [
      "first coefficient diff : 8.101956860194354e-05 second coefficient diff : 0.1403550358128236\n",
      "fit pos : 266.20 px 1037.82 px\n",
      "fit distance : 771.62 px 4.08 m\n",
      "All good for frame : 63\n"
     ]
    },
    {
     "name": "stderr",
     "output_type": "stream",
     "text": [
      "\r",
      "  5%|▍         | 63/1261 [02:54<54:48,  2.75s/it]"
     ]
    },
    {
     "name": "stdout",
     "output_type": "stream",
     "text": [
      "first coefficient diff : 8.025482957483567e-05 second coefficient diff : 0.15040142716149557\n",
      "fit pos : 264.03 px 1034.65 px\n",
      "fit distance : 770.62 px 4.07 m\n",
      "All good for frame : 64\n"
     ]
    },
    {
     "name": "stderr",
     "output_type": "stream",
     "text": [
      "\r",
      "  5%|▌         | 64/1261 [02:56<54:07,  2.71s/it]"
     ]
    },
    {
     "name": "stdout",
     "output_type": "stream",
     "text": [
      "first coefficient diff : 4.497474096724712e-05 second coefficient diff : 0.1591226158012765\n",
      "fit pos : 263.84 px 1031.95 px\n",
      "fit distance : 768.11 px 4.06 m\n",
      "All good for frame : 65\n"
     ]
    },
    {
     "name": "stderr",
     "output_type": "stream",
     "text": [
      "\r",
      "  5%|▌         | 65/1261 [02:59<53:27,  2.68s/it]"
     ]
    },
    {
     "name": "stdout",
     "output_type": "stream",
     "text": [
      "first coefficient diff : 5.9426432110258826e-05 second coefficient diff : 0.1513303352049643\n",
      "fit pos : 262.37 px 1029.77 px\n",
      "fit distance : 767.40 px 4.06 m\n",
      "All good for frame : 66\n"
     ]
    },
    {
     "name": "stderr",
     "output_type": "stream",
     "text": [
      "\r",
      "  5%|▌         | 66/1261 [03:01<52:59,  2.66s/it]"
     ]
    },
    {
     "name": "stdout",
     "output_type": "stream",
     "text": [
      "first coefficient diff : 6.962215046183286e-06 second coefficient diff : 0.18715074973048917\n",
      "fit pos : 262.32 px 1025.78 px\n",
      "fit distance : 763.46 px 4.04 m\n",
      "All good for frame : 67\n"
     ]
    },
    {
     "name": "stderr",
     "output_type": "stream",
     "text": [
      "\r",
      "  5%|▌         | 67/1261 [03:04<52:37,  2.64s/it]"
     ]
    },
    {
     "name": "stdout",
     "output_type": "stream",
     "text": [
      "first coefficient diff : 1.7985483703240803e-05 second coefficient diff : 0.15836232475505557\n",
      "fit pos : 261.94 px 1024.13 px\n",
      "fit distance : 762.19 px 4.03 m\n",
      "All good for frame : 68\n"
     ]
    },
    {
     "name": "stderr",
     "output_type": "stream",
     "text": [
      "\r",
      "  5%|▌         | 68/1261 [03:07<52:17,  2.63s/it]"
     ]
    },
    {
     "name": "stdout",
     "output_type": "stream",
     "text": [
      "first coefficient diff : 0.0001635757933797663 second coefficient diff : 0.32515071389603023\n",
      "fit pos : 261.63 px 1009.59 px\n",
      "fit distance : 747.97 px 3.95 m\n",
      "All good for frame : 69\n"
     ]
    },
    {
     "name": "stderr",
     "output_type": "stream",
     "text": [
      "\r",
      "  5%|▌         | 69/1261 [03:09<51:50,  2.61s/it]"
     ]
    },
    {
     "name": "stdout",
     "output_type": "stream",
     "text": [
      "first coefficient diff : 0.00031112767420090286 second coefficient diff : 0.3818816436035136\n",
      "fit pos : 261.37 px 984.05 px\n",
      "fit distance : 722.67 px 3.82 m\n",
      "All good for frame : 70\n"
     ]
    },
    {
     "name": "stderr",
     "output_type": "stream",
     "text": [
      "\r",
      "  6%|▌         | 70/1261 [03:12<51:56,  2.62s/it]"
     ]
    },
    {
     "name": "stdout",
     "output_type": "stream",
     "text": [
      "first coefficient diff : 0.0003278131844877249 second coefficient diff : 0.4099409531973224\n",
      "fit pos : 261.07 px 983.61 px\n",
      "fit distance : 722.54 px 3.82 m\n",
      "All good for frame : 71\n"
     ]
    },
    {
     "name": "stderr",
     "output_type": "stream",
     "text": [
      "\r",
      "  6%|▌         | 71/1261 [03:14<51:56,  2.62s/it]"
     ]
    },
    {
     "name": "stdout",
     "output_type": "stream",
     "text": [
      "first coefficient diff : 0.0002752490555084121 second coefficient diff : 0.36514351410782675\n",
      "fit pos : 260.74 px 992.55 px\n",
      "fit distance : 731.81 px 3.87 m\n",
      "All good for frame : 72\n"
     ]
    },
    {
     "name": "stderr",
     "output_type": "stream",
     "text": [
      "\r",
      "  6%|▌         | 72/1261 [03:17<52:09,  2.63s/it]"
     ]
    },
    {
     "name": "stdout",
     "output_type": "stream",
     "text": [
      "first coefficient diff : 0.000267725343010749 second coefficient diff : 0.36487891109710274\n",
      "fit pos : 259.50 px 996.70 px\n",
      "fit distance : 737.19 px 3.90 m\n",
      "All good for frame : 73\n"
     ]
    },
    {
     "name": "stderr",
     "output_type": "stream",
     "text": [
      "\r",
      "  6%|▌         | 73/1261 [03:20<52:07,  2.63s/it]"
     ]
    },
    {
     "name": "stdout",
     "output_type": "stream",
     "text": [
      "first coefficient diff : 0.00022724837894464304 second coefficient diff : 0.33369973132321035\n",
      "fit pos : 259.48 px 1000.80 px\n",
      "fit distance : 741.31 px 3.92 m\n",
      "All good for frame : 74\n"
     ]
    },
    {
     "name": "stderr",
     "output_type": "stream",
     "text": [
      "\r",
      "  6%|▌         | 74/1261 [03:22<52:09,  2.64s/it]"
     ]
    },
    {
     "name": "stdout",
     "output_type": "stream",
     "text": [
      "first coefficient diff : 0.00021543507147880626 second coefficient diff : 0.311626268082444\n",
      "fit pos : 258.00 px 1004.40 px\n",
      "fit distance : 746.39 px 3.95 m\n",
      "All good for frame : 75\n"
     ]
    },
    {
     "name": "stderr",
     "output_type": "stream",
     "text": [
      "\r",
      "  6%|▌         | 75/1261 [03:25<52:25,  2.65s/it]"
     ]
    },
    {
     "name": "stdout",
     "output_type": "stream",
     "text": [
      "first coefficient diff : 0.00021463418996647008 second coefficient diff : 0.3246163236691671\n",
      "fit pos : 256.69 px 1004.55 px\n",
      "fit distance : 747.86 px 3.95 m\n",
      "All good for frame : 76\n"
     ]
    },
    {
     "name": "stderr",
     "output_type": "stream",
     "text": [
      "\r",
      "  6%|▌         | 76/1261 [03:28<52:44,  2.67s/it]"
     ]
    },
    {
     "name": "stdout",
     "output_type": "stream",
     "text": [
      "first coefficient diff : 0.00024138105782625972 second coefficient diff : 0.3150466802773411\n",
      "fit pos : 254.94 px 1006.99 px\n",
      "fit distance : 752.05 px 3.98 m\n",
      "All good for frame : 77\n"
     ]
    },
    {
     "name": "stderr",
     "output_type": "stream",
     "text": [
      "\r",
      "  6%|▌         | 77/1261 [03:31<53:11,  2.70s/it]"
     ]
    },
    {
     "name": "stdout",
     "output_type": "stream",
     "text": [
      "first coefficient diff : 0.0002072997489389659 second coefficient diff : 0.2812555730153605\n",
      "fit pos : 252.90 px 1011.24 px\n",
      "fit distance : 758.34 px 4.01 m\n",
      "All good for frame : 78\n"
     ]
    },
    {
     "name": "stderr",
     "output_type": "stream",
     "text": [
      "\r",
      "  6%|▌         | 78/1261 [03:33<53:19,  2.70s/it]"
     ]
    },
    {
     "name": "stdout",
     "output_type": "stream",
     "text": [
      "first coefficient diff : 0.00019201819012667728 second coefficient diff : 0.2631698630146062\n",
      "fit pos : 248.22 px 1011.75 px\n",
      "fit distance : 763.54 px 4.04 m\n",
      "All good for frame : 79\n"
     ]
    },
    {
     "name": "stderr",
     "output_type": "stream",
     "text": [
      "\r",
      "  6%|▋         | 79/1261 [03:36<53:18,  2.71s/it]"
     ]
    },
    {
     "name": "stdout",
     "output_type": "stream",
     "text": [
      "first coefficient diff : 0.00018856474721636645 second coefficient diff : 0.2693116939801489\n",
      "fit pos : 244.58 px 1011.09 px\n",
      "fit distance : 766.52 px 4.05 m\n",
      "All good for frame : 80\n"
     ]
    },
    {
     "name": "stderr",
     "output_type": "stream",
     "text": [
      "\r",
      "  6%|▋         | 80/1261 [03:39<53:17,  2.71s/it]"
     ]
    },
    {
     "name": "stdout",
     "output_type": "stream",
     "text": [
      "first coefficient diff : 0.00018206530921874712 second coefficient diff : 0.2840034645478611\n",
      "fit pos : 241.53 px 1009.12 px\n",
      "fit distance : 767.59 px 4.06 m\n",
      "All good for frame : 81\n"
     ]
    },
    {
     "name": "stderr",
     "output_type": "stream",
     "text": [
      "\r",
      "  6%|▋         | 81/1261 [03:41<53:18,  2.71s/it]"
     ]
    },
    {
     "name": "stdout",
     "output_type": "stream",
     "text": [
      "first coefficient diff : 0.00018269055696362127 second coefficient diff : 0.2811865577786224\n",
      "fit pos : 237.26 px 1006.35 px\n",
      "fit distance : 769.09 px 4.07 m\n",
      "All good for frame : 82\n"
     ]
    },
    {
     "name": "stderr",
     "output_type": "stream",
     "text": [
      "\r",
      "  7%|▋         | 82/1261 [03:44<53:15,  2.71s/it]"
     ]
    },
    {
     "name": "stdout",
     "output_type": "stream",
     "text": [
      "first coefficient diff : 7.924806144836313e-05 second coefficient diff : 0.20992457191112884\n",
      "fit pos : 234.74 px 1017.38 px\n",
      "fit distance : 782.64 px 4.14 m\n",
      "All good for frame : 83\n"
     ]
    },
    {
     "name": "stderr",
     "output_type": "stream",
     "text": [
      "\r",
      "  7%|▋         | 83/1261 [03:47<53:06,  2.70s/it]"
     ]
    },
    {
     "name": "stdout",
     "output_type": "stream",
     "text": [
      "first coefficient diff : 6.289880990712729e-05 second coefficient diff : 0.08209220131413353\n",
      "fit pos : 230.55 px 1034.52 px\n",
      "fit distance : 803.97 px 4.25 m\n",
      "All good for frame : 84\n"
     ]
    },
    {
     "name": "stderr",
     "output_type": "stream",
     "text": [
      "\r",
      "  7%|▋         | 84/1261 [03:50<52:56,  2.70s/it]"
     ]
    },
    {
     "name": "stdout",
     "output_type": "stream",
     "text": [
      "first coefficient diff : 7.177579489079172e-05 second coefficient diff : 0.07693626829690114\n",
      "fit pos : 229.45 px 1033.80 px\n",
      "fit distance : 804.35 px 4.25 m\n",
      "All good for frame : 85\n"
     ]
    },
    {
     "name": "stderr",
     "output_type": "stream",
     "text": [
      "\r",
      "  7%|▋         | 85/1261 [03:52<53:05,  2.71s/it]"
     ]
    },
    {
     "name": "stdout",
     "output_type": "stream",
     "text": [
      "first coefficient diff : 6.0226434281944474e-05 second coefficient diff : 0.09351924160080533\n",
      "fit pos : 227.62 px 1029.88 px\n",
      "fit distance : 802.26 px 4.24 m\n",
      "All good for frame : 86\n"
     ]
    },
    {
     "name": "stderr",
     "output_type": "stream",
     "text": [
      "\r",
      "  7%|▋         | 86/1261 [03:55<52:58,  2.71s/it]"
     ]
    },
    {
     "name": "stdout",
     "output_type": "stream",
     "text": [
      "first coefficient diff : 2.6687641929471124e-05 second coefficient diff : 0.19547351018554615\n",
      "fit pos : 229.32 px 1015.95 px\n",
      "fit distance : 786.63 px 4.16 m\n",
      "All good for frame : 87\n"
     ]
    },
    {
     "name": "stderr",
     "output_type": "stream",
     "text": [
      "\r",
      "  7%|▋         | 87/1261 [03:58<52:54,  2.70s/it]"
     ]
    },
    {
     "name": "stdout",
     "output_type": "stream",
     "text": [
      "first coefficient diff : 6.402976669657012e-06 second coefficient diff : 0.18529604052607923\n",
      "fit pos : 231.76 px 1014.62 px\n",
      "fit distance : 782.86 px 4.14 m\n",
      "All good for frame : 88\n"
     ]
    },
    {
     "name": "stderr",
     "output_type": "stream",
     "text": [
      "\r",
      "  7%|▋         | 88/1261 [04:00<52:53,  2.71s/it]"
     ]
    },
    {
     "name": "stdout",
     "output_type": "stream",
     "text": [
      "first coefficient diff : 8.280940171123837e-06 second coefficient diff : 0.1962520307179354\n",
      "fit pos : 232.21 px 1012.26 px\n",
      "fit distance : 780.05 px 4.12 m\n",
      "All good for frame : 89\n"
     ]
    },
    {
     "name": "stderr",
     "output_type": "stream",
     "text": [
      "\r",
      "  7%|▋         | 89/1261 [04:03<52:52,  2.71s/it]"
     ]
    },
    {
     "name": "stdout",
     "output_type": "stream",
     "text": [
      "first coefficient diff : 4.9122523893632654e-05 second coefficient diff : 0.18256195489401394\n",
      "fit pos : 235.12 px 1010.82 px\n",
      "fit distance : 775.71 px 4.10 m\n",
      "All good for frame : 90\n"
     ]
    },
    {
     "name": "stderr",
     "output_type": "stream",
     "text": [
      "\r",
      "  7%|▋         | 90/1261 [04:06<53:23,  2.74s/it]"
     ]
    },
    {
     "name": "stdout",
     "output_type": "stream",
     "text": [
      "first coefficient diff : 1.5885699535453856e-05 second coefficient diff : 0.18894626558242367\n",
      "fit pos : 235.83 px 1010.36 px\n",
      "fit distance : 774.54 px 4.09 m\n",
      "All good for frame : 91\n"
     ]
    },
    {
     "name": "stderr",
     "output_type": "stream",
     "text": [
      "\r",
      "  7%|▋         | 91/1261 [04:09<56:01,  2.87s/it]"
     ]
    },
    {
     "name": "stdout",
     "output_type": "stream",
     "text": [
      "first coefficient diff : 1.900089367239382e-05 second coefficient diff : 0.1748546196642432\n",
      "fit pos : 236.48 px 1010.48 px\n",
      "fit distance : 774.00 px 4.09 m\n",
      "All good for frame : 92\n"
     ]
    },
    {
     "name": "stderr",
     "output_type": "stream",
     "text": [
      "\r",
      "  7%|▋         | 92/1261 [04:12<55:09,  2.83s/it]"
     ]
    },
    {
     "name": "stdout",
     "output_type": "stream",
     "text": [
      "first coefficient diff : 4.660389614370318e-05 second coefficient diff : 0.1571138605720761\n",
      "fit pos : 238.09 px 1009.58 px\n",
      "fit distance : 771.50 px 4.08 m\n",
      "All good for frame : 93\n"
     ]
    },
    {
     "name": "stderr",
     "output_type": "stream",
     "text": [
      "\r",
      "  7%|▋         | 93/1261 [04:14<54:08,  2.78s/it]"
     ]
    },
    {
     "name": "stdout",
     "output_type": "stream",
     "text": [
      "first coefficient diff : 1.987477686917898e-05 second coefficient diff : 0.22038665963563503\n",
      "fit pos : 240.59 px 1005.73 px\n",
      "fit distance : 765.14 px 4.04 m\n",
      "All good for frame : 94\n"
     ]
    },
    {
     "name": "stderr",
     "output_type": "stream",
     "text": [
      "\r",
      "  7%|▋         | 94/1261 [04:17<53:20,  2.74s/it]"
     ]
    },
    {
     "name": "stdout",
     "output_type": "stream",
     "text": [
      "first coefficient diff : 1.2368974850473634e-05 second coefficient diff : 0.1711110936773036\n",
      "fit pos : 239.93 px 1005.10 px\n",
      "fit distance : 765.17 px 4.04 m\n",
      "All good for frame : 95\n"
     ]
    },
    {
     "name": "stderr",
     "output_type": "stream",
     "text": [
      "\r",
      "  8%|▊         | 95/1261 [04:20<52:37,  2.71s/it]"
     ]
    },
    {
     "name": "stdout",
     "output_type": "stream",
     "text": [
      "first coefficient diff : 6.437825500861603e-05 second coefficient diff : 0.2181757998632214\n",
      "fit pos : 241.02 px 993.57 px\n",
      "fit distance : 752.55 px 3.98 m\n",
      "All good for frame : 96\n"
     ]
    },
    {
     "name": "stderr",
     "output_type": "stream",
     "text": [
      "\r",
      "  8%|▊         | 96/1261 [04:22<52:07,  2.68s/it]"
     ]
    },
    {
     "name": "stdout",
     "output_type": "stream",
     "text": [
      "first coefficient diff : 3.894494943006209e-05 second coefficient diff : 0.19159921142407133\n",
      "fit pos : 242.08 px 995.03 px\n",
      "fit distance : 752.95 px 3.98 m\n",
      "All good for frame : 97\n"
     ]
    },
    {
     "name": "stderr",
     "output_type": "stream",
     "text": [
      "\r",
      "  8%|▊         | 97/1261 [04:25<51:44,  2.67s/it]"
     ]
    },
    {
     "name": "stdout",
     "output_type": "stream",
     "text": [
      "first coefficient diff : 8.977996745495004e-05 second coefficient diff : 0.21619993026598883\n",
      "fit pos : 242.82 px 993.63 px\n",
      "fit distance : 750.81 px 3.97 m\n",
      "All good for frame : 98\n"
     ]
    },
    {
     "name": "stderr",
     "output_type": "stream",
     "text": [
      "\r",
      "  8%|▊         | 98/1261 [04:28<51:47,  2.67s/it]"
     ]
    },
    {
     "name": "stdout",
     "output_type": "stream",
     "text": [
      "first coefficient diff : 5.0818385888633277e-05 second coefficient diff : 0.1950129530345539\n",
      "fit pos : 244.73 px 996.89 px\n",
      "fit distance : 752.16 px 3.98 m\n",
      "All good for frame : 99\n"
     ]
    },
    {
     "name": "stderr",
     "output_type": "stream",
     "text": [
      "\r",
      "  8%|▊         | 99/1261 [04:30<51:58,  2.68s/it]"
     ]
    },
    {
     "name": "stdout",
     "output_type": "stream",
     "text": [
      "first coefficient diff : 4.8922191945347004e-05 second coefficient diff : 0.18203933223103325\n",
      "fit pos : 245.69 px 999.87 px\n",
      "fit distance : 754.18 px 3.99 m\n",
      "All good for frame : 100\n"
     ]
    },
    {
     "name": "stderr",
     "output_type": "stream",
     "text": [
      "\r",
      "  8%|▊         | 100/1261 [04:33<52:14,  2.70s/it]"
     ]
    },
    {
     "name": "stdout",
     "output_type": "stream",
     "text": [
      "first coefficient diff : 3.209523036280153e-05 second coefficient diff : 0.17430042262397238\n",
      "fit pos : 246.56 px 1002.04 px\n",
      "fit distance : 755.48 px 3.99 m\n",
      "All good for frame : 101\n"
     ]
    },
    {
     "name": "stderr",
     "output_type": "stream",
     "text": [
      "\r",
      "  8%|▊         | 101/1261 [04:36<52:21,  2.71s/it]"
     ]
    },
    {
     "name": "stdout",
     "output_type": "stream",
     "text": [
      "first coefficient diff : 8.876741455303406e-06 second coefficient diff : 0.16084438949765217\n",
      "fit pos : 247.26 px 1002.18 px\n",
      "fit distance : 754.92 px 3.99 m\n",
      "All good for frame : 102\n"
     ]
    },
    {
     "name": "stderr",
     "output_type": "stream",
     "text": [
      "\r",
      "  8%|▊         | 102/1261 [04:39<52:20,  2.71s/it]"
     ]
    },
    {
     "name": "stdout",
     "output_type": "stream",
     "text": [
      "first coefficient diff : 1.100592655971038e-06 second coefficient diff : 0.15075791787791204\n",
      "fit pos : 248.11 px 1005.30 px\n",
      "fit distance : 757.19 px 4.00 m\n",
      "All good for frame : 103\n"
     ]
    },
    {
     "name": "stderr",
     "output_type": "stream",
     "text": [
      "\r",
      "  8%|▊         | 103/1261 [04:41<52:42,  2.73s/it]"
     ]
    },
    {
     "name": "stdout",
     "output_type": "stream",
     "text": [
      "first coefficient diff : 8.7936314322981e-06 second coefficient diff : 0.15313506238314722\n",
      "fit pos : 248.95 px 1005.38 px\n",
      "fit distance : 756.44 px 4.00 m\n",
      "All good for frame : 104\n"
     ]
    },
    {
     "name": "stderr",
     "output_type": "stream",
     "text": [
      "\r",
      "  8%|▊         | 104/1261 [04:44<52:49,  2.74s/it]"
     ]
    },
    {
     "name": "stdout",
     "output_type": "stream",
     "text": [
      "first coefficient diff : 2.8161737516736068e-05 second coefficient diff : 0.1479477452875742\n",
      "fit pos : 248.26 px 1008.29 px\n",
      "fit distance : 760.03 px 4.02 m\n",
      "All good for frame : 105\n"
     ]
    },
    {
     "name": "stderr",
     "output_type": "stream",
     "text": [
      "\r",
      "  8%|▊         | 105/1261 [04:47<52:47,  2.74s/it]"
     ]
    },
    {
     "name": "stdout",
     "output_type": "stream",
     "text": [
      "first coefficient diff : 2.2759910550179652e-05 second coefficient diff : 0.12837180123138092\n",
      "fit pos : 248.19 px 1009.74 px\n",
      "fit distance : 761.55 px 4.03 m\n",
      "All good for frame : 106\n"
     ]
    },
    {
     "name": "stderr",
     "output_type": "stream",
     "text": [
      "\r",
      "  8%|▊         | 106/1261 [04:50<52:48,  2.74s/it]"
     ]
    },
    {
     "name": "stdout",
     "output_type": "stream",
     "text": [
      "first coefficient diff : 2.3797814546853513e-05 second coefficient diff : 0.11119727992810141\n",
      "fit pos : 248.69 px 1011.62 px\n",
      "fit distance : 762.93 px 4.03 m\n",
      "All good for frame : 107\n"
     ]
    },
    {
     "name": "stderr",
     "output_type": "stream",
     "text": [
      "\r",
      "  8%|▊         | 107/1261 [04:52<52:37,  2.74s/it]"
     ]
    },
    {
     "name": "stdout",
     "output_type": "stream",
     "text": [
      "first coefficient diff : 1.204692913684411e-05 second coefficient diff : 0.12112778322574258\n",
      "fit pos : 250.03 px 1010.92 px\n",
      "fit distance : 760.89 px 4.02 m\n",
      "All good for frame : 108\n"
     ]
    },
    {
     "name": "stderr",
     "output_type": "stream",
     "text": [
      "\r",
      "  9%|▊         | 108/1261 [04:55<52:23,  2.73s/it]"
     ]
    },
    {
     "name": "stdout",
     "output_type": "stream",
     "text": [
      "first coefficient diff : 2.4896716966517243e-05 second coefficient diff : 0.08451771900538907\n",
      "fit pos : 250.13 px 1011.62 px\n",
      "fit distance : 761.49 px 4.03 m\n",
      "All good for frame : 109\n"
     ]
    },
    {
     "name": "stderr",
     "output_type": "stream",
     "text": [
      "\r",
      "  9%|▊         | 109/1261 [04:58<52:13,  2.72s/it]"
     ]
    },
    {
     "name": "stdout",
     "output_type": "stream",
     "text": [
      "first coefficient diff : 4.994518029093878e-05 second coefficient diff : 0.15354920834987074\n",
      "fit pos : 251.49 px 1010.00 px\n",
      "fit distance : 758.52 px 4.01 m\n",
      "All good for frame : 110\n"
     ]
    },
    {
     "name": "stderr",
     "output_type": "stream",
     "text": [
      "\r",
      "  9%|▊         | 110/1261 [05:00<52:18,  2.73s/it]"
     ]
    },
    {
     "name": "stdout",
     "output_type": "stream",
     "text": [
      "first coefficient diff : 0.00010752549238378622 second coefficient diff : 0.20204526959588426\n",
      "fit pos : 252.61 px 1005.31 px\n",
      "fit distance : 752.70 px 3.98 m\n",
      "All good for frame : 111\n"
     ]
    },
    {
     "name": "stderr",
     "output_type": "stream",
     "text": [
      "\r",
      "  9%|▉         | 111/1261 [05:03<52:14,  2.73s/it]"
     ]
    },
    {
     "name": "stdout",
     "output_type": "stream",
     "text": [
      "first coefficient diff : 0.00012606816339707242 second coefficient diff : 0.19716071639730243\n",
      "fit pos : 251.84 px 1009.88 px\n",
      "fit distance : 758.04 px 4.01 m\n",
      "All good for frame : 112\n"
     ]
    },
    {
     "name": "stderr",
     "output_type": "stream",
     "text": [
      "\r",
      "  9%|▉         | 112/1261 [05:06<52:11,  2.73s/it]"
     ]
    },
    {
     "name": "stdout",
     "output_type": "stream",
     "text": [
      "first coefficient diff : 7.804583311710243e-05 second coefficient diff : 0.18216274639850644\n",
      "fit pos : 253.72 px 1013.79 px\n",
      "fit distance : 760.07 px 4.02 m\n",
      "All good for frame : 113\n"
     ]
    },
    {
     "name": "stderr",
     "output_type": "stream",
     "text": [
      "\r",
      "  9%|▉         | 113/1261 [05:09<52:03,  2.72s/it]"
     ]
    },
    {
     "name": "stdout",
     "output_type": "stream",
     "text": [
      "first coefficient diff : 8.687028467673337e-05 second coefficient diff : 0.19204496918166647\n",
      "fit pos : 254.24 px 1012.46 px\n",
      "fit distance : 758.22 px 4.01 m\n",
      "All good for frame : 114\n"
     ]
    },
    {
     "name": "stderr",
     "output_type": "stream",
     "text": [
      "\r",
      "  9%|▉         | 114/1261 [05:11<51:56,  2.72s/it]"
     ]
    },
    {
     "name": "stdout",
     "output_type": "stream",
     "text": [
      "first coefficient diff : 6.345241600629265e-05 second coefficient diff : 0.19608690696159192\n",
      "fit pos : 256.08 px 1015.60 px\n",
      "fit distance : 759.52 px 4.01 m\n",
      "All good for frame : 115\n"
     ]
    },
    {
     "name": "stderr",
     "output_type": "stream",
     "text": [
      "\r",
      "  9%|▉         | 115/1261 [05:14<51:51,  2.71s/it]"
     ]
    },
    {
     "name": "stdout",
     "output_type": "stream",
     "text": [
      "first coefficient diff : 7.30664854927989e-05 second coefficient diff : 0.21432267211370715\n",
      "fit pos : 255.91 px 1015.01 px\n",
      "fit distance : 759.10 px 4.01 m\n",
      "All good for frame : 116\n"
     ]
    },
    {
     "name": "stderr",
     "output_type": "stream",
     "text": [
      "\r",
      "  9%|▉         | 116/1261 [05:17<52:09,  2.73s/it]"
     ]
    },
    {
     "name": "stdout",
     "output_type": "stream",
     "text": [
      "first coefficient diff : 5.772886397983787e-05 second coefficient diff : 0.19802193379063204\n",
      "fit pos : 256.57 px 1018.51 px\n",
      "fit distance : 761.95 px 4.03 m\n",
      "All good for frame : 117\n"
     ]
    },
    {
     "name": "stderr",
     "output_type": "stream",
     "text": [
      "\r",
      "  9%|▉         | 117/1261 [05:20<52:10,  2.74s/it]"
     ]
    },
    {
     "name": "stdout",
     "output_type": "stream",
     "text": [
      "first coefficient diff : 6.0626964273774204e-05 second coefficient diff : 0.19947213261628804\n",
      "fit pos : 259.50 px 1019.75 px\n",
      "fit distance : 760.25 px 4.02 m\n",
      "All good for frame : 118\n"
     ]
    },
    {
     "name": "stderr",
     "output_type": "stream",
     "text": [
      "\r",
      "  9%|▉         | 118/1261 [05:22<52:08,  2.74s/it]"
     ]
    },
    {
     "name": "stdout",
     "output_type": "stream",
     "text": [
      "first coefficient diff : 9.814009670369836e-05 second coefficient diff : 0.23690609349989988\n",
      "fit pos : 260.52 px 1018.67 px\n",
      "fit distance : 758.15 px 4.01 m\n",
      "All good for frame : 119\n"
     ]
    },
    {
     "name": "stderr",
     "output_type": "stream",
     "text": [
      "\r",
      "  9%|▉         | 119/1261 [05:25<51:59,  2.73s/it]"
     ]
    },
    {
     "name": "stdout",
     "output_type": "stream",
     "text": [
      "first coefficient diff : 0.00013747407867452166 second coefficient diff : 0.28792612641796334\n",
      "fit pos : 262.44 px 1014.03 px\n",
      "fit distance : 751.59 px 3.97 m\n",
      "All good for frame : 120\n"
     ]
    },
    {
     "name": "stderr",
     "output_type": "stream",
     "text": [
      "\r",
      " 10%|▉         | 120/1261 [05:28<51:52,  2.73s/it]"
     ]
    },
    {
     "name": "stdout",
     "output_type": "stream",
     "text": [
      "first coefficient diff : 9.493595908102883e-05 second coefficient diff : 0.2529974673459011\n",
      "fit pos : 263.51 px 1021.65 px\n",
      "fit distance : 758.14 px 4.01 m\n",
      "All good for frame : 121\n"
     ]
    },
    {
     "name": "stderr",
     "output_type": "stream",
     "text": [
      "\r",
      " 10%|▉         | 121/1261 [05:31<53:46,  2.83s/it]"
     ]
    },
    {
     "name": "stdout",
     "output_type": "stream",
     "text": [
      "first coefficient diff : 6.133031448656701e-05 second coefficient diff : 0.24041122405402116\n",
      "fit pos : 265.22 px 1027.31 px\n",
      "fit distance : 762.09 px 4.03 m\n",
      "All good for frame : 122\n"
     ]
    },
    {
     "name": "stderr",
     "output_type": "stream",
     "text": [
      "\r",
      " 10%|▉         | 122/1261 [05:34<53:09,  2.80s/it]"
     ]
    },
    {
     "name": "stdout",
     "output_type": "stream",
     "text": [
      "first coefficient diff : 5.361096793160802e-05 second coefficient diff : 0.16182710915231147\n",
      "fit pos : 266.83 px 1035.33 px\n",
      "fit distance : 768.49 px 4.06 m\n",
      "All good for frame : 123\n"
     ]
    },
    {
     "name": "stderr",
     "output_type": "stream",
     "text": [
      "\r",
      " 10%|▉         | 123/1261 [05:36<52:22,  2.76s/it]"
     ]
    },
    {
     "name": "stdout",
     "output_type": "stream",
     "text": [
      "first coefficient diff : 2.7323815430078816e-05 second coefficient diff : 0.18298508992355844\n",
      "fit pos : 268.66 px 1033.78 px\n",
      "fit distance : 765.11 px 4.04 m\n",
      "All good for frame : 124\n"
     ]
    },
    {
     "name": "stderr",
     "output_type": "stream",
     "text": [
      "\r",
      " 10%|▉         | 124/1261 [05:39<51:41,  2.73s/it]"
     ]
    },
    {
     "name": "stdout",
     "output_type": "stream",
     "text": [
      "first coefficient diff : 3.866977698177191e-05 second coefficient diff : 0.1776845806606573\n",
      "fit pos : 269.86 px 1034.75 px\n",
      "fit distance : 764.89 px 4.04 m\n",
      "All good for frame : 125\n"
     ]
    },
    {
     "name": "stderr",
     "output_type": "stream",
     "text": [
      "\r",
      " 10%|▉         | 125/1261 [05:41<51:05,  2.70s/it]"
     ]
    },
    {
     "name": "stdout",
     "output_type": "stream",
     "text": [
      "first coefficient diff : 4.906643261375261e-06 second coefficient diff : 0.17384756489200526\n",
      "fit pos : 270.38 px 1034.01 px\n",
      "fit distance : 763.63 px 4.04 m\n",
      "All good for frame : 126\n"
     ]
    },
    {
     "name": "stderr",
     "output_type": "stream",
     "text": [
      "\r",
      " 10%|▉         | 126/1261 [05:44<50:39,  2.68s/it]"
     ]
    },
    {
     "name": "stdout",
     "output_type": "stream",
     "text": [
      "first coefficient diff : 2.9491880733253885e-06 second coefficient diff : 0.18820256431969162\n",
      "fit pos : 272.12 px 1036.69 px\n",
      "fit distance : 764.57 px 4.04 m\n",
      "All good for frame : 127\n"
     ]
    },
    {
     "name": "stderr",
     "output_type": "stream",
     "text": [
      "\r",
      " 10%|█         | 127/1261 [05:47<50:14,  2.66s/it]"
     ]
    },
    {
     "name": "stdout",
     "output_type": "stream",
     "text": [
      "first coefficient diff : 2.7062819475129904e-05 second coefficient diff : 0.19824763833471581\n",
      "fit pos : 272.56 px 1035.47 px\n",
      "fit distance : 762.91 px 4.03 m\n",
      "All good for frame : 128\n"
     ]
    },
    {
     "name": "stderr",
     "output_type": "stream",
     "text": [
      "\r",
      " 10%|█         | 128/1261 [05:49<49:58,  2.65s/it]"
     ]
    },
    {
     "name": "stdout",
     "output_type": "stream",
     "text": [
      "first coefficient diff : 1.6510568619924166e-05 second coefficient diff : 0.21319845948196414\n",
      "fit pos : 274.32 px 1034.32 px\n",
      "fit distance : 760.00 px 4.02 m\n",
      "All good for frame : 129\n"
     ]
    },
    {
     "name": "stderr",
     "output_type": "stream",
     "text": [
      "\r",
      " 10%|█         | 129/1261 [05:52<49:53,  2.64s/it]"
     ]
    },
    {
     "name": "stdout",
     "output_type": "stream",
     "text": [
      "first coefficient diff : 9.953781531481015e-06 second coefficient diff : 0.19334612376894977\n",
      "fit pos : 274.70 px 1034.32 px\n",
      "fit distance : 759.62 px 4.02 m\n",
      "All good for frame : 130\n"
     ]
    },
    {
     "name": "stderr",
     "output_type": "stream",
     "text": [
      "\r",
      " 10%|█         | 130/1261 [05:55<49:48,  2.64s/it]"
     ]
    },
    {
     "name": "stdout",
     "output_type": "stream",
     "text": [
      "first coefficient diff : 3.8217802976583015e-05 second coefficient diff : 0.22270963951560663\n",
      "fit pos : 276.64 px 1034.21 px\n",
      "fit distance : 757.58 px 4.00 m\n",
      "All good for frame : 131\n"
     ]
    },
    {
     "name": "stderr",
     "output_type": "stream",
     "text": [
      "\r",
      " 10%|█         | 131/1261 [05:57<49:46,  2.64s/it]"
     ]
    },
    {
     "name": "stdout",
     "output_type": "stream",
     "text": [
      "first coefficient diff : 8.851982275976566e-05 second coefficient diff : 0.27579290156212444\n",
      "fit pos : 279.20 px 1032.03 px\n",
      "fit distance : 752.83 px 3.98 m\n",
      "All good for frame : 132\n"
     ]
    },
    {
     "name": "stderr",
     "output_type": "stream",
     "text": [
      "\r",
      " 10%|█         | 132/1261 [06:00<49:38,  2.64s/it]"
     ]
    },
    {
     "name": "stdout",
     "output_type": "stream",
     "text": [
      "first coefficient diff : 0.00010825042233706403 second coefficient diff : 0.2792265449581791\n",
      "fit pos : 279.34 px 1031.04 px\n",
      "fit distance : 751.70 px 3.97 m\n",
      "All good for frame : 133\n"
     ]
    },
    {
     "name": "stderr",
     "output_type": "stream",
     "text": [
      "\r",
      " 11%|█         | 133/1261 [06:03<49:45,  2.65s/it]"
     ]
    },
    {
     "name": "stdout",
     "output_type": "stream",
     "text": [
      "first coefficient diff : 8.131985367189923e-05 second coefficient diff : 0.26003066559644283\n",
      "fit pos : 282.30 px 1033.87 px\n",
      "fit distance : 751.57 px 3.97 m\n",
      "All good for frame : 134\n"
     ]
    },
    {
     "name": "stderr",
     "output_type": "stream",
     "text": [
      "\r",
      " 11%|█         | 134/1261 [06:05<49:49,  2.65s/it]"
     ]
    },
    {
     "name": "stdout",
     "output_type": "stream",
     "text": [
      "first coefficient diff : 7.475512143153163e-05 second coefficient diff : 0.24652385645903496\n",
      "fit pos : 283.16 px 1035.89 px\n",
      "fit distance : 752.73 px 3.98 m\n",
      "All good for frame : 135\n"
     ]
    },
    {
     "name": "stderr",
     "output_type": "stream",
     "text": [
      "\r",
      " 11%|█         | 135/1261 [06:08<50:05,  2.67s/it]"
     ]
    },
    {
     "name": "stdout",
     "output_type": "stream",
     "text": [
      "first coefficient diff : 2.440958914916991e-05 second coefficient diff : 0.20280110600421974\n",
      "fit pos : 285.01 px 1045.10 px\n",
      "fit distance : 760.09 px 4.02 m\n",
      "All good for frame : 136\n"
     ]
    },
    {
     "name": "stderr",
     "output_type": "stream",
     "text": [
      "\r",
      " 11%|█         | 136/1261 [06:11<50:18,  2.68s/it]"
     ]
    },
    {
     "name": "stdout",
     "output_type": "stream",
     "text": [
      "first coefficient diff : 1.1622750530988681e-06 second coefficient diff : 0.16409562354070834\n",
      "fit pos : 284.01 px 1046.67 px\n",
      "fit distance : 762.66 px 4.03 m\n",
      "All good for frame : 137\n"
     ]
    },
    {
     "name": "stderr",
     "output_type": "stream",
     "text": [
      "\r",
      " 11%|█         | 137/1261 [06:13<50:36,  2.70s/it]"
     ]
    },
    {
     "name": "stdout",
     "output_type": "stream",
     "text": [
      "first coefficient diff : 4.507197996474416e-08 second coefficient diff : 0.1524429628429771\n",
      "fit pos : 282.85 px 1049.85 px\n",
      "fit distance : 767.00 px 4.05 m\n",
      "All good for frame : 138\n"
     ]
    },
    {
     "name": "stderr",
     "output_type": "stream",
     "text": [
      "\r",
      " 11%|█         | 138/1261 [06:16<50:38,  2.71s/it]"
     ]
    },
    {
     "name": "stdout",
     "output_type": "stream",
     "text": [
      "first coefficient diff : 4.14024030788451e-06 second coefficient diff : 0.14123014657102856\n",
      "fit pos : 282.88 px 1049.96 px\n",
      "fit distance : 767.08 px 4.05 m\n",
      "All good for frame : 139\n"
     ]
    },
    {
     "name": "stderr",
     "output_type": "stream",
     "text": [
      "\r",
      " 11%|█         | 139/1261 [06:19<50:38,  2.71s/it]"
     ]
    },
    {
     "name": "stdout",
     "output_type": "stream",
     "text": [
      "first coefficient diff : 2.7663772043056204e-05 second coefficient diff : 0.14003563507083266\n",
      "fit pos : 281.65 px 1049.34 px\n",
      "fit distance : 767.68 px 4.06 m\n",
      "All good for frame : 140\n"
     ]
    },
    {
     "name": "stderr",
     "output_type": "stream",
     "text": [
      "\r",
      " 11%|█         | 140/1261 [06:22<50:44,  2.72s/it]"
     ]
    },
    {
     "name": "stdout",
     "output_type": "stream",
     "text": [
      "first coefficient diff : 4.13287483156386e-06 second coefficient diff : 0.12441447473829959\n",
      "fit pos : 279.70 px 1048.28 px\n",
      "fit distance : 768.58 px 4.06 m\n",
      "All good for frame : 141\n"
     ]
    },
    {
     "name": "stderr",
     "output_type": "stream",
     "text": [
      "\r",
      " 11%|█         | 141/1261 [06:24<50:55,  2.73s/it]"
     ]
    },
    {
     "name": "stdout",
     "output_type": "stream",
     "text": [
      "first coefficient diff : 5.497350882071911e-06 second coefficient diff : 0.11899495013518424\n",
      "fit pos : 278.56 px 1048.54 px\n",
      "fit distance : 769.99 px 4.07 m\n",
      "All good for frame : 142\n"
     ]
    },
    {
     "name": "stderr",
     "output_type": "stream",
     "text": [
      "\r",
      " 11%|█▏        | 142/1261 [06:27<51:18,  2.75s/it]"
     ]
    },
    {
     "name": "stdout",
     "output_type": "stream",
     "text": [
      "first coefficient diff : 8.865050235262717e-07 second coefficient diff : 0.1456035664540652\n",
      "fit pos : 279.02 px 1045.66 px\n",
      "fit distance : 766.65 px 4.05 m\n",
      "All good for frame : 143\n"
     ]
    },
    {
     "name": "stderr",
     "output_type": "stream",
     "text": [
      "\r",
      " 11%|█▏        | 143/1261 [06:30<51:19,  2.75s/it]"
     ]
    },
    {
     "name": "stdout",
     "output_type": "stream",
     "text": [
      "first coefficient diff : 4.104484223555323e-05 second coefficient diff : 0.18385064571380272\n",
      "fit pos : 277.07 px 1041.08 px\n",
      "fit distance : 764.01 px 4.04 m\n",
      "All good for frame : 144\n"
     ]
    },
    {
     "name": "stderr",
     "output_type": "stream",
     "text": [
      "\r",
      " 11%|█▏        | 144/1261 [06:33<51:02,  2.74s/it]"
     ]
    },
    {
     "name": "stdout",
     "output_type": "stream",
     "text": [
      "first coefficient diff : 9.426130491111849e-05 second coefficient diff : 0.22268089749644832\n",
      "fit pos : 276.36 px 1036.81 px\n",
      "fit distance : 760.45 px 4.02 m\n",
      "All good for frame : 145\n"
     ]
    },
    {
     "name": "stderr",
     "output_type": "stream",
     "text": [
      "\r",
      " 11%|█▏        | 145/1261 [06:35<50:59,  2.74s/it]"
     ]
    },
    {
     "name": "stdout",
     "output_type": "stream",
     "text": [
      "first coefficient diff : 0.00020229362796096354 second coefficient diff : 0.30926411859477954\n",
      "fit pos : 276.59 px 1020.88 px\n",
      "fit distance : 744.30 px 3.93 m\n",
      "All good for frame : 146\n"
     ]
    },
    {
     "name": "stderr",
     "output_type": "stream",
     "text": [
      "\r",
      " 12%|█▏        | 146/1261 [06:38<50:47,  2.73s/it]"
     ]
    },
    {
     "name": "stdout",
     "output_type": "stream",
     "text": [
      "first coefficient diff : 0.00018242794236805987 second coefficient diff : 0.2903037839580275\n",
      "fit pos : 276.65 px 1025.35 px\n",
      "fit distance : 748.69 px 3.96 m\n",
      "All good for frame : 147\n"
     ]
    },
    {
     "name": "stderr",
     "output_type": "stream",
     "text": [
      "\r",
      " 12%|█▏        | 147/1261 [06:41<50:48,  2.74s/it]"
     ]
    },
    {
     "name": "stdout",
     "output_type": "stream",
     "text": [
      "first coefficient diff : 0.00018005945867653815 second coefficient diff : 0.3345336271638956\n",
      "fit pos : 277.31 px 1023.68 px\n",
      "fit distance : 746.37 px 3.95 m\n",
      "All good for frame : 148\n"
     ]
    },
    {
     "name": "stderr",
     "output_type": "stream",
     "text": [
      "\r",
      " 12%|█▏        | 148/1261 [06:44<50:49,  2.74s/it]"
     ]
    },
    {
     "name": "stdout",
     "output_type": "stream",
     "text": [
      "first coefficient diff : 0.0001691057434109627 second coefficient diff : 0.3329295703657024\n",
      "fit pos : 276.73 px 1026.80 px\n",
      "fit distance : 750.07 px 3.96 m\n",
      "All good for frame : 149\n"
     ]
    },
    {
     "name": "stderr",
     "output_type": "stream",
     "text": [
      "\r",
      " 12%|█▏        | 149/1261 [06:46<50:50,  2.74s/it]"
     ]
    },
    {
     "name": "stdout",
     "output_type": "stream",
     "text": [
      "first coefficient diff : 5.217924825951843e-05 second coefficient diff : 0.22573149317221475\n",
      "fit pos : 276.74 px 1038.53 px\n",
      "fit distance : 761.79 px 4.03 m\n",
      "All good for frame : 150\n"
     ]
    },
    {
     "name": "stderr",
     "output_type": "stream",
     "text": [
      "\r",
      " 12%|█▏        | 150/1261 [06:49<50:49,  2.74s/it]"
     ]
    },
    {
     "name": "stdout",
     "output_type": "stream",
     "text": [
      "first coefficient diff : 5.663583129498194e-05 second coefficient diff : 0.21837298616960654\n",
      "fit pos : 274.78 px 1036.22 px\n",
      "fit distance : 761.44 px 4.02 m\n",
      "All good for frame : 151\n"
     ]
    },
    {
     "name": "stderr",
     "output_type": "stream",
     "text": [
      "\r",
      " 12%|█▏        | 151/1261 [06:52<53:00,  2.87s/it]"
     ]
    },
    {
     "name": "stdout",
     "output_type": "stream",
     "text": [
      "first coefficient diff : 0.00010381110567663171 second coefficient diff : 0.24804151774197375\n",
      "fit pos : 272.17 px 1033.23 px\n",
      "fit distance : 761.06 px 4.02 m\n",
      "All good for frame : 152\n"
     ]
    },
    {
     "name": "stderr",
     "output_type": "stream",
     "text": [
      "\r",
      " 12%|█▏        | 152/1261 [06:55<52:28,  2.84s/it]"
     ]
    },
    {
     "name": "stdout",
     "output_type": "stream",
     "text": [
      "first coefficient diff : 2.796197464879712e-05 second coefficient diff : 0.20047910312102823\n",
      "fit pos : 272.12 px 1036.22 px\n",
      "fit distance : 764.10 px 4.04 m\n",
      "All good for frame : 153\n"
     ]
    },
    {
     "name": "stderr",
     "output_type": "stream",
     "text": [
      "\r",
      " 12%|█▏        | 153/1261 [06:58<51:45,  2.80s/it]"
     ]
    },
    {
     "name": "stdout",
     "output_type": "stream",
     "text": [
      "first coefficient diff : 3.7378983608717716e-05 second coefficient diff : 0.18095434252009945\n",
      "fit pos : 269.94 px 1037.06 px\n",
      "fit distance : 767.12 px 4.05 m\n",
      "All good for frame : 154\n"
     ]
    },
    {
     "name": "stderr",
     "output_type": "stream",
     "text": [
      "\r",
      " 12%|█▏        | 154/1261 [07:00<51:04,  2.77s/it]"
     ]
    },
    {
     "name": "stdout",
     "output_type": "stream",
     "text": [
      "first coefficient diff : 5.755682604457183e-05 second coefficient diff : 0.19359317305890106\n",
      "fit pos : 267.45 px 1038.26 px\n",
      "fit distance : 770.81 px 4.07 m\n",
      "All good for frame : 155\n"
     ]
    },
    {
     "name": "stderr",
     "output_type": "stream",
     "text": [
      "\r",
      " 12%|█▏        | 155/1261 [07:03<50:45,  2.75s/it]"
     ]
    },
    {
     "name": "stdout",
     "output_type": "stream",
     "text": [
      "first coefficient diff : 5.099263436256706e-05 second coefficient diff : 0.1839227997024615\n",
      "fit pos : 266.88 px 1036.26 px\n",
      "fit distance : 769.39 px 4.07 m\n",
      "All good for frame : 156\n"
     ]
    },
    {
     "name": "stderr",
     "output_type": "stream",
     "text": [
      "\r",
      " 12%|█▏        | 156/1261 [07:06<50:30,  2.74s/it]"
     ]
    },
    {
     "name": "stdout",
     "output_type": "stream",
     "text": [
      "first coefficient diff : 9.106952811276277e-05 second coefficient diff : 0.2238115927284286\n",
      "fit pos : 265.78 px 1033.84 px\n",
      "fit distance : 768.05 px 4.06 m\n",
      "All good for frame : 157\n"
     ]
    },
    {
     "name": "stderr",
     "output_type": "stream",
     "text": [
      "\r",
      " 12%|█▏        | 157/1261 [07:08<50:05,  2.72s/it]"
     ]
    },
    {
     "name": "stdout",
     "output_type": "stream",
     "text": [
      "first coefficient diff : 9.480396586082407e-05 second coefficient diff : 0.2627435348784666\n",
      "fit pos : 265.53 px 1031.72 px\n",
      "fit distance : 766.20 px 4.05 m\n",
      "All good for frame : 158\n"
     ]
    },
    {
     "name": "stderr",
     "output_type": "stream",
     "text": [
      "\r",
      " 13%|█▎        | 158/1261 [07:11<49:41,  2.70s/it]"
     ]
    },
    {
     "name": "stdout",
     "output_type": "stream",
     "text": [
      "first coefficient diff : 2.0273940273612837e-05 second coefficient diff : 0.16744228922292115\n",
      "fit pos : 262.48 px 1041.13 px\n",
      "fit distance : 778.65 px 4.12 m\n",
      "All good for frame : 159\n"
     ]
    },
    {
     "name": "stderr",
     "output_type": "stream",
     "text": [
      "\r",
      " 13%|█▎        | 159/1261 [07:14<49:30,  2.70s/it]"
     ]
    },
    {
     "name": "stdout",
     "output_type": "stream",
     "text": [
      "first coefficient diff : 1.9004406187636894e-05 second coefficient diff : 0.18123284285579588\n",
      "fit pos : 262.84 px 1041.12 px\n",
      "fit distance : 778.28 px 4.11 m\n",
      "All good for frame : 160\n"
     ]
    },
    {
     "name": "stderr",
     "output_type": "stream",
     "text": [
      "\r",
      " 13%|█▎        | 160/1261 [07:16<49:15,  2.68s/it]"
     ]
    },
    {
     "name": "stdout",
     "output_type": "stream",
     "text": [
      "first coefficient diff : 3.0054739740047762e-05 second coefficient diff : 0.15236459972968663\n",
      "fit pos : 261.65 px 1043.56 px\n",
      "fit distance : 781.91 px 4.13 m\n",
      "All good for frame : 161\n"
     ]
    },
    {
     "name": "stderr",
     "output_type": "stream",
     "text": [
      "\r",
      " 13%|█▎        | 161/1261 [07:19<49:04,  2.68s/it]"
     ]
    },
    {
     "name": "stdout",
     "output_type": "stream",
     "text": [
      "first coefficient diff : 4.539433564508435e-05 second coefficient diff : 0.13051831989328722\n",
      "fit pos : 260.85 px 1043.24 px\n",
      "fit distance : 782.39 px 4.14 m\n",
      "All good for frame : 162\n"
     ]
    },
    {
     "name": "stderr",
     "output_type": "stream",
     "text": [
      "\r",
      " 13%|█▎        | 162/1261 [07:22<48:55,  2.67s/it]"
     ]
    },
    {
     "name": "stdout",
     "output_type": "stream",
     "text": [
      "first coefficient diff : 1.987621725333186e-05 second coefficient diff : 0.16041134367993393\n",
      "fit pos : 259.97 px 1038.13 px\n",
      "fit distance : 778.16 px 4.11 m\n",
      "All good for frame : 163\n"
     ]
    },
    {
     "name": "stderr",
     "output_type": "stream",
     "text": [
      "\r",
      " 13%|█▎        | 163/1261 [07:24<48:55,  2.67s/it]"
     ]
    },
    {
     "name": "stdout",
     "output_type": "stream",
     "text": [
      "first coefficient diff : 3.2250145975369e-05 second coefficient diff : 0.185871461299915\n",
      "fit pos : 260.58 px 1035.15 px\n",
      "fit distance : 774.58 px 4.09 m\n",
      "All good for frame : 164\n"
     ]
    },
    {
     "name": "stderr",
     "output_type": "stream",
     "text": [
      "\r",
      " 13%|█▎        | 164/1261 [07:27<49:17,  2.70s/it]"
     ]
    },
    {
     "name": "stdout",
     "output_type": "stream",
     "text": [
      "first coefficient diff : 2.0157885853018683e-05 second coefficient diff : 0.16524603227519263\n",
      "fit pos : 260.54 px 1035.09 px\n",
      "fit distance : 774.55 px 4.09 m\n",
      "All good for frame : 165\n"
     ]
    },
    {
     "name": "stderr",
     "output_type": "stream",
     "text": [
      "\r",
      " 13%|█▎        | 165/1261 [07:30<49:21,  2.70s/it]"
     ]
    },
    {
     "name": "stdout",
     "output_type": "stream",
     "text": [
      "first coefficient diff : 1.4495527846187226e-05 second coefficient diff : 0.157001149843776\n",
      "fit pos : 258.41 px 1033.11 px\n",
      "fit distance : 774.71 px 4.09 m\n",
      "All good for frame : 166\n"
     ]
    },
    {
     "name": "stderr",
     "output_type": "stream",
     "text": [
      "\r",
      " 13%|█▎        | 166/1261 [07:33<49:26,  2.71s/it]"
     ]
    },
    {
     "name": "stdout",
     "output_type": "stream",
     "text": [
      "first coefficient diff : 1.2194499084852858e-05 second coefficient diff : 0.17877794112124146\n",
      "fit pos : 258.82 px 1032.18 px\n",
      "fit distance : 773.36 px 4.09 m\n",
      "All good for frame : 167\n"
     ]
    },
    {
     "name": "stderr",
     "output_type": "stream",
     "text": [
      "\r",
      " 13%|█▎        | 167/1261 [07:35<49:34,  2.72s/it]"
     ]
    },
    {
     "name": "stdout",
     "output_type": "stream",
     "text": [
      "first coefficient diff : 3.2641290436802024e-06 second coefficient diff : 0.1456291441028852\n",
      "fit pos : 259.87 px 1033.84 px\n",
      "fit distance : 773.97 px 4.09 m\n",
      "All good for frame : 168\n"
     ]
    },
    {
     "name": "stderr",
     "output_type": "stream",
     "text": [
      "\r",
      " 13%|█▎        | 168/1261 [07:38<49:49,  2.74s/it]"
     ]
    },
    {
     "name": "stdout",
     "output_type": "stream",
     "text": [
      "first coefficient diff : 2.338064993023212e-05 second coefficient diff : 0.152539187911097\n",
      "fit pos : 258.90 px 1031.80 px\n",
      "fit distance : 772.90 px 4.09 m\n",
      "All good for frame : 169\n"
     ]
    },
    {
     "name": "stderr",
     "output_type": "stream",
     "text": [
      "\r",
      " 13%|█▎        | 169/1261 [07:41<49:54,  2.74s/it]"
     ]
    },
    {
     "name": "stdout",
     "output_type": "stream",
     "text": [
      "first coefficient diff : 7.652762874746914e-05 second coefficient diff : 0.1640424374021049\n",
      "fit pos : 256.82 px 1025.04 px\n",
      "fit distance : 768.22 px 4.06 m\n",
      "All good for frame : 170\n"
     ]
    },
    {
     "name": "stderr",
     "output_type": "stream",
     "text": [
      "\r",
      " 13%|█▎        | 170/1261 [07:44<49:30,  2.72s/it]"
     ]
    },
    {
     "name": "stdout",
     "output_type": "stream",
     "text": [
      "first coefficient diff : 0.0006503979210174245 second coefficient diff : 0.5435487052351664\n",
      "Skipping for frame : 171\n"
     ]
    },
    {
     "name": "stderr",
     "output_type": "stream",
     "text": [
      "\r",
      " 14%|█▎        | 171/1261 [07:46<49:16,  2.71s/it]"
     ]
    },
    {
     "name": "stdout",
     "output_type": "stream",
     "text": [
      "first coefficient diff : 0.0006831439457097145 second coefficient diff : 0.590602428458203\n",
      "Skipping for frame : 172\n"
     ]
    },
    {
     "name": "stderr",
     "output_type": "stream",
     "text": [
      "\r",
      " 14%|█▎        | 172/1261 [07:49<50:13,  2.77s/it]"
     ]
    },
    {
     "name": "stdout",
     "output_type": "stream",
     "text": [
      "first coefficient diff : 0.0006994241722987245 second coefficient diff : 0.6422983125691799\n",
      "Skipping for frame : 173\n"
     ]
    },
    {
     "name": "stderr",
     "output_type": "stream",
     "text": [
      "\r",
      " 14%|█▎        | 173/1261 [07:52<50:54,  2.81s/it]"
     ]
    },
    {
     "name": "stdout",
     "output_type": "stream",
     "text": [
      "first coefficient diff : 0.0006684553713881987 second coefficient diff : 0.6788639943838514\n",
      "Skipping for frame : 174\n"
     ]
    },
    {
     "name": "stderr",
     "output_type": "stream",
     "text": [
      "\r",
      " 14%|█▍        | 174/1261 [07:55<51:23,  2.84s/it]"
     ]
    },
    {
     "name": "stdout",
     "output_type": "stream",
     "text": [
      "first coefficient diff : 0.000692309200739488 second coefficient diff : 0.7543803104393029\n",
      "Skipping for frame : 175\n"
     ]
    },
    {
     "name": "stderr",
     "output_type": "stream",
     "text": [
      "\r",
      " 14%|█▍        | 175/1261 [07:58<51:35,  2.85s/it]"
     ]
    },
    {
     "name": "stdout",
     "output_type": "stream",
     "text": [
      "first coefficient diff : 0.0006668693873373615 second coefficient diff : 0.7708967413917518\n",
      "Skipping for frame : 176\n"
     ]
    },
    {
     "name": "stderr",
     "output_type": "stream",
     "text": [
      "\r",
      " 14%|█▍        | 176/1261 [08:01<51:44,  2.86s/it]"
     ]
    },
    {
     "name": "stdout",
     "output_type": "stream",
     "text": [
      "first coefficient diff : 0.00042908553939693874 second coefficient diff : 0.5415580749663141\n",
      "Skipping for frame : 177\n"
     ]
    },
    {
     "name": "stderr",
     "output_type": "stream",
     "text": [
      "\r",
      " 14%|█▍        | 177/1261 [08:04<51:49,  2.87s/it]"
     ]
    },
    {
     "name": "stdout",
     "output_type": "stream",
     "text": [
      "first coefficient diff : 0.0003450335398496592 second coefficient diff : 0.469169042401267\n",
      "fit pos : 243.19 px 1011.37 px\n",
      "fit distance : 768.17 px 4.06 m\n",
      "All good for frame : 178\n"
     ]
    },
    {
     "name": "stderr",
     "output_type": "stream",
     "text": [
      "\r",
      " 14%|█▍        | 178/1261 [08:07<51:58,  2.88s/it]"
     ]
    },
    {
     "name": "stdout",
     "output_type": "stream",
     "text": [
      "first coefficient diff : 0.00021010296274163895 second coefficient diff : 0.36767238959396453\n",
      "fit pos : 241.12 px 1021.63 px\n",
      "fit distance : 780.51 px 4.13 m\n",
      "All good for frame : 179\n"
     ]
    },
    {
     "name": "stderr",
     "output_type": "stream",
     "text": [
      "\r",
      " 14%|█▍        | 179/1261 [08:09<51:22,  2.85s/it]"
     ]
    },
    {
     "name": "stdout",
     "output_type": "stream",
     "text": [
      "first coefficient diff : 0.00021514595067053603 second coefficient diff : 0.36749613851335683\n",
      "fit pos : 239.92 px 1026.08 px\n",
      "fit distance : 786.16 px 4.16 m\n",
      "All good for frame : 180\n"
     ]
    },
    {
     "name": "stderr",
     "output_type": "stream",
     "text": [
      "\r",
      " 14%|█▍        | 180/1261 [08:12<50:40,  2.81s/it]"
     ]
    },
    {
     "name": "stdout",
     "output_type": "stream",
     "text": [
      "first coefficient diff : 0.00019138438682580312 second coefficient diff : 0.37011992213509615\n",
      "fit pos : 239.04 px 1026.63 px\n",
      "fit distance : 787.59 px 4.16 m\n",
      "All good for frame : 181\n"
     ]
    },
    {
     "name": "stderr",
     "output_type": "stream",
     "text": [
      "\r",
      " 14%|█▍        | 181/1261 [08:15<52:30,  2.92s/it]"
     ]
    },
    {
     "name": "stdout",
     "output_type": "stream",
     "text": [
      "first coefficient diff : 0.00021283435155119784 second coefficient diff : 0.37252768766312183\n",
      "fit pos : 237.23 px 1025.77 px\n",
      "fit distance : 788.54 px 4.17 m\n",
      "All good for frame : 182\n"
     ]
    },
    {
     "name": "stderr",
     "output_type": "stream",
     "text": [
      "\r",
      " 14%|█▍        | 182/1261 [08:18<51:48,  2.88s/it]"
     ]
    },
    {
     "name": "stdout",
     "output_type": "stream",
     "text": [
      "first coefficient diff : 0.00012776966823957572 second coefficient diff : 0.3557940496191193\n",
      "fit pos : 236.71 px 1038.47 px\n",
      "fit distance : 801.76 px 4.24 m\n",
      "All good for frame : 183\n"
     ]
    },
    {
     "name": "stderr",
     "output_type": "stream",
     "text": [
      "\r",
      " 15%|█▍        | 183/1261 [08:21<50:35,  2.82s/it]"
     ]
    },
    {
     "name": "stdout",
     "output_type": "stream",
     "text": [
      "first coefficient diff : 2.3771918300055693e-06 second coefficient diff : 0.2880734043637535\n",
      "fit pos : 236.48 px 1047.75 px\n",
      "fit distance : 811.27 px 4.29 m\n",
      "All good for frame : 184\n"
     ]
    },
    {
     "name": "stderr",
     "output_type": "stream",
     "text": [
      "\r",
      " 15%|█▍        | 184/1261 [08:23<49:26,  2.75s/it]"
     ]
    },
    {
     "name": "stdout",
     "output_type": "stream",
     "text": [
      "first coefficient diff : 3.5210399778492574e-05 second coefficient diff : 0.3242778039688331\n",
      "fit pos : 237.33 px 1041.36 px\n",
      "fit distance : 804.03 px 4.25 m\n",
      "All good for frame : 185\n"
     ]
    },
    {
     "name": "stderr",
     "output_type": "stream",
     "text": [
      "\r",
      " 15%|█▍        | 185/1261 [08:26<48:28,  2.70s/it]"
     ]
    },
    {
     "name": "stdout",
     "output_type": "stream",
     "text": [
      "first coefficient diff : 2.157692824666306e-05 second coefficient diff : 0.3541843284902858\n",
      "fit pos : 240.13 px 1038.00 px\n",
      "fit distance : 797.87 px 4.22 m\n",
      "All good for frame : 186\n"
     ]
    },
    {
     "name": "stderr",
     "output_type": "stream",
     "text": [
      "\r",
      " 15%|█▍        | 186/1261 [08:29<48:02,  2.68s/it]"
     ]
    },
    {
     "name": "stdout",
     "output_type": "stream",
     "text": [
      "first coefficient diff : 3.787392785273736e-05 second coefficient diff : 0.3609500910503465\n",
      "fit pos : 242.44 px 1035.87 px\n",
      "fit distance : 793.43 px 4.19 m\n",
      "All good for frame : 187\n"
     ]
    },
    {
     "name": "stderr",
     "output_type": "stream",
     "text": [
      "\r",
      " 15%|█▍        | 187/1261 [08:31<47:47,  2.67s/it]"
     ]
    },
    {
     "name": "stdout",
     "output_type": "stream",
     "text": [
      "first coefficient diff : 6.7714364177764086e-06 second coefficient diff : 0.3322494874223718\n",
      "fit pos : 245.37 px 1036.66 px\n",
      "fit distance : 791.29 px 4.18 m\n",
      "All good for frame : 188\n"
     ]
    },
    {
     "name": "stderr",
     "output_type": "stream",
     "text": [
      "\r",
      " 15%|█▍        | 188/1261 [08:34<47:46,  2.67s/it]"
     ]
    },
    {
     "name": "stdout",
     "output_type": "stream",
     "text": [
      "first coefficient diff : 2.7915175930910566e-05 second coefficient diff : 0.3028772647583281\n",
      "fit pos : 248.40 px 1037.66 px\n",
      "fit distance : 789.26 px 4.17 m\n",
      "All good for frame : 189\n"
     ]
    },
    {
     "name": "stderr",
     "output_type": "stream",
     "text": [
      "\r",
      " 15%|█▍        | 189/1261 [08:37<47:50,  2.68s/it]"
     ]
    },
    {
     "name": "stdout",
     "output_type": "stream",
     "text": [
      "first coefficient diff : 3.146737981927713e-05 second coefficient diff : 0.2945412665638124\n",
      "fit pos : 251.40 px 1037.20 px\n",
      "fit distance : 785.80 px 4.15 m\n",
      "All good for frame : 190\n"
     ]
    },
    {
     "name": "stderr",
     "output_type": "stream",
     "text": [
      "\r",
      " 15%|█▌        | 190/1261 [08:39<47:57,  2.69s/it]"
     ]
    },
    {
     "name": "stdout",
     "output_type": "stream",
     "text": [
      "first coefficient diff : 6.083641605264252e-05 second coefficient diff : 0.28088832466531666\n",
      "fit pos : 254.53 px 1037.24 px\n",
      "fit distance : 782.71 px 4.14 m\n",
      "All good for frame : 191\n"
     ]
    },
    {
     "name": "stderr",
     "output_type": "stream",
     "text": [
      "\r",
      " 15%|█▌        | 191/1261 [08:42<48:04,  2.70s/it]"
     ]
    },
    {
     "name": "stdout",
     "output_type": "stream",
     "text": [
      "first coefficient diff : 1.7429188398243958e-05 second coefficient diff : 0.29523027908781374\n",
      "fit pos : 257.17 px 1037.08 px\n",
      "fit distance : 779.91 px 4.12 m\n",
      "All good for frame : 192\n"
     ]
    },
    {
     "name": "stderr",
     "output_type": "stream",
     "text": [
      "\r",
      " 15%|█▌        | 192/1261 [08:45<48:11,  2.70s/it]"
     ]
    },
    {
     "name": "stdout",
     "output_type": "stream",
     "text": [
      "first coefficient diff : 5.909873870474478e-06 second coefficient diff : 0.3083360591413614\n",
      "fit pos : 260.13 px 1034.92 px\n",
      "fit distance : 774.79 px 4.10 m\n",
      "All good for frame : 193\n"
     ]
    },
    {
     "name": "stderr",
     "output_type": "stream",
     "text": [
      "\r",
      " 15%|█▌        | 193/1261 [08:47<48:12,  2.71s/it]"
     ]
    },
    {
     "name": "stdout",
     "output_type": "stream",
     "text": [
      "first coefficient diff : 5.450925186454138e-05 second coefficient diff : 0.3340566347694198\n",
      "fit pos : 263.37 px 1029.53 px\n",
      "fit distance : 766.17 px 4.05 m\n",
      "All good for frame : 194\n"
     ]
    },
    {
     "name": "stderr",
     "output_type": "stream",
     "text": [
      "\r",
      " 15%|█▌        | 194/1261 [08:50<48:20,  2.72s/it]"
     ]
    },
    {
     "name": "stdout",
     "output_type": "stream",
     "text": [
      "first coefficient diff : 0.00010632331068659566 second coefficient diff : 0.3519458540476701\n",
      "fit pos : 263.61 px 1020.37 px\n",
      "fit distance : 756.76 px 4.00 m\n",
      "All good for frame : 195\n"
     ]
    },
    {
     "name": "stderr",
     "output_type": "stream",
     "text": [
      "\r",
      " 15%|█▌        | 195/1261 [08:53<48:13,  2.71s/it]"
     ]
    },
    {
     "name": "stdout",
     "output_type": "stream",
     "text": [
      "first coefficient diff : 0.00016002989297602386 second coefficient diff : 0.3189127843049099\n",
      "fit pos : 263.48 px 1016.28 px\n",
      "fit distance : 752.80 px 3.98 m\n",
      "All good for frame : 196\n"
     ]
    },
    {
     "name": "stderr",
     "output_type": "stream",
     "text": [
      "\r",
      " 16%|█▌        | 196/1261 [08:56<48:06,  2.71s/it]"
     ]
    },
    {
     "name": "stdout",
     "output_type": "stream",
     "text": [
      "first coefficient diff : 0.00017361756146615042 second coefficient diff : 0.2810254227282888\n",
      "fit pos : 262.25 px 1021.15 px\n",
      "fit distance : 758.90 px 4.01 m\n",
      "All good for frame : 197\n"
     ]
    },
    {
     "name": "stderr",
     "output_type": "stream",
     "text": [
      "\r",
      " 16%|█▌        | 197/1261 [08:58<48:00,  2.71s/it]"
     ]
    },
    {
     "name": "stdout",
     "output_type": "stream",
     "text": [
      "first coefficient diff : 0.0004408104925065551 second coefficient diff : 0.43157870935671283\n",
      "fit pos : 260.15 px 1000.18 px\n",
      "fit distance : 740.03 px 3.91 m\n",
      "All good for frame : 198\n"
     ]
    },
    {
     "name": "stderr",
     "output_type": "stream",
     "text": [
      "\r",
      " 16%|█▌        | 198/1261 [09:01<48:01,  2.71s/it]"
     ]
    },
    {
     "name": "stdout",
     "output_type": "stream",
     "text": [
      "first coefficient diff : 0.00040364906313220385 second coefficient diff : 0.3708647474855161\n",
      "fit pos : 258.47 px 1012.27 px\n",
      "fit distance : 753.80 px 3.98 m\n",
      "All good for frame : 199\n"
     ]
    },
    {
     "name": "stderr",
     "output_type": "stream",
     "text": [
      "\r",
      " 16%|█▌        | 199/1261 [09:04<47:59,  2.71s/it]"
     ]
    },
    {
     "name": "stdout",
     "output_type": "stream",
     "text": [
      "first coefficient diff : 0.00014877530862067591 second coefficient diff : 0.20566879451172493\n",
      "fit pos : 256.82 px 1037.75 px\n",
      "fit distance : 780.94 px 4.13 m\n",
      "All good for frame : 200\n"
     ]
    },
    {
     "name": "stderr",
     "output_type": "stream",
     "text": [
      "\r",
      " 16%|█▌        | 200/1261 [09:06<47:59,  2.71s/it]"
     ]
    },
    {
     "name": "stdout",
     "output_type": "stream",
     "text": [
      "first coefficient diff : 8.928970658790688e-05 second coefficient diff : 0.14610105150148706\n",
      "fit pos : 255.04 px 1042.29 px\n",
      "fit distance : 787.25 px 4.16 m\n",
      "All good for frame : 201\n"
     ]
    },
    {
     "name": "stderr",
     "output_type": "stream",
     "text": [
      "\r",
      " 16%|█▌        | 201/1261 [09:09<47:57,  2.71s/it]"
     ]
    },
    {
     "name": "stdout",
     "output_type": "stream",
     "text": [
      "first coefficient diff : 4.631628603352729e-05 second coefficient diff : 0.1507449642263896\n",
      "fit pos : 252.16 px 1042.27 px\n",
      "fit distance : 790.11 px 4.18 m\n",
      "All good for frame : 202\n"
     ]
    },
    {
     "name": "stderr",
     "output_type": "stream",
     "text": [
      "\r",
      " 16%|█▌        | 202/1261 [09:12<48:18,  2.74s/it]"
     ]
    },
    {
     "name": "stdout",
     "output_type": "stream",
     "text": [
      "first coefficient diff : 6.01090140591251e-05 second coefficient diff : 0.1891846770569412\n",
      "fit pos : 250.03 px 1039.97 px\n",
      "fit distance : 789.94 px 4.18 m\n",
      "All good for frame : 203\n"
     ]
    },
    {
     "name": "stderr",
     "output_type": "stream",
     "text": [
      "\r",
      " 16%|█▌        | 203/1261 [09:15<48:11,  2.73s/it]"
     ]
    },
    {
     "name": "stdout",
     "output_type": "stream",
     "text": [
      "first coefficient diff : 5.515725338252526e-05 second coefficient diff : 0.18566608036320875\n",
      "fit pos : 247.51 px 1038.46 px\n",
      "fit distance : 790.94 px 4.18 m\n",
      "All good for frame : 204\n"
     ]
    },
    {
     "name": "stderr",
     "output_type": "stream",
     "text": [
      "\r",
      " 16%|█▌        | 204/1261 [09:17<48:16,  2.74s/it]"
     ]
    },
    {
     "name": "stdout",
     "output_type": "stream",
     "text": [
      "first coefficient diff : 4.3620878015486074e-05 second coefficient diff : 0.1956208869665469\n",
      "fit pos : 247.37 px 1034.53 px\n",
      "fit distance : 787.16 px 4.16 m\n",
      "All good for frame : 205\n"
     ]
    },
    {
     "name": "stderr",
     "output_type": "stream",
     "text": [
      "\r",
      " 16%|█▋        | 205/1261 [09:20<48:28,  2.75s/it]"
     ]
    },
    {
     "name": "stdout",
     "output_type": "stream",
     "text": [
      "first coefficient diff : 6.481037424359282e-05 second coefficient diff : 0.21829583710636613\n",
      "fit pos : 247.90 px 1031.93 px\n",
      "fit distance : 784.02 px 4.14 m\n",
      "All good for frame : 206\n"
     ]
    },
    {
     "name": "stderr",
     "output_type": "stream",
     "text": [
      "\r",
      " 16%|█▋        | 206/1261 [09:23<48:24,  2.75s/it]"
     ]
    },
    {
     "name": "stdout",
     "output_type": "stream",
     "text": [
      "first coefficient diff : 0.0001556168478112333 second coefficient diff : 0.34307046810418385\n",
      "fit pos : 248.37 px 1021.67 px\n",
      "fit distance : 773.30 px 4.09 m\n",
      "All good for frame : 207\n"
     ]
    },
    {
     "name": "stderr",
     "output_type": "stream",
     "text": [
      "\r",
      " 16%|█▋        | 207/1261 [09:26<48:29,  2.76s/it]"
     ]
    },
    {
     "name": "stdout",
     "output_type": "stream",
     "text": [
      "first coefficient diff : 6.218329698823652e-05 second coefficient diff : 0.2857136887819195\n",
      "fit pos : 248.93 px 1026.18 px\n",
      "fit distance : 777.25 px 4.11 m\n",
      "All good for frame : 208\n"
     ]
    },
    {
     "name": "stderr",
     "output_type": "stream",
     "text": [
      "\r",
      " 16%|█▋        | 208/1261 [09:28<48:24,  2.76s/it]"
     ]
    },
    {
     "name": "stdout",
     "output_type": "stream",
     "text": [
      "first coefficient diff : 3.558227285944786e-05 second coefficient diff : 0.24135210299163312\n",
      "fit pos : 249.24 px 1030.40 px\n",
      "fit distance : 781.16 px 4.13 m\n",
      "All good for frame : 209\n"
     ]
    },
    {
     "name": "stderr",
     "output_type": "stream",
     "text": [
      "\r",
      " 17%|█▋        | 209/1261 [09:31<48:14,  2.75s/it]"
     ]
    },
    {
     "name": "stdout",
     "output_type": "stream",
     "text": [
      "first coefficient diff : 3.532235534540703e-05 second coefficient diff : 0.22088550599132317\n",
      "fit pos : 249.24 px 1031.28 px\n",
      "fit distance : 782.04 px 4.13 m\n",
      "All good for frame : 210\n"
     ]
    },
    {
     "name": "stderr",
     "output_type": "stream",
     "text": [
      "\r",
      " 17%|█▋        | 210/1261 [09:34<48:05,  2.75s/it]"
     ]
    },
    {
     "name": "stdout",
     "output_type": "stream",
     "text": [
      "first coefficient diff : 2.2783076086412956e-05 second coefficient diff : 0.17485011035450704\n",
      "fit pos : 248.79 px 1036.89 px\n",
      "fit distance : 788.10 px 4.17 m\n",
      "All good for frame : 211\n"
     ]
    },
    {
     "name": "stderr",
     "output_type": "stream",
     "text": [
      "\r",
      " 17%|█▋        | 211/1261 [09:37<49:54,  2.85s/it]"
     ]
    },
    {
     "name": "stdout",
     "output_type": "stream",
     "text": [
      "first coefficient diff : 1.9761742025679375e-05 second coefficient diff : 0.18584634518956034\n",
      "fit pos : 249.03 px 1036.16 px\n",
      "fit distance : 787.13 px 4.16 m\n",
      "All good for frame : 212\n"
     ]
    },
    {
     "name": "stderr",
     "output_type": "stream",
     "text": [
      "\r",
      " 17%|█▋        | 212/1261 [09:40<49:28,  2.83s/it]"
     ]
    },
    {
     "name": "stdout",
     "output_type": "stream",
     "text": [
      "first coefficient diff : 1.7921691514659127e-05 second coefficient diff : 0.15071153363630396\n",
      "fit pos : 249.41 px 1038.26 px\n",
      "fit distance : 788.85 px 4.17 m\n",
      "All good for frame : 213\n"
     ]
    },
    {
     "name": "stderr",
     "output_type": "stream",
     "text": [
      "\r",
      " 17%|█▋        | 213/1261 [09:43<48:48,  2.79s/it]"
     ]
    },
    {
     "name": "stdout",
     "output_type": "stream",
     "text": [
      "first coefficient diff : 3.24215650205066e-05 second coefficient diff : 0.15377841350242305\n",
      "fit pos : 248.68 px 1037.27 px\n",
      "fit distance : 788.60 px 4.17 m\n",
      "All good for frame : 214\n"
     ]
    },
    {
     "name": "stderr",
     "output_type": "stream",
     "text": [
      "\r",
      " 17%|█▋        | 214/1261 [09:45<48:12,  2.76s/it]"
     ]
    },
    {
     "name": "stdout",
     "output_type": "stream",
     "text": [
      "first coefficient diff : 6.805499316170816e-05 second coefficient diff : 0.12273214953075928\n",
      "fit pos : 248.23 px 1035.08 px\n",
      "fit distance : 786.85 px 4.16 m\n",
      "All good for frame : 215\n"
     ]
    },
    {
     "name": "stderr",
     "output_type": "stream",
     "text": [
      "\r",
      " 17%|█▋        | 215/1261 [09:48<47:58,  2.75s/it]"
     ]
    },
    {
     "name": "stdout",
     "output_type": "stream",
     "text": [
      "first coefficient diff : 7.857800302105627e-05 second coefficient diff : 0.11234478578208573\n",
      "fit pos : 248.24 px 1033.54 px\n",
      "fit distance : 785.31 px 4.15 m\n",
      "All good for frame : 216\n"
     ]
    },
    {
     "name": "stderr",
     "output_type": "stream",
     "text": [
      "\r",
      " 17%|█▋        | 216/1261 [09:51<47:53,  2.75s/it]"
     ]
    },
    {
     "name": "stdout",
     "output_type": "stream",
     "text": [
      "first coefficient diff : 6.499388598456491e-05 second coefficient diff : 0.12176082361841778\n",
      "fit pos : 248.77 px 1029.46 px\n",
      "fit distance : 780.69 px 4.13 m\n",
      "All good for frame : 217\n"
     ]
    },
    {
     "name": "stderr",
     "output_type": "stream",
     "text": [
      "\r",
      " 17%|█▋        | 217/1261 [09:53<47:51,  2.75s/it]"
     ]
    },
    {
     "name": "stdout",
     "output_type": "stream",
     "text": [
      "first coefficient diff : 3.929056829437877e-05 second coefficient diff : 0.10723962648744867\n",
      "fit pos : 248.21 px 1026.11 px\n",
      "fit distance : 777.90 px 4.11 m\n",
      "All good for frame : 218\n"
     ]
    },
    {
     "name": "stderr",
     "output_type": "stream",
     "text": [
      "\r",
      " 17%|█▋        | 218/1261 [09:56<47:56,  2.76s/it]"
     ]
    },
    {
     "name": "stdout",
     "output_type": "stream",
     "text": [
      "first coefficient diff : 1.8242317455652822e-05 second coefficient diff : 0.1736687847517404\n",
      "fit pos : 249.33 px 1018.74 px\n",
      "fit distance : 769.41 px 4.07 m\n",
      "All good for frame : 219\n"
     ]
    },
    {
     "name": "stderr",
     "output_type": "stream",
     "text": [
      "\r",
      " 17%|█▋        | 219/1261 [09:59<47:52,  2.76s/it]"
     ]
    },
    {
     "name": "stdout",
     "output_type": "stream",
     "text": [
      "first coefficient diff : 0.00021912432761184245 second coefficient diff : 0.27802648456808554\n",
      "fit pos : 249.61 px 993.55 px\n",
      "fit distance : 743.95 px 3.93 m\n",
      "All good for frame : 220\n"
     ]
    },
    {
     "name": "stderr",
     "output_type": "stream",
     "text": [
      "\r",
      " 17%|█▋        | 220/1261 [10:02<48:00,  2.77s/it]"
     ]
    },
    {
     "name": "stdout",
     "output_type": "stream",
     "text": [
      "first coefficient diff : 0.0003350429893841351 second coefficient diff : 0.3712091840680295\n",
      "fit pos : 250.43 px 983.32 px\n",
      "fit distance : 732.88 px 3.87 m\n",
      "All good for frame : 221\n"
     ]
    },
    {
     "name": "stderr",
     "output_type": "stream",
     "text": [
      "\r",
      " 18%|█▊        | 221/1261 [10:05<47:53,  2.76s/it]"
     ]
    },
    {
     "name": "stdout",
     "output_type": "stream",
     "text": [
      "first coefficient diff : 1.5490467217224384e-05 second coefficient diff : 0.14638796460889636\n",
      "fit pos : 250.44 px 1020.94 px\n",
      "fit distance : 770.50 px 4.07 m\n",
      "All good for frame : 222\n"
     ]
    },
    {
     "name": "stderr",
     "output_type": "stream",
     "text": [
      "\r",
      " 18%|█▊        | 222/1261 [10:07<47:43,  2.76s/it]"
     ]
    },
    {
     "name": "stdout",
     "output_type": "stream",
     "text": [
      "first coefficient diff : 1.8738055197615707e-05 second coefficient diff : 0.14692209332254158\n",
      "fit pos : 249.93 px 1021.70 px\n",
      "fit distance : 771.77 px 4.08 m\n",
      "All good for frame : 223\n"
     ]
    },
    {
     "name": "stderr",
     "output_type": "stream",
     "text": [
      "\r",
      " 18%|█▊        | 223/1261 [10:10<47:35,  2.75s/it]"
     ]
    },
    {
     "name": "stdout",
     "output_type": "stream",
     "text": [
      "first coefficient diff : 4.157608422144122e-06 second coefficient diff : 0.15726050968013494\n",
      "fit pos : 251.89 px 1021.42 px\n",
      "fit distance : 769.53 px 4.07 m\n",
      "All good for frame : 224\n"
     ]
    },
    {
     "name": "stderr",
     "output_type": "stream",
     "text": [
      "\r",
      " 18%|█▊        | 224/1261 [10:13<47:30,  2.75s/it]"
     ]
    },
    {
     "name": "stdout",
     "output_type": "stream",
     "text": [
      "first coefficient diff : 1.4821435219857806e-05 second coefficient diff : 0.15506901368744885\n",
      "fit pos : 249.93 px 1016.92 px\n",
      "fit distance : 766.98 px 4.05 m\n",
      "All good for frame : 225\n"
     ]
    },
    {
     "name": "stderr",
     "output_type": "stream",
     "text": [
      "\r",
      " 18%|█▊        | 225/1261 [10:15<47:24,  2.75s/it]"
     ]
    },
    {
     "name": "stdout",
     "output_type": "stream",
     "text": [
      "first coefficient diff : 8.638738063298243e-06 second coefficient diff : 0.15953341799829435\n",
      "fit pos : 248.84 px 1016.25 px\n",
      "fit distance : 767.40 px 4.06 m\n",
      "All good for frame : 226\n"
     ]
    },
    {
     "name": "stderr",
     "output_type": "stream",
     "text": [
      "\r",
      " 18%|█▊        | 226/1261 [10:18<47:21,  2.75s/it]"
     ]
    },
    {
     "name": "stdout",
     "output_type": "stream",
     "text": [
      "first coefficient diff : 6.866554999724575e-06 second coefficient diff : 0.15313701791342993\n",
      "fit pos : 247.68 px 1013.37 px\n",
      "fit distance : 765.69 px 4.05 m\n",
      "All good for frame : 227\n"
     ]
    },
    {
     "name": "stderr",
     "output_type": "stream",
     "text": [
      "\r",
      " 18%|█▊        | 227/1261 [10:21<47:33,  2.76s/it]"
     ]
    },
    {
     "name": "stdout",
     "output_type": "stream",
     "text": [
      "first coefficient diff : 5.5658826838132726e-05 second coefficient diff : 0.18426337860839226\n",
      "fit pos : 246.50 px 1011.23 px\n",
      "fit distance : 764.73 px 4.04 m\n",
      "All good for frame : 228\n"
     ]
    },
    {
     "name": "stderr",
     "output_type": "stream",
     "text": [
      "\r",
      " 18%|█▊        | 228/1261 [10:24<47:30,  2.76s/it]"
     ]
    },
    {
     "name": "stdout",
     "output_type": "stream",
     "text": [
      "first coefficient diff : 4.946176944427229e-05 second coefficient diff : 0.171506683331626\n",
      "fit pos : 245.04 px 1008.43 px\n",
      "fit distance : 763.39 px 4.04 m\n",
      "All good for frame : 229\n"
     ]
    },
    {
     "name": "stderr",
     "output_type": "stream",
     "text": [
      "\r",
      " 18%|█▊        | 229/1261 [10:27<47:28,  2.76s/it]"
     ]
    },
    {
     "name": "stdout",
     "output_type": "stream",
     "text": [
      "first coefficient diff : 8.210804500044446e-05 second coefficient diff : 0.1755733400124208\n",
      "fit pos : 241.97 px 1004.50 px\n",
      "fit distance : 762.53 px 4.03 m\n",
      "All good for frame : 230\n"
     ]
    },
    {
     "name": "stderr",
     "output_type": "stream",
     "text": [
      "\r",
      " 18%|█▊        | 230/1261 [10:29<47:43,  2.78s/it]"
     ]
    },
    {
     "name": "stdout",
     "output_type": "stream",
     "text": [
      "first coefficient diff : 0.0001442240429257241 second coefficient diff : 0.2381008314345736\n",
      "fit pos : 241.19 px 998.31 px\n",
      "fit distance : 757.12 px 4.00 m\n",
      "All good for frame : 231\n"
     ]
    },
    {
     "name": "stderr",
     "output_type": "stream",
     "text": [
      "\r",
      " 18%|█▊        | 231/1261 [10:32<47:28,  2.77s/it]"
     ]
    },
    {
     "name": "stdout",
     "output_type": "stream",
     "text": [
      "first coefficient diff : 0.0003519525461195932 second coefficient diff : 0.3407721928876967\n",
      "fit pos : 238.31 px 965.48 px\n",
      "fit distance : 727.17 px 3.84 m\n",
      "All good for frame : 232\n"
     ]
    },
    {
     "name": "stderr",
     "output_type": "stream",
     "text": [
      "\r",
      " 18%|█▊        | 232/1261 [10:35<47:16,  2.76s/it]"
     ]
    },
    {
     "name": "stdout",
     "output_type": "stream",
     "text": [
      "first coefficient diff : 0.0005385221584450448 second coefficient diff : 0.4965347304155719\n",
      "fit pos : 237.34 px 948.33 px\n",
      "fit distance : 710.99 px 3.76 m\n",
      "All good for frame : 233\n"
     ]
    },
    {
     "name": "stderr",
     "output_type": "stream",
     "text": [
      "\r",
      " 18%|█▊        | 233/1261 [10:38<47:20,  2.76s/it]"
     ]
    },
    {
     "name": "stdout",
     "output_type": "stream",
     "text": [
      "first coefficient diff : 0.0002813113124871166 second coefficient diff : 0.33059051020149033\n",
      "fit pos : 235.45 px 980.85 px\n",
      "fit distance : 745.40 px 3.94 m\n",
      "All good for frame : 234\n"
     ]
    },
    {
     "name": "stderr",
     "output_type": "stream",
     "text": [
      "\r",
      " 19%|█▊        | 234/1261 [10:40<47:04,  2.75s/it]"
     ]
    },
    {
     "name": "stdout",
     "output_type": "stream",
     "text": [
      "first coefficient diff : 0.0002177783599314371 second coefficient diff : 0.30370776469426636\n",
      "fit pos : 232.09 px 989.49 px\n",
      "fit distance : 757.40 px 4.00 m\n",
      "All good for frame : 235\n"
     ]
    },
    {
     "name": "stderr",
     "output_type": "stream",
     "text": [
      "\r",
      " 19%|█▊        | 235/1261 [10:43<46:48,  2.74s/it]"
     ]
    },
    {
     "name": "stdout",
     "output_type": "stream",
     "text": [
      "first coefficient diff : 0.00021593056573588043 second coefficient diff : 0.3429520737039105\n",
      "fit pos : 230.40 px 988.13 px\n",
      "fit distance : 757.73 px 4.01 m\n",
      "All good for frame : 236\n"
     ]
    },
    {
     "name": "stderr",
     "output_type": "stream",
     "text": [
      "\r",
      " 19%|█▊        | 236/1261 [10:46<46:29,  2.72s/it]"
     ]
    },
    {
     "name": "stdout",
     "output_type": "stream",
     "text": [
      "first coefficient diff : 0.000196879005911927 second coefficient diff : 0.3337689569611739\n",
      "fit pos : 228.12 px 990.53 px\n",
      "fit distance : 762.41 px 4.03 m\n",
      "All good for frame : 237\n"
     ]
    },
    {
     "name": "stderr",
     "output_type": "stream",
     "text": [
      "\r",
      " 19%|█▉        | 237/1261 [10:48<46:13,  2.71s/it]"
     ]
    },
    {
     "name": "stdout",
     "output_type": "stream",
     "text": [
      "first coefficient diff : 0.00017370547855224575 second coefficient diff : 0.3366596747027534\n",
      "fit pos : 225.78 px 991.93 px\n",
      "fit distance : 766.15 px 4.05 m\n",
      "All good for frame : 238\n"
     ]
    },
    {
     "name": "stderr",
     "output_type": "stream",
     "text": [
      "\r",
      " 19%|█▉        | 238/1261 [10:51<46:16,  2.71s/it]"
     ]
    },
    {
     "name": "stdout",
     "output_type": "stream",
     "text": [
      "first coefficient diff : 0.0001664390371678859 second coefficient diff : 0.3430489585766421\n",
      "fit pos : 223.92 px 991.20 px\n",
      "fit distance : 767.27 px 4.06 m\n",
      "All good for frame : 239\n"
     ]
    },
    {
     "name": "stderr",
     "output_type": "stream",
     "text": [
      "\r",
      " 19%|█▉        | 239/1261 [10:54<46:21,  2.72s/it]"
     ]
    },
    {
     "name": "stdout",
     "output_type": "stream",
     "text": [
      "first coefficient diff : 0.00016433334217133176 second coefficient diff : 0.3437903621497077\n",
      "fit pos : 221.59 px 993.42 px\n",
      "fit distance : 771.83 px 4.08 m\n",
      "All good for frame : 240\n"
     ]
    },
    {
     "name": "stderr",
     "output_type": "stream",
     "text": [
      "\r",
      " 19%|█▉        | 240/1261 [10:57<46:26,  2.73s/it]"
     ]
    },
    {
     "name": "stdout",
     "output_type": "stream",
     "text": [
      "first coefficient diff : 0.0001931147290559227 second coefficient diff : 0.3698012989248898\n",
      "fit pos : 223.11 px 993.52 px\n",
      "fit distance : 770.41 px 4.07 m\n",
      "All good for frame : 241\n"
     ]
    },
    {
     "name": "stderr",
     "output_type": "stream",
     "text": [
      "\r",
      " 19%|█▉        | 241/1261 [11:00<48:37,  2.86s/it]"
     ]
    },
    {
     "name": "stdout",
     "output_type": "stream",
     "text": [
      "first coefficient diff : 0.00016926166876188049 second coefficient diff : 0.32490188756864713\n",
      "fit pos : 220.14 px 995.77 px\n",
      "fit distance : 775.63 px 4.10 m\n",
      "All good for frame : 242\n"
     ]
    },
    {
     "name": "stderr",
     "output_type": "stream",
     "text": [
      "\r",
      " 19%|█▉        | 242/1261 [11:03<48:15,  2.84s/it]"
     ]
    },
    {
     "name": "stdout",
     "output_type": "stream",
     "text": [
      "first coefficient diff : 0.00020880607370885306 second coefficient diff : 0.3886502023459284\n",
      "fit pos : 219.90 px 991.29 px\n",
      "fit distance : 771.38 px 4.08 m\n",
      "All good for frame : 243\n"
     ]
    },
    {
     "name": "stderr",
     "output_type": "stream",
     "text": [
      "\r",
      " 19%|█▉        | 243/1261 [11:05<47:34,  2.80s/it]"
     ]
    },
    {
     "name": "stdout",
     "output_type": "stream",
     "text": [
      "first coefficient diff : 0.00023360304375493742 second coefficient diff : 0.38903607680896624\n",
      "fit pos : 218.54 px 984.79 px\n",
      "fit distance : 766.25 px 4.05 m\n",
      "All good for frame : 244\n"
     ]
    },
    {
     "name": "stderr",
     "output_type": "stream",
     "text": [
      "\r",
      " 19%|█▉        | 244/1261 [11:08<46:50,  2.76s/it]"
     ]
    },
    {
     "name": "stdout",
     "output_type": "stream",
     "text": [
      "first coefficient diff : 0.00020448269652522083 second coefficient diff : 0.38965065200565974\n",
      "fit pos : 218.11 px 985.26 px\n",
      "fit distance : 767.15 px 4.05 m\n",
      "All good for frame : 245\n"
     ]
    },
    {
     "name": "stderr",
     "output_type": "stream",
     "text": [
      "\r",
      " 19%|█▉        | 245/1261 [11:11<46:18,  2.73s/it]"
     ]
    },
    {
     "name": "stdout",
     "output_type": "stream",
     "text": [
      "first coefficient diff : 0.00025509970934193134 second coefficient diff : 0.43263889457507565\n",
      "fit pos : 217.43 px 976.47 px\n",
      "fit distance : 759.05 px 4.01 m\n",
      "All good for frame : 246\n"
     ]
    },
    {
     "name": "stderr",
     "output_type": "stream",
     "text": [
      "\r",
      " 20%|█▉        | 246/1261 [11:13<45:58,  2.72s/it]"
     ]
    },
    {
     "name": "stdout",
     "output_type": "stream",
     "text": [
      "first coefficient diff : 0.00017297053569363538 second coefficient diff : 0.3691188944491499\n",
      "fit pos : 215.49 px 986.86 px\n",
      "fit distance : 771.38 px 4.08 m\n",
      "All good for frame : 247\n"
     ]
    },
    {
     "name": "stderr",
     "output_type": "stream",
     "text": [
      "\r",
      " 20%|█▉        | 247/1261 [11:16<45:36,  2.70s/it]"
     ]
    },
    {
     "name": "stdout",
     "output_type": "stream",
     "text": [
      "first coefficient diff : 0.00012982189169962762 second coefficient diff : 0.37191652830802047\n",
      "fit pos : 216.74 px 990.76 px\n",
      "fit distance : 774.02 px 4.09 m\n",
      "All good for frame : 248\n"
     ]
    },
    {
     "name": "stderr",
     "output_type": "stream",
     "text": [
      "\r",
      " 20%|█▉        | 248/1261 [11:19<45:21,  2.69s/it]"
     ]
    },
    {
     "name": "stdout",
     "output_type": "stream",
     "text": [
      "first coefficient diff : 0.00010232438942949396 second coefficient diff : 0.3188734525496064\n",
      "fit pos : 217.67 px 994.01 px\n",
      "fit distance : 776.33 px 4.10 m\n",
      "All good for frame : 249\n"
     ]
    },
    {
     "name": "stderr",
     "output_type": "stream",
     "text": [
      "\r",
      " 20%|█▉        | 249/1261 [11:21<45:14,  2.68s/it]"
     ]
    },
    {
     "name": "stdout",
     "output_type": "stream",
     "text": [
      "first coefficient diff : 7.295049893962541e-05 second coefficient diff : 0.30493019973717106\n",
      "fit pos : 217.13 px 994.84 px\n",
      "fit distance : 777.71 px 4.11 m\n",
      "All good for frame : 250\n"
     ]
    },
    {
     "name": "stderr",
     "output_type": "stream",
     "text": [
      "\r",
      " 20%|█▉        | 250/1261 [11:24<45:09,  2.68s/it]"
     ]
    },
    {
     "name": "stdout",
     "output_type": "stream",
     "text": [
      "first coefficient diff : 8.307370203132573e-05 second coefficient diff : 0.2923893019404247\n",
      "fit pos : 215.74 px 993.46 px\n",
      "fit distance : 777.73 px 4.11 m\n",
      "All good for frame : 251\n"
     ]
    },
    {
     "name": "stderr",
     "output_type": "stream",
     "text": [
      "\r",
      " 20%|█▉        | 251/1261 [11:27<45:08,  2.68s/it]"
     ]
    },
    {
     "name": "stdout",
     "output_type": "stream",
     "text": [
      "first coefficient diff : 3.12214174412812e-05 second coefficient diff : 0.2315480520205489\n",
      "fit pos : 215.60 px 996.18 px\n",
      "fit distance : 780.58 px 4.13 m\n",
      "All good for frame : 252\n"
     ]
    },
    {
     "name": "stderr",
     "output_type": "stream",
     "text": [
      "\r",
      " 20%|█▉        | 252/1261 [11:29<45:11,  2.69s/it]"
     ]
    },
    {
     "name": "stdout",
     "output_type": "stream",
     "text": [
      "first coefficient diff : 8.821895382477637e-05 second coefficient diff : 0.28382623388111367\n",
      "fit pos : 216.14 px 992.03 px\n",
      "fit distance : 775.89 px 4.10 m\n",
      "All good for frame : 253\n"
     ]
    },
    {
     "name": "stderr",
     "output_type": "stream",
     "text": [
      "\r",
      " 20%|██        | 253/1261 [11:32<45:15,  2.69s/it]"
     ]
    },
    {
     "name": "stdout",
     "output_type": "stream",
     "text": [
      "first coefficient diff : 9.807967837300653e-05 second coefficient diff : 0.26203027206882096\n",
      "fit pos : 216.20 px 990.98 px\n",
      "fit distance : 774.77 px 4.10 m\n",
      "All good for frame : 254\n"
     ]
    },
    {
     "name": "stderr",
     "output_type": "stream",
     "text": [
      "\r",
      " 20%|██        | 254/1261 [11:35<45:17,  2.70s/it]"
     ]
    },
    {
     "name": "stdout",
     "output_type": "stream",
     "text": [
      "first coefficient diff : 0.00015802555805658608 second coefficient diff : 0.34048522888188965\n",
      "fit pos : 217.50 px 987.89 px\n",
      "fit distance : 770.39 px 4.07 m\n",
      "All good for frame : 255\n"
     ]
    },
    {
     "name": "stderr",
     "output_type": "stream",
     "text": [
      "\r",
      " 20%|██        | 255/1261 [11:37<45:15,  2.70s/it]"
     ]
    },
    {
     "name": "stdout",
     "output_type": "stream",
     "text": [
      "first coefficient diff : 0.0002093427759573328 second coefficient diff : 0.3619816585572236\n",
      "fit pos : 216.84 px 977.87 px\n",
      "fit distance : 761.03 px 4.02 m\n",
      "All good for frame : 256\n"
     ]
    },
    {
     "name": "stderr",
     "output_type": "stream",
     "text": [
      "\r",
      " 20%|██        | 256/1261 [11:40<45:08,  2.69s/it]"
     ]
    },
    {
     "name": "stdout",
     "output_type": "stream",
     "text": [
      "first coefficient diff : 0.00028517319957240635 second coefficient diff : 0.4210046565699784\n",
      "fit pos : 216.69 px 964.84 px\n",
      "fit distance : 748.15 px 3.95 m\n",
      "All good for frame : 257\n"
     ]
    },
    {
     "name": "stderr",
     "output_type": "stream",
     "text": [
      "\r",
      " 20%|██        | 257/1261 [11:43<45:18,  2.71s/it]"
     ]
    },
    {
     "name": "stdout",
     "output_type": "stream",
     "text": [
      "first coefficient diff : 0.0002727220000797415 second coefficient diff : 0.426332066186359\n",
      "fit pos : 218.72 px 969.94 px\n",
      "fit distance : 751.22 px 3.97 m\n",
      "All good for frame : 258\n"
     ]
    },
    {
     "name": "stderr",
     "output_type": "stream",
     "text": [
      "\r",
      " 20%|██        | 258/1261 [11:46<45:31,  2.72s/it]"
     ]
    },
    {
     "name": "stdout",
     "output_type": "stream",
     "text": [
      "first coefficient diff : 0.0002291596541464778 second coefficient diff : 0.3874416227654332\n",
      "fit pos : 217.78 px 976.23 px\n",
      "fit distance : 758.45 px 4.01 m\n",
      "All good for frame : 259\n"
     ]
    },
    {
     "name": "stderr",
     "output_type": "stream",
     "text": [
      "\r",
      " 21%|██        | 259/1261 [11:48<45:50,  2.74s/it]"
     ]
    },
    {
     "name": "stdout",
     "output_type": "stream",
     "text": [
      "first coefficient diff : 0.00024380504505984815 second coefficient diff : 0.4153482669131378\n",
      "fit pos : 220.71 px 977.90 px\n",
      "fit distance : 757.19 px 4.00 m\n",
      "All good for frame : 260\n"
     ]
    },
    {
     "name": "stderr",
     "output_type": "stream",
     "text": [
      "\r",
      " 21%|██        | 260/1261 [11:51<45:58,  2.76s/it]"
     ]
    },
    {
     "name": "stdout",
     "output_type": "stream",
     "text": [
      "first coefficient diff : 0.00014453011739294544 second coefficient diff : 0.3101322769314479\n",
      "fit pos : 220.30 px 988.65 px\n",
      "fit distance : 768.35 px 4.06 m\n",
      "All good for frame : 261\n"
     ]
    },
    {
     "name": "stderr",
     "output_type": "stream",
     "text": [
      "\r",
      " 21%|██        | 261/1261 [11:54<45:56,  2.76s/it]"
     ]
    },
    {
     "name": "stdout",
     "output_type": "stream",
     "text": [
      "first coefficient diff : 0.00010371076785391312 second coefficient diff : 0.2857621970277294\n",
      "fit pos : 221.05 px 993.41 px\n",
      "fit distance : 772.35 px 4.08 m\n",
      "All good for frame : 262\n"
     ]
    },
    {
     "name": "stderr",
     "output_type": "stream",
     "text": [
      "\r",
      " 21%|██        | 262/1261 [11:57<45:57,  2.76s/it]"
     ]
    },
    {
     "name": "stdout",
     "output_type": "stream",
     "text": [
      "first coefficient diff : 0.00011339361763677955 second coefficient diff : 0.2865832839978865\n",
      "fit pos : 221.18 px 994.19 px\n",
      "fit distance : 773.01 px 4.09 m\n",
      "All good for frame : 263\n"
     ]
    },
    {
     "name": "stderr",
     "output_type": "stream",
     "text": [
      "\r",
      " 21%|██        | 263/1261 [12:00<45:58,  2.76s/it]"
     ]
    },
    {
     "name": "stdout",
     "output_type": "stream",
     "text": [
      "first coefficient diff : 8.046758939558721e-05 second coefficient diff : 0.25083158314789183\n",
      "fit pos : 220.01 px 996.39 px\n",
      "fit distance : 776.38 px 4.10 m\n",
      "All good for frame : 264\n"
     ]
    },
    {
     "name": "stderr",
     "output_type": "stream",
     "text": [
      "\r",
      " 21%|██        | 264/1261 [12:02<46:02,  2.77s/it]"
     ]
    },
    {
     "name": "stdout",
     "output_type": "stream",
     "text": [
      "first coefficient diff : 7.212555316852046e-05 second coefficient diff : 0.23602629937990266\n",
      "fit pos : 219.60 px 996.96 px\n",
      "fit distance : 777.36 px 4.11 m\n",
      "All good for frame : 265\n"
     ]
    },
    {
     "name": "stderr",
     "output_type": "stream",
     "text": [
      "\r",
      " 21%|██        | 265/1261 [12:05<46:05,  2.78s/it]"
     ]
    },
    {
     "name": "stdout",
     "output_type": "stream",
     "text": [
      "first coefficient diff : 4.637724397372903e-05 second coefficient diff : 0.19169180131799435\n",
      "fit pos : 216.43 px 1000.15 px\n",
      "fit distance : 783.72 px 4.14 m\n",
      "All good for frame : 266\n"
     ]
    },
    {
     "name": "stderr",
     "output_type": "stream",
     "text": [
      "\r",
      " 21%|██        | 266/1261 [12:08<46:08,  2.78s/it]"
     ]
    },
    {
     "name": "stdout",
     "output_type": "stream",
     "text": [
      "first coefficient diff : 8.172177140652876e-05 second coefficient diff : 0.2333536866685505\n",
      "fit pos : 218.67 px 998.92 px\n",
      "fit distance : 780.25 px 4.12 m\n",
      "All good for frame : 267\n"
     ]
    },
    {
     "name": "stderr",
     "output_type": "stream",
     "text": [
      "\r",
      " 21%|██        | 267/1261 [12:11<46:10,  2.79s/it]"
     ]
    },
    {
     "name": "stdout",
     "output_type": "stream",
     "text": [
      "first coefficient diff : 0.00016320267334321315 second coefficient diff : 0.30003823783370476\n",
      "fit pos : 218.52 px 995.59 px\n",
      "fit distance : 777.07 px 4.11 m\n",
      "All good for frame : 268\n"
     ]
    },
    {
     "name": "stderr",
     "output_type": "stream",
     "text": [
      "\r",
      " 21%|██▏       | 268/1261 [12:13<46:13,  2.79s/it]"
     ]
    },
    {
     "name": "stdout",
     "output_type": "stream",
     "text": [
      "first coefficient diff : 0.00024821504881326016 second coefficient diff : 0.34204508877206236\n",
      "fit pos : 218.18 px 987.74 px\n",
      "fit distance : 769.56 px 4.07 m\n",
      "All good for frame : 269\n"
     ]
    },
    {
     "name": "stderr",
     "output_type": "stream",
     "text": [
      "\r",
      " 21%|██▏       | 269/1261 [12:16<46:07,  2.79s/it]"
     ]
    },
    {
     "name": "stdout",
     "output_type": "stream",
     "text": [
      "first coefficient diff : 0.00015710096137849013 second coefficient diff : 0.2862909879495877\n",
      "fit pos : 218.74 px 997.08 px\n",
      "fit distance : 778.34 px 4.11 m\n",
      "All good for frame : 270\n"
     ]
    },
    {
     "name": "stderr",
     "output_type": "stream",
     "text": [
      "\r",
      " 21%|██▏       | 270/1261 [12:19<46:05,  2.79s/it]"
     ]
    },
    {
     "name": "stdout",
     "output_type": "stream",
     "text": [
      "first coefficient diff : 0.0001484833198444848 second coefficient diff : 0.29238270311732556\n",
      "fit pos : 219.14 px 995.65 px\n",
      "fit distance : 776.51 px 4.10 m\n",
      "All good for frame : 271\n"
     ]
    },
    {
     "name": "stderr",
     "output_type": "stream",
     "text": [
      "\r",
      " 21%|██▏       | 271/1261 [12:22<47:38,  2.89s/it]"
     ]
    },
    {
     "name": "stdout",
     "output_type": "stream",
     "text": [
      "first coefficient diff : 0.00013845812963977222 second coefficient diff : 0.32320654771271\n",
      "fit pos : 223.45 px 998.64 px\n",
      "fit distance : 775.19 px 4.10 m\n",
      "All good for frame : 272\n"
     ]
    },
    {
     "name": "stderr",
     "output_type": "stream",
     "text": [
      "\r",
      " 22%|██▏       | 272/1261 [12:25<46:58,  2.85s/it]"
     ]
    },
    {
     "name": "stdout",
     "output_type": "stream",
     "text": [
      "first coefficient diff : 0.00013409124589842795 second coefficient diff : 0.3216972100566091\n",
      "fit pos : 224.97 px 1000.28 px\n",
      "fit distance : 775.31 px 4.10 m\n",
      "All good for frame : 273\n"
     ]
    },
    {
     "name": "stderr",
     "output_type": "stream",
     "text": [
      "\r",
      " 22%|██▏       | 273/1261 [12:28<46:16,  2.81s/it]"
     ]
    },
    {
     "name": "stdout",
     "output_type": "stream",
     "text": [
      "first coefficient diff : 0.00011503193734612582 second coefficient diff : 0.3322565325638012\n",
      "fit pos : 227.85 px 1001.27 px\n",
      "fit distance : 773.41 px 4.09 m\n",
      "All good for frame : 274\n"
     ]
    },
    {
     "name": "stderr",
     "output_type": "stream",
     "text": [
      "\r",
      " 22%|██▏       | 274/1261 [12:30<45:39,  2.78s/it]"
     ]
    },
    {
     "name": "stdout",
     "output_type": "stream",
     "text": [
      "first coefficient diff : 7.136371102982726e-05 second coefficient diff : 0.27790103694116675\n",
      "fit pos : 227.74 px 1004.30 px\n",
      "fit distance : 776.56 px 4.10 m\n",
      "All good for frame : 275\n"
     ]
    },
    {
     "name": "stderr",
     "output_type": "stream",
     "text": [
      "\r",
      " 22%|██▏       | 275/1261 [12:33<45:12,  2.75s/it]"
     ]
    },
    {
     "name": "stdout",
     "output_type": "stream",
     "text": [
      "first coefficient diff : 9.59030681591583e-05 second coefficient diff : 0.2737209091280856\n",
      "fit pos : 229.13 px 1006.34 px\n",
      "fit distance : 777.21 px 4.11 m\n",
      "All good for frame : 276\n"
     ]
    },
    {
     "name": "stderr",
     "output_type": "stream",
     "text": [
      "\r",
      " 22%|██▏       | 276/1261 [12:36<44:55,  2.74s/it]"
     ]
    },
    {
     "name": "stdout",
     "output_type": "stream",
     "text": [
      "first coefficient diff : 7.324100926877388e-05 second coefficient diff : 0.2424853596687273\n",
      "fit pos : 229.62 px 1006.79 px\n",
      "fit distance : 777.17 px 4.11 m\n",
      "All good for frame : 277\n"
     ]
    },
    {
     "name": "stderr",
     "output_type": "stream",
     "text": [
      "\r",
      " 22%|██▏       | 277/1261 [12:38<44:45,  2.73s/it]"
     ]
    },
    {
     "name": "stdout",
     "output_type": "stream",
     "text": [
      "first coefficient diff : 0.0001091635705697369 second coefficient diff : 0.25783743437267015\n",
      "fit pos : 229.67 px 1005.87 px\n",
      "fit distance : 776.20 px 4.10 m\n",
      "All good for frame : 278\n"
     ]
    },
    {
     "name": "stderr",
     "output_type": "stream",
     "text": [
      "\r",
      " 22%|██▏       | 278/1261 [12:41<44:36,  2.72s/it]"
     ]
    },
    {
     "name": "stdout",
     "output_type": "stream",
     "text": [
      "first coefficient diff : 0.0001786189968302388 second coefficient diff : 0.3299919435972867\n",
      "fit pos : 233.89 px 1001.31 px\n",
      "fit distance : 767.42 px 4.06 m\n",
      "All good for frame : 279\n"
     ]
    },
    {
     "name": "stderr",
     "output_type": "stream",
     "text": [
      "\r",
      " 22%|██▏       | 279/1261 [12:44<44:26,  2.72s/it]"
     ]
    },
    {
     "name": "stdout",
     "output_type": "stream",
     "text": [
      "first coefficient diff : 0.0002199279861505725 second coefficient diff : 0.3625633602316184\n",
      "fit pos : 234.19 px 995.67 px\n",
      "fit distance : 761.48 px 4.02 m\n",
      "All good for frame : 280\n"
     ]
    },
    {
     "name": "stderr",
     "output_type": "stream",
     "text": [
      "\r",
      " 22%|██▏       | 280/1261 [12:47<44:15,  2.71s/it]"
     ]
    },
    {
     "name": "stdout",
     "output_type": "stream",
     "text": [
      "first coefficient diff : 0.00023795263939583764 second coefficient diff : 0.36346689393051673\n",
      "fit pos : 234.80 px 989.56 px\n",
      "fit distance : 754.76 px 3.99 m\n",
      "All good for frame : 281\n"
     ]
    },
    {
     "name": "stderr",
     "output_type": "stream",
     "text": [
      "\r",
      " 22%|██▏       | 281/1261 [12:49<44:07,  2.70s/it]"
     ]
    },
    {
     "name": "stdout",
     "output_type": "stream",
     "text": [
      "first coefficient diff : 0.0002015418591688655 second coefficient diff : 0.3514870321313896\n",
      "fit pos : 237.62 px 994.56 px\n",
      "fit distance : 756.94 px 4.00 m\n",
      "All good for frame : 282\n"
     ]
    },
    {
     "name": "stderr",
     "output_type": "stream",
     "text": [
      "\r",
      " 22%|██▏       | 282/1261 [12:52<43:57,  2.69s/it]"
     ]
    },
    {
     "name": "stdout",
     "output_type": "stream",
     "text": [
      "first coefficient diff : 0.00023137390622462106 second coefficient diff : 0.35690885880005296\n",
      "fit pos : 237.80 px 994.55 px\n",
      "fit distance : 756.75 px 4.00 m\n",
      "All good for frame : 283\n"
     ]
    },
    {
     "name": "stderr",
     "output_type": "stream",
     "text": [
      "\r",
      " 22%|██▏       | 283/1261 [12:55<43:51,  2.69s/it]"
     ]
    },
    {
     "name": "stdout",
     "output_type": "stream",
     "text": [
      "first coefficient diff : 0.00021110107197672053 second coefficient diff : 0.3536245851870757\n",
      "fit pos : 240.68 px 1001.22 px\n",
      "fit distance : 760.54 px 4.02 m\n",
      "All good for frame : 284\n"
     ]
    },
    {
     "name": "stderr",
     "output_type": "stream",
     "text": [
      "\r",
      " 23%|██▎       | 284/1261 [12:57<43:47,  2.69s/it]"
     ]
    },
    {
     "name": "stdout",
     "output_type": "stream",
     "text": [
      "first coefficient diff : 0.00011183714859273479 second coefficient diff : 0.2507119207514341\n",
      "fit pos : 241.87 px 1009.77 px\n",
      "fit distance : 767.90 px 4.06 m\n",
      "All good for frame : 285\n"
     ]
    },
    {
     "name": "stderr",
     "output_type": "stream",
     "text": [
      "\r",
      " 23%|██▎       | 285/1261 [13:00<43:51,  2.70s/it]"
     ]
    },
    {
     "name": "stdout",
     "output_type": "stream",
     "text": [
      "first coefficient diff : 0.00011719265079989264 second coefficient diff : 0.24370903945824934\n",
      "fit pos : 241.19 px 1013.74 px\n",
      "fit distance : 772.55 px 4.08 m\n",
      "All good for frame : 286\n"
     ]
    },
    {
     "name": "stderr",
     "output_type": "stream",
     "text": [
      "\r",
      " 23%|██▎       | 286/1261 [13:03<43:49,  2.70s/it]"
     ]
    },
    {
     "name": "stdout",
     "output_type": "stream",
     "text": [
      "first coefficient diff : 0.00010910685447416049 second coefficient diff : 0.23650848456211743\n",
      "fit pos : 242.57 px 1016.21 px\n",
      "fit distance : 773.64 px 4.09 m\n",
      "All good for frame : 287\n"
     ]
    },
    {
     "name": "stderr",
     "output_type": "stream",
     "text": [
      "\r",
      " 23%|██▎       | 287/1261 [13:05<43:47,  2.70s/it]"
     ]
    },
    {
     "name": "stdout",
     "output_type": "stream",
     "text": [
      "first coefficient diff : 0.00013408437202564965 second coefficient diff : 0.25013959683672626\n",
      "fit pos : 242.07 px 1018.83 px\n",
      "fit distance : 776.76 px 4.11 m\n",
      "All good for frame : 288\n"
     ]
    },
    {
     "name": "stderr",
     "output_type": "stream",
     "text": [
      "\r",
      " 23%|██▎       | 288/1261 [13:08<43:47,  2.70s/it]"
     ]
    },
    {
     "name": "stdout",
     "output_type": "stream",
     "text": [
      "first coefficient diff : 0.00014726398430356386 second coefficient diff : 0.2871561994782277\n",
      "fit pos : 245.54 px 1017.82 px\n",
      "fit distance : 772.28 px 4.08 m\n",
      "All good for frame : 289\n"
     ]
    },
    {
     "name": "stderr",
     "output_type": "stream",
     "text": [
      "\r",
      " 23%|██▎       | 289/1261 [13:11<44:08,  2.72s/it]"
     ]
    },
    {
     "name": "stdout",
     "output_type": "stream",
     "text": [
      "first coefficient diff : 0.0001371388305728346 second coefficient diff : 0.26963328165090517\n",
      "fit pos : 244.07 px 1018.53 px\n",
      "fit distance : 774.46 px 4.09 m\n",
      "All good for frame : 290\n"
     ]
    },
    {
     "name": "stderr",
     "output_type": "stream",
     "text": [
      "\r",
      " 23%|██▎       | 290/1261 [13:14<44:23,  2.74s/it]"
     ]
    },
    {
     "name": "stdout",
     "output_type": "stream",
     "text": [
      "first coefficient diff : 0.00020438353015932967 second coefficient diff : 0.35559876316298844\n",
      "fit pos : 246.52 px 1013.67 px\n",
      "fit distance : 767.16 px 4.05 m\n",
      "All good for frame : 291\n"
     ]
    },
    {
     "name": "stderr",
     "output_type": "stream",
     "text": [
      "\r",
      " 23%|██▎       | 291/1261 [13:16<44:31,  2.75s/it]"
     ]
    },
    {
     "name": "stdout",
     "output_type": "stream",
     "text": [
      "first coefficient diff : 0.00026136980238399373 second coefficient diff : 0.3981775176430289\n",
      "fit pos : 248.43 px 1004.65 px\n",
      "fit distance : 756.21 px 4.00 m\n",
      "All good for frame : 292\n"
     ]
    },
    {
     "name": "stderr",
     "output_type": "stream",
     "text": [
      "\r",
      " 23%|██▎       | 292/1261 [13:19<44:34,  2.76s/it]"
     ]
    },
    {
     "name": "stdout",
     "output_type": "stream",
     "text": [
      "first coefficient diff : 0.0002932122888138285 second coefficient diff : 0.4047096370188168\n",
      "fit pos : 249.20 px 998.70 px\n",
      "fit distance : 749.50 px 3.96 m\n",
      "All good for frame : 293\n"
     ]
    },
    {
     "name": "stderr",
     "output_type": "stream",
     "text": [
      "\r",
      " 23%|██▎       | 293/1261 [13:22<44:38,  2.77s/it]"
     ]
    },
    {
     "name": "stdout",
     "output_type": "stream",
     "text": [
      "first coefficient diff : 0.00021142497979845107 second coefficient diff : 0.35993515911675866\n",
      "fit pos : 252.88 px 1011.24 px\n",
      "fit distance : 758.35 px 4.01 m\n",
      "All good for frame : 294\n"
     ]
    },
    {
     "name": "stderr",
     "output_type": "stream",
     "text": [
      "\r",
      " 23%|██▎       | 294/1261 [13:25<44:38,  2.77s/it]"
     ]
    },
    {
     "name": "stdout",
     "output_type": "stream",
     "text": [
      "first coefficient diff : 0.00015531902274851036 second coefficient diff : 0.3073120512870684\n",
      "fit pos : 252.76 px 1016.71 px\n",
      "fit distance : 763.95 px 4.04 m\n",
      "All good for frame : 295\n"
     ]
    },
    {
     "name": "stderr",
     "output_type": "stream",
     "text": [
      "\r",
      " 23%|██▎       | 295/1261 [13:28<44:37,  2.77s/it]"
     ]
    },
    {
     "name": "stdout",
     "output_type": "stream",
     "text": [
      "first coefficient diff : 0.0001451381129182874 second coefficient diff : 0.3165565046032188\n",
      "fit pos : 254.79 px 1020.69 px\n",
      "fit distance : 765.91 px 4.05 m\n",
      "All good for frame : 296\n"
     ]
    },
    {
     "name": "stderr",
     "output_type": "stream",
     "text": [
      "\r",
      " 23%|██▎       | 296/1261 [13:30<44:37,  2.77s/it]"
     ]
    },
    {
     "name": "stdout",
     "output_type": "stream",
     "text": [
      "first coefficient diff : 0.0001815945729253185 second coefficient diff : 0.33213329218983867\n",
      "fit pos : 254.26 px 1017.86 px\n",
      "fit distance : 763.60 px 4.04 m\n",
      "All good for frame : 297\n"
     ]
    },
    {
     "name": "stderr",
     "output_type": "stream",
     "text": [
      "\r",
      " 24%|██▎       | 297/1261 [13:33<44:34,  2.77s/it]"
     ]
    },
    {
     "name": "stdout",
     "output_type": "stream",
     "text": [
      "first coefficient diff : 0.00015113654934616487 second coefficient diff : 0.30457113351384946\n",
      "fit pos : 253.77 px 1021.24 px\n",
      "fit distance : 767.47 px 4.06 m\n",
      "All good for frame : 298\n"
     ]
    },
    {
     "name": "stderr",
     "output_type": "stream",
     "text": [
      "\r",
      " 24%|██▎       | 298/1261 [13:36<44:46,  2.79s/it]"
     ]
    },
    {
     "name": "stdout",
     "output_type": "stream",
     "text": [
      "first coefficient diff : 0.00017339300574962854 second coefficient diff : 0.31271105383560893\n",
      "fit pos : 254.11 px 1020.29 px\n",
      "fit distance : 766.18 px 4.05 m\n",
      "All good for frame : 299\n"
     ]
    },
    {
     "name": "stderr",
     "output_type": "stream",
     "text": [
      "\r",
      " 24%|██▎       | 299/1261 [13:39<44:45,  2.79s/it]"
     ]
    },
    {
     "name": "stdout",
     "output_type": "stream",
     "text": [
      "first coefficient diff : 0.0001360737973531013 second coefficient diff : 0.2726059351397879\n",
      "fit pos : 252.84 px 1026.65 px\n",
      "fit distance : 773.81 px 4.09 m\n",
      "All good for frame : 300\n"
     ]
    },
    {
     "name": "stderr",
     "output_type": "stream",
     "text": [
      "\r",
      " 24%|██▍       | 300/1261 [13:42<44:43,  2.79s/it]"
     ]
    },
    {
     "name": "stdout",
     "output_type": "stream",
     "text": [
      "first coefficient diff : 0.00012182997416221723 second coefficient diff : 0.2644272443605573\n",
      "fit pos : 251.14 px 1024.97 px\n",
      "fit distance : 773.82 px 4.09 m\n",
      "All good for frame : 301\n"
     ]
    },
    {
     "name": "stderr",
     "output_type": "stream",
     "text": [
      "\r",
      " 24%|██▍       | 301/1261 [13:45<46:24,  2.90s/it]"
     ]
    },
    {
     "name": "stdout",
     "output_type": "stream",
     "text": [
      "first coefficient diff : 0.0001403635013690949 second coefficient diff : 0.25090654266162504\n",
      "fit pos : 250.25 px 1024.87 px\n",
      "fit distance : 774.62 px 4.09 m\n",
      "All good for frame : 302\n"
     ]
    },
    {
     "name": "stderr",
     "output_type": "stream",
     "text": [
      "\r",
      " 24%|██▍       | 302/1261 [13:48<46:05,  2.88s/it]"
     ]
    },
    {
     "name": "stdout",
     "output_type": "stream",
     "text": [
      "first coefficient diff : 0.0001725578401100933 second coefficient diff : 0.28739364177735494\n",
      "fit pos : 249.52 px 1022.42 px\n",
      "fit distance : 772.90 px 4.09 m\n",
      "All good for frame : 303\n"
     ]
    },
    {
     "name": "stderr",
     "output_type": "stream",
     "text": [
      "\r",
      " 24%|██▍       | 303/1261 [13:50<45:26,  2.85s/it]"
     ]
    },
    {
     "name": "stdout",
     "output_type": "stream",
     "text": [
      "first coefficient diff : 0.00022125544448903776 second coefficient diff : 0.32447947813296857\n",
      "fit pos : 248.80 px 1014.98 px\n",
      "fit distance : 766.18 px 4.05 m\n",
      "All good for frame : 304\n"
     ]
    },
    {
     "name": "stderr",
     "output_type": "stream",
     "text": [
      "\r",
      " 24%|██▍       | 304/1261 [13:53<44:49,  2.81s/it]"
     ]
    },
    {
     "name": "stdout",
     "output_type": "stream",
     "text": [
      "first coefficient diff : 0.00038395153378484613 second coefficient diff : 0.42041837003575133\n",
      "fit pos : 248.49 px 994.39 px\n",
      "fit distance : 745.90 px 3.94 m\n",
      "All good for frame : 305\n"
     ]
    },
    {
     "name": "stderr",
     "output_type": "stream",
     "text": [
      "\r",
      " 24%|██▍       | 305/1261 [13:56<44:16,  2.78s/it]"
     ]
    },
    {
     "name": "stdout",
     "output_type": "stream",
     "text": [
      "first coefficient diff : 4.306619643507266e-05 second coefficient diff : 0.23286577325685381\n",
      "fit pos : 251.76 px 1038.72 px\n",
      "fit distance : 786.97 px 4.16 m\n",
      "All good for frame : 306\n"
     ]
    },
    {
     "name": "stderr",
     "output_type": "stream",
     "text": [
      "\r",
      " 24%|██▍       | 306/1261 [13:58<43:53,  2.76s/it]"
     ]
    },
    {
     "name": "stdout",
     "output_type": "stream",
     "text": [
      "first coefficient diff : 4.216130649795579e-05 second coefficient diff : 0.20641886157910644\n",
      "fit pos : 251.00 px 1039.00 px\n",
      "fit distance : 788.00 px 4.17 m\n",
      "All good for frame : 307\n"
     ]
    },
    {
     "name": "stderr",
     "output_type": "stream",
     "text": [
      "\r",
      " 24%|██▍       | 307/1261 [14:01<43:35,  2.74s/it]"
     ]
    },
    {
     "name": "stdout",
     "output_type": "stream",
     "text": [
      "first coefficient diff : 0.00010644094023318241 second coefficient diff : 0.29519226294914086\n",
      "fit pos : 257.02 px 1034.00 px\n",
      "fit distance : 776.98 px 4.11 m\n",
      "All good for frame : 308\n"
     ]
    },
    {
     "name": "stderr",
     "output_type": "stream",
     "text": [
      "\r",
      " 24%|██▍       | 308/1261 [14:04<43:20,  2.73s/it]"
     ]
    },
    {
     "name": "stdout",
     "output_type": "stream",
     "text": [
      "first coefficient diff : 6.078269101040321e-05 second coefficient diff : 0.24509118214773618\n",
      "fit pos : 257.47 px 1037.13 px\n",
      "fit distance : 779.66 px 4.12 m\n",
      "All good for frame : 309\n"
     ]
    },
    {
     "name": "stderr",
     "output_type": "stream",
     "text": [
      "\r",
      " 25%|██▍       | 309/1261 [14:07<43:12,  2.72s/it]"
     ]
    },
    {
     "name": "stdout",
     "output_type": "stream",
     "text": [
      "first coefficient diff : 2.4082800697687922e-05 second coefficient diff : 0.22063606616481402\n",
      "fit pos : 259.50 px 1038.64 px\n",
      "fit distance : 779.14 px 4.12 m\n",
      "All good for frame : 310\n"
     ]
    },
    {
     "name": "stderr",
     "output_type": "stream",
     "text": [
      "\r",
      " 25%|██▍       | 310/1261 [14:09<43:05,  2.72s/it]"
     ]
    },
    {
     "name": "stdout",
     "output_type": "stream",
     "text": [
      "first coefficient diff : 6.133406970797785e-05 second coefficient diff : 0.26053623273520227\n",
      "fit pos : 262.33 px 1033.25 px\n",
      "fit distance : 770.92 px 4.07 m\n",
      "All good for frame : 311\n"
     ]
    },
    {
     "name": "stderr",
     "output_type": "stream",
     "text": [
      "\r",
      " 25%|██▍       | 311/1261 [14:12<43:04,  2.72s/it]"
     ]
    },
    {
     "name": "stdout",
     "output_type": "stream",
     "text": [
      "first coefficient diff : 7.194264838545225e-05 second coefficient diff : 0.2559792024363617\n",
      "fit pos : 262.33 px 1029.44 px\n",
      "fit distance : 767.11 px 4.05 m\n",
      "All good for frame : 312\n"
     ]
    },
    {
     "name": "stderr",
     "output_type": "stream",
     "text": [
      "\r",
      " 25%|██▍       | 312/1261 [14:15<43:02,  2.72s/it]"
     ]
    },
    {
     "name": "stdout",
     "output_type": "stream",
     "text": [
      "first coefficient diff : 0.00010092025550845321 second coefficient diff : 0.3245609760559457\n",
      "fit pos : 264.99 px 1026.36 px\n",
      "fit distance : 761.38 px 4.02 m\n",
      "All good for frame : 313\n"
     ]
    },
    {
     "name": "stderr",
     "output_type": "stream",
     "text": [
      "\r",
      " 25%|██▍       | 313/1261 [14:17<43:02,  2.72s/it]"
     ]
    },
    {
     "name": "stdout",
     "output_type": "stream",
     "text": [
      "first coefficient diff : 0.0001189971209293951 second coefficient diff : 0.32445756130700454\n",
      "fit pos : 264.70 px 1025.19 px\n",
      "fit distance : 760.49 px 4.02 m\n",
      "All good for frame : 314\n"
     ]
    },
    {
     "name": "stderr",
     "output_type": "stream",
     "text": [
      "\r",
      " 25%|██▍       | 314/1261 [14:20<43:03,  2.73s/it]"
     ]
    },
    {
     "name": "stdout",
     "output_type": "stream",
     "text": [
      "first coefficient diff : 0.0001271080438994287 second coefficient diff : 0.31910871794079043\n",
      "fit pos : 264.69 px 1021.45 px\n",
      "fit distance : 756.76 px 4.00 m\n",
      "All good for frame : 315\n"
     ]
    },
    {
     "name": "stderr",
     "output_type": "stream",
     "text": [
      "\r",
      " 25%|██▍       | 315/1261 [14:23<43:03,  2.73s/it]"
     ]
    },
    {
     "name": "stdout",
     "output_type": "stream",
     "text": [
      "first coefficient diff : 0.00016701094638534364 second coefficient diff : 0.3236449647741944\n",
      "fit pos : 264.33 px 1015.52 px\n",
      "fit distance : 751.18 px 3.97 m\n",
      "All good for frame : 316\n"
     ]
    },
    {
     "name": "stderr",
     "output_type": "stream",
     "text": [
      "\r",
      " 25%|██▌       | 316/1261 [14:26<43:02,  2.73s/it]"
     ]
    },
    {
     "name": "stdout",
     "output_type": "stream",
     "text": [
      "first coefficient diff : 0.00022200836549226833 second coefficient diff : 0.33139228505024315\n",
      "fit pos : 264.54 px 1004.49 px\n",
      "fit distance : 739.94 px 3.91 m\n",
      "All good for frame : 317\n"
     ]
    },
    {
     "name": "stderr",
     "output_type": "stream",
     "text": [
      "\r",
      " 25%|██▌       | 317/1261 [14:28<43:17,  2.75s/it]"
     ]
    },
    {
     "name": "stdout",
     "output_type": "stream",
     "text": [
      "first coefficient diff : 0.00013547758746881118 second coefficient diff : 0.3113232319191783\n",
      "fit pos : 265.22 px 1014.13 px\n",
      "fit distance : 748.91 px 3.96 m\n",
      "All good for frame : 318\n"
     ]
    },
    {
     "name": "stderr",
     "output_type": "stream",
     "text": [
      "\r",
      " 25%|██▌       | 318/1261 [14:31<43:30,  2.77s/it]"
     ]
    },
    {
     "name": "stdout",
     "output_type": "stream",
     "text": [
      "first coefficient diff : 0.0001546832331585796 second coefficient diff : 0.30368954619260635\n",
      "fit pos : 265.63 px 1011.43 px\n",
      "fit distance : 745.80 px 3.94 m\n",
      "All good for frame : 319\n"
     ]
    },
    {
     "name": "stderr",
     "output_type": "stream",
     "text": [
      "\r",
      " 25%|██▌       | 319/1261 [14:34<43:45,  2.79s/it]"
     ]
    },
    {
     "name": "stdout",
     "output_type": "stream",
     "text": [
      "first coefficient diff : 0.00015048836023811606 second coefficient diff : 0.321874955542624\n",
      "fit pos : 265.72 px 1010.02 px\n",
      "fit distance : 744.29 px 3.93 m\n",
      "All good for frame : 320\n"
     ]
    },
    {
     "name": "stderr",
     "output_type": "stream",
     "text": [
      "\r",
      " 25%|██▌       | 320/1261 [14:37<43:56,  2.80s/it]"
     ]
    },
    {
     "name": "stdout",
     "output_type": "stream",
     "text": [
      "first coefficient diff : 0.00015225477614468026 second coefficient diff : 0.30869527250280265\n",
      "fit pos : 265.98 px 1012.23 px\n",
      "fit distance : 746.26 px 3.94 m\n",
      "All good for frame : 321\n"
     ]
    },
    {
     "name": "stderr",
     "output_type": "stream",
     "text": [
      "\r",
      " 25%|██▌       | 321/1261 [14:40<44:09,  2.82s/it]"
     ]
    },
    {
     "name": "stdout",
     "output_type": "stream",
     "text": [
      "first coefficient diff : 0.0001346578631887678 second coefficient diff : 0.2953484621126614\n",
      "fit pos : 265.96 px 1015.34 px\n",
      "fit distance : 749.38 px 3.96 m\n",
      "All good for frame : 322\n"
     ]
    },
    {
     "name": "stderr",
     "output_type": "stream",
     "text": [
      "\r",
      " 26%|██▌       | 322/1261 [14:43<44:05,  2.82s/it]"
     ]
    },
    {
     "name": "stdout",
     "output_type": "stream",
     "text": [
      "first coefficient diff : 0.00016340880957687654 second coefficient diff : 0.32259316512703184\n",
      "fit pos : 266.05 px 1014.02 px\n",
      "fit distance : 747.98 px 3.95 m\n",
      "All good for frame : 323\n"
     ]
    },
    {
     "name": "stderr",
     "output_type": "stream",
     "text": [
      "\r",
      " 26%|██▌       | 323/1261 [14:45<44:04,  2.82s/it]"
     ]
    },
    {
     "name": "stdout",
     "output_type": "stream",
     "text": [
      "first coefficient diff : 0.00017624377646035052 second coefficient diff : 0.30190512185409785\n",
      "fit pos : 264.52 px 1016.57 px\n",
      "fit distance : 752.05 px 3.98 m\n",
      "All good for frame : 324\n"
     ]
    },
    {
     "name": "stderr",
     "output_type": "stream",
     "text": [
      "\r",
      " 26%|██▌       | 324/1261 [14:48<44:08,  2.83s/it]"
     ]
    },
    {
     "name": "stdout",
     "output_type": "stream",
     "text": [
      "first coefficient diff : 0.00015555945253723064 second coefficient diff : 0.30489591054992243\n",
      "fit pos : 263.74 px 1018.71 px\n",
      "fit distance : 754.97 px 3.99 m\n",
      "All good for frame : 325\n"
     ]
    },
    {
     "name": "stderr",
     "output_type": "stream",
     "text": [
      "\r",
      " 26%|██▌       | 325/1261 [14:51<44:07,  2.83s/it]"
     ]
    },
    {
     "name": "stdout",
     "output_type": "stream",
     "text": [
      "first coefficient diff : 0.0001744567665436407 second coefficient diff : 0.3230974351490861\n",
      "fit pos : 262.63 px 1017.35 px\n",
      "fit distance : 754.72 px 3.99 m\n",
      "All good for frame : 326\n"
     ]
    },
    {
     "name": "stderr",
     "output_type": "stream",
     "text": [
      "\r",
      " 26%|██▌       | 326/1261 [14:54<44:07,  2.83s/it]"
     ]
    },
    {
     "name": "stdout",
     "output_type": "stream",
     "text": [
      "first coefficient diff : 0.00018992546243088682 second coefficient diff : 0.3225802489996554\n",
      "fit pos : 261.10 px 1018.04 px\n",
      "fit distance : 756.93 px 4.00 m\n",
      "All good for frame : 327\n"
     ]
    },
    {
     "name": "stderr",
     "output_type": "stream",
     "text": [
      "\r",
      " 26%|██▌       | 327/1261 [14:57<44:16,  2.84s/it]"
     ]
    },
    {
     "name": "stdout",
     "output_type": "stream",
     "text": [
      "first coefficient diff : 0.000134580968889049 second coefficient diff : 0.27578960892439075\n",
      "fit pos : 259.78 px 1019.71 px\n",
      "fit distance : 759.92 px 4.02 m\n",
      "All good for frame : 328\n"
     ]
    },
    {
     "name": "stderr",
     "output_type": "stream",
     "text": [
      "\r",
      " 26%|██▌       | 328/1261 [15:00<44:19,  2.85s/it]"
     ]
    },
    {
     "name": "stdout",
     "output_type": "stream",
     "text": [
      "first coefficient diff : 0.0001079878554337994 second coefficient diff : 0.2270510727708211\n",
      "fit pos : 258.51 px 1028.94 px\n",
      "fit distance : 770.42 px 4.07 m\n",
      "All good for frame : 329\n"
     ]
    },
    {
     "name": "stderr",
     "output_type": "stream",
     "text": [
      "\r",
      " 26%|██▌       | 329/1261 [15:02<44:08,  2.84s/it]"
     ]
    },
    {
     "name": "stdout",
     "output_type": "stream",
     "text": [
      "first coefficient diff : 5.6571710212798264e-05 second coefficient diff : 0.2191140839866519\n",
      "fit pos : 258.26 px 1031.87 px\n",
      "fit distance : 773.61 px 4.09 m\n",
      "All good for frame : 330\n"
     ]
    },
    {
     "name": "stderr",
     "output_type": "stream",
     "text": [
      "\r",
      " 26%|██▌       | 330/1261 [15:05<44:05,  2.84s/it]"
     ]
    },
    {
     "name": "stdout",
     "output_type": "stream",
     "text": [
      "first coefficient diff : 3.792158849844352e-05 second coefficient diff : 0.16095257855587286\n",
      "fit pos : 258.25 px 1039.70 px\n",
      "fit distance : 781.45 px 4.13 m\n",
      "All good for frame : 331\n"
     ]
    },
    {
     "name": "stderr",
     "output_type": "stream",
     "text": [
      "\r",
      " 26%|██▌       | 331/1261 [15:09<45:54,  2.96s/it]"
     ]
    },
    {
     "name": "stdout",
     "output_type": "stream",
     "text": [
      "first coefficient diff : 9.166788157813851e-06 second coefficient diff : 0.2198948451189105\n",
      "fit pos : 261.81 px 1032.97 px\n",
      "fit distance : 771.16 px 4.08 m\n",
      "All good for frame : 332\n"
     ]
    },
    {
     "name": "stderr",
     "output_type": "stream",
     "text": [
      "\r",
      " 26%|██▋       | 332/1261 [15:12<45:49,  2.96s/it]"
     ]
    },
    {
     "name": "stdout",
     "output_type": "stream",
     "text": [
      "first coefficient diff : 1.5751601436642485e-05 second coefficient diff : 0.21548423618188517\n",
      "fit pos : 262.64 px 1028.93 px\n",
      "fit distance : 766.29 px 4.05 m\n",
      "All good for frame : 333\n"
     ]
    },
    {
     "name": "stderr",
     "output_type": "stream",
     "text": [
      "\r",
      " 26%|██▋       | 333/1261 [15:14<45:30,  2.94s/it]"
     ]
    },
    {
     "name": "stdout",
     "output_type": "stream",
     "text": [
      "first coefficient diff : 4.605093290364843e-05 second coefficient diff : 0.1828833935425213\n",
      "fit pos : 262.89 px 1030.37 px\n",
      "fit distance : 767.47 px 4.06 m\n",
      "All good for frame : 334\n"
     ]
    },
    {
     "name": "stderr",
     "output_type": "stream",
     "text": [
      "\r",
      " 26%|██▋       | 334/1261 [15:17<45:09,  2.92s/it]"
     ]
    },
    {
     "name": "stdout",
     "output_type": "stream",
     "text": [
      "first coefficient diff : 1.4677379695943478e-05 second coefficient diff : 0.20667578392620456\n",
      "fit pos : 263.78 px 1029.90 px\n",
      "fit distance : 766.12 px 4.05 m\n",
      "All good for frame : 335\n"
     ]
    },
    {
     "name": "stderr",
     "output_type": "stream",
     "text": [
      "\r",
      " 27%|██▋       | 335/1261 [15:20<44:52,  2.91s/it]"
     ]
    },
    {
     "name": "stdout",
     "output_type": "stream",
     "text": [
      "first coefficient diff : 6.692946852586354e-07 second coefficient diff : 0.17219118655876275\n",
      "fit pos : 260.78 px 1031.35 px\n",
      "fit distance : 770.57 px 4.07 m\n",
      "All good for frame : 336\n"
     ]
    },
    {
     "name": "stderr",
     "output_type": "stream",
     "text": [
      "\r",
      " 27%|██▋       | 336/1261 [15:23<44:46,  2.90s/it]"
     ]
    },
    {
     "name": "stdout",
     "output_type": "stream",
     "text": [
      "first coefficient diff : 1.0544328343117094e-05 second coefficient diff : 0.1589287568873641\n",
      "fit pos : 260.37 px 1032.10 px\n",
      "fit distance : 771.73 px 4.08 m\n",
      "All good for frame : 337\n"
     ]
    },
    {
     "name": "stderr",
     "output_type": "stream",
     "text": [
      "\r",
      " 27%|██▋       | 337/1261 [15:26<44:39,  2.90s/it]"
     ]
    },
    {
     "name": "stdout",
     "output_type": "stream",
     "text": [
      "first coefficient diff : 2.367370535478361e-05 second coefficient diff : 0.18426151651017803\n",
      "fit pos : 260.06 px 1030.20 px\n",
      "fit distance : 770.13 px 4.07 m\n",
      "All good for frame : 338\n"
     ]
    },
    {
     "name": "stderr",
     "output_type": "stream",
     "text": [
      "\r",
      " 27%|██▋       | 338/1261 [15:29<44:39,  2.90s/it]"
     ]
    },
    {
     "name": "stdout",
     "output_type": "stream",
     "text": [
      "first coefficient diff : 4.3331158729474594e-05 second coefficient diff : 0.20217475946038388\n",
      "fit pos : 260.16 px 1027.51 px\n",
      "fit distance : 767.35 px 4.06 m\n",
      "All good for frame : 339\n"
     ]
    },
    {
     "name": "stderr",
     "output_type": "stream",
     "text": [
      "\r",
      " 27%|██▋       | 339/1261 [15:32<44:32,  2.90s/it]"
     ]
    },
    {
     "name": "stdout",
     "output_type": "stream",
     "text": [
      "first coefficient diff : 8.614324701349381e-06 second coefficient diff : 0.19800643643167637\n",
      "fit pos : 261.94 px 1027.13 px\n",
      "fit distance : 765.19 px 4.04 m\n",
      "All good for frame : 340\n"
     ]
    },
    {
     "name": "stderr",
     "output_type": "stream",
     "text": [
      "\r",
      " 27%|██▋       | 340/1261 [15:35<44:32,  2.90s/it]"
     ]
    },
    {
     "name": "stdout",
     "output_type": "stream",
     "text": [
      "first coefficient diff : 4.163750282479866e-05 second coefficient diff : 0.15258838032753932\n",
      "fit pos : 262.30 px 1030.13 px\n",
      "fit distance : 767.84 px 4.06 m\n",
      "All good for frame : 341\n"
     ]
    },
    {
     "name": "stderr",
     "output_type": "stream",
     "text": [
      "\r",
      " 27%|██▋       | 341/1261 [15:38<44:23,  2.90s/it]"
     ]
    },
    {
     "name": "stdout",
     "output_type": "stream",
     "text": [
      "first coefficient diff : 3.092949967274138e-05 second coefficient diff : 0.18499147293871174\n",
      "fit pos : 266.14 px 1026.36 px\n",
      "fit distance : 760.22 px 4.02 m\n",
      "All good for frame : 342\n"
     ]
    },
    {
     "name": "stderr",
     "output_type": "stream",
     "text": [
      "\r",
      " 27%|██▋       | 342/1261 [15:40<44:18,  2.89s/it]"
     ]
    },
    {
     "name": "stdout",
     "output_type": "stream",
     "text": [
      "first coefficient diff : 2.6162800482052413e-05 second coefficient diff : 0.16731717014106384\n",
      "fit pos : 263.94 px 1024.65 px\n",
      "fit distance : 760.70 px 4.02 m\n",
      "All good for frame : 343\n"
     ]
    },
    {
     "name": "stderr",
     "output_type": "stream",
     "text": [
      "\r",
      " 27%|██▋       | 343/1261 [15:43<44:17,  2.89s/it]"
     ]
    },
    {
     "name": "stdout",
     "output_type": "stream",
     "text": [
      "first coefficient diff : 1.941472616968945e-05 second coefficient diff : 0.162034733044404\n",
      "fit pos : 262.81 px 1026.29 px\n",
      "fit distance : 763.47 px 4.04 m\n",
      "All good for frame : 344\n"
     ]
    },
    {
     "name": "stderr",
     "output_type": "stream",
     "text": [
      "\r",
      " 27%|██▋       | 344/1261 [15:46<44:21,  2.90s/it]"
     ]
    },
    {
     "name": "stdout",
     "output_type": "stream",
     "text": [
      "first coefficient diff : 1.1083295436198406e-05 second coefficient diff : 0.14745198912840626\n",
      "fit pos : 262.70 px 1024.49 px\n",
      "fit distance : 761.80 px 4.03 m\n",
      "All good for frame : 345\n"
     ]
    },
    {
     "name": "stderr",
     "output_type": "stream",
     "text": [
      "\r",
      " 27%|██▋       | 345/1261 [15:49<44:24,  2.91s/it]"
     ]
    },
    {
     "name": "stdout",
     "output_type": "stream",
     "text": [
      "first coefficient diff : 1.166450228863131e-05 second coefficient diff : 0.12452296509532058\n",
      "fit pos : 262.93 px 1026.42 px\n",
      "fit distance : 763.48 px 4.04 m\n",
      "All good for frame : 346\n"
     ]
    },
    {
     "name": "stderr",
     "output_type": "stream",
     "text": [
      "\r",
      " 27%|██▋       | 346/1261 [15:52<44:24,  2.91s/it]"
     ]
    },
    {
     "name": "stdout",
     "output_type": "stream",
     "text": [
      "first coefficient diff : 1.2941279605509702e-05 second coefficient diff : 0.15789009947958504\n",
      "fit pos : 264.30 px 1024.84 px\n",
      "fit distance : 760.54 px 4.02 m\n",
      "All good for frame : 347\n"
     ]
    },
    {
     "name": "stderr",
     "output_type": "stream",
     "text": [
      "\r",
      " 28%|██▊       | 347/1261 [15:55<44:38,  2.93s/it]"
     ]
    },
    {
     "name": "stdout",
     "output_type": "stream",
     "text": [
      "first coefficient diff : 3.306049335599977e-05 second coefficient diff : 0.15116222901972545\n",
      "fit pos : 264.10 px 1026.39 px\n",
      "fit distance : 762.30 px 4.03 m\n",
      "All good for frame : 348\n"
     ]
    },
    {
     "name": "stderr",
     "output_type": "stream",
     "text": [
      "\r",
      " 28%|██▊       | 348/1261 [15:58<44:39,  2.93s/it]"
     ]
    },
    {
     "name": "stdout",
     "output_type": "stream",
     "text": [
      "first coefficient diff : 1.3143184901848193e-05 second coefficient diff : 0.152187288589285\n",
      "fit pos : 263.39 px 1026.99 px\n",
      "fit distance : 763.60 px 4.04 m\n",
      "All good for frame : 349\n"
     ]
    },
    {
     "name": "stderr",
     "output_type": "stream",
     "text": [
      "\r",
      " 28%|██▊       | 349/1261 [16:01<44:40,  2.94s/it]"
     ]
    },
    {
     "name": "stdout",
     "output_type": "stream",
     "text": [
      "first coefficient diff : 3.280500042114737e-05 second coefficient diff : 0.15382124962631563\n",
      "fit pos : 261.89 px 1026.96 px\n",
      "fit distance : 765.07 px 4.04 m\n",
      "All good for frame : 350\n"
     ]
    },
    {
     "name": "stderr",
     "output_type": "stream",
     "text": [
      "\r",
      " 28%|██▊       | 350/1261 [16:04<44:45,  2.95s/it]"
     ]
    },
    {
     "name": "stdout",
     "output_type": "stream",
     "text": [
      "first coefficient diff : 3.3002291308976704e-05 second coefficient diff : 0.15525054805761118\n",
      "fit pos : 261.23 px 1025.18 px\n",
      "fit distance : 763.95 px 4.04 m\n",
      "All good for frame : 351\n"
     ]
    },
    {
     "name": "stderr",
     "output_type": "stream",
     "text": [
      "\r",
      " 28%|██▊       | 351/1261 [16:07<44:38,  2.94s/it]"
     ]
    },
    {
     "name": "stdout",
     "output_type": "stream",
     "text": [
      "first coefficient diff : 4.981615029102753e-05 second coefficient diff : 0.16420972193100292\n",
      "fit pos : 261.47 px 1022.99 px\n",
      "fit distance : 761.52 px 4.03 m\n",
      "All good for frame : 352\n"
     ]
    },
    {
     "name": "stderr",
     "output_type": "stream",
     "text": [
      "\r",
      " 28%|██▊       | 352/1261 [16:10<44:27,  2.93s/it]"
     ]
    },
    {
     "name": "stdout",
     "output_type": "stream",
     "text": [
      "first coefficient diff : 7.00381382871963e-05 second coefficient diff : 0.15764384680199092\n",
      "fit pos : 259.40 px 1020.28 px\n",
      "fit distance : 760.87 px 4.02 m\n",
      "All good for frame : 353\n"
     ]
    },
    {
     "name": "stderr",
     "output_type": "stream",
     "text": [
      "\r",
      " 28%|██▊       | 353/1261 [16:13<44:22,  2.93s/it]"
     ]
    },
    {
     "name": "stdout",
     "output_type": "stream",
     "text": [
      "first coefficient diff : 4.1598528217647414e-05 second coefficient diff : 0.1511194883488985\n",
      "fit pos : 260.11 px 1023.06 px\n",
      "fit distance : 762.95 px 4.03 m\n",
      "All good for frame : 354\n"
     ]
    },
    {
     "name": "stderr",
     "output_type": "stream",
     "text": [
      "\r",
      " 28%|██▊       | 354/1261 [16:16<44:15,  2.93s/it]"
     ]
    },
    {
     "name": "stdout",
     "output_type": "stream",
     "text": [
      "first coefficient diff : 3.1604279709219014e-05 second coefficient diff : 0.1397571243759929\n",
      "fit pos : 259.40 px 1024.96 px\n",
      "fit distance : 765.56 px 4.05 m\n",
      "All good for frame : 355\n"
     ]
    },
    {
     "name": "stderr",
     "output_type": "stream",
     "text": [
      "\r",
      " 28%|██▊       | 355/1261 [16:19<44:11,  2.93s/it]"
     ]
    },
    {
     "name": "stdout",
     "output_type": "stream",
     "text": [
      "first coefficient diff : 2.049609028157414e-05 second coefficient diff : 0.1314540981482679\n",
      "fit pos : 260.53 px 1025.88 px\n",
      "fit distance : 765.35 px 4.05 m\n",
      "All good for frame : 356\n"
     ]
    },
    {
     "name": "stderr",
     "output_type": "stream",
     "text": [
      "\r",
      " 28%|██▊       | 356/1261 [16:21<44:01,  2.92s/it]"
     ]
    },
    {
     "name": "stdout",
     "output_type": "stream",
     "text": [
      "first coefficient diff : 5.13077959814736e-05 second coefficient diff : 0.18197854911562153\n",
      "fit pos : 263.08 px 1023.93 px\n",
      "fit distance : 760.85 px 4.02 m\n",
      "All good for frame : 357\n"
     ]
    },
    {
     "name": "stderr",
     "output_type": "stream",
     "text": [
      "\r",
      " 28%|██▊       | 357/1261 [16:24<43:51,  2.91s/it]"
     ]
    },
    {
     "name": "stdout",
     "output_type": "stream",
     "text": [
      "first coefficient diff : 5.54901885183005e-05 second coefficient diff : 0.16897877369561087\n",
      "fit pos : 264.42 px 1024.76 px\n",
      "fit distance : 760.34 px 4.02 m\n",
      "All good for frame : 358\n"
     ]
    },
    {
     "name": "stderr",
     "output_type": "stream",
     "text": [
      "\r",
      " 28%|██▊       | 358/1261 [16:27<43:48,  2.91s/it]"
     ]
    },
    {
     "name": "stdout",
     "output_type": "stream",
     "text": [
      "first coefficient diff : 9.797921482718724e-05 second coefficient diff : 0.2288370218931191\n",
      "fit pos : 267.97 px 1023.91 px\n",
      "fit distance : 755.94 px 4.00 m\n",
      "All good for frame : 359\n"
     ]
    },
    {
     "name": "stderr",
     "output_type": "stream",
     "text": [
      "\r",
      " 28%|██▊       | 359/1261 [16:30<43:46,  2.91s/it]"
     ]
    },
    {
     "name": "stdout",
     "output_type": "stream",
     "text": [
      "first coefficient diff : 9.424501863821015e-05 second coefficient diff : 0.21090064512752177\n",
      "fit pos : 268.08 px 1025.40 px\n",
      "fit distance : 757.33 px 4.00 m\n",
      "All good for frame : 360\n"
     ]
    },
    {
     "name": "stderr",
     "output_type": "stream",
     "text": [
      "\r",
      " 29%|██▊       | 360/1261 [16:33<43:46,  2.92s/it]"
     ]
    },
    {
     "name": "stdout",
     "output_type": "stream",
     "text": [
      "first coefficient diff : 0.00013989113298179393 second coefficient diff : 0.24813459114290293\n",
      "fit pos : 270.48 px 1026.12 px\n",
      "fit distance : 755.65 px 3.99 m\n",
      "All good for frame : 361\n"
     ]
    },
    {
     "name": "stderr",
     "output_type": "stream",
     "text": [
      "\r",
      " 29%|██▊       | 361/1261 [16:36<44:45,  2.98s/it]"
     ]
    },
    {
     "name": "stdout",
     "output_type": "stream",
     "text": [
      "first coefficient diff : 0.00015955561396614713 second coefficient diff : 0.2838405337443923\n",
      "fit pos : 271.65 px 1023.84 px\n",
      "fit distance : 752.19 px 3.98 m\n",
      "All good for frame : 362\n"
     ]
    },
    {
     "name": "stderr",
     "output_type": "stream",
     "text": [
      "\r",
      " 29%|██▊       | 362/1261 [16:39<44:48,  2.99s/it]"
     ]
    },
    {
     "name": "stdout",
     "output_type": "stream",
     "text": [
      "first coefficient diff : 0.0001974389932920786 second coefficient diff : 0.30819598713113006\n",
      "fit pos : 274.09 px 1023.78 px\n",
      "fit distance : 749.69 px 3.96 m\n",
      "All good for frame : 363\n"
     ]
    },
    {
     "name": "stderr",
     "output_type": "stream",
     "text": [
      "\r",
      " 29%|██▉       | 363/1261 [16:42<44:32,  2.98s/it]"
     ]
    },
    {
     "name": "stdout",
     "output_type": "stream",
     "text": [
      "first coefficient diff : 0.00017111499797784873 second coefficient diff : 0.32496356390106274\n",
      "fit pos : 275.16 px 1021.50 px\n",
      "fit distance : 746.34 px 3.94 m\n",
      "All good for frame : 364\n"
     ]
    },
    {
     "name": "stderr",
     "output_type": "stream",
     "text": [
      "\r",
      " 29%|██▉       | 364/1261 [16:45<44:21,  2.97s/it]"
     ]
    },
    {
     "name": "stdout",
     "output_type": "stream",
     "text": [
      "first coefficient diff : 0.0001198714062901193 second coefficient diff : 0.2755061791635608\n",
      "fit pos : 273.91 px 1026.24 px\n",
      "fit distance : 752.33 px 3.98 m\n",
      "All good for frame : 365\n"
     ]
    },
    {
     "name": "stderr",
     "output_type": "stream",
     "text": [
      "\r",
      " 29%|██▉       | 365/1261 [16:48<43:59,  2.95s/it]"
     ]
    },
    {
     "name": "stdout",
     "output_type": "stream",
     "text": [
      "first coefficient diff : 0.00011153851936159575 second coefficient diff : 0.2798692247574251\n",
      "fit pos : 274.12 px 1028.58 px\n",
      "fit distance : 754.45 px 3.99 m\n",
      "All good for frame : 366\n"
     ]
    },
    {
     "name": "stderr",
     "output_type": "stream",
     "text": [
      "\r",
      " 29%|██▉       | 366/1261 [16:51<43:48,  2.94s/it]"
     ]
    },
    {
     "name": "stdout",
     "output_type": "stream",
     "text": [
      "first coefficient diff : 0.00010041502969343622 second coefficient diff : 0.24937185489895125\n",
      "fit pos : 273.24 px 1027.96 px\n",
      "fit distance : 754.73 px 3.99 m\n",
      "All good for frame : 367\n"
     ]
    },
    {
     "name": "stderr",
     "output_type": "stream",
     "text": [
      "\r",
      " 29%|██▉       | 367/1261 [16:54<43:35,  2.93s/it]"
     ]
    },
    {
     "name": "stdout",
     "output_type": "stream",
     "text": [
      "first coefficient diff : 9.763172114744519e-05 second coefficient diff : 0.23475577702520917\n",
      "fit pos : 271.39 px 1029.23 px\n",
      "fit distance : 757.84 px 4.01 m\n",
      "All good for frame : 368\n"
     ]
    },
    {
     "name": "stderr",
     "output_type": "stream",
     "text": [
      "\r",
      " 29%|██▉       | 368/1261 [16:57<43:28,  2.92s/it]"
     ]
    },
    {
     "name": "stdout",
     "output_type": "stream",
     "text": [
      "first coefficient diff : 5.767300792343936e-05 second coefficient diff : 0.2299313782841811\n",
      "fit pos : 271.23 px 1030.41 px\n",
      "fit distance : 759.19 px 4.01 m\n",
      "All good for frame : 369\n"
     ]
    },
    {
     "name": "stderr",
     "output_type": "stream",
     "text": [
      "\r",
      " 29%|██▉       | 369/1261 [17:00<43:21,  2.92s/it]"
     ]
    },
    {
     "name": "stdout",
     "output_type": "stream",
     "text": [
      "first coefficient diff : 6.61604292805127e-05 second coefficient diff : 0.21746697078717553\n",
      "fit pos : 267.27 px 1027.70 px\n",
      "fit distance : 760.43 px 4.02 m\n",
      "All good for frame : 370\n"
     ]
    },
    {
     "name": "stderr",
     "output_type": "stream",
     "text": [
      "\r",
      " 29%|██▉       | 370/1261 [17:03<43:18,  2.92s/it]"
     ]
    },
    {
     "name": "stdout",
     "output_type": "stream",
     "text": [
      "first coefficient diff : 3.486033289121768e-05 second coefficient diff : 0.20404781931432042\n",
      "fit pos : 264.68 px 1029.91 px\n",
      "fit distance : 765.22 px 4.04 m\n",
      "All good for frame : 371\n"
     ]
    },
    {
     "name": "stderr",
     "output_type": "stream",
     "text": [
      "\r",
      " 29%|██▉       | 371/1261 [17:05<43:16,  2.92s/it]"
     ]
    },
    {
     "name": "stdout",
     "output_type": "stream",
     "text": [
      "first coefficient diff : 4.715558729418116e-05 second coefficient diff : 0.1907178621001685\n",
      "fit pos : 262.28 px 1028.75 px\n",
      "fit distance : 766.47 px 4.05 m\n",
      "All good for frame : 372\n"
     ]
    },
    {
     "name": "stderr",
     "output_type": "stream",
     "text": [
      "\r",
      " 30%|██▉       | 372/1261 [17:08<43:23,  2.93s/it]"
     ]
    },
    {
     "name": "stdout",
     "output_type": "stream",
     "text": [
      "first coefficient diff : 2.5557452889784404e-05 second coefficient diff : 0.1641454304380658\n",
      "fit pos : 259.05 px 1027.36 px\n",
      "fit distance : 768.31 px 4.06 m\n",
      "All good for frame : 373\n"
     ]
    },
    {
     "name": "stderr",
     "output_type": "stream",
     "text": [
      "\r",
      " 30%|██▉       | 373/1261 [17:11<43:24,  2.93s/it]"
     ]
    },
    {
     "name": "stdout",
     "output_type": "stream",
     "text": [
      "first coefficient diff : 3.802628509188003e-05 second coefficient diff : 0.1994418836300696\n",
      "fit pos : 256.95 px 1024.76 px\n",
      "fit distance : 767.81 px 4.06 m\n",
      "All good for frame : 374\n"
     ]
    },
    {
     "name": "stderr",
     "output_type": "stream",
     "text": [
      "\r",
      " 30%|██▉       | 374/1261 [17:14<43:21,  2.93s/it]"
     ]
    },
    {
     "name": "stdout",
     "output_type": "stream",
     "text": [
      "first coefficient diff : 7.303214661162924e-05 second coefficient diff : 0.24069710138355688\n",
      "fit pos : 256.04 px 1020.83 px\n",
      "fit distance : 764.79 px 4.04 m\n",
      "All good for frame : 375\n"
     ]
    },
    {
     "name": "stderr",
     "output_type": "stream",
     "text": [
      "\r",
      " 30%|██▉       | 375/1261 [17:17<43:12,  2.93s/it]"
     ]
    },
    {
     "name": "stdout",
     "output_type": "stream",
     "text": [
      "first coefficient diff : 6.251802089620699e-07 second coefficient diff : 0.2076084740767833\n",
      "fit pos : 256.77 px 1018.57 px\n",
      "fit distance : 761.80 px 4.03 m\n",
      "All good for frame : 376\n"
     ]
    },
    {
     "name": "stderr",
     "output_type": "stream",
     "text": [
      "\r",
      " 30%|██▉       | 376/1261 [17:20<43:05,  2.92s/it]"
     ]
    },
    {
     "name": "stdout",
     "output_type": "stream",
     "text": [
      "first coefficient diff : 2.4851632312732894e-05 second coefficient diff : 0.17717331527905056\n",
      "fit pos : 254.93 px 1016.20 px\n",
      "fit distance : 761.27 px 4.02 m\n",
      "All good for frame : 377\n"
     ]
    },
    {
     "name": "stderr",
     "output_type": "stream",
     "text": [
      "\r",
      " 30%|██▉       | 377/1261 [17:23<42:57,  2.92s/it]"
     ]
    },
    {
     "name": "stdout",
     "output_type": "stream",
     "text": [
      "first coefficient diff : 2.8962516349872315e-05 second coefficient diff : 0.16776220577358444\n",
      "fit pos : 255.71 px 1013.61 px\n",
      "fit distance : 757.90 px 4.01 m\n",
      "All good for frame : 378\n"
     ]
    },
    {
     "name": "stderr",
     "output_type": "stream",
     "text": [
      "\r",
      " 30%|██▉       | 378/1261 [17:26<42:49,  2.91s/it]"
     ]
    },
    {
     "name": "stdout",
     "output_type": "stream",
     "text": [
      "first coefficient diff : 5.936779441784804e-05 second coefficient diff : 0.13397446206537877\n",
      "fit pos : 255.91 px 1019.84 px\n",
      "fit distance : 763.92 px 4.04 m\n",
      "All good for frame : 379\n"
     ]
    },
    {
     "name": "stderr",
     "output_type": "stream",
     "text": [
      "\r",
      " 30%|███       | 379/1261 [17:29<42:40,  2.90s/it]"
     ]
    },
    {
     "name": "stdout",
     "output_type": "stream",
     "text": [
      "first coefficient diff : 9.231881383550336e-05 second coefficient diff : 0.09029663085580521\n",
      "fit pos : 253.89 px 1021.46 px\n",
      "fit distance : 767.57 px 4.06 m\n",
      "All good for frame : 380\n"
     ]
    },
    {
     "name": "stderr",
     "output_type": "stream",
     "text": [
      "\r",
      " 30%|███       | 380/1261 [17:32<42:34,  2.90s/it]"
     ]
    },
    {
     "name": "stdout",
     "output_type": "stream",
     "text": [
      "first coefficient diff : 9.658629887539778e-05 second coefficient diff : 0.07674845344613695\n",
      "fit pos : 252.97 px 1023.48 px\n",
      "fit distance : 770.51 px 4.07 m\n",
      "All good for frame : 381\n"
     ]
    },
    {
     "name": "stderr",
     "output_type": "stream",
     "text": [
      "\r",
      " 30%|███       | 381/1261 [17:35<42:31,  2.90s/it]"
     ]
    },
    {
     "name": "stdout",
     "output_type": "stream",
     "text": [
      "first coefficient diff : 4.642139579452562e-05 second coefficient diff : 0.10672242367532714\n",
      "fit pos : 253.62 px 1019.23 px\n",
      "fit distance : 765.61 px 4.05 m\n",
      "All good for frame : 382\n"
     ]
    },
    {
     "name": "stderr",
     "output_type": "stream",
     "text": [
      "\r",
      " 30%|███       | 382/1261 [17:38<42:23,  2.89s/it]"
     ]
    },
    {
     "name": "stdout",
     "output_type": "stream",
     "text": [
      "first coefficient diff : 9.225106020701111e-05 second coefficient diff : 0.07446854276308496\n",
      "fit pos : 255.51 px 1021.55 px\n",
      "fit distance : 766.04 px 4.05 m\n",
      "All good for frame : 383\n"
     ]
    },
    {
     "name": "stderr",
     "output_type": "stream",
     "text": [
      "\r",
      " 30%|███       | 383/1261 [17:40<42:16,  2.89s/it]"
     ]
    },
    {
     "name": "stdout",
     "output_type": "stream",
     "text": [
      "first coefficient diff : 8.15510808629093e-05 second coefficient diff : 0.08124981131082037\n",
      "fit pos : 256.68 px 1021.45 px\n",
      "fit distance : 764.76 px 4.04 m\n",
      "All good for frame : 384\n"
     ]
    },
    {
     "name": "stderr",
     "output_type": "stream",
     "text": [
      "\r",
      " 30%|███       | 384/1261 [17:43<42:16,  2.89s/it]"
     ]
    },
    {
     "name": "stdout",
     "output_type": "stream",
     "text": [
      "first coefficient diff : 6.329337856616589e-05 second coefficient diff : 0.09606706375537591\n",
      "fit pos : 256.30 px 1022.62 px\n",
      "fit distance : 766.32 px 4.05 m\n",
      "All good for frame : 385\n"
     ]
    },
    {
     "name": "stderr",
     "output_type": "stream",
     "text": [
      "\r",
      " 31%|███       | 385/1261 [17:46<42:15,  2.89s/it]"
     ]
    },
    {
     "name": "stdout",
     "output_type": "stream",
     "text": [
      "first coefficient diff : 8.351722371480443e-05 second coefficient diff : 0.06582861406674932\n",
      "fit pos : 254.40 px 1023.25 px\n",
      "fit distance : 768.85 px 4.06 m\n",
      "All good for frame : 386\n"
     ]
    },
    {
     "name": "stderr",
     "output_type": "stream",
     "text": [
      "\r",
      " 31%|███       | 386/1261 [17:49<42:12,  2.89s/it]"
     ]
    },
    {
     "name": "stdout",
     "output_type": "stream",
     "text": [
      "first coefficient diff : 7.557643862675675e-05 second coefficient diff : 0.05057948813491342\n",
      "fit pos : 254.80 px 1025.21 px\n",
      "fit distance : 770.42 px 4.07 m\n",
      "All good for frame : 387\n"
     ]
    },
    {
     "name": "stderr",
     "output_type": "stream",
     "text": [
      "\r",
      " 31%|███       | 387/1261 [17:52<42:08,  2.89s/it]"
     ]
    },
    {
     "name": "stdout",
     "output_type": "stream",
     "text": [
      "first coefficient diff : 6.83117214965221e-05 second coefficient diff : 0.06246800426017316\n",
      "fit pos : 256.34 px 1023.28 px\n",
      "fit distance : 766.94 px 4.05 m\n",
      "All good for frame : 388\n"
     ]
    },
    {
     "name": "stderr",
     "output_type": "stream",
     "text": [
      "\r",
      " 31%|███       | 388/1261 [17:55<42:00,  2.89s/it]"
     ]
    },
    {
     "name": "stdout",
     "output_type": "stream",
     "text": [
      "first coefficient diff : 5.6937237754903846e-05 second coefficient diff : 0.05527392806956932\n",
      "fit pos : 257.24 px 1023.72 px\n",
      "fit distance : 766.48 px 4.05 m\n",
      "All good for frame : 389\n"
     ]
    },
    {
     "name": "stderr",
     "output_type": "stream",
     "text": [
      "\r",
      " 31%|███       | 389/1261 [17:58<41:55,  2.88s/it]"
     ]
    },
    {
     "name": "stdout",
     "output_type": "stream",
     "text": [
      "first coefficient diff : 0.00012145685037712309 second coefficient diff : 0.0023944879524430158\n",
      "fit pos : 258.13 px 1032.53 px\n",
      "fit distance : 774.40 px 4.09 m\n",
      "All good for frame : 390\n"
     ]
    },
    {
     "name": "stderr",
     "output_type": "stream",
     "text": [
      "\r",
      " 31%|███       | 390/1261 [18:01<41:49,  2.88s/it]"
     ]
    },
    {
     "name": "stdout",
     "output_type": "stream",
     "text": [
      "first coefficient diff : 3.2747676469573164e-05 second coefficient diff : 0.06263124789611742\n",
      "fit pos : 258.87 px 1025.39 px\n",
      "fit distance : 766.52 px 4.05 m\n",
      "All good for frame : 391\n"
     ]
    },
    {
     "name": "stderr",
     "output_type": "stream",
     "text": [
      "\r",
      " 31%|███       | 391/1261 [18:04<42:52,  2.96s/it]"
     ]
    },
    {
     "name": "stdout",
     "output_type": "stream",
     "text": [
      "first coefficient diff : 1.2881151073965218e-05 second coefficient diff : 0.0961971965807084\n",
      "fit pos : 258.81 px 1023.85 px\n",
      "fit distance : 765.04 px 4.04 m\n",
      "All good for frame : 392\n"
     ]
    },
    {
     "name": "stderr",
     "output_type": "stream",
     "text": [
      "\r",
      " 31%|███       | 392/1261 [18:07<42:52,  2.96s/it]"
     ]
    },
    {
     "name": "stdout",
     "output_type": "stream",
     "text": [
      "first coefficient diff : 1.1209527020046638e-05 second coefficient diff : 0.09235369419059761\n",
      "fit pos : 260.02 px 1022.37 px\n",
      "fit distance : 762.35 px 4.03 m\n",
      "All good for frame : 393\n"
     ]
    },
    {
     "name": "stderr",
     "output_type": "stream",
     "text": [
      "\r",
      " 31%|███       | 393/1261 [18:10<42:30,  2.94s/it]"
     ]
    },
    {
     "name": "stdout",
     "output_type": "stream",
     "text": [
      "first coefficient diff : 7.277881103797589e-06 second coefficient diff : 0.08121958497474321\n",
      "fit pos : 259.23 px 1022.15 px\n",
      "fit distance : 762.91 px 4.03 m\n",
      "All good for frame : 394\n"
     ]
    },
    {
     "name": "stderr",
     "output_type": "stream",
     "text": [
      "\r",
      " 31%|███       | 394/1261 [18:12<42:09,  2.92s/it]"
     ]
    },
    {
     "name": "stdout",
     "output_type": "stream",
     "text": [
      "first coefficient diff : 4.3880354498772785e-05 second coefficient diff : 0.05490035156583647\n",
      "fit pos : 258.90 px 1023.38 px\n",
      "fit distance : 764.48 px 4.04 m\n",
      "All good for frame : 395\n"
     ]
    },
    {
     "name": "stderr",
     "output_type": "stream",
     "text": [
      "\r",
      " 31%|███▏      | 395/1261 [18:15<41:54,  2.90s/it]"
     ]
    },
    {
     "name": "stdout",
     "output_type": "stream",
     "text": [
      "first coefficient diff : 3.768652374025733e-05 second coefficient diff : 0.0555609255631383\n",
      "fit pos : 258.00 px 1021.77 px\n",
      "fit distance : 763.78 px 4.04 m\n",
      "All good for frame : 396\n"
     ]
    },
    {
     "name": "stderr",
     "output_type": "stream",
     "text": [
      "\r",
      " 31%|███▏      | 396/1261 [18:18<41:41,  2.89s/it]"
     ]
    },
    {
     "name": "stdout",
     "output_type": "stream",
     "text": [
      "first coefficient diff : 2.460191923016038e-05 second coefficient diff : 0.05313862664996703\n",
      "fit pos : 256.74 px 1021.78 px\n",
      "fit distance : 765.05 px 4.04 m\n",
      "All good for frame : 397\n"
     ]
    },
    {
     "name": "stderr",
     "output_type": "stream",
     "text": [
      "\r",
      " 31%|███▏      | 397/1261 [18:21<41:32,  2.89s/it]"
     ]
    },
    {
     "name": "stdout",
     "output_type": "stream",
     "text": [
      "first coefficient diff : 2.325908651339755e-05 second coefficient diff : 0.05001795002602801\n",
      "fit pos : 256.12 px 1020.28 px\n",
      "fit distance : 764.16 px 4.04 m\n",
      "All good for frame : 398\n"
     ]
    },
    {
     "name": "stderr",
     "output_type": "stream",
     "text": [
      "\r",
      " 32%|███▏      | 398/1261 [18:24<41:28,  2.88s/it]"
     ]
    },
    {
     "name": "stdout",
     "output_type": "stream",
     "text": [
      "first coefficient diff : 4.94892731807404e-05 second coefficient diff : 0.019437422358832446\n",
      "fit pos : 254.78 px 1021.62 px\n",
      "fit distance : 766.84 px 4.05 m\n",
      "All good for frame : 399\n"
     ]
    },
    {
     "name": "stderr",
     "output_type": "stream",
     "text": [
      "\r",
      " 32%|███▏      | 399/1261 [18:27<41:22,  2.88s/it]"
     ]
    },
    {
     "name": "stdout",
     "output_type": "stream",
     "text": [
      "first coefficient diff : 4.804768082073074e-05 second coefficient diff : 0.026593289921021057\n",
      "fit pos : 254.66 px 1020.45 px\n",
      "fit distance : 765.79 px 4.05 m\n",
      "All good for frame : 400\n"
     ]
    },
    {
     "name": "stderr",
     "output_type": "stream",
     "text": [
      "\r",
      " 32%|███▏      | 400/1261 [18:30<41:15,  2.88s/it]"
     ]
    },
    {
     "name": "stdout",
     "output_type": "stream",
     "text": [
      "first coefficient diff : 9.38124180463507e-05 second coefficient diff : 0.02139747875309069\n",
      "fit pos : 254.38 px 1024.29 px\n",
      "fit distance : 769.90 px 4.07 m\n",
      "All good for frame : 401\n"
     ]
    },
    {
     "name": "stderr",
     "output_type": "stream",
     "text": [
      "\r",
      " 32%|███▏      | 401/1261 [18:33<41:12,  2.88s/it]"
     ]
    },
    {
     "name": "stdout",
     "output_type": "stream",
     "text": [
      "first coefficient diff : 0.00015332096035648374 second coefficient diff : 0.06331362976879171\n",
      "fit pos : 254.03 px 1032.28 px\n",
      "fit distance : 778.24 px 4.11 m\n",
      "All good for frame : 402\n"
     ]
    },
    {
     "name": "stderr",
     "output_type": "stream",
     "text": [
      "\r",
      " 32%|███▏      | 402/1261 [18:35<41:04,  2.87s/it]"
     ]
    },
    {
     "name": "stdout",
     "output_type": "stream",
     "text": [
      "first coefficient diff : 3.52565832565752e-05 second coefficient diff : 0.03160303203550359\n",
      "fit pos : 255.04 px 1017.09 px\n",
      "fit distance : 762.05 px 4.03 m\n",
      "All good for frame : 403\n"
     ]
    },
    {
     "name": "stderr",
     "output_type": "stream",
     "text": [
      "\r",
      " 32%|███▏      | 403/1261 [18:38<40:56,  2.86s/it]"
     ]
    },
    {
     "name": "stdout",
     "output_type": "stream",
     "text": [
      "first coefficient diff : 2.750917512538702e-05 second coefficient diff : 0.0724739762662598\n",
      "fit pos : 254.02 px 1014.38 px\n",
      "fit distance : 760.36 px 4.02 m\n",
      "All good for frame : 404\n"
     ]
    },
    {
     "name": "stderr",
     "output_type": "stream",
     "text": [
      "\r",
      " 32%|███▏      | 404/1261 [18:41<40:48,  2.86s/it]"
     ]
    },
    {
     "name": "stdout",
     "output_type": "stream",
     "text": [
      "first coefficient diff : 9.52499246879819e-05 second coefficient diff : 0.14194150879845802\n",
      "fit pos : 253.74 px 1007.09 px\n",
      "fit distance : 753.36 px 3.98 m\n",
      "All good for frame : 405\n"
     ]
    },
    {
     "name": "stderr",
     "output_type": "stream",
     "text": [
      "\r",
      " 32%|███▏      | 405/1261 [18:44<40:42,  2.85s/it]"
     ]
    },
    {
     "name": "stdout",
     "output_type": "stream",
     "text": [
      "first coefficient diff : 9.511226462719175e-05 second coefficient diff : 0.12531293345346378\n",
      "fit pos : 252.18 px 1005.30 px\n",
      "fit distance : 753.13 px 3.98 m\n",
      "All good for frame : 406\n"
     ]
    },
    {
     "name": "stderr",
     "output_type": "stream",
     "text": [
      "\r",
      " 32%|███▏      | 406/1261 [18:47<40:36,  2.85s/it]"
     ]
    },
    {
     "name": "stdout",
     "output_type": "stream",
     "text": [
      "first coefficient diff : 6.886082491604288e-05 second coefficient diff : 0.10548617472187446\n",
      "fit pos : 251.27 px 1009.61 px\n",
      "fit distance : 758.35 px 4.01 m\n",
      "All good for frame : 407\n"
     ]
    },
    {
     "name": "stderr",
     "output_type": "stream",
     "text": [
      "\r",
      " 32%|███▏      | 407/1261 [18:50<40:30,  2.85s/it]"
     ]
    },
    {
     "name": "stdout",
     "output_type": "stream",
     "text": [
      "first coefficient diff : 3.1528103327433836e-05 second coefficient diff : 0.07500688644046029\n",
      "fit pos : 250.14 px 1010.65 px\n",
      "fit distance : 760.51 px 4.02 m\n",
      "All good for frame : 408\n"
     ]
    },
    {
     "name": "stderr",
     "output_type": "stream",
     "text": [
      "\r",
      " 32%|███▏      | 408/1261 [18:52<40:29,  2.85s/it]"
     ]
    },
    {
     "name": "stdout",
     "output_type": "stream",
     "text": [
      "first coefficient diff : 1.4532037541613572e-05 second coefficient diff : 0.06264773942873889\n",
      "fit pos : 248.49 px 1011.23 px\n",
      "fit distance : 762.75 px 4.03 m\n",
      "All good for frame : 409\n"
     ]
    },
    {
     "name": "stderr",
     "output_type": "stream",
     "text": [
      "\r",
      " 32%|███▏      | 409/1261 [18:55<40:41,  2.87s/it]"
     ]
    },
    {
     "name": "stdout",
     "output_type": "stream",
     "text": [
      "first coefficient diff : 1.1351712008549501e-05 second coefficient diff : 0.06866444062825305\n",
      "fit pos : 247.40 px 1008.16 px\n",
      "fit distance : 760.75 px 4.02 m\n",
      "All good for frame : 410\n"
     ]
    },
    {
     "name": "stderr",
     "output_type": "stream",
     "text": [
      "\r",
      " 33%|███▎      | 410/1261 [18:58<40:37,  2.86s/it]"
     ]
    },
    {
     "name": "stdout",
     "output_type": "stream",
     "text": [
      "first coefficient diff : 1.145809813414069e-05 second coefficient diff : 0.06306791963232716\n",
      "fit pos : 245.44 px 1006.94 px\n",
      "fit distance : 761.50 px 4.03 m\n",
      "All good for frame : 411\n"
     ]
    },
    {
     "name": "stderr",
     "output_type": "stream",
     "text": [
      "\r",
      " 33%|███▎      | 411/1261 [19:01<40:33,  2.86s/it]"
     ]
    },
    {
     "name": "stdout",
     "output_type": "stream",
     "text": [
      "first coefficient diff : 1.206014002116771e-05 second coefficient diff : 0.06679646920740948\n",
      "fit pos : 244.36 px 1004.23 px\n",
      "fit distance : 759.87 px 4.02 m\n",
      "All good for frame : 412\n"
     ]
    },
    {
     "name": "stderr",
     "output_type": "stream",
     "text": [
      "\r",
      " 33%|███▎      | 412/1261 [19:04<40:30,  2.86s/it]"
     ]
    },
    {
     "name": "stdout",
     "output_type": "stream",
     "text": [
      "first coefficient diff : 2.739384576040022e-05 second coefficient diff : 0.07032181735904207\n",
      "fit pos : 242.81 px 998.06 px\n",
      "fit distance : 755.26 px 3.99 m\n",
      "All good for frame : 413\n"
     ]
    },
    {
     "name": "stderr",
     "output_type": "stream",
     "text": [
      "\r",
      " 33%|███▎      | 413/1261 [19:07<40:25,  2.86s/it]"
     ]
    },
    {
     "name": "stdout",
     "output_type": "stream",
     "text": [
      "first coefficient diff : 3.112591452057293e-05 second coefficient diff : 0.026974571982072777\n",
      "fit pos : 242.04 px 1003.08 px\n",
      "fit distance : 761.04 px 4.02 m\n",
      "All good for frame : 414\n"
     ]
    },
    {
     "name": "stderr",
     "output_type": "stream",
     "text": [
      "\r",
      " 33%|███▎      | 414/1261 [19:10<40:23,  2.86s/it]"
     ]
    },
    {
     "name": "stdout",
     "output_type": "stream",
     "text": [
      "first coefficient diff : 9.801650288489618e-06 second coefficient diff : 0.08943372329342426\n",
      "fit pos : 240.56 px 1001.08 px\n",
      "fit distance : 760.52 px 4.02 m\n",
      "All good for frame : 415\n"
     ]
    },
    {
     "name": "stderr",
     "output_type": "stream",
     "text": [
      "\r",
      " 33%|███▎      | 415/1261 [19:13<40:35,  2.88s/it]"
     ]
    },
    {
     "name": "stdout",
     "output_type": "stream",
     "text": [
      "first coefficient diff : 1.6616817158686852e-07 second coefficient diff : 0.06570388830863695\n",
      "fit pos : 238.87 px 1001.42 px\n",
      "fit distance : 762.55 px 4.03 m\n",
      "All good for frame : 416\n"
     ]
    },
    {
     "name": "stderr",
     "output_type": "stream",
     "text": [
      "\r",
      " 33%|███▎      | 416/1261 [19:15<40:37,  2.88s/it]"
     ]
    },
    {
     "name": "stdout",
     "output_type": "stream",
     "text": [
      "first coefficient diff : 2.7045221180138992e-05 second coefficient diff : 0.10887641335529812\n",
      "fit pos : 238.06 px 998.43 px\n",
      "fit distance : 760.37 px 4.02 m\n",
      "All good for frame : 417\n"
     ]
    },
    {
     "name": "stderr",
     "output_type": "stream",
     "text": [
      "\r",
      " 33%|███▎      | 417/1261 [19:18<40:34,  2.88s/it]"
     ]
    },
    {
     "name": "stdout",
     "output_type": "stream",
     "text": [
      "first coefficient diff : 2.4631073764539848e-05 second coefficient diff : 0.094128931250351\n",
      "fit pos : 237.37 px 998.07 px\n",
      "fit distance : 760.69 px 4.02 m\n",
      "All good for frame : 418\n"
     ]
    },
    {
     "name": "stderr",
     "output_type": "stream",
     "text": [
      "\r",
      " 33%|███▎      | 418/1261 [19:21<40:39,  2.89s/it]"
     ]
    },
    {
     "name": "stdout",
     "output_type": "stream",
     "text": [
      "first coefficient diff : 6.679476255986018e-06 second coefficient diff : 0.07384307020488286\n",
      "fit pos : 237.27 px 1001.12 px\n",
      "fit distance : 763.85 px 4.04 m\n",
      "All good for frame : 419\n"
     ]
    },
    {
     "name": "stderr",
     "output_type": "stream",
     "text": [
      "\r",
      " 33%|███▎      | 419/1261 [19:24<40:38,  2.90s/it]"
     ]
    },
    {
     "name": "stdout",
     "output_type": "stream",
     "text": [
      "first coefficient diff : 3.8012177034306934e-05 second coefficient diff : 0.04941965618835596\n",
      "fit pos : 238.27 px 1001.36 px\n",
      "fit distance : 763.09 px 4.03 m\n",
      "All good for frame : 420\n"
     ]
    },
    {
     "name": "stderr",
     "output_type": "stream",
     "text": [
      "\r",
      " 33%|███▎      | 420/1261 [19:27<40:39,  2.90s/it]"
     ]
    },
    {
     "name": "stdout",
     "output_type": "stream",
     "text": [
      "first coefficient diff : 2.1342359221104082e-05 second coefficient diff : 0.058472603559015096\n",
      "fit pos : 237.84 px 999.52 px\n",
      "fit distance : 761.68 px 4.03 m\n",
      "All good for frame : 421\n"
     ]
    },
    {
     "name": "stderr",
     "output_type": "stream",
     "text": [
      "\r",
      " 33%|███▎      | 421/1261 [19:30<41:48,  2.99s/it]"
     ]
    },
    {
     "name": "stdout",
     "output_type": "stream",
     "text": [
      "first coefficient diff : 3.568480600168299e-05 second coefficient diff : 0.06757277413730428\n",
      "fit pos : 237.69 px 996.74 px\n",
      "fit distance : 759.05 px 4.01 m\n",
      "All good for frame : 422\n"
     ]
    },
    {
     "name": "stderr",
     "output_type": "stream",
     "text": [
      "\r",
      " 33%|███▎      | 422/1261 [19:33<41:56,  3.00s/it]"
     ]
    },
    {
     "name": "stdout",
     "output_type": "stream",
     "text": [
      "first coefficient diff : 6.294924709548174e-06 second coefficient diff : 0.06629149549759256\n",
      "fit pos : 236.99 px 993.18 px\n",
      "fit distance : 756.19 px 4.00 m\n",
      "All good for frame : 423\n"
     ]
    },
    {
     "name": "stderr",
     "output_type": "stream",
     "text": [
      "\r",
      " 34%|███▎      | 423/1261 [19:36<41:41,  2.99s/it]"
     ]
    },
    {
     "name": "stdout",
     "output_type": "stream",
     "text": [
      "first coefficient diff : 9.02897911208304e-06 second coefficient diff : 0.07314110829591584\n",
      "fit pos : 236.28 px 990.07 px\n",
      "fit distance : 753.80 px 3.98 m\n",
      "All good for frame : 424\n"
     ]
    },
    {
     "name": "stderr",
     "output_type": "stream",
     "text": [
      "\r",
      " 34%|███▎      | 424/1261 [19:39<41:23,  2.97s/it]"
     ]
    },
    {
     "name": "stdout",
     "output_type": "stream",
     "text": [
      "first coefficient diff : 4.013815230312076e-05 second coefficient diff : 0.07566602040095963\n",
      "fit pos : 236.32 px 979.88 px\n",
      "fit distance : 743.56 px 3.93 m\n",
      "All good for frame : 425\n"
     ]
    },
    {
     "name": "stderr",
     "output_type": "stream",
     "text": [
      "\r",
      " 34%|███▎      | 425/1261 [19:42<41:03,  2.95s/it]"
     ]
    },
    {
     "name": "stdout",
     "output_type": "stream",
     "text": [
      "first coefficient diff : 3.028515942189874e-05 second coefficient diff : 0.04421543919728382\n",
      "fit pos : 235.47 px 985.71 px\n",
      "fit distance : 750.24 px 3.97 m\n",
      "All good for frame : 426\n"
     ]
    },
    {
     "name": "stderr",
     "output_type": "stream",
     "text": [
      "\r",
      " 34%|███▍      | 426/1261 [19:45<40:55,  2.94s/it]"
     ]
    },
    {
     "name": "stdout",
     "output_type": "stream",
     "text": [
      "first coefficient diff : 7.267174501312355e-05 second coefficient diff : 0.0926441001233736\n",
      "fit pos : 235.77 px 982.78 px\n",
      "fit distance : 747.01 px 3.95 m\n",
      "All good for frame : 427\n"
     ]
    },
    {
     "name": "stderr",
     "output_type": "stream",
     "text": [
      "\r",
      " 34%|███▍      | 427/1261 [19:48<40:40,  2.93s/it]"
     ]
    },
    {
     "name": "stdout",
     "output_type": "stream",
     "text": [
      "first coefficient diff : 7.508433050520113e-05 second coefficient diff : 0.10556580355786882\n",
      "fit pos : 235.03 px 983.46 px\n",
      "fit distance : 748.43 px 3.96 m\n",
      "All good for frame : 428\n"
     ]
    },
    {
     "name": "stderr",
     "output_type": "stream",
     "text": [
      "\r",
      " 34%|███▍      | 428/1261 [19:51<40:32,  2.92s/it]"
     ]
    },
    {
     "name": "stdout",
     "output_type": "stream",
     "text": [
      "first coefficient diff : 9.040447733495555e-05 second coefficient diff : 0.1307146333844997\n",
      "fit pos : 234.64 px 980.93 px\n",
      "fit distance : 746.29 px 3.94 m\n",
      "All good for frame : 429\n"
     ]
    },
    {
     "name": "stderr",
     "output_type": "stream",
     "text": [
      "\r",
      " 34%|███▍      | 429/1261 [19:54<40:23,  2.91s/it]"
     ]
    },
    {
     "name": "stdout",
     "output_type": "stream",
     "text": [
      "first coefficient diff : 7.640772007681031e-05 second coefficient diff : 0.11528808774255449\n",
      "fit pos : 233.55 px 980.67 px\n",
      "fit distance : 747.12 px 3.95 m\n",
      "All good for frame : 430\n"
     ]
    },
    {
     "name": "stderr",
     "output_type": "stream",
     "text": [
      "\r",
      " 34%|███▍      | 430/1261 [19:57<40:18,  2.91s/it]"
     ]
    },
    {
     "name": "stdout",
     "output_type": "stream",
     "text": [
      "first coefficient diff : 6.662650908105408e-05 second coefficient diff : 0.09000373646418448\n",
      "fit pos : 232.24 px 985.63 px\n",
      "fit distance : 753.39 px 3.98 m\n",
      "All good for frame : 431\n"
     ]
    },
    {
     "name": "stderr",
     "output_type": "stream",
     "text": [
      "\r",
      " 34%|███▍      | 431/1261 [20:00<40:10,  2.90s/it]"
     ]
    },
    {
     "name": "stdout",
     "output_type": "stream",
     "text": [
      "first coefficient diff : 7.06760009099893e-05 second coefficient diff : 0.10510176280768126\n",
      "fit pos : 231.56 px 987.54 px\n",
      "fit distance : 755.97 px 4.00 m\n",
      "All good for frame : 432\n"
     ]
    },
    {
     "name": "stderr",
     "output_type": "stream",
     "text": [
      "\r",
      " 34%|███▍      | 432/1261 [20:02<40:06,  2.90s/it]"
     ]
    },
    {
     "name": "stdout",
     "output_type": "stream",
     "text": [
      "first coefficient diff : 2.97712043840406e-05 second coefficient diff : 0.04942733680459589\n",
      "fit pos : 229.43 px 993.91 px\n",
      "fit distance : 764.49 px 4.04 m\n",
      "All good for frame : 433\n"
     ]
    },
    {
     "name": "stderr",
     "output_type": "stream",
     "text": [
      "\r",
      " 34%|███▍      | 433/1261 [20:05<40:05,  2.91s/it]"
     ]
    },
    {
     "name": "stdout",
     "output_type": "stream",
     "text": [
      "first coefficient diff : 4.003784720955919e-05 second coefficient diff : 0.07040707161874454\n",
      "fit pos : 228.39 px 991.45 px\n",
      "fit distance : 763.06 px 4.03 m\n",
      "All good for frame : 434\n"
     ]
    },
    {
     "name": "stderr",
     "output_type": "stream",
     "text": [
      "\r",
      " 34%|███▍      | 434/1261 [20:08<40:03,  2.91s/it]"
     ]
    },
    {
     "name": "stdout",
     "output_type": "stream",
     "text": [
      "first coefficient diff : 3.657377716860583e-05 second coefficient diff : 0.07057992282151117\n",
      "fit pos : 227.63 px 991.27 px\n",
      "fit distance : 763.64 px 4.04 m\n",
      "All good for frame : 435\n"
     ]
    },
    {
     "name": "stderr",
     "output_type": "stream",
     "text": [
      "\r",
      " 34%|███▍      | 435/1261 [20:11<39:55,  2.90s/it]"
     ]
    },
    {
     "name": "stdout",
     "output_type": "stream",
     "text": [
      "first coefficient diff : 2.5270573793173274e-05 second coefficient diff : 0.06935267847039253\n",
      "fit pos : 226.01 px 987.50 px\n",
      "fit distance : 761.50 px 4.03 m\n",
      "All good for frame : 436\n"
     ]
    },
    {
     "name": "stderr",
     "output_type": "stream",
     "text": [
      "\r",
      " 35%|███▍      | 436/1261 [20:14<39:47,  2.89s/it]"
     ]
    },
    {
     "name": "stdout",
     "output_type": "stream",
     "text": [
      "first coefficient diff : 5.968231864827763e-05 second coefficient diff : 0.12859398378703368\n",
      "fit pos : 225.70 px 980.51 px\n",
      "fit distance : 754.81 px 3.99 m\n",
      "All good for frame : 437\n"
     ]
    },
    {
     "name": "stderr",
     "output_type": "stream",
     "text": [
      "\r",
      " 35%|███▍      | 437/1261 [20:17<39:46,  2.90s/it]"
     ]
    },
    {
     "name": "stdout",
     "output_type": "stream",
     "text": [
      "first coefficient diff : 0.00015627954522819693 second coefficient diff : 0.18715587916193807\n",
      "fit pos : 224.08 px 973.53 px\n",
      "fit distance : 749.44 px 3.96 m\n",
      "All good for frame : 438\n"
     ]
    },
    {
     "name": "stderr",
     "output_type": "stream",
     "text": [
      "\r",
      " 35%|███▍      | 438/1261 [20:20<39:37,  2.89s/it]"
     ]
    },
    {
     "name": "stdout",
     "output_type": "stream",
     "text": [
      "first coefficient diff : 0.000130235971525383 second coefficient diff : 0.21311660517922015\n",
      "fit pos : 224.43 px 977.38 px\n",
      "fit distance : 752.95 px 3.98 m\n",
      "All good for frame : 439\n"
     ]
    },
    {
     "name": "stderr",
     "output_type": "stream",
     "text": [
      "\r",
      " 35%|███▍      | 439/1261 [20:23<39:28,  2.88s/it]"
     ]
    },
    {
     "name": "stdout",
     "output_type": "stream",
     "text": [
      "first coefficient diff : 8.371679924295308e-05 second coefficient diff : 0.20909523329011342\n",
      "fit pos : 225.39 px 980.49 px\n",
      "fit distance : 755.10 px 3.99 m\n",
      "All good for frame : 440\n"
     ]
    },
    {
     "name": "stderr",
     "output_type": "stream",
     "text": [
      "\r",
      " 35%|███▍      | 440/1261 [20:25<39:20,  2.88s/it]"
     ]
    },
    {
     "name": "stdout",
     "output_type": "stream",
     "text": [
      "first coefficient diff : 6.119351280766947e-05 second coefficient diff : 0.1777375290745049\n",
      "fit pos : 222.55 px 982.60 px\n",
      "fit distance : 760.05 px 4.02 m\n",
      "All good for frame : 441\n"
     ]
    },
    {
     "name": "stderr",
     "output_type": "stream",
     "text": [
      "\r",
      " 35%|███▍      | 441/1261 [20:28<39:19,  2.88s/it]"
     ]
    },
    {
     "name": "stdout",
     "output_type": "stream",
     "text": [
      "first coefficient diff : 8.142766059321773e-05 second coefficient diff : 0.19565654061063992\n",
      "fit pos : 222.40 px 982.77 px\n",
      "fit distance : 760.37 px 4.02 m\n",
      "All good for frame : 442\n"
     ]
    },
    {
     "name": "stderr",
     "output_type": "stream",
     "text": [
      "\r",
      " 35%|███▌      | 442/1261 [20:31<39:16,  2.88s/it]"
     ]
    },
    {
     "name": "stdout",
     "output_type": "stream",
     "text": [
      "first coefficient diff : 7.000793676151956e-05 second coefficient diff : 0.14058635495137245\n",
      "fit pos : 218.97 px 987.34 px\n",
      "fit distance : 768.38 px 4.06 m\n",
      "All good for frame : 443\n"
     ]
    },
    {
     "name": "stderr",
     "output_type": "stream",
     "text": [
      "\r",
      " 35%|███▌      | 443/1261 [20:34<39:12,  2.88s/it]"
     ]
    },
    {
     "name": "stdout",
     "output_type": "stream",
     "text": [
      "first coefficient diff : 4.705298513792465e-05 second coefficient diff : 0.13310040158026978\n",
      "fit pos : 216.77 px 988.56 px\n",
      "fit distance : 771.79 px 4.08 m\n",
      "All good for frame : 444\n"
     ]
    },
    {
     "name": "stderr",
     "output_type": "stream",
     "text": [
      "\r",
      " 35%|███▌      | 444/1261 [20:37<39:12,  2.88s/it]"
     ]
    },
    {
     "name": "stdout",
     "output_type": "stream",
     "text": [
      "first coefficient diff : 3.464717327715483e-05 second coefficient diff : 0.11502362980232828\n",
      "fit pos : 214.54 px 990.37 px\n",
      "fit distance : 775.84 px 4.10 m\n",
      "All good for frame : 445\n"
     ]
    },
    {
     "name": "stderr",
     "output_type": "stream",
     "text": [
      "\r",
      " 35%|███▌      | 445/1261 [20:40<39:12,  2.88s/it]"
     ]
    },
    {
     "name": "stdout",
     "output_type": "stream",
     "text": [
      "first coefficient diff : 5.829302002311529e-05 second coefficient diff : 0.15453213974378227\n",
      "fit pos : 213.10 px 988.73 px\n",
      "fit distance : 775.62 px 4.10 m\n",
      "All good for frame : 446\n"
     ]
    },
    {
     "name": "stderr",
     "output_type": "stream",
     "text": [
      "\r",
      " 35%|███▌      | 446/1261 [20:43<39:07,  2.88s/it]"
     ]
    },
    {
     "name": "stdout",
     "output_type": "stream",
     "text": [
      "first coefficient diff : 3.439386522395313e-05 second coefficient diff : 0.164751494783648\n",
      "fit pos : 212.21 px 986.23 px\n",
      "fit distance : 774.02 px 4.09 m\n",
      "All good for frame : 447\n"
     ]
    },
    {
     "name": "stderr",
     "output_type": "stream",
     "text": [
      "\r",
      " 35%|███▌      | 447/1261 [20:46<38:58,  2.87s/it]"
     ]
    },
    {
     "name": "stdout",
     "output_type": "stream",
     "text": [
      "first coefficient diff : 1.3019707348162275e-05 second coefficient diff : 0.14859071698018145\n",
      "fit pos : 210.05 px 987.88 px\n",
      "fit distance : 777.84 px 4.11 m\n",
      "All good for frame : 448\n"
     ]
    },
    {
     "name": "stderr",
     "output_type": "stream",
     "text": [
      "\r",
      " 36%|███▌      | 448/1261 [20:48<38:48,  2.86s/it]"
     ]
    },
    {
     "name": "stdout",
     "output_type": "stream",
     "text": [
      "first coefficient diff : 9.408775555214317e-05 second coefficient diff : 0.23161188834098775\n",
      "fit pos : 211.20 px 979.01 px\n",
      "fit distance : 767.81 px 4.06 m\n",
      "All good for frame : 449\n"
     ]
    },
    {
     "name": "stderr",
     "output_type": "stream",
     "text": [
      "\r",
      " 36%|███▌      | 449/1261 [20:51<38:38,  2.86s/it]"
     ]
    },
    {
     "name": "stdout",
     "output_type": "stream",
     "text": [
      "first coefficient diff : 0.00010287517113048265 second coefficient diff : 0.22979469467519148\n",
      "fit pos : 210.30 px 976.48 px\n",
      "fit distance : 766.18 px 4.05 m\n",
      "All good for frame : 450\n"
     ]
    },
    {
     "name": "stderr",
     "output_type": "stream",
     "text": [
      "\r",
      " 36%|███▌      | 450/1261 [20:54<38:33,  2.85s/it]"
     ]
    },
    {
     "name": "stdout",
     "output_type": "stream",
     "text": [
      "first coefficient diff : 4.562055691937969e-05 second coefficient diff : 0.1882301913594122\n",
      "fit pos : 209.60 px 980.90 px\n",
      "fit distance : 771.29 px 4.08 m\n",
      "All good for frame : 451\n"
     ]
    },
    {
     "name": "stderr",
     "output_type": "stream",
     "text": [
      "\r",
      " 36%|███▌      | 451/1261 [20:57<39:32,  2.93s/it]"
     ]
    },
    {
     "name": "stdout",
     "output_type": "stream",
     "text": [
      "first coefficient diff : 2.036565941645237e-05 second coefficient diff : 0.16364038851522755\n",
      "fit pos : 209.55 px 983.15 px\n",
      "fit distance : 773.59 px 4.09 m\n",
      "All good for frame : 452\n"
     ]
    },
    {
     "name": "stderr",
     "output_type": "stream",
     "text": [
      "\r",
      " 36%|███▌      | 452/1261 [21:00<39:34,  2.94s/it]"
     ]
    },
    {
     "name": "stdout",
     "output_type": "stream",
     "text": [
      "first coefficient diff : 4.311931420586078e-06 second coefficient diff : 0.14003402358536896\n",
      "fit pos : 207.83 px 985.62 px\n",
      "fit distance : 777.79 px 4.11 m\n",
      "All good for frame : 453\n"
     ]
    },
    {
     "name": "stderr",
     "output_type": "stream",
     "text": [
      "\r",
      " 36%|███▌      | 453/1261 [21:03<39:19,  2.92s/it]"
     ]
    },
    {
     "name": "stdout",
     "output_type": "stream",
     "text": [
      "first coefficient diff : 3.005025073462657e-05 second coefficient diff : 0.13357666466298726\n",
      "fit pos : 211.94 px 987.38 px\n",
      "fit distance : 775.44 px 4.10 m\n",
      "All good for frame : 454\n"
     ]
    },
    {
     "name": "stderr",
     "output_type": "stream",
     "text": [
      "\r",
      " 36%|███▌      | 454/1261 [21:06<39:02,  2.90s/it]"
     ]
    },
    {
     "name": "stdout",
     "output_type": "stream",
     "text": [
      "first coefficient diff : 3.467385716907502e-05 second coefficient diff : 0.12319124097664627\n",
      "fit pos : 212.10 px 986.66 px\n",
      "fit distance : 774.55 px 4.09 m\n",
      "All good for frame : 455\n"
     ]
    },
    {
     "name": "stderr",
     "output_type": "stream",
     "text": [
      "\r",
      " 36%|███▌      | 455/1261 [21:09<38:41,  2.88s/it]"
     ]
    },
    {
     "name": "stdout",
     "output_type": "stream",
     "text": [
      "first coefficient diff : 5.0302086125092376e-05 second coefficient diff : 0.10702990364704569\n",
      "fit pos : 212.97 px 988.17 px\n",
      "fit distance : 775.21 px 4.10 m\n",
      "All good for frame : 456\n"
     ]
    },
    {
     "name": "stderr",
     "output_type": "stream",
     "text": [
      "\r",
      " 36%|███▌      | 456/1261 [21:12<38:56,  2.90s/it]"
     ]
    },
    {
     "name": "stdout",
     "output_type": "stream",
     "text": [
      "first coefficient diff : 5.010133998839116e-05 second coefficient diff : 0.10928727391894234\n",
      "fit pos : 215.46 px 989.03 px\n",
      "fit distance : 773.57 px 4.09 m\n",
      "All good for frame : 457\n"
     ]
    },
    {
     "name": "stderr",
     "output_type": "stream",
     "text": [
      "\r",
      " 36%|███▌      | 457/1261 [21:15<38:41,  2.89s/it]"
     ]
    },
    {
     "name": "stdout",
     "output_type": "stream",
     "text": [
      "first coefficient diff : 4.42617093810835e-05 second coefficient diff : 0.11025716876417699\n",
      "fit pos : 215.77 px 989.66 px\n",
      "fit distance : 773.89 px 4.09 m\n",
      "All good for frame : 458\n"
     ]
    },
    {
     "name": "stderr",
     "output_type": "stream",
     "text": [
      "\r",
      " 36%|███▋      | 458/1261 [21:17<38:27,  2.87s/it]"
     ]
    },
    {
     "name": "stdout",
     "output_type": "stream",
     "text": [
      "first coefficient diff : 3.6533897537161655e-05 second coefficient diff : 0.13425852364260146\n",
      "fit pos : 219.63 px 986.97 px\n",
      "fit distance : 767.34 px 4.06 m\n",
      "All good for frame : 459\n"
     ]
    },
    {
     "name": "stderr",
     "output_type": "stream",
     "text": [
      "\r",
      " 36%|███▋      | 459/1261 [21:20<38:15,  2.86s/it]"
     ]
    },
    {
     "name": "stdout",
     "output_type": "stream",
     "text": [
      "first coefficient diff : 9.822843867792638e-05 second coefficient diff : 0.06852643382654469\n",
      "fit pos : 217.87 px 988.52 px\n",
      "fit distance : 770.65 px 4.07 m\n",
      "All good for frame : 460\n"
     ]
    },
    {
     "name": "stderr",
     "output_type": "stream",
     "text": [
      "\r",
      " 36%|███▋      | 460/1261 [21:23<38:09,  2.86s/it]"
     ]
    },
    {
     "name": "stdout",
     "output_type": "stream",
     "text": [
      "first coefficient diff : 7.834988692262583e-05 second coefficient diff : 0.08252225577624664\n",
      "fit pos : 219.15 px 987.22 px\n",
      "fit distance : 768.07 px 4.06 m\n",
      "All good for frame : 461\n"
     ]
    },
    {
     "name": "stderr",
     "output_type": "stream",
     "text": [
      "\r",
      " 37%|███▋      | 461/1261 [21:26<38:01,  2.85s/it]"
     ]
    },
    {
     "name": "stdout",
     "output_type": "stream",
     "text": [
      "first coefficient diff : 6.764034400055136e-05 second coefficient diff : 0.07201010641220326\n",
      "fit pos : 216.02 px 987.44 px\n",
      "fit distance : 771.42 px 4.08 m\n",
      "All good for frame : 462\n"
     ]
    },
    {
     "name": "stderr",
     "output_type": "stream",
     "text": [
      "\r",
      " 37%|███▋      | 462/1261 [21:29<37:58,  2.85s/it]"
     ]
    },
    {
     "name": "stdout",
     "output_type": "stream",
     "text": [
      "first coefficient diff : 8.769828557844014e-05 second coefficient diff : 0.038167908434087516\n",
      "fit pos : 214.35 px 992.30 px\n",
      "fit distance : 777.94 px 4.11 m\n",
      "All good for frame : 463\n"
     ]
    },
    {
     "name": "stderr",
     "output_type": "stream",
     "text": [
      "\r",
      " 37%|███▋      | 463/1261 [21:32<37:54,  2.85s/it]"
     ]
    },
    {
     "name": "stdout",
     "output_type": "stream",
     "text": [
      "first coefficient diff : 0.00013780382684468228 second coefficient diff : 0.01469111908598823\n",
      "fit pos : 218.42 px 992.82 px\n",
      "fit distance : 774.40 px 4.09 m\n",
      "All good for frame : 464\n"
     ]
    },
    {
     "name": "stderr",
     "output_type": "stream",
     "text": [
      "\r",
      " 37%|███▋      | 464/1261 [21:35<37:51,  2.85s/it]"
     ]
    },
    {
     "name": "stdout",
     "output_type": "stream",
     "text": [
      "first coefficient diff : 0.00016898421425023822 second coefficient diff : 0.018015347495334646\n",
      "fit pos : 218.52 px 995.07 px\n",
      "fit distance : 776.55 px 4.10 m\n",
      "All good for frame : 465\n"
     ]
    },
    {
     "name": "stderr",
     "output_type": "stream",
     "text": [
      "\r",
      " 37%|███▋      | 465/1261 [21:37<37:50,  2.85s/it]"
     ]
    },
    {
     "name": "stdout",
     "output_type": "stream",
     "text": [
      "first coefficient diff : 0.00018530931636472487 second coefficient diff : 0.02481176839684973\n",
      "fit pos : 221.56 px 993.96 px\n",
      "fit distance : 772.40 px 4.08 m\n",
      "All good for frame : 466\n"
     ]
    },
    {
     "name": "stderr",
     "output_type": "stream",
     "text": [
      "\r",
      " 37%|███▋      | 466/1261 [21:40<37:49,  2.85s/it]"
     ]
    },
    {
     "name": "stdout",
     "output_type": "stream",
     "text": [
      "first coefficient diff : 0.00017722669994133246 second coefficient diff : 0.028070976444768525\n",
      "fit pos : 221.52 px 992.95 px\n",
      "fit distance : 771.43 px 4.08 m\n",
      "All good for frame : 467\n"
     ]
    },
    {
     "name": "stderr",
     "output_type": "stream",
     "text": [
      "\r",
      " 37%|███▋      | 467/1261 [21:43<37:53,  2.86s/it]"
     ]
    },
    {
     "name": "stdout",
     "output_type": "stream",
     "text": [
      "first coefficient diff : 0.00017167827606437116 second coefficient diff : 0.02966427626175109\n",
      "fit pos : 222.38 px 992.37 px\n",
      "fit distance : 769.99 px 4.07 m\n",
      "All good for frame : 468\n"
     ]
    },
    {
     "name": "stderr",
     "output_type": "stream",
     "text": [
      "\r",
      " 37%|███▋      | 468/1261 [21:46<37:56,  2.87s/it]"
     ]
    },
    {
     "name": "stdout",
     "output_type": "stream",
     "text": [
      "first coefficient diff : 0.000179931019633633 second coefficient diff : 0.041246160904567564\n",
      "fit pos : 223.23 px 991.80 px\n",
      "fit distance : 768.56 px 4.06 m\n",
      "All good for frame : 469\n"
     ]
    },
    {
     "name": "stderr",
     "output_type": "stream",
     "text": [
      "\r",
      " 37%|███▋      | 469/1261 [21:49<37:57,  2.88s/it]"
     ]
    },
    {
     "name": "stdout",
     "output_type": "stream",
     "text": [
      "first coefficient diff : 0.00018216376049504546 second coefficient diff : 0.0717638121652383\n",
      "fit pos : 220.84 px 993.98 px\n",
      "fit distance : 773.14 px 4.09 m\n",
      "All good for frame : 470\n"
     ]
    },
    {
     "name": "stderr",
     "output_type": "stream",
     "text": [
      "\r",
      " 37%|███▋      | 470/1261 [21:52<37:57,  2.88s/it]"
     ]
    },
    {
     "name": "stdout",
     "output_type": "stream",
     "text": [
      "first coefficient diff : 0.00014147557885684658 second coefficient diff : 0.02312171840183848\n",
      "fit pos : 223.03 px 988.28 px\n",
      "fit distance : 765.26 px 4.04 m\n",
      "All good for frame : 471\n"
     ]
    },
    {
     "name": "stderr",
     "output_type": "stream",
     "text": [
      "\r",
      " 37%|███▋      | 471/1261 [21:55<37:53,  2.88s/it]"
     ]
    },
    {
     "name": "stdout",
     "output_type": "stream",
     "text": [
      "first coefficient diff : 0.00011757685790740163 second coefficient diff : 0.02106566743392986\n",
      "fit pos : 223.49 px 985.10 px\n",
      "fit distance : 761.60 px 4.03 m\n",
      "All good for frame : 472\n"
     ]
    },
    {
     "name": "stderr",
     "output_type": "stream",
     "text": [
      "\r",
      " 37%|███▋      | 472/1261 [21:58<37:44,  2.87s/it]"
     ]
    },
    {
     "name": "stdout",
     "output_type": "stream",
     "text": [
      "first coefficient diff : 8.769242713825928e-05 second coefficient diff : 0.005777148272377788\n",
      "fit pos : 225.81 px 983.14 px\n",
      "fit distance : 757.33 px 4.00 m\n",
      "All good for frame : 473\n"
     ]
    },
    {
     "name": "stderr",
     "output_type": "stream",
     "text": [
      "\r",
      " 38%|███▊      | 473/1261 [22:00<37:38,  2.87s/it]"
     ]
    },
    {
     "name": "stdout",
     "output_type": "stream",
     "text": [
      "first coefficient diff : 9.583598708635308e-06 second coefficient diff : 0.08248566566503206\n",
      "fit pos : 227.32 px 974.64 px\n",
      "fit distance : 747.32 px 3.95 m\n",
      "All good for frame : 474\n"
     ]
    },
    {
     "name": "stderr",
     "output_type": "stream",
     "text": [
      "\r",
      " 38%|███▊      | 474/1261 [22:03<37:36,  2.87s/it]"
     ]
    },
    {
     "name": "stdout",
     "output_type": "stream",
     "text": [
      "first coefficient diff : 3.858730030293822e-05 second coefficient diff : 0.08378569909326039\n",
      "fit pos : 227.26 px 980.53 px\n",
      "fit distance : 753.27 px 3.98 m\n",
      "All good for frame : 475\n"
     ]
    },
    {
     "name": "stderr",
     "output_type": "stream",
     "text": [
      "\r",
      " 38%|███▊      | 475/1261 [22:06<37:34,  2.87s/it]"
     ]
    },
    {
     "name": "stdout",
     "output_type": "stream",
     "text": [
      "first coefficient diff : 4.855213211419023e-06 second coefficient diff : 0.0637385254094937\n",
      "fit pos : 228.56 px 983.75 px\n",
      "fit distance : 755.19 px 3.99 m\n",
      "All good for frame : 476\n"
     ]
    },
    {
     "name": "stderr",
     "output_type": "stream",
     "text": [
      "\r",
      " 38%|███▊      | 476/1261 [22:09<37:33,  2.87s/it]"
     ]
    },
    {
     "name": "stdout",
     "output_type": "stream",
     "text": [
      "first coefficient diff : 5.938316921773453e-06 second coefficient diff : 0.04942832847427934\n",
      "fit pos : 228.45 px 989.32 px\n",
      "fit distance : 760.88 px 4.02 m\n",
      "All good for frame : 477\n"
     ]
    },
    {
     "name": "stderr",
     "output_type": "stream",
     "text": [
      "\r",
      " 38%|███▊      | 477/1261 [22:12<37:33,  2.87s/it]"
     ]
    },
    {
     "name": "stdout",
     "output_type": "stream",
     "text": [
      "first coefficient diff : 1.2292183856273186e-06 second coefficient diff : 0.03704679225434682\n",
      "fit pos : 229.18 px 993.89 px\n",
      "fit distance : 764.70 px 4.04 m\n",
      "All good for frame : 478\n"
     ]
    },
    {
     "name": "stderr",
     "output_type": "stream",
     "text": [
      "\r",
      " 38%|███▊      | 478/1261 [22:15<37:34,  2.88s/it]"
     ]
    },
    {
     "name": "stdout",
     "output_type": "stream",
     "text": [
      "first coefficient diff : 1.1642812132867871e-05 second coefficient diff : 0.020757213821795774\n",
      "fit pos : 229.03 px 996.10 px\n",
      "fit distance : 767.08 px 4.05 m\n",
      "All good for frame : 479\n"
     ]
    },
    {
     "name": "stderr",
     "output_type": "stream",
     "text": [
      "\r",
      " 38%|███▊      | 479/1261 [22:18<37:36,  2.89s/it]"
     ]
    },
    {
     "name": "stdout",
     "output_type": "stream",
     "text": [
      "first coefficient diff : 9.400842139615578e-06 second coefficient diff : 0.01846471506596751\n",
      "fit pos : 227.95 px 997.98 px\n",
      "fit distance : 770.04 px 4.07 m\n",
      "All good for frame : 480\n"
     ]
    },
    {
     "name": "stderr",
     "output_type": "stream",
     "text": [
      "\r",
      " 38%|███▊      | 480/1261 [22:21<37:46,  2.90s/it]"
     ]
    },
    {
     "name": "stdout",
     "output_type": "stream",
     "text": [
      "first coefficient diff : 7.666730616434544e-06 second coefficient diff : 0.019395732532167708\n",
      "fit pos : 226.99 px 998.14 px\n",
      "fit distance : 771.14 px 4.08 m\n",
      "All good for frame : 481\n"
     ]
    },
    {
     "name": "stderr",
     "output_type": "stream",
     "text": [
      "\r",
      " 38%|███▊      | 481/1261 [22:24<39:04,  3.01s/it]"
     ]
    },
    {
     "name": "stdout",
     "output_type": "stream",
     "text": [
      "first coefficient diff : 1.8621645935235e-05 second coefficient diff : 0.0262378670333501\n",
      "fit pos : 224.33 px 999.06 px\n",
      "fit distance : 774.73 px 4.09 m\n",
      "All good for frame : 482\n"
     ]
    },
    {
     "name": "stderr",
     "output_type": "stream",
     "text": [
      "\r",
      " 38%|███▊      | 482/1261 [22:27<39:02,  3.01s/it]"
     ]
    },
    {
     "name": "stdout",
     "output_type": "stream",
     "text": [
      "first coefficient diff : 3.18025300637676e-05 second coefficient diff : 0.02929491446481182\n",
      "fit pos : 223.02 px 999.90 px\n",
      "fit distance : 776.88 px 4.11 m\n",
      "All good for frame : 483\n"
     ]
    },
    {
     "name": "stderr",
     "output_type": "stream",
     "text": [
      "\r",
      " 38%|███▊      | 483/1261 [22:30<38:38,  2.98s/it]"
     ]
    },
    {
     "name": "stdout",
     "output_type": "stream",
     "text": [
      "first coefficient diff : 7.917715053908368e-06 second coefficient diff : 0.020718103561442505\n",
      "fit pos : 222.18 px 1001.38 px\n",
      "fit distance : 779.20 px 4.12 m\n",
      "All good for frame : 484\n"
     ]
    },
    {
     "name": "stderr",
     "output_type": "stream",
     "text": [
      "\r",
      " 38%|███▊      | 484/1261 [22:33<38:13,  2.95s/it]"
     ]
    },
    {
     "name": "stdout",
     "output_type": "stream",
     "text": [
      "first coefficient diff : 6.998156343790666e-05 second coefficient diff : 0.012003085128587042\n",
      "fit pos : 220.89 px 1012.43 px\n",
      "fit distance : 791.53 px 4.18 m\n",
      "All good for frame : 485\n"
     ]
    },
    {
     "name": "stderr",
     "output_type": "stream",
     "text": [
      "\r",
      " 38%|███▊      | 485/1261 [22:36<37:47,  2.92s/it]"
     ]
    },
    {
     "name": "stdout",
     "output_type": "stream",
     "text": [
      "first coefficient diff : 0.0002061498634655779 second coefficient diff : 0.08760596114931066\n",
      "fit pos : 220.47 px 1020.46 px\n",
      "fit distance : 799.99 px 4.23 m\n",
      "All good for frame : 486\n"
     ]
    },
    {
     "name": "stderr",
     "output_type": "stream",
     "text": [
      "\r",
      " 39%|███▊      | 486/1261 [22:38<37:30,  2.90s/it]"
     ]
    },
    {
     "name": "stdout",
     "output_type": "stream",
     "text": [
      "first coefficient diff : 4.685381752105391e-06 second coefficient diff : 0.08001977372405301\n",
      "fit pos : 220.14 px 999.51 px\n",
      "fit distance : 779.37 px 4.12 m\n",
      "All good for frame : 487\n"
     ]
    },
    {
     "name": "stderr",
     "output_type": "stream",
     "text": [
      "\r",
      " 39%|███▊      | 487/1261 [22:41<37:19,  2.89s/it]"
     ]
    },
    {
     "name": "stdout",
     "output_type": "stream",
     "text": [
      "first coefficient diff : 9.562317732827408e-06 second coefficient diff : 0.10775537611568697\n",
      "fit pos : 221.44 px 995.36 px\n",
      "fit distance : 773.92 px 4.09 m\n",
      "All good for frame : 488\n"
     ]
    },
    {
     "name": "stderr",
     "output_type": "stream",
     "text": [
      "\r",
      " 39%|███▊      | 488/1261 [22:44<37:13,  2.89s/it]"
     ]
    },
    {
     "name": "stdout",
     "output_type": "stream",
     "text": [
      "first coefficient diff : 5.0823620432860515e-05 second coefficient diff : 0.07378659115563965\n",
      "fit pos : 223.72 px 998.74 px\n",
      "fit distance : 775.02 px 4.10 m\n",
      "All good for frame : 489\n"
     ]
    },
    {
     "name": "stderr",
     "output_type": "stream",
     "text": [
      "\r",
      " 39%|███▉      | 489/1261 [22:47<37:09,  2.89s/it]"
     ]
    },
    {
     "name": "stdout",
     "output_type": "stream",
     "text": [
      "first coefficient diff : 7.660992809381581e-05 second coefficient diff : 0.049562649618734154\n",
      "fit pos : 223.48 px 1000.80 px\n",
      "fit distance : 777.32 px 4.11 m\n",
      "All good for frame : 490\n"
     ]
    },
    {
     "name": "stderr",
     "output_type": "stream",
     "text": [
      "\r",
      " 39%|███▉      | 490/1261 [22:50<37:08,  2.89s/it]"
     ]
    },
    {
     "name": "stdout",
     "output_type": "stream",
     "text": [
      "first coefficient diff : 4.715390438397647e-05 second coefficient diff : 0.0779751050624454\n",
      "fit pos : 225.09 px 998.68 px\n",
      "fit distance : 773.59 px 4.09 m\n",
      "All good for frame : 491\n"
     ]
    },
    {
     "name": "stderr",
     "output_type": "stream",
     "text": [
      "\r",
      " 39%|███▉      | 491/1261 [22:53<37:06,  2.89s/it]"
     ]
    },
    {
     "name": "stdout",
     "output_type": "stream",
     "text": [
      "first coefficient diff : 8.75130718440005e-05 second coefficient diff : 0.02613872778352921\n",
      "fit pos : 223.15 px 1002.52 px\n",
      "fit distance : 779.38 px 4.12 m\n",
      "All good for frame : 492\n"
     ]
    },
    {
     "name": "stderr",
     "output_type": "stream",
     "text": [
      "\r",
      " 39%|███▉      | 492/1261 [22:56<37:19,  2.91s/it]"
     ]
    },
    {
     "name": "stdout",
     "output_type": "stream",
     "text": [
      "first coefficient diff : 0.00010073910512580381 second coefficient diff : 0.01558725159004239\n",
      "fit pos : 222.51 px 1002.83 px\n",
      "fit distance : 780.33 px 4.12 m\n",
      "All good for frame : 493\n"
     ]
    },
    {
     "name": "stderr",
     "output_type": "stream",
     "text": [
      "\r",
      " 39%|███▉      | 493/1261 [22:59<37:23,  2.92s/it]"
     ]
    },
    {
     "name": "stdout",
     "output_type": "stream",
     "text": [
      "first coefficient diff : 7.795078173544235e-05 second coefficient diff : 0.01382195140611306\n",
      "fit pos : 222.22 px 1004.96 px\n",
      "fit distance : 782.74 px 4.14 m\n",
      "All good for frame : 494\n"
     ]
    },
    {
     "name": "stderr",
     "output_type": "stream",
     "text": [
      "\r",
      " 39%|███▉      | 494/1261 [23:02<37:22,  2.92s/it]"
     ]
    },
    {
     "name": "stdout",
     "output_type": "stream",
     "text": [
      "first coefficient diff : 7.512397670457635e-05 second coefficient diff : 0.010271679299028726\n",
      "fit pos : 222.19 px 1006.94 px\n",
      "fit distance : 784.75 px 4.15 m\n",
      "All good for frame : 495\n"
     ]
    },
    {
     "name": "stderr",
     "output_type": "stream",
     "text": [
      "\r",
      " 39%|███▉      | 495/1261 [23:05<37:17,  2.92s/it]"
     ]
    },
    {
     "name": "stdout",
     "output_type": "stream",
     "text": [
      "first coefficient diff : 9.451651606060991e-05 second coefficient diff : 0.0021676744006580402\n",
      "fit pos : 222.05 px 1007.56 px\n",
      "fit distance : 785.51 px 4.15 m\n",
      "All good for frame : 496\n"
     ]
    },
    {
     "name": "stderr",
     "output_type": "stream",
     "text": [
      "\r",
      " 39%|███▉      | 496/1261 [23:07<37:12,  2.92s/it]"
     ]
    },
    {
     "name": "stdout",
     "output_type": "stream",
     "text": [
      "first coefficient diff : 0.00015790122881699249 second coefficient diff : 0.034722276472933904\n",
      "fit pos : 222.19 px 1017.31 px\n",
      "fit distance : 795.12 px 4.20 m\n",
      "All good for frame : 497\n"
     ]
    },
    {
     "name": "stderr",
     "output_type": "stream",
     "text": [
      "\r",
      " 39%|███▉      | 497/1261 [23:10<37:10,  2.92s/it]"
     ]
    },
    {
     "name": "stdout",
     "output_type": "stream",
     "text": [
      "first coefficient diff : 0.00021160191773954978 second coefficient diff : 0.05891631469618349\n",
      "fit pos : 222.58 px 1019.23 px\n",
      "fit distance : 796.65 px 4.21 m\n",
      "All good for frame : 498\n"
     ]
    },
    {
     "name": "stderr",
     "output_type": "stream",
     "text": [
      "\r",
      " 39%|███▉      | 498/1261 [23:13<37:24,  2.94s/it]"
     ]
    },
    {
     "name": "stdout",
     "output_type": "stream",
     "text": [
      "first coefficient diff : 1.0626818059700018e-05 second coefficient diff : 0.07180564124803851\n",
      "fit pos : 222.35 px 1001.30 px\n",
      "fit distance : 778.96 px 4.12 m\n",
      "All good for frame : 499\n"
     ]
    },
    {
     "name": "stderr",
     "output_type": "stream",
     "text": [
      "\r",
      " 40%|███▉      | 499/1261 [23:16<37:22,  2.94s/it]"
     ]
    },
    {
     "name": "stdout",
     "output_type": "stream",
     "text": [
      "first coefficient diff : 3.0025737011282886e-05 second coefficient diff : 0.0873878485672701\n",
      "fit pos : 221.82 px 1003.57 px\n",
      "fit distance : 781.76 px 4.13 m\n",
      "All good for frame : 500\n"
     ]
    },
    {
     "name": "stderr",
     "output_type": "stream",
     "text": [
      "\r",
      " 40%|███▉      | 500/1261 [23:19<37:24,  2.95s/it]"
     ]
    },
    {
     "name": "stdout",
     "output_type": "stream",
     "text": [
      "first coefficient diff : 7.643669512012517e-06 second coefficient diff : 0.05299697122623747\n",
      "fit pos : 222.40 px 1010.38 px\n",
      "fit distance : 787.98 px 4.17 m\n",
      "All good for frame : 501\n"
     ]
    },
    {
     "name": "stderr",
     "output_type": "stream",
     "text": [
      "\r",
      " 40%|███▉      | 501/1261 [23:22<37:26,  2.96s/it]"
     ]
    },
    {
     "name": "stdout",
     "output_type": "stream",
     "text": [
      "first coefficient diff : 2.6203012765249323e-05 second coefficient diff : 0.049491374054442025\n",
      "fit pos : 222.45 px 1016.19 px\n",
      "fit distance : 793.73 px 4.20 m\n",
      "All good for frame : 502\n"
     ]
    },
    {
     "name": "stderr",
     "output_type": "stream",
     "text": [
      "\r",
      " 40%|███▉      | 502/1261 [23:25<37:29,  2.96s/it]"
     ]
    },
    {
     "name": "stdout",
     "output_type": "stream",
     "text": [
      "first coefficient diff : 1.5064257993213891e-05 second coefficient diff : 0.037930977949721924\n",
      "fit pos : 223.86 px 1015.14 px\n",
      "fit distance : 791.28 px 4.18 m\n",
      "All good for frame : 503\n"
     ]
    },
    {
     "name": "stderr",
     "output_type": "stream",
     "text": [
      "\r",
      " 40%|███▉      | 503/1261 [23:28<37:37,  2.98s/it]"
     ]
    },
    {
     "name": "stdout",
     "output_type": "stream",
     "text": [
      "first coefficient diff : 3.7205200079907713e-05 second coefficient diff : 0.015454242544245654\n",
      "fit pos : 223.95 px 1016.88 px\n",
      "fit distance : 792.92 px 4.19 m\n",
      "All good for frame : 504\n"
     ]
    },
    {
     "name": "stderr",
     "output_type": "stream",
     "text": [
      "\r",
      " 40%|███▉      | 504/1261 [23:31<37:48,  3.00s/it]"
     ]
    },
    {
     "name": "stdout",
     "output_type": "stream",
     "text": [
      "first coefficient diff : 4.975935138752854e-05 second coefficient diff : 0.0053495107805205345\n",
      "fit pos : 223.99 px 1017.75 px\n",
      "fit distance : 793.77 px 4.20 m\n",
      "All good for frame : 505\n"
     ]
    },
    {
     "name": "stderr",
     "output_type": "stream",
     "text": [
      "\r",
      " 40%|████      | 505/1261 [23:34<38:02,  3.02s/it]"
     ]
    },
    {
     "name": "stdout",
     "output_type": "stream",
     "text": [
      "first coefficient diff : 6.235455700666904e-05 second coefficient diff : 0.0045227521492739\n",
      "fit pos : 224.00 px 1017.37 px\n",
      "fit distance : 793.37 px 4.19 m\n",
      "All good for frame : 506\n"
     ]
    },
    {
     "name": "stderr",
     "output_type": "stream",
     "text": [
      "\r",
      " 40%|████      | 506/1261 [23:37<38:17,  3.04s/it]"
     ]
    },
    {
     "name": "stdout",
     "output_type": "stream",
     "text": [
      "first coefficient diff : 5.894563690269051e-05 second coefficient diff : 0.013681787142988622\n",
      "fit pos : 223.60 px 1018.75 px\n",
      "fit distance : 795.14 px 4.20 m\n",
      "All good for frame : 507\n"
     ]
    },
    {
     "name": "stderr",
     "output_type": "stream",
     "text": [
      "\r",
      " 40%|████      | 507/1261 [23:41<38:27,  3.06s/it]"
     ]
    },
    {
     "name": "stdout",
     "output_type": "stream",
     "text": [
      "first coefficient diff : 8.420273368362895e-05 second coefficient diff : 0.024857223323911305\n",
      "fit pos : 222.97 px 1018.40 px\n",
      "fit distance : 795.43 px 4.20 m\n",
      "All good for frame : 508\n"
     ]
    },
    {
     "name": "stderr",
     "output_type": "stream",
     "text": [
      "\r",
      " 40%|████      | 508/1261 [23:44<38:28,  3.07s/it]"
     ]
    },
    {
     "name": "stdout",
     "output_type": "stream",
     "text": [
      "first coefficient diff : 0.0002109036699724783 second coefficient diff : 0.11211692816122376\n",
      "fit pos : 221.29 px 1037.85 px\n",
      "fit distance : 816.55 px 4.32 m\n",
      "All good for frame : 509\n"
     ]
    },
    {
     "name": "stderr",
     "output_type": "stream",
     "text": [
      "\r",
      " 40%|████      | 509/1261 [23:47<38:30,  3.07s/it]"
     ]
    },
    {
     "name": "stdout",
     "output_type": "stream",
     "text": [
      "first coefficient diff : 0.00020336295660172108 second coefficient diff : 0.11323242099309772\n",
      "fit pos : 222.12 px 1032.02 px\n",
      "fit distance : 809.90 px 4.28 m\n",
      "All good for frame : 510\n"
     ]
    },
    {
     "name": "stderr",
     "output_type": "stream",
     "text": [
      "\r",
      " 40%|████      | 510/1261 [23:50<38:33,  3.08s/it]"
     ]
    },
    {
     "name": "stdout",
     "output_type": "stream",
     "text": [
      "first coefficient diff : 0.00019341579232957405 second coefficient diff : 0.1189644628663434\n",
      "fit pos : 223.52 px 1026.40 px\n",
      "fit distance : 802.88 px 4.24 m\n",
      "All good for frame : 511\n"
     ]
    },
    {
     "name": "stderr",
     "output_type": "stream",
     "text": [
      "\r",
      " 41%|████      | 511/1261 [23:53<39:31,  3.16s/it]"
     ]
    },
    {
     "name": "stdout",
     "output_type": "stream",
     "text": [
      "first coefficient diff : 6.945303436098658e-05 second coefficient diff : 0.014107437459796248\n",
      "fit pos : 225.00 px 1012.95 px\n",
      "fit distance : 787.94 px 4.16 m\n",
      "All good for frame : 512\n"
     ]
    },
    {
     "name": "stderr",
     "output_type": "stream",
     "text": [
      "\r",
      " 41%|████      | 512/1261 [23:56<39:42,  3.18s/it]"
     ]
    },
    {
     "name": "stdout",
     "output_type": "stream",
     "text": [
      "first coefficient diff : 8.343860232635651e-05 second coefficient diff : 0.13131341911351646\n",
      "fit pos : 225.38 px 994.61 px\n",
      "fit distance : 769.23 px 4.07 m\n",
      "All good for frame : 513\n"
     ]
    },
    {
     "name": "stderr",
     "output_type": "stream",
     "text": [
      "\r",
      " 41%|████      | 513/1261 [24:00<39:30,  3.17s/it]"
     ]
    },
    {
     "name": "stdout",
     "output_type": "stream",
     "text": [
      "first coefficient diff : 8.559823892263678e-05 second coefficient diff : 0.12866541565490117\n",
      "fit pos : 226.01 px 998.08 px\n",
      "fit distance : 772.07 px 4.08 m\n",
      "All good for frame : 514\n"
     ]
    },
    {
     "name": "stderr",
     "output_type": "stream",
     "text": [
      "\r",
      " 41%|████      | 514/1261 [24:03<39:17,  3.16s/it]"
     ]
    },
    {
     "name": "stdout",
     "output_type": "stream",
     "text": [
      "first coefficient diff : 5.7285129374045105e-05 second coefficient diff : 0.11287490730106679\n",
      "fit pos : 226.26 px 999.54 px\n",
      "fit distance : 773.28 px 4.09 m\n",
      "All good for frame : 515\n"
     ]
    },
    {
     "name": "stderr",
     "output_type": "stream",
     "text": [
      "\r",
      " 41%|████      | 515/1261 [24:06<39:01,  3.14s/it]"
     ]
    },
    {
     "name": "stdout",
     "output_type": "stream",
     "text": [
      "first coefficient diff : 4.371127275579506e-05 second coefficient diff : 0.09339998238769101\n",
      "fit pos : 226.14 px 1003.80 px\n",
      "fit distance : 777.65 px 4.11 m\n",
      "All good for frame : 516\n"
     ]
    },
    {
     "name": "stderr",
     "output_type": "stream",
     "text": [
      "\r",
      " 41%|████      | 516/1261 [24:09<38:51,  3.13s/it]"
     ]
    },
    {
     "name": "stdout",
     "output_type": "stream",
     "text": [
      "first coefficient diff : 2.1106552187616125e-05 second coefficient diff : 0.06004033235108949\n",
      "fit pos : 226.06 px 1007.20 px\n",
      "fit distance : 781.14 px 4.13 m\n",
      "All good for frame : 517\n"
     ]
    },
    {
     "name": "stderr",
     "output_type": "stream",
     "text": [
      "\r",
      " 41%|████      | 517/1261 [24:12<38:40,  3.12s/it]"
     ]
    },
    {
     "name": "stdout",
     "output_type": "stream",
     "text": [
      "first coefficient diff : 7.675132557549793e-07 second coefficient diff : 0.04195155515237481\n",
      "fit pos : 225.55 px 1005.72 px\n",
      "fit distance : 780.17 px 4.12 m\n",
      "All good for frame : 518\n"
     ]
    },
    {
     "name": "stderr",
     "output_type": "stream",
     "text": [
      "\r",
      " 41%|████      | 518/1261 [24:15<38:30,  3.11s/it]"
     ]
    },
    {
     "name": "stdout",
     "output_type": "stream",
     "text": [
      "first coefficient diff : 9.2192734230057e-06 second coefficient diff : 0.03616488725831748\n",
      "fit pos : 226.30 px 1009.53 px\n",
      "fit distance : 783.23 px 4.14 m\n",
      "All good for frame : 519\n"
     ]
    },
    {
     "name": "stderr",
     "output_type": "stream",
     "text": [
      "\r",
      " 41%|████      | 519/1261 [24:18<38:25,  3.11s/it]"
     ]
    },
    {
     "name": "stdout",
     "output_type": "stream",
     "text": [
      "first coefficient diff : 4.136218529998457e-05 second coefficient diff : 0.01316923607537215\n",
      "fit pos : 226.30 px 1010.99 px\n",
      "fit distance : 784.69 px 4.15 m\n",
      "All good for frame : 520\n"
     ]
    },
    {
     "name": "stderr",
     "output_type": "stream",
     "text": [
      "\r",
      " 41%|████      | 520/1261 [24:21<38:18,  3.10s/it]"
     ]
    },
    {
     "name": "stdout",
     "output_type": "stream",
     "text": [
      "first coefficient diff : 0.00015288939561117193 second coefficient diff : 0.0469201675970853\n",
      "fit pos : 226.45 px 1029.84 px\n",
      "fit distance : 803.39 px 4.25 m\n",
      "All good for frame : 521\n"
     ]
    },
    {
     "name": "stderr",
     "output_type": "stream",
     "text": [
      "\r",
      " 41%|████▏     | 521/1261 [24:24<38:10,  3.10s/it]"
     ]
    },
    {
     "name": "stdout",
     "output_type": "stream",
     "text": [
      "first coefficient diff : 5.216458982087905e-05 second coefficient diff : 0.020547610219894916\n",
      "fit pos : 226.03 px 1016.76 px\n",
      "fit distance : 790.74 px 4.18 m\n",
      "All good for frame : 522\n"
     ]
    },
    {
     "name": "stderr",
     "output_type": "stream",
     "text": [
      "\r",
      " 41%|████▏     | 522/1261 [24:27<38:06,  3.09s/it]"
     ]
    },
    {
     "name": "stdout",
     "output_type": "stream",
     "text": [
      "first coefficient diff : 0.00011484563316359388 second coefficient diff : 0.028228774427805154\n",
      "fit pos : 225.21 px 1017.48 px\n",
      "fit distance : 792.28 px 4.19 m\n",
      "All good for frame : 523\n"
     ]
    },
    {
     "name": "stderr",
     "output_type": "stream",
     "text": [
      "\r",
      " 41%|████▏     | 523/1261 [24:30<38:01,  3.09s/it]"
     ]
    },
    {
     "name": "stdout",
     "output_type": "stream",
     "text": [
      "first coefficient diff : 0.00012647953757910578 second coefficient diff : 0.0382406200950765\n",
      "fit pos : 222.89 px 1010.52 px\n",
      "fit distance : 787.63 px 4.16 m\n",
      "All good for frame : 524\n"
     ]
    },
    {
     "name": "stderr",
     "output_type": "stream",
     "text": [
      "\r",
      " 42%|████▏     | 524/1261 [24:34<37:55,  3.09s/it]"
     ]
    },
    {
     "name": "stdout",
     "output_type": "stream",
     "text": [
      "first coefficient diff : 0.00025825105036334303 second coefficient diff : 0.13192441173531488\n",
      "fit pos : 221.45 px 1014.55 px\n",
      "fit distance : 793.10 px 4.19 m\n",
      "All good for frame : 525\n"
     ]
    },
    {
     "name": "stderr",
     "output_type": "stream",
     "text": [
      "\r",
      " 42%|████▏     | 525/1261 [24:37<37:48,  3.08s/it]"
     ]
    },
    {
     "name": "stdout",
     "output_type": "stream",
     "text": [
      "first coefficient diff : 0.0003201909666285769 second coefficient diff : 0.21519411385738346\n",
      "fit pos : 219.27 px 1021.72 px\n",
      "fit distance : 802.46 px 4.24 m\n",
      "All good for frame : 526\n"
     ]
    },
    {
     "name": "stderr",
     "output_type": "stream",
     "text": [
      "\r",
      " 42%|████▏     | 526/1261 [24:40<37:44,  3.08s/it]"
     ]
    },
    {
     "name": "stdout",
     "output_type": "stream",
     "text": [
      "first coefficient diff : 0.0002373345442452468 second coefficient diff : 0.16674825489762002\n",
      "fit pos : 218.68 px 1015.91 px\n",
      "fit distance : 797.23 px 4.21 m\n",
      "All good for frame : 527\n"
     ]
    },
    {
     "name": "stderr",
     "output_type": "stream",
     "text": [
      "\r",
      " 42%|████▏     | 527/1261 [24:43<37:39,  3.08s/it]"
     ]
    },
    {
     "name": "stdout",
     "output_type": "stream",
     "text": [
      "first coefficient diff : 0.00022035944541037863 second coefficient diff : 0.176017296327049\n",
      "fit pos : 219.48 px 1018.62 px\n",
      "fit distance : 799.14 px 4.22 m\n",
      "All good for frame : 528\n"
     ]
    },
    {
     "name": "stderr",
     "output_type": "stream",
     "text": [
      "\r",
      " 42%|████▏     | 528/1261 [24:46<37:39,  3.08s/it]"
     ]
    },
    {
     "name": "stdout",
     "output_type": "stream",
     "text": [
      "first coefficient diff : 0.00018273763651929545 second coefficient diff : 0.14188907030053166\n",
      "fit pos : 221.36 px 1014.39 px\n",
      "fit distance : 793.02 px 4.19 m\n",
      "All good for frame : 529\n"
     ]
    },
    {
     "name": "stderr",
     "output_type": "stream",
     "text": [
      "\r",
      " 42%|████▏     | 529/1261 [24:49<37:39,  3.09s/it]"
     ]
    },
    {
     "name": "stdout",
     "output_type": "stream",
     "text": [
      "first coefficient diff : 0.0002004664592324258 second coefficient diff : 0.12576916447275105\n",
      "fit pos : 221.46 px 1008.93 px\n",
      "fit distance : 787.47 px 4.16 m\n",
      "All good for frame : 530\n"
     ]
    },
    {
     "name": "stderr",
     "output_type": "stream",
     "text": [
      "\r",
      " 42%|████▏     | 530/1261 [24:52<37:35,  3.09s/it]"
     ]
    },
    {
     "name": "stdout",
     "output_type": "stream",
     "text": [
      "first coefficient diff : 0.0001647343560726829 second coefficient diff : 0.07064941806923015\n",
      "fit pos : 223.20 px 1004.65 px\n",
      "fit distance : 781.45 px 4.13 m\n",
      "All good for frame : 531\n"
     ]
    },
    {
     "name": "stderr",
     "output_type": "stream",
     "text": [
      "\r",
      " 42%|████▏     | 531/1261 [24:55<37:30,  3.08s/it]"
     ]
    },
    {
     "name": "stdout",
     "output_type": "stream",
     "text": [
      "first coefficient diff : 0.00022693863503601177 second coefficient diff : 0.11342775032223326\n",
      "fit pos : 225.71 px 999.22 px\n",
      "fit distance : 773.52 px 4.09 m\n",
      "All good for frame : 532\n"
     ]
    },
    {
     "name": "stderr",
     "output_type": "stream",
     "text": [
      "\r",
      " 42%|████▏     | 532/1261 [24:58<37:32,  3.09s/it]"
     ]
    },
    {
     "name": "stdout",
     "output_type": "stream",
     "text": [
      "first coefficient diff : 0.0002662678159835724 second coefficient diff : 0.1391095366406353\n",
      "fit pos : 225.54 px 1002.33 px\n",
      "fit distance : 776.78 px 4.11 m\n",
      "All good for frame : 533\n"
     ]
    },
    {
     "name": "stderr",
     "output_type": "stream",
     "text": [
      "\r",
      " 42%|████▏     | 533/1261 [25:01<37:31,  3.09s/it]"
     ]
    },
    {
     "name": "stdout",
     "output_type": "stream",
     "text": [
      "first coefficient diff : 0.00043348312494973374 second coefficient diff : 0.4488981588125824\n",
      "fit pos : 224.92 px 945.87 px\n",
      "fit distance : 720.96 px 3.81 m\n",
      "All good for frame : 534\n"
     ]
    },
    {
     "name": "stderr",
     "output_type": "stream",
     "text": [
      "\r",
      " 42%|████▏     | 534/1261 [25:04<37:32,  3.10s/it]"
     ]
    },
    {
     "name": "stdout",
     "output_type": "stream",
     "text": [
      "first coefficient diff : 0.00036933001982952844 second coefficient diff : 0.43569093440560225\n",
      "fit pos : 231.18 px 978.35 px\n",
      "fit distance : 747.17 px 3.95 m\n",
      "All good for frame : 535\n"
     ]
    },
    {
     "name": "stderr",
     "output_type": "stream",
     "text": [
      "\r",
      " 42%|████▏     | 535/1261 [25:08<37:29,  3.10s/it]"
     ]
    },
    {
     "name": "stdout",
     "output_type": "stream",
     "text": [
      "first coefficient diff : 0.00029809208514550373 second coefficient diff : 0.3925094343305077\n",
      "fit pos : 233.08 px 1001.00 px\n",
      "fit distance : 767.92 px 4.06 m\n",
      "All good for frame : 536\n"
     ]
    },
    {
     "name": "stderr",
     "output_type": "stream",
     "text": [
      "\r",
      " 43%|████▎     | 536/1261 [25:11<37:23,  3.09s/it]"
     ]
    },
    {
     "name": "stdout",
     "output_type": "stream",
     "text": [
      "first coefficient diff : 6.028181692115056e-05 second coefficient diff : 0.06870949848219118\n",
      "fit pos : 227.27 px 1014.35 px\n",
      "fit distance : 787.08 px 4.16 m\n",
      "All good for frame : 537\n"
     ]
    },
    {
     "name": "stderr",
     "output_type": "stream",
     "text": [
      "\r",
      " 43%|████▎     | 537/1261 [25:14<37:20,  3.10s/it]"
     ]
    },
    {
     "name": "stdout",
     "output_type": "stream",
     "text": [
      "first coefficient diff : 0.00013906983591561387 second coefficient diff : 0.009598530824537661\n",
      "fit pos : 230.54 px 1028.25 px\n",
      "fit distance : 797.71 px 4.22 m\n",
      "All good for frame : 538\n"
     ]
    },
    {
     "name": "stderr",
     "output_type": "stream",
     "text": [
      "\r",
      " 43%|████▎     | 538/1261 [25:17<37:10,  3.08s/it]"
     ]
    },
    {
     "name": "stdout",
     "output_type": "stream",
     "text": [
      "first coefficient diff : 2.19640272529497e-06 second coefficient diff : 0.10515699310413323\n",
      "fit pos : 231.67 px 1016.65 px\n",
      "fit distance : 784.98 px 4.15 m\n",
      "All good for frame : 539\n"
     ]
    },
    {
     "name": "stderr",
     "output_type": "stream",
     "text": [
      "\r",
      " 43%|████▎     | 539/1261 [25:20<37:00,  3.08s/it]"
     ]
    },
    {
     "name": "stdout",
     "output_type": "stream",
     "text": [
      "first coefficient diff : 9.745475729120982e-05 second coefficient diff : 0.0009646271340631417\n",
      "fit pos : 230.42 px 1017.05 px\n",
      "fit distance : 786.63 px 4.16 m\n",
      "All good for frame : 540\n"
     ]
    },
    {
     "name": "stderr",
     "output_type": "stream",
     "text": [
      "\r",
      " 43%|████▎     | 540/1261 [25:23<36:50,  3.07s/it]"
     ]
    },
    {
     "name": "stdout",
     "output_type": "stream",
     "text": [
      "first coefficient diff : 2.9288029215237612e-05 second coefficient diff : 0.13115495144823952\n",
      "fit pos : 231.31 px 1011.72 px\n",
      "fit distance : 780.41 px 4.13 m\n",
      "All good for frame : 541\n"
     ]
    },
    {
     "name": "stderr",
     "output_type": "stream",
     "text": [
      "\r",
      " 43%|████▎     | 541/1261 [25:26<36:31,  3.04s/it]"
     ]
    },
    {
     "name": "stdout",
     "output_type": "stream",
     "text": [
      "first coefficient diff : 1.900568746159372e-05 second coefficient diff : 0.11379568061227595\n",
      "fit pos : 231.72 px 1007.92 px\n",
      "fit distance : 776.20 px 4.10 m\n",
      "All good for frame : 542\n"
     ]
    },
    {
     "name": "stderr",
     "output_type": "stream",
     "text": [
      "\r",
      " 43%|████▎     | 542/1261 [25:29<36:03,  3.01s/it]"
     ]
    },
    {
     "name": "stdout",
     "output_type": "stream",
     "text": [
      "first coefficient diff : 1.3473393036922491e-05 second coefficient diff : 0.07432764260097197\n",
      "fit pos : 231.31 px 1008.43 px\n",
      "fit distance : 777.12 px 4.11 m\n",
      "All good for frame : 543\n"
     ]
    },
    {
     "name": "stderr",
     "output_type": "stream",
     "text": [
      "\r",
      " 43%|████▎     | 543/1261 [25:32<35:44,  2.99s/it]"
     ]
    },
    {
     "name": "stdout",
     "output_type": "stream",
     "text": [
      "first coefficient diff : 7.203951612963987e-05 second coefficient diff : 0.02031032908377102\n",
      "fit pos : 232.06 px 1006.08 px\n",
      "fit distance : 774.03 px 4.09 m\n",
      "All good for frame : 544\n"
     ]
    },
    {
     "name": "stderr",
     "output_type": "stream",
     "text": [
      "\r",
      " 43%|████▎     | 544/1261 [25:35<35:30,  2.97s/it]"
     ]
    },
    {
     "name": "stdout",
     "output_type": "stream",
     "text": [
      "first coefficient diff : 0.00010193464138859095 second coefficient diff : 0.012709591665983419\n",
      "fit pos : 230.97 px 1009.37 px\n",
      "fit distance : 778.39 px 4.11 m\n",
      "All good for frame : 545\n"
     ]
    },
    {
     "name": "stderr",
     "output_type": "stream",
     "text": [
      "\r",
      " 43%|████▎     | 545/1261 [25:38<35:31,  2.98s/it]"
     ]
    },
    {
     "name": "stdout",
     "output_type": "stream",
     "text": [
      "first coefficient diff : 0.00016276432342149583 second coefficient diff : 0.07016841564700967\n",
      "fit pos : 230.46 px 1009.99 px\n",
      "fit distance : 779.54 px 4.12 m\n",
      "All good for frame : 546\n"
     ]
    },
    {
     "name": "stderr",
     "output_type": "stream",
     "text": [
      "\r",
      " 43%|████▎     | 546/1261 [25:41<35:23,  2.97s/it]"
     ]
    },
    {
     "name": "stdout",
     "output_type": "stream",
     "text": [
      "first coefficient diff : 0.00013683279153994847 second coefficient diff : 0.06621892360130102\n",
      "fit pos : 232.15 px 1009.58 px\n",
      "fit distance : 777.43 px 4.11 m\n",
      "All good for frame : 547\n"
     ]
    },
    {
     "name": "stderr",
     "output_type": "stream",
     "text": [
      "\r",
      " 43%|████▎     | 547/1261 [25:44<35:18,  2.97s/it]"
     ]
    },
    {
     "name": "stdout",
     "output_type": "stream",
     "text": [
      "first coefficient diff : 0.00012669040907388595 second coefficient diff : 0.08104554357248135\n",
      "fit pos : 232.35 px 1006.43 px\n",
      "fit distance : 774.08 px 4.09 m\n",
      "All good for frame : 548\n"
     ]
    },
    {
     "name": "stderr",
     "output_type": "stream",
     "text": [
      "\r",
      " 43%|████▎     | 548/1261 [25:47<35:19,  2.97s/it]"
     ]
    },
    {
     "name": "stdout",
     "output_type": "stream",
     "text": [
      "first coefficient diff : 0.00012210690590690873 second coefficient diff : 0.09098028327072985\n",
      "fit pos : 231.55 px 1005.44 px\n",
      "fit distance : 773.89 px 4.09 m\n",
      "All good for frame : 549\n"
     ]
    },
    {
     "name": "stderr",
     "output_type": "stream",
     "text": [
      "\r",
      " 44%|████▎     | 549/1261 [25:50<35:23,  2.98s/it]"
     ]
    },
    {
     "name": "stdout",
     "output_type": "stream",
     "text": [
      "first coefficient diff : 0.00011703259996025131 second coefficient diff : 0.12475057214123743\n",
      "fit pos : 230.10 px 1012.00 px\n",
      "fit distance : 781.90 px 4.13 m\n",
      "All good for frame : 550\n"
     ]
    },
    {
     "name": "stderr",
     "output_type": "stream",
     "text": [
      "\r",
      " 44%|████▎     | 550/1261 [25:53<35:11,  2.97s/it]"
     ]
    },
    {
     "name": "stdout",
     "output_type": "stream",
     "text": [
      "first coefficient diff : 0.0001493972424956184 second coefficient diff : 0.15053173423404603\n",
      "fit pos : 228.37 px 1013.51 px\n",
      "fit distance : 785.14 px 4.15 m\n",
      "All good for frame : 551\n"
     ]
    },
    {
     "name": "stderr",
     "output_type": "stream",
     "text": [
      "\r",
      " 44%|████▎     | 551/1261 [25:56<35:14,  2.98s/it]"
     ]
    },
    {
     "name": "stdout",
     "output_type": "stream",
     "text": [
      "first coefficient diff : 0.00011107197860193876 second coefficient diff : 0.12415535338505712\n",
      "fit pos : 227.30 px 1016.40 px\n",
      "fit distance : 789.10 px 4.17 m\n",
      "All good for frame : 552\n"
     ]
    },
    {
     "name": "stderr",
     "output_type": "stream",
     "text": [
      "\r",
      " 44%|████▍     | 552/1261 [25:59<35:31,  3.01s/it]"
     ]
    },
    {
     "name": "stdout",
     "output_type": "stream",
     "text": [
      "first coefficient diff : 0.00013202210630020811 second coefficient diff : 0.14357835100576186\n",
      "fit pos : 226.93 px 1015.75 px\n",
      "fit distance : 788.81 px 4.17 m\n",
      "All good for frame : 553\n"
     ]
    },
    {
     "name": "stderr",
     "output_type": "stream",
     "text": [
      "\r",
      " 44%|████▍     | 553/1261 [26:02<35:42,  3.03s/it]"
     ]
    },
    {
     "name": "stdout",
     "output_type": "stream",
     "text": [
      "first coefficient diff : 0.0001029084368710119 second coefficient diff : 0.13021561099754891\n",
      "fit pos : 227.25 px 1015.04 px\n",
      "fit distance : 787.80 px 4.16 m\n",
      "All good for frame : 554\n"
     ]
    },
    {
     "name": "stderr",
     "output_type": "stream",
     "text": [
      "\r",
      " 44%|████▍     | 554/1261 [26:05<35:57,  3.05s/it]"
     ]
    },
    {
     "name": "stdout",
     "output_type": "stream",
     "text": [
      "first coefficient diff : 0.0001025030058230622 second coefficient diff : 0.1241969961975565\n",
      "fit pos : 228.36 px 1014.45 px\n",
      "fit distance : 786.09 px 4.16 m\n",
      "All good for frame : 555\n"
     ]
    },
    {
     "name": "stderr",
     "output_type": "stream",
     "text": [
      "\r",
      " 44%|████▍     | 555/1261 [26:08<36:04,  3.07s/it]"
     ]
    },
    {
     "name": "stdout",
     "output_type": "stream",
     "text": [
      "first coefficient diff : 0.00013916174752581084 second coefficient diff : 0.1424820615438698\n",
      "fit pos : 230.53 px 1011.58 px\n",
      "fit distance : 781.05 px 4.13 m\n",
      "All good for frame : 556\n"
     ]
    },
    {
     "name": "stderr",
     "output_type": "stream",
     "text": [
      "\r",
      " 44%|████▍     | 556/1261 [26:11<36:05,  3.07s/it]"
     ]
    },
    {
     "name": "stdout",
     "output_type": "stream",
     "text": [
      "first coefficient diff : 0.00014320244323147568 second coefficient diff : 0.1528563443018559\n",
      "fit pos : 229.55 px 1006.43 px\n",
      "fit distance : 776.88 px 4.11 m\n",
      "All good for frame : 557\n"
     ]
    },
    {
     "name": "stderr",
     "output_type": "stream",
     "text": [
      "\r",
      " 44%|████▍     | 557/1261 [26:14<36:11,  3.08s/it]"
     ]
    },
    {
     "name": "stdout",
     "output_type": "stream",
     "text": [
      "first coefficient diff : 0.00011997926563217463 second coefficient diff : 0.07295635162566307\n",
      "fit pos : 227.31 px 996.39 px\n",
      "fit distance : 769.08 px 4.07 m\n",
      "All good for frame : 558\n"
     ]
    },
    {
     "name": "stderr",
     "output_type": "stream",
     "text": [
      "\r",
      " 44%|████▍     | 558/1261 [26:17<36:21,  3.10s/it]"
     ]
    },
    {
     "name": "stdout",
     "output_type": "stream",
     "text": [
      "first coefficient diff : 0.0001654872172209838 second coefficient diff : 0.05940108009604197\n",
      "fit pos : 220.82 px 1008.35 px\n",
      "fit distance : 787.52 px 4.16 m\n",
      "All good for frame : 559\n"
     ]
    },
    {
     "name": "stderr",
     "output_type": "stream",
     "text": [
      "\r",
      " 44%|████▍     | 559/1261 [26:20<36:35,  3.13s/it]"
     ]
    },
    {
     "name": "stdout",
     "output_type": "stream",
     "text": [
      "first coefficient diff : 3.1135337607218954e-05 second coefficient diff : 0.18983762867070966\n",
      "fit pos : 213.52 px 1029.92 px\n",
      "fit distance : 816.40 px 4.32 m\n",
      "All good for frame : 560\n"
     ]
    },
    {
     "name": "stderr",
     "output_type": "stream",
     "text": [
      "\r",
      " 44%|████▍     | 560/1261 [26:24<36:34,  3.13s/it]"
     ]
    },
    {
     "name": "stdout",
     "output_type": "stream",
     "text": [
      "first coefficient diff : 3.351797622478254e-05 second coefficient diff : 0.21216574809727273\n",
      "fit pos : 207.26 px 1034.66 px\n",
      "fit distance : 827.40 px 4.37 m\n",
      "All good for frame : 561\n"
     ]
    },
    {
     "name": "stderr",
     "output_type": "stream",
     "text": [
      "\r",
      " 44%|████▍     | 561/1261 [26:27<36:39,  3.14s/it]"
     ]
    },
    {
     "name": "stdout",
     "output_type": "stream",
     "text": [
      "first coefficient diff : 0.00018569550465236391 second coefficient diff : 0.10561151290550289\n",
      "fit pos : 204.08 px 1038.45 px\n",
      "fit distance : 834.37 px 4.41 m\n",
      "All good for frame : 562\n"
     ]
    },
    {
     "name": "stderr",
     "output_type": "stream",
     "text": [
      "\r",
      " 45%|████▍     | 562/1261 [26:30<36:42,  3.15s/it]"
     ]
    },
    {
     "name": "stdout",
     "output_type": "stream",
     "text": [
      "first coefficient diff : 0.00022086866696240738 second coefficient diff : 0.09743440959816924\n",
      "fit pos : 205.11 px 1032.58 px\n",
      "fit distance : 827.47 px 4.37 m\n",
      "All good for frame : 563\n"
     ]
    },
    {
     "name": "stderr",
     "output_type": "stream",
     "text": [
      "\r",
      " 45%|████▍     | 563/1261 [26:33<36:35,  3.15s/it]"
     ]
    },
    {
     "name": "stdout",
     "output_type": "stream",
     "text": [
      "first coefficient diff : 0.00010060445913940635 second coefficient diff : 0.13364703969389446\n",
      "fit pos : 212.56 px 1029.92 px\n",
      "fit distance : 817.36 px 4.32 m\n",
      "All good for frame : 564\n"
     ]
    },
    {
     "name": "stderr",
     "output_type": "stream",
     "text": [
      "\r",
      " 45%|████▍     | 564/1261 [26:36<36:23,  3.13s/it]"
     ]
    },
    {
     "name": "stdout",
     "output_type": "stream",
     "text": [
      "first coefficient diff : 0.0002229410956569333 second coefficient diff : 0.1603859061386362\n",
      "fit pos : 217.56 px 1042.39 px\n",
      "fit distance : 824.83 px 4.36 m\n",
      "All good for frame : 565\n"
     ]
    },
    {
     "name": "stderr",
     "output_type": "stream",
     "text": [
      "\r",
      " 45%|████▍     | 565/1261 [26:39<36:08,  3.12s/it]"
     ]
    },
    {
     "name": "stdout",
     "output_type": "stream",
     "text": [
      "first coefficient diff : 3.6736441409440136e-05 second coefficient diff : 0.08604425416762368\n",
      "fit pos : 219.09 px 1002.81 px\n",
      "fit distance : 783.72 px 4.14 m\n",
      "All good for frame : 566\n"
     ]
    },
    {
     "name": "stderr",
     "output_type": "stream",
     "text": [
      "\r",
      " 45%|████▍     | 566/1261 [26:42<35:49,  3.09s/it]"
     ]
    },
    {
     "name": "stdout",
     "output_type": "stream",
     "text": [
      "first coefficient diff : 2.8202456381317258e-05 second coefficient diff : 0.07169117483430854\n",
      "fit pos : 220.85 px 1004.86 px\n",
      "fit distance : 784.01 px 4.14 m\n",
      "All good for frame : 567\n"
     ]
    },
    {
     "name": "stderr",
     "output_type": "stream",
     "text": [
      "\r",
      " 45%|████▍     | 567/1261 [26:45<35:31,  3.07s/it]"
     ]
    },
    {
     "name": "stdout",
     "output_type": "stream",
     "text": [
      "first coefficient diff : 3.26880724634968e-05 second coefficient diff : 0.09053639819602188\n",
      "fit pos : 226.24 px 998.64 px\n",
      "fit distance : 772.40 px 4.08 m\n",
      "All good for frame : 568\n"
     ]
    },
    {
     "name": "stderr",
     "output_type": "stream",
     "text": [
      "\r",
      " 45%|████▌     | 568/1261 [26:48<35:13,  3.05s/it]"
     ]
    },
    {
     "name": "stdout",
     "output_type": "stream",
     "text": [
      "first coefficient diff : 5.453337553152531e-05 second coefficient diff : 0.012233122656366613\n",
      "fit pos : 223.99 px 1013.20 px\n",
      "fit distance : 789.22 px 4.17 m\n",
      "All good for frame : 569\n"
     ]
    },
    {
     "name": "stderr",
     "output_type": "stream",
     "text": [
      "\r",
      " 45%|████▌     | 569/1261 [26:51<34:59,  3.03s/it]"
     ]
    },
    {
     "name": "stdout",
     "output_type": "stream",
     "text": [
      "first coefficient diff : 3.840043908697313e-05 second coefficient diff : 0.06363656503845111\n",
      "fit pos : 226.15 px 1011.77 px\n",
      "fit distance : 785.62 px 4.15 m\n",
      "All good for frame : 570\n"
     ]
    },
    {
     "name": "stderr",
     "output_type": "stream",
     "text": [
      "\r",
      " 45%|████▌     | 570/1261 [26:54<34:47,  3.02s/it]"
     ]
    },
    {
     "name": "stdout",
     "output_type": "stream",
     "text": [
      "first coefficient diff : 0.0001254809766814698 second coefficient diff : 0.10975227527207343\n",
      "fit pos : 224.33 px 1021.50 px\n",
      "fit distance : 797.17 px 4.21 m\n",
      "All good for frame : 571\n"
     ]
    },
    {
     "name": "stderr",
     "output_type": "stream",
     "text": [
      "\r",
      " 45%|████▌     | 571/1261 [26:57<34:30,  3.00s/it]"
     ]
    },
    {
     "name": "stdout",
     "output_type": "stream",
     "text": [
      "first coefficient diff : 0.00022907300727101947 second coefficient diff : 0.24216650829907282\n",
      "fit pos : 218.03 px 1027.26 px\n",
      "fit distance : 809.23 px 4.28 m\n",
      "All good for frame : 572\n"
     ]
    },
    {
     "name": "stderr",
     "output_type": "stream",
     "text": [
      "\r",
      " 45%|████▌     | 572/1261 [27:00<34:20,  2.99s/it]"
     ]
    },
    {
     "name": "stdout",
     "output_type": "stream",
     "text": [
      "first coefficient diff : 0.0002887257013159747 second coefficient diff : 0.3479161266344763\n",
      "fit pos : 214.79 px 1026.31 px\n",
      "fit distance : 811.52 px 4.29 m\n",
      "All good for frame : 573\n"
     ]
    },
    {
     "name": "stderr",
     "output_type": "stream",
     "text": [
      "\r",
      " 45%|████▌     | 573/1261 [27:03<34:06,  2.97s/it]"
     ]
    },
    {
     "name": "stdout",
     "output_type": "stream",
     "text": [
      "first coefficient diff : 0.00034257432163591045 second coefficient diff : 0.4416238347665906\n",
      "fit pos : 220.73 px 1027.93 px\n",
      "fit distance : 807.21 px 4.27 m\n",
      "All good for frame : 574\n"
     ]
    },
    {
     "name": "stderr",
     "output_type": "stream",
     "text": [
      "\r",
      " 46%|████▌     | 574/1261 [27:06<33:55,  2.96s/it]"
     ]
    },
    {
     "name": "stdout",
     "output_type": "stream",
     "text": [
      "first coefficient diff : 0.00030392518436762314 second coefficient diff : 0.42568158238737863\n",
      "fit pos : 226.46 px 1030.86 px\n",
      "fit distance : 804.40 px 4.25 m\n",
      "All good for frame : 575\n"
     ]
    },
    {
     "name": "stderr",
     "output_type": "stream",
     "text": [
      "\r",
      " 46%|████▌     | 575/1261 [27:09<33:47,  2.96s/it]"
     ]
    },
    {
     "name": "stdout",
     "output_type": "stream",
     "text": [
      "first coefficient diff : 0.0002796900362647167 second coefficient diff : 0.3698407576920822\n",
      "fit pos : 227.29 px 1032.83 px\n",
      "fit distance : 805.54 px 4.26 m\n",
      "All good for frame : 576\n"
     ]
    },
    {
     "name": "stderr",
     "output_type": "stream",
     "text": [
      "\r",
      " 46%|████▌     | 576/1261 [27:12<33:42,  2.95s/it]"
     ]
    },
    {
     "name": "stdout",
     "output_type": "stream",
     "text": [
      "first coefficient diff : 0.00045426057126627946 second coefficient diff : 0.5156173914345887\n",
      "Skipping for frame : 577\n"
     ]
    },
    {
     "name": "stderr",
     "output_type": "stream",
     "text": [
      "\r",
      " 46%|████▌     | 577/1261 [27:15<33:33,  2.94s/it]"
     ]
    },
    {
     "name": "stdout",
     "output_type": "stream",
     "text": [
      "first coefficient diff : 0.0006023813092540794 second coefficient diff : 0.5575376869113917\n",
      "Skipping for frame : 578\n"
     ]
    },
    {
     "name": "stderr",
     "output_type": "stream",
     "text": [
      "\r",
      " 46%|████▌     | 578/1261 [27:18<34:06,  3.00s/it]"
     ]
    },
    {
     "name": "stdout",
     "output_type": "stream",
     "text": [
      "first coefficient diff : 0.00033754228194225543 second coefficient diff : 0.2929796420237131\n",
      "fit pos : 229.22 px 1045.11 px\n",
      "fit distance : 815.89 px 4.31 m\n",
      "All good for frame : 579\n"
     ]
    },
    {
     "name": "stderr",
     "output_type": "stream",
     "text": [
      "\r",
      " 46%|████▌     | 579/1261 [27:21<34:27,  3.03s/it]"
     ]
    },
    {
     "name": "stdout",
     "output_type": "stream",
     "text": [
      "first coefficient diff : 0.000684327467205504 second coefficient diff : 0.676249895275147\n",
      "Skipping for frame : 580\n"
     ]
    },
    {
     "name": "stderr",
     "output_type": "stream",
     "text": [
      "\r",
      " 46%|████▌     | 580/1261 [27:24<34:09,  3.01s/it]"
     ]
    },
    {
     "name": "stdout",
     "output_type": "stream",
     "text": [
      "first coefficient diff : 0.0006988617981086654 second coefficient diff : 0.6379207570803026\n",
      "Skipping for frame : 581\n"
     ]
    },
    {
     "name": "stderr",
     "output_type": "stream",
     "text": [
      "\r",
      " 46%|████▌     | 581/1261 [27:27<34:35,  3.05s/it]"
     ]
    },
    {
     "name": "stdout",
     "output_type": "stream",
     "text": [
      "first coefficient diff : 1.4465777597347045e-05 second coefficient diff : 0.17345008008036783\n",
      "fit pos : 227.53 px 1043.88 px\n",
      "fit distance : 816.35 px 4.31 m\n",
      "All good for frame : 582\n"
     ]
    },
    {
     "name": "stderr",
     "output_type": "stream",
     "text": [
      "\r",
      " 46%|████▌     | 582/1261 [27:30<34:53,  3.08s/it]"
     ]
    },
    {
     "name": "stdout",
     "output_type": "stream",
     "text": [
      "first coefficient diff : 0.00021032499725594488 second coefficient diff : 0.10486008407742661\n",
      "fit pos : 226.67 px 1038.67 px\n",
      "fit distance : 812.00 px 4.29 m\n",
      "All good for frame : 583\n"
     ]
    },
    {
     "name": "stderr",
     "output_type": "stream",
     "text": [
      "\r",
      " 46%|████▌     | 583/1261 [27:33<34:30,  3.05s/it]"
     ]
    },
    {
     "name": "stdout",
     "output_type": "stream",
     "text": [
      "first coefficient diff : 9.684907011695145e-05 second coefficient diff : 0.04642405823263112\n",
      "fit pos : 228.77 px 1031.70 px\n",
      "fit distance : 802.93 px 4.24 m\n",
      "All good for frame : 584\n"
     ]
    },
    {
     "name": "stderr",
     "output_type": "stream",
     "text": [
      "\r",
      " 46%|████▋     | 584/1261 [27:36<34:12,  3.03s/it]"
     ]
    },
    {
     "name": "stdout",
     "output_type": "stream",
     "text": [
      "first coefficient diff : 0.00015037697936740613 second coefficient diff : 0.0424067909895212\n",
      "fit pos : 224.78 px 1028.58 px\n",
      "fit distance : 803.80 px 4.25 m\n",
      "All good for frame : 585\n"
     ]
    },
    {
     "name": "stderr",
     "output_type": "stream",
     "text": [
      "\r",
      " 46%|████▋     | 585/1261 [27:39<33:46,  3.00s/it]"
     ]
    },
    {
     "name": "stdout",
     "output_type": "stream",
     "text": [
      "first coefficient diff : 3.840842523213797e-05 second coefficient diff : 0.154051605765654\n",
      "fit pos : 232.43 px 1025.49 px\n",
      "fit distance : 793.06 px 4.19 m\n",
      "All good for frame : 586\n"
     ]
    },
    {
     "name": "stderr",
     "output_type": "stream",
     "text": [
      "\r",
      " 46%|████▋     | 586/1261 [27:42<33:26,  2.97s/it]"
     ]
    },
    {
     "name": "stdout",
     "output_type": "stream",
     "text": [
      "first coefficient diff : 3.2070390325946894e-05 second coefficient diff : 0.11631361676428156\n",
      "fit pos : 230.88 px 1021.71 px\n",
      "fit distance : 790.84 px 4.18 m\n",
      "All good for frame : 587\n"
     ]
    },
    {
     "name": "stderr",
     "output_type": "stream",
     "text": [
      "\r",
      " 47%|████▋     | 587/1261 [27:45<33:10,  2.95s/it]"
     ]
    },
    {
     "name": "stdout",
     "output_type": "stream",
     "text": [
      "first coefficient diff : 7.783011085557826e-05 second coefficient diff : 0.16337463506821998\n",
      "fit pos : 233.74 px 1016.54 px\n",
      "fit distance : 782.81 px 4.14 m\n",
      "All good for frame : 588\n"
     ]
    },
    {
     "name": "stderr",
     "output_type": "stream",
     "text": [
      "\r",
      " 47%|████▋     | 588/1261 [27:48<33:01,  2.94s/it]"
     ]
    },
    {
     "name": "stdout",
     "output_type": "stream",
     "text": [
      "first coefficient diff : 8.405964979514319e-05 second coefficient diff : 0.1593196420549144\n",
      "fit pos : 232.70 px 1016.78 px\n",
      "fit distance : 784.09 px 4.14 m\n",
      "All good for frame : 589\n"
     ]
    },
    {
     "name": "stderr",
     "output_type": "stream",
     "text": [
      "\r",
      " 47%|████▋     | 589/1261 [27:51<32:54,  2.94s/it]"
     ]
    },
    {
     "name": "stdout",
     "output_type": "stream",
     "text": [
      "first coefficient diff : 3.102215806044344e-05 second coefficient diff : 0.07471894530796351\n",
      "fit pos : 227.53 px 1023.10 px\n",
      "fit distance : 795.56 px 4.21 m\n",
      "All good for frame : 590\n"
     ]
    },
    {
     "name": "stderr",
     "output_type": "stream",
     "text": [
      "\r",
      " 47%|████▋     | 590/1261 [27:54<32:55,  2.94s/it]"
     ]
    },
    {
     "name": "stdout",
     "output_type": "stream",
     "text": [
      "first coefficient diff : 0.0002086141525676057 second coefficient diff : 0.18109955494919258\n",
      "fit pos : 220.02 px 1028.66 px\n",
      "fit distance : 808.64 px 4.27 m\n",
      "All good for frame : 591\n"
     ]
    },
    {
     "name": "stderr",
     "output_type": "stream",
     "text": [
      "\r",
      " 47%|████▋     | 591/1261 [27:57<32:56,  2.95s/it]"
     ]
    },
    {
     "name": "stdout",
     "output_type": "stream",
     "text": [
      "first coefficient diff : 0.000314568436345356 second coefficient diff : 0.2881105152432261\n",
      "fit pos : 216.72 px 1025.80 px\n",
      "fit distance : 809.08 px 4.28 m\n",
      "All good for frame : 592\n"
     ]
    },
    {
     "name": "stderr",
     "output_type": "stream",
     "text": [
      "\r",
      " 47%|████▋     | 592/1261 [28:00<32:57,  2.96s/it]"
     ]
    },
    {
     "name": "stdout",
     "output_type": "stream",
     "text": [
      "first coefficient diff : 0.00031143110783066403 second coefficient diff : 0.30974719133041395\n",
      "fit pos : 214.18 px 1019.36 px\n",
      "fit distance : 805.19 px 4.26 m\n",
      "All good for frame : 593\n"
     ]
    },
    {
     "name": "stderr",
     "output_type": "stream",
     "text": [
      "\r",
      " 47%|████▋     | 593/1261 [28:03<32:59,  2.96s/it]"
     ]
    },
    {
     "name": "stdout",
     "output_type": "stream",
     "text": [
      "first coefficient diff : 0.00035459983859154303 second coefficient diff : 0.3754647390362224\n",
      "fit pos : 215.02 px 1019.15 px\n",
      "fit distance : 804.13 px 4.25 m\n",
      "All good for frame : 594\n"
     ]
    },
    {
     "name": "stderr",
     "output_type": "stream",
     "text": [
      "\r",
      " 47%|████▋     | 594/1261 [28:06<33:00,  2.97s/it]"
     ]
    },
    {
     "name": "stdout",
     "output_type": "stream",
     "text": [
      "first coefficient diff : 0.00013749542788856595 second coefficient diff : 0.1525158627366837\n",
      "fit pos : 219.32 px 1014.29 px\n",
      "fit distance : 794.98 px 4.20 m\n",
      "All good for frame : 595\n"
     ]
    },
    {
     "name": "stderr",
     "output_type": "stream",
     "text": [
      "\r",
      " 47%|████▋     | 595/1261 [28:09<33:00,  2.97s/it]"
     ]
    },
    {
     "name": "stdout",
     "output_type": "stream",
     "text": [
      "first coefficient diff : 3.2816032166230934e-06 second coefficient diff : 0.040602717175868476\n",
      "fit pos : 220.00 px 1014.43 px\n",
      "fit distance : 794.43 px 4.20 m\n",
      "All good for frame : 596\n"
     ]
    },
    {
     "name": "stderr",
     "output_type": "stream",
     "text": [
      "\r",
      " 47%|████▋     | 596/1261 [28:12<33:01,  2.98s/it]"
     ]
    },
    {
     "name": "stdout",
     "output_type": "stream",
     "text": [
      "first coefficient diff : 3.1371997852062184e-05 second coefficient diff : 0.07608367269291251\n",
      "fit pos : 215.75 px 1016.19 px\n",
      "fit distance : 800.44 px 4.23 m\n",
      "All good for frame : 597\n"
     ]
    },
    {
     "name": "stderr",
     "output_type": "stream",
     "text": [
      "\r",
      " 47%|████▋     | 597/1261 [28:15<33:05,  2.99s/it]"
     ]
    },
    {
     "name": "stdout",
     "output_type": "stream",
     "text": [
      "first coefficient diff : 2.4828552612627702e-05 second coefficient diff : 0.018970747848937902\n",
      "fit pos : 212.42 px 1014.81 px\n",
      "fit distance : 802.39 px 4.24 m\n",
      "All good for frame : 598\n"
     ]
    },
    {
     "name": "stderr",
     "output_type": "stream",
     "text": [
      "\r",
      " 47%|████▋     | 598/1261 [28:18<33:02,  2.99s/it]"
     ]
    },
    {
     "name": "stdout",
     "output_type": "stream",
     "text": [
      "first coefficient diff : 3.276007057081225e-05 second coefficient diff : 0.07304617603668562\n",
      "fit pos : 209.68 px 1016.56 px\n",
      "fit distance : 806.88 px 4.26 m\n",
      "All good for frame : 599\n"
     ]
    },
    {
     "name": "stderr",
     "output_type": "stream",
     "text": [
      "\r",
      " 48%|████▊     | 599/1261 [28:21<32:56,  2.99s/it]"
     ]
    },
    {
     "name": "stdout",
     "output_type": "stream",
     "text": [
      "first coefficient diff : 0.00015429887348132474 second coefficient diff : 0.18332903507756126\n",
      "fit pos : 203.20 px 1017.11 px\n",
      "fit distance : 813.91 px 4.30 m\n",
      "All good for frame : 600\n"
     ]
    },
    {
     "name": "stderr",
     "output_type": "stream",
     "text": [
      "\r",
      " 48%|████▊     | 600/1261 [28:24<32:48,  2.98s/it]"
     ]
    },
    {
     "name": "stdout",
     "output_type": "stream",
     "text": [
      "first coefficient diff : 7.644572917723051e-05 second coefficient diff : 0.08272250641349208\n",
      "fit pos : 206.74 px 1042.35 px\n",
      "fit distance : 835.61 px 4.42 m\n",
      "All good for frame : 601\n"
     ]
    },
    {
     "name": "stderr",
     "output_type": "stream",
     "text": [
      "\r",
      " 48%|████▊     | 601/1261 [28:27<32:30,  2.95s/it]"
     ]
    },
    {
     "name": "stdout",
     "output_type": "stream",
     "text": [
      "first coefficient diff : 0.000178003374137741 second coefficient diff : 0.1791347365113749\n",
      "fit pos : 200.93 px 1049.57 px\n",
      "fit distance : 848.64 px 4.49 m\n",
      "All good for frame : 602\n"
     ]
    },
    {
     "name": "stderr",
     "output_type": "stream",
     "text": [
      "\r",
      " 48%|████▊     | 602/1261 [28:29<32:17,  2.94s/it]"
     ]
    },
    {
     "name": "stdout",
     "output_type": "stream",
     "text": [
      "first coefficient diff : 0.00027138385335354715 second coefficient diff : 0.23570148318171374\n",
      "fit pos : 201.10 px 1060.13 px\n",
      "fit distance : 859.03 px 4.54 m\n",
      "All good for frame : 603\n"
     ]
    },
    {
     "name": "stderr",
     "output_type": "stream",
     "text": [
      "\r",
      " 48%|████▊     | 603/1261 [28:32<32:05,  2.93s/it]"
     ]
    },
    {
     "name": "stdout",
     "output_type": "stream",
     "text": [
      "first coefficient diff : 0.0003134899911235102 second coefficient diff : 0.27079807383949683\n",
      "fit pos : 203.07 px 1058.38 px\n",
      "fit distance : 855.31 px 4.52 m\n",
      "All good for frame : 604\n"
     ]
    },
    {
     "name": "stderr",
     "output_type": "stream",
     "text": [
      "\r",
      " 48%|████▊     | 604/1261 [28:35<31:55,  2.92s/it]"
     ]
    },
    {
     "name": "stdout",
     "output_type": "stream",
     "text": [
      "first coefficient diff : 0.0004471294072154993 second coefficient diff : 0.3516121891606967\n",
      "fit pos : 203.05 px 1052.97 px\n",
      "fit distance : 849.91 px 4.49 m\n",
      "All good for frame : 605\n"
     ]
    },
    {
     "name": "stderr",
     "output_type": "stream",
     "text": [
      "\r",
      " 48%|████▊     | 605/1261 [28:38<31:46,  2.91s/it]"
     ]
    },
    {
     "name": "stdout",
     "output_type": "stream",
     "text": [
      "first coefficient diff : 0.00016643980805315816 second coefficient diff : 0.1008812970538408\n",
      "fit pos : 206.20 px 1021.53 px\n",
      "fit distance : 815.33 px 4.31 m\n",
      "All good for frame : 606\n"
     ]
    },
    {
     "name": "stderr",
     "output_type": "stream",
     "text": [
      "\r",
      " 48%|████▊     | 606/1261 [28:41<31:40,  2.90s/it]"
     ]
    },
    {
     "name": "stdout",
     "output_type": "stream",
     "text": [
      "first coefficient diff : 0.00012045472648333181 second coefficient diff : 0.04849850270552758\n",
      "fit pos : 207.98 px 1013.19 px\n",
      "fit distance : 805.21 px 4.26 m\n",
      "All good for frame : 607\n"
     ]
    },
    {
     "name": "stderr",
     "output_type": "stream",
     "text": [
      "\r",
      " 48%|████▊     | 607/1261 [28:44<31:34,  2.90s/it]"
     ]
    },
    {
     "name": "stdout",
     "output_type": "stream",
     "text": [
      "first coefficient diff : 0.0001172549129003724 second coefficient diff : 0.07192116856639338\n",
      "fit pos : 202.51 px 1010.44 px\n",
      "fit distance : 807.93 px 4.27 m\n",
      "All good for frame : 608\n"
     ]
    },
    {
     "name": "stderr",
     "output_type": "stream",
     "text": [
      "\r",
      " 48%|████▊     | 608/1261 [28:47<31:30,  2.90s/it]"
     ]
    },
    {
     "name": "stdout",
     "output_type": "stream",
     "text": [
      "first coefficient diff : 0.00012144959547892218 second coefficient diff : 0.08593938452521338\n",
      "fit pos : 199.25 px 1009.14 px\n",
      "fit distance : 809.89 px 4.28 m\n",
      "All good for frame : 609\n"
     ]
    },
    {
     "name": "stderr",
     "output_type": "stream",
     "text": [
      "\r",
      " 48%|████▊     | 609/1261 [28:50<31:29,  2.90s/it]"
     ]
    },
    {
     "name": "stdout",
     "output_type": "stream",
     "text": [
      "first coefficient diff : 7.935533137368102e-05 second coefficient diff : 0.05735198355551166\n",
      "fit pos : 198.00 px 1006.48 px\n",
      "fit distance : 808.48 px 4.27 m\n",
      "All good for frame : 610\n"
     ]
    },
    {
     "name": "stderr",
     "output_type": "stream",
     "text": [
      "\r",
      " 48%|████▊     | 610/1261 [28:53<31:34,  2.91s/it]"
     ]
    },
    {
     "name": "stdout",
     "output_type": "stream",
     "text": [
      "first coefficient diff : 0.00010970008307429225 second coefficient diff : 0.09200585808316081\n",
      "fit pos : 193.33 px 1004.94 px\n",
      "fit distance : 811.61 px 4.29 m\n",
      "All good for frame : 611\n"
     ]
    },
    {
     "name": "stderr",
     "output_type": "stream",
     "text": [
      "\r",
      " 48%|████▊     | 611/1261 [28:56<31:50,  2.94s/it]"
     ]
    },
    {
     "name": "stdout",
     "output_type": "stream",
     "text": [
      "first coefficient diff : 0.00014705266389752674 second coefficient diff : 0.0972305562421106\n",
      "fit pos : 194.79 px 1004.45 px\n",
      "fit distance : 809.66 px 4.28 m\n",
      "All good for frame : 612\n"
     ]
    },
    {
     "name": "stderr",
     "output_type": "stream",
     "text": [
      "\r",
      " 49%|████▊     | 612/1261 [28:59<31:51,  2.95s/it]"
     ]
    },
    {
     "name": "stdout",
     "output_type": "stream",
     "text": [
      "first coefficient diff : 0.0001727698262975295 second coefficient diff : 0.10369231632951464\n",
      "fit pos : 192.89 px 1009.14 px\n",
      "fit distance : 816.25 px 4.31 m\n",
      "All good for frame : 613\n"
     ]
    },
    {
     "name": "stderr",
     "output_type": "stream",
     "text": [
      "\r",
      " 49%|████▊     | 613/1261 [29:02<31:52,  2.95s/it]"
     ]
    },
    {
     "name": "stdout",
     "output_type": "stream",
     "text": [
      "first coefficient diff : 0.00019375621239908956 second coefficient diff : 0.09895661690500218\n",
      "fit pos : 191.96 px 1009.34 px\n",
      "fit distance : 817.38 px 4.32 m\n",
      "All good for frame : 614\n"
     ]
    },
    {
     "name": "stderr",
     "output_type": "stream",
     "text": [
      "\r",
      " 49%|████▊     | 614/1261 [29:05<31:53,  2.96s/it]"
     ]
    },
    {
     "name": "stdout",
     "output_type": "stream",
     "text": [
      "first coefficient diff : 3.4751022349975027e-06 second coefficient diff : 0.047690893715067684\n",
      "fit pos : 194.75 px 998.61 px\n",
      "fit distance : 803.86 px 4.25 m\n",
      "All good for frame : 615\n"
     ]
    },
    {
     "name": "stderr",
     "output_type": "stream",
     "text": [
      "\r",
      " 49%|████▉     | 615/1261 [29:08<31:50,  2.96s/it]"
     ]
    },
    {
     "name": "stdout",
     "output_type": "stream",
     "text": [
      "first coefficient diff : 0.00022880688405503555 second coefficient diff : 0.24921651593167518\n",
      "fit pos : 193.38 px 970.30 px\n",
      "fit distance : 776.91 px 4.11 m\n",
      "All good for frame : 616\n"
     ]
    },
    {
     "name": "stderr",
     "output_type": "stream",
     "text": [
      "\r",
      " 49%|████▉     | 616/1261 [29:10<31:48,  2.96s/it]"
     ]
    },
    {
     "name": "stdout",
     "output_type": "stream",
     "text": [
      "first coefficient diff : 0.00031889847290681714 second coefficient diff : 0.3501012276983829\n",
      "fit pos : 193.81 px 961.96 px\n",
      "fit distance : 768.16 px 4.06 m\n",
      "All good for frame : 617\n"
     ]
    },
    {
     "name": "stderr",
     "output_type": "stream",
     "text": [
      "\r",
      " 49%|████▉     | 617/1261 [29:13<31:44,  2.96s/it]"
     ]
    },
    {
     "name": "stdout",
     "output_type": "stream",
     "text": [
      "first coefficient diff : 0.0002928111026354403 second coefficient diff : 0.3457396565632571\n",
      "fit pos : 193.20 px 969.54 px\n",
      "fit distance : 776.34 px 4.10 m\n",
      "All good for frame : 618\n"
     ]
    },
    {
     "name": "stderr",
     "output_type": "stream",
     "text": [
      "\r",
      " 49%|████▉     | 618/1261 [29:16<31:32,  2.94s/it]"
     ]
    },
    {
     "name": "stdout",
     "output_type": "stream",
     "text": [
      "first coefficient diff : 0.0002988909686473166 second coefficient diff : 0.4144024742754255\n",
      "fit pos : 195.93 px 972.16 px\n",
      "fit distance : 776.23 px 4.10 m\n",
      "All good for frame : 619\n"
     ]
    },
    {
     "name": "stderr",
     "output_type": "stream",
     "text": [
      "\r",
      " 49%|████▉     | 619/1261 [29:19<31:25,  2.94s/it]"
     ]
    },
    {
     "name": "stdout",
     "output_type": "stream",
     "text": [
      "first coefficient diff : 0.00030615424447501575 second coefficient diff : 0.4125486185471881\n",
      "fit pos : 195.30 px 973.99 px\n",
      "fit distance : 778.68 px 4.12 m\n",
      "All good for frame : 620\n"
     ]
    },
    {
     "name": "stderr",
     "output_type": "stream",
     "text": [
      "\r",
      " 49%|████▉     | 620/1261 [29:22<31:14,  2.92s/it]"
     ]
    },
    {
     "name": "stdout",
     "output_type": "stream",
     "text": [
      "first coefficient diff : 0.0002454250375595827 second coefficient diff : 0.3847479257051245\n",
      "fit pos : 191.26 px 974.66 px\n",
      "fit distance : 783.40 px 4.14 m\n",
      "All good for frame : 621\n"
     ]
    },
    {
     "name": "stderr",
     "output_type": "stream",
     "text": [
      "\r",
      " 49%|████▉     | 621/1261 [29:25<31:02,  2.91s/it]"
     ]
    },
    {
     "name": "stdout",
     "output_type": "stream",
     "text": [
      "first coefficient diff : 0.00019544852408417068 second coefficient diff : 0.309893807929947\n",
      "fit pos : 189.32 px 978.88 px\n",
      "fit distance : 789.56 px 4.17 m\n",
      "All good for frame : 622\n"
     ]
    },
    {
     "name": "stderr",
     "output_type": "stream",
     "text": [
      "\r",
      " 49%|████▉     | 622/1261 [29:28<30:54,  2.90s/it]"
     ]
    },
    {
     "name": "stdout",
     "output_type": "stream",
     "text": [
      "first coefficient diff : 0.0002752446081886235 second coefficient diff : 0.3814092591992895\n",
      "fit pos : 194.14 px 980.62 px\n",
      "fit distance : 786.48 px 4.16 m\n",
      "All good for frame : 623\n"
     ]
    },
    {
     "name": "stderr",
     "output_type": "stream",
     "text": [
      "\r",
      " 49%|████▉     | 623/1261 [29:31<30:50,  2.90s/it]"
     ]
    },
    {
     "name": "stdout",
     "output_type": "stream",
     "text": [
      "first coefficient diff : 0.0002948852846187811 second coefficient diff : 0.40270452359213194\n",
      "fit pos : 196.70 px 982.16 px\n",
      "fit distance : 785.47 px 4.15 m\n",
      "All good for frame : 624\n"
     ]
    },
    {
     "name": "stderr",
     "output_type": "stream",
     "text": [
      "\r",
      " 49%|████▉     | 624/1261 [29:34<30:55,  2.91s/it]"
     ]
    },
    {
     "name": "stdout",
     "output_type": "stream",
     "text": [
      "first coefficient diff : 0.0002615576190155692 second coefficient diff : 0.4721161236273531\n",
      "fit pos : 202.62 px 980.82 px\n",
      "fit distance : 778.19 px 4.11 m\n",
      "All good for frame : 625\n"
     ]
    },
    {
     "name": "stderr",
     "output_type": "stream",
     "text": [
      "\r",
      " 50%|████▉     | 625/1261 [29:37<30:56,  2.92s/it]"
     ]
    },
    {
     "name": "stdout",
     "output_type": "stream",
     "text": [
      "first coefficient diff : 0.0002142999649524434 second coefficient diff : 0.43158111545559924\n",
      "fit pos : 204.22 px 983.00 px\n",
      "fit distance : 778.78 px 4.12 m\n",
      "All good for frame : 626\n"
     ]
    },
    {
     "name": "stderr",
     "output_type": "stream",
     "text": [
      "\r",
      " 50%|████▉     | 626/1261 [29:40<30:58,  2.93s/it]"
     ]
    },
    {
     "name": "stdout",
     "output_type": "stream",
     "text": [
      "first coefficient diff : 0.00014097189318137965 second coefficient diff : 0.36907316584298605\n",
      "fit pos : 203.07 px 988.19 px\n",
      "fit distance : 785.12 px 4.15 m\n",
      "All good for frame : 627\n"
     ]
    },
    {
     "name": "stderr",
     "output_type": "stream",
     "text": [
      "\r",
      " 50%|████▉     | 627/1261 [29:43<30:54,  2.92s/it]"
     ]
    },
    {
     "name": "stdout",
     "output_type": "stream",
     "text": [
      "first coefficient diff : 7.764720023330771e-05 second coefficient diff : 0.36911592060774967\n",
      "fit pos : 208.01 px 993.95 px\n",
      "fit distance : 785.93 px 4.15 m\n",
      "All good for frame : 628\n"
     ]
    },
    {
     "name": "stderr",
     "output_type": "stream",
     "text": [
      "\r",
      " 50%|████▉     | 628/1261 [29:45<30:46,  2.92s/it]"
     ]
    },
    {
     "name": "stdout",
     "output_type": "stream",
     "text": [
      "first coefficient diff : 2.1243652086845024e-05 second coefficient diff : 0.2897843392372791\n",
      "fit pos : 207.84 px 1016.45 px\n",
      "fit distance : 808.61 px 4.27 m\n",
      "All good for frame : 629\n"
     ]
    },
    {
     "name": "stderr",
     "output_type": "stream",
     "text": [
      "\r",
      " 50%|████▉     | 629/1261 [29:48<30:35,  2.90s/it]"
     ]
    },
    {
     "name": "stdout",
     "output_type": "stream",
     "text": [
      "first coefficient diff : 9.360745342129172e-05 second coefficient diff : 0.26929314654458497\n",
      "fit pos : 203.29 px 1005.68 px\n",
      "fit distance : 802.39 px 4.24 m\n",
      "All good for frame : 630\n"
     ]
    },
    {
     "name": "stderr",
     "output_type": "stream",
     "text": [
      "\r",
      " 50%|████▉     | 630/1261 [29:51<30:26,  2.89s/it]"
     ]
    },
    {
     "name": "stdout",
     "output_type": "stream",
     "text": [
      "first coefficient diff : 0.0002176218231173587 second coefficient diff : 0.30034703456504125\n",
      "fit pos : 197.96 px 997.52 px\n",
      "fit distance : 799.56 px 4.23 m\n",
      "All good for frame : 631\n"
     ]
    },
    {
     "name": "stderr",
     "output_type": "stream",
     "text": [
      "\r",
      " 50%|█████     | 631/1261 [29:54<30:53,  2.94s/it]"
     ]
    },
    {
     "name": "stdout",
     "output_type": "stream",
     "text": [
      "first coefficient diff : 0.00017802694420974782 second coefficient diff : 0.2385063257243764\n",
      "fit pos : 196.77 px 1008.05 px\n",
      "fit distance : 811.29 px 4.29 m\n",
      "All good for frame : 632\n"
     ]
    },
    {
     "name": "stderr",
     "output_type": "stream",
     "text": [
      "\r",
      " 50%|█████     | 632/1261 [29:57<31:01,  2.96s/it]"
     ]
    },
    {
     "name": "stdout",
     "output_type": "stream",
     "text": [
      "first coefficient diff : 0.00011571213320891672 second coefficient diff : 0.17984734188735124\n",
      "fit pos : 189.96 px 1003.58 px\n",
      "fit distance : 813.62 px 4.30 m\n",
      "All good for frame : 633\n"
     ]
    },
    {
     "name": "stderr",
     "output_type": "stream",
     "text": [
      "\r",
      " 50%|█████     | 633/1261 [30:00<31:03,  2.97s/it]"
     ]
    },
    {
     "name": "stdout",
     "output_type": "stream",
     "text": [
      "first coefficient diff : 9.37180564254404e-06 second coefficient diff : 0.15815986091535772\n",
      "fit pos : 192.41 px 1015.26 px\n",
      "fit distance : 822.85 px 4.35 m\n",
      "All good for frame : 634\n"
     ]
    },
    {
     "name": "stderr",
     "output_type": "stream",
     "text": [
      "\r",
      " 50%|█████     | 634/1261 [30:03<30:52,  2.95s/it]"
     ]
    },
    {
     "name": "stdout",
     "output_type": "stream",
     "text": [
      "first coefficient diff : 5.804234406254588e-05 second coefficient diff : 0.17150341491716015\n",
      "fit pos : 198.89 px 1013.28 px\n",
      "fit distance : 814.39 px 4.30 m\n",
      "All good for frame : 635\n"
     ]
    },
    {
     "name": "stderr",
     "output_type": "stream",
     "text": [
      "\r",
      " 50%|█████     | 635/1261 [30:06<30:33,  2.93s/it]"
     ]
    },
    {
     "name": "stdout",
     "output_type": "stream",
     "text": [
      "first coefficient diff : 4.4420642155336486e-05 second coefficient diff : 0.23563002201243266\n",
      "fit pos : 206.19 px 1003.34 px\n",
      "fit distance : 797.15 px 4.21 m\n",
      "All good for frame : 636\n"
     ]
    },
    {
     "name": "stderr",
     "output_type": "stream",
     "text": [
      "\r",
      " 50%|█████     | 636/1261 [30:09<30:22,  2.92s/it]"
     ]
    },
    {
     "name": "stdout",
     "output_type": "stream",
     "text": [
      "first coefficient diff : 6.535593195137871e-05 second coefficient diff : 0.27645218501870755\n",
      "fit pos : 215.21 px 998.07 px\n",
      "fit distance : 782.86 px 4.14 m\n",
      "All good for frame : 637\n"
     ]
    },
    {
     "name": "stderr",
     "output_type": "stream",
     "text": [
      "\r",
      " 51%|█████     | 637/1261 [30:12<30:23,  2.92s/it]"
     ]
    },
    {
     "name": "stdout",
     "output_type": "stream",
     "text": [
      "first coefficient diff : 9.019851758850189e-05 second coefficient diff : 0.2456219953966245\n",
      "fit pos : 218.63 px 998.16 px\n",
      "fit distance : 779.54 px 4.12 m\n",
      "All good for frame : 638\n"
     ]
    },
    {
     "name": "stderr",
     "output_type": "stream",
     "text": [
      "\r",
      " 51%|█████     | 638/1261 [30:15<30:16,  2.92s/it]"
     ]
    },
    {
     "name": "stdout",
     "output_type": "stream",
     "text": [
      "first coefficient diff : 5.520946921241796e-05 second coefficient diff : 0.23622224962319677\n",
      "fit pos : 221.40 px 1002.91 px\n",
      "fit distance : 781.51 px 4.13 m\n",
      "All good for frame : 639\n"
     ]
    },
    {
     "name": "stderr",
     "output_type": "stream",
     "text": [
      "\r",
      " 51%|█████     | 639/1261 [30:18<30:06,  2.90s/it]"
     ]
    },
    {
     "name": "stdout",
     "output_type": "stream",
     "text": [
      "first coefficient diff : 2.7343496017529878e-06 second coefficient diff : 0.2051659072250238\n",
      "fit pos : 219.85 px 1004.00 px\n",
      "fit distance : 784.16 px 4.14 m\n",
      "All good for frame : 640\n"
     ]
    },
    {
     "name": "stderr",
     "output_type": "stream",
     "text": [
      "\r",
      " 51%|█████     | 640/1261 [30:21<30:02,  2.90s/it]"
     ]
    },
    {
     "name": "stdout",
     "output_type": "stream",
     "text": [
      "first coefficient diff : 1.2606772981539746e-05 second coefficient diff : 0.14734946002819677\n",
      "fit pos : 222.07 px 1017.13 px\n",
      "fit distance : 795.06 px 4.20 m\n",
      "All good for frame : 641\n"
     ]
    },
    {
     "name": "stderr",
     "output_type": "stream",
     "text": [
      "\r",
      " 51%|█████     | 641/1261 [30:23<29:52,  2.89s/it]"
     ]
    },
    {
     "name": "stdout",
     "output_type": "stream",
     "text": [
      "first coefficient diff : 7.901662975292855e-05 second coefficient diff : 0.05002172805427635\n",
      "fit pos : 220.31 px 1024.05 px\n",
      "fit distance : 803.74 px 4.25 m\n",
      "All good for frame : 642\n"
     ]
    },
    {
     "name": "stderr",
     "output_type": "stream",
     "text": [
      "\r",
      " 51%|█████     | 642/1261 [30:26<29:36,  2.87s/it]"
     ]
    },
    {
     "name": "stdout",
     "output_type": "stream",
     "text": [
      "first coefficient diff : 1.1012291721018892e-05 second coefficient diff : 0.1167789541414887\n",
      "fit pos : 220.63 px 1005.76 px\n",
      "fit distance : 785.13 px 4.15 m\n",
      "All good for frame : 643\n"
     ]
    },
    {
     "name": "stderr",
     "output_type": "stream",
     "text": [
      "\r",
      " 51%|█████     | 643/1261 [30:29<29:18,  2.85s/it]"
     ]
    },
    {
     "name": "stdout",
     "output_type": "stream",
     "text": [
      "first coefficient diff : 3.40141444037492e-05 second coefficient diff : 0.11616134517476856\n",
      "fit pos : 227.75 px 1014.27 px\n",
      "fit distance : 786.51 px 4.16 m\n",
      "All good for frame : 644\n"
     ]
    },
    {
     "name": "stderr",
     "output_type": "stream",
     "text": [
      "\r",
      " 51%|█████     | 644/1261 [30:32<29:11,  2.84s/it]"
     ]
    },
    {
     "name": "stdout",
     "output_type": "stream",
     "text": [
      "first coefficient diff : 0.00012665043028864357 second coefficient diff : 0.05653575125609839\n",
      "fit pos : 229.60 px 1021.82 px\n",
      "fit distance : 792.22 px 4.19 m\n",
      "All good for frame : 645\n"
     ]
    },
    {
     "name": "stderr",
     "output_type": "stream",
     "text": [
      "\r",
      " 51%|█████     | 645/1261 [30:35<28:57,  2.82s/it]"
     ]
    },
    {
     "name": "stdout",
     "output_type": "stream",
     "text": [
      "first coefficient diff : 0.0001658369593120844 second coefficient diff : 0.04440928118562665\n",
      "fit pos : 234.73 px 1023.32 px\n",
      "fit distance : 788.58 px 4.17 m\n",
      "All good for frame : 646\n"
     ]
    },
    {
     "name": "stderr",
     "output_type": "stream",
     "text": [
      "\r",
      " 51%|█████     | 646/1261 [30:37<28:45,  2.81s/it]"
     ]
    },
    {
     "name": "stdout",
     "output_type": "stream",
     "text": [
      "first coefficient diff : 0.0001313125366792001 second coefficient diff : 0.06745409321925888\n",
      "fit pos : 239.22 px 1023.75 px\n",
      "fit distance : 784.52 px 4.15 m\n",
      "All good for frame : 647\n"
     ]
    },
    {
     "name": "stderr",
     "output_type": "stream",
     "text": [
      "\r",
      " 51%|█████▏    | 647/1261 [30:40<28:33,  2.79s/it]"
     ]
    },
    {
     "name": "stdout",
     "output_type": "stream",
     "text": [
      "first coefficient diff : 9.135075544867613e-05 second coefficient diff : 0.08588313589430935\n",
      "fit pos : 242.68 px 1020.72 px\n",
      "fit distance : 778.04 px 4.11 m\n",
      "All good for frame : 648\n"
     ]
    },
    {
     "name": "stderr",
     "output_type": "stream",
     "text": [
      "\r",
      " 51%|█████▏    | 648/1261 [30:43<28:21,  2.78s/it]"
     ]
    },
    {
     "name": "stdout",
     "output_type": "stream",
     "text": [
      "first coefficient diff : 6.548017777857743e-05 second coefficient diff : 0.09889379934961062\n",
      "fit pos : 245.44 px 1016.68 px\n",
      "fit distance : 771.24 px 4.08 m\n",
      "All good for frame : 649\n"
     ]
    },
    {
     "name": "stderr",
     "output_type": "stream",
     "text": [
      "\r",
      " 51%|█████▏    | 649/1261 [30:46<28:11,  2.76s/it]"
     ]
    },
    {
     "name": "stdout",
     "output_type": "stream",
     "text": [
      "first coefficient diff : 4.7894522277890626e-05 second coefficient diff : 0.08741768623849078\n",
      "fit pos : 247.17 px 1017.33 px\n",
      "fit distance : 770.16 px 4.07 m\n",
      "All good for frame : 650\n"
     ]
    },
    {
     "name": "stderr",
     "output_type": "stream",
     "text": [
      "\r",
      " 52%|█████▏    | 650/1261 [30:48<28:06,  2.76s/it]"
     ]
    },
    {
     "name": "stdout",
     "output_type": "stream",
     "text": [
      "first coefficient diff : 6.265659458888346e-05 second coefficient diff : 0.18259669089132047\n",
      "fit pos : 251.01 px 1012.88 px\n",
      "fit distance : 761.87 px 4.03 m\n",
      "All good for frame : 651\n"
     ]
    },
    {
     "name": "stderr",
     "output_type": "stream",
     "text": [
      "\r",
      " 52%|█████▏    | 651/1261 [30:51<28:01,  2.76s/it]"
     ]
    },
    {
     "name": "stdout",
     "output_type": "stream",
     "text": [
      "first coefficient diff : 0.00014120873538387826 second coefficient diff : 0.24421261932268423\n",
      "fit pos : 254.46 px 1010.51 px\n",
      "fit distance : 756.05 px 4.00 m\n",
      "All good for frame : 652\n"
     ]
    },
    {
     "name": "stderr",
     "output_type": "stream",
     "text": [
      "\r",
      " 52%|█████▏    | 652/1261 [30:54<27:59,  2.76s/it]"
     ]
    },
    {
     "name": "stdout",
     "output_type": "stream",
     "text": [
      "first coefficient diff : 0.00019456758843551376 second coefficient diff : 0.288947078427141\n",
      "fit pos : 257.72 px 1006.45 px\n",
      "fit distance : 748.72 px 3.96 m\n",
      "All good for frame : 653\n"
     ]
    },
    {
     "name": "stderr",
     "output_type": "stream",
     "text": [
      "\r",
      " 52%|█████▏    | 653/1261 [30:57<27:58,  2.76s/it]"
     ]
    },
    {
     "name": "stdout",
     "output_type": "stream",
     "text": [
      "first coefficient diff : 0.00025032748385717335 second coefficient diff : 0.3185942039554704\n",
      "fit pos : 261.31 px 1000.08 px\n",
      "fit distance : 738.77 px 3.90 m\n",
      "All good for frame : 654\n"
     ]
    },
    {
     "name": "stderr",
     "output_type": "stream",
     "text": [
      "\r",
      " 52%|█████▏    | 654/1261 [30:59<27:56,  2.76s/it]"
     ]
    },
    {
     "name": "stdout",
     "output_type": "stream",
     "text": [
      "first coefficient diff : 0.0001826725248765327 second coefficient diff : 0.2884951635581547\n",
      "fit pos : 261.79 px 1010.88 px\n",
      "fit distance : 749.09 px 3.96 m\n",
      "All good for frame : 655\n"
     ]
    },
    {
     "name": "stderr",
     "output_type": "stream",
     "text": [
      "\r",
      " 52%|█████▏    | 655/1261 [31:02<27:59,  2.77s/it]"
     ]
    },
    {
     "name": "stdout",
     "output_type": "stream",
     "text": [
      "first coefficient diff : 0.0001889615277205241 second coefficient diff : 0.2947727549780161\n",
      "fit pos : 264.08 px 1015.32 px\n",
      "fit distance : 751.24 px 3.97 m\n",
      "All good for frame : 656\n"
     ]
    },
    {
     "name": "stderr",
     "output_type": "stream",
     "text": [
      "\r",
      " 52%|█████▏    | 656/1261 [31:05<27:52,  2.76s/it]"
     ]
    },
    {
     "name": "stdout",
     "output_type": "stream",
     "text": [
      "first coefficient diff : 0.00016841829767187227 second coefficient diff : 0.2835620589487586\n",
      "fit pos : 264.10 px 1018.17 px\n",
      "fit distance : 754.07 px 3.99 m\n",
      "All good for frame : 657\n"
     ]
    },
    {
     "name": "stderr",
     "output_type": "stream",
     "text": [
      "\r",
      " 52%|█████▏    | 657/1261 [31:08<27:48,  2.76s/it]"
     ]
    },
    {
     "name": "stdout",
     "output_type": "stream",
     "text": [
      "first coefficient diff : 9.702691000939325e-05 second coefficient diff : 0.24879587340973508\n",
      "fit pos : 262.17 px 1021.73 px\n",
      "fit distance : 759.56 px 4.01 m\n",
      "All good for frame : 658\n"
     ]
    },
    {
     "name": "stderr",
     "output_type": "stream",
     "text": [
      "\r",
      " 52%|█████▏    | 658/1261 [31:10<27:44,  2.76s/it]"
     ]
    },
    {
     "name": "stdout",
     "output_type": "stream",
     "text": [
      "first coefficient diff : 0.00011611959033959815 second coefficient diff : 0.24549893442392284\n",
      "fit pos : 263.69 px 1021.65 px\n",
      "fit distance : 757.96 px 4.01 m\n",
      "All good for frame : 659\n"
     ]
    },
    {
     "name": "stderr",
     "output_type": "stream",
     "text": [
      "\r",
      " 52%|█████▏    | 659/1261 [31:13<27:41,  2.76s/it]"
     ]
    },
    {
     "name": "stdout",
     "output_type": "stream",
     "text": [
      "first coefficient diff : 0.00010929932396294234 second coefficient diff : 0.2479484112296696\n",
      "fit pos : 259.89 px 1016.89 px\n",
      "fit distance : 757.00 px 4.00 m\n",
      "All good for frame : 660\n"
     ]
    },
    {
     "name": "stderr",
     "output_type": "stream",
     "text": [
      "\r",
      " 52%|█████▏    | 660/1261 [31:16<27:35,  2.76s/it]"
     ]
    },
    {
     "name": "stdout",
     "output_type": "stream",
     "text": [
      "first coefficient diff : 0.00017195355309283892 second coefficient diff : 0.2792903130383905\n",
      "fit pos : 264.03 px 1017.51 px\n",
      "fit distance : 753.48 px 3.98 m\n",
      "All good for frame : 661\n"
     ]
    },
    {
     "name": "stderr",
     "output_type": "stream",
     "text": [
      "\r",
      " 52%|█████▏    | 661/1261 [31:19<27:27,  2.75s/it]"
     ]
    },
    {
     "name": "stdout",
     "output_type": "stream",
     "text": [
      "first coefficient diff : 0.00018887092989632468 second coefficient diff : 0.28698572587087523\n",
      "fit pos : 262.13 px 1017.27 px\n",
      "fit distance : 755.13 px 3.99 m\n",
      "All good for frame : 662\n"
     ]
    },
    {
     "name": "stderr",
     "output_type": "stream",
     "text": [
      "\r",
      " 52%|█████▏    | 662/1261 [31:21<27:20,  2.74s/it]"
     ]
    },
    {
     "name": "stdout",
     "output_type": "stream",
     "text": [
      "first coefficient diff : 0.00015786403761795028 second coefficient diff : 0.2648979390649654\n",
      "fit pos : 259.32 px 1017.72 px\n",
      "fit distance : 758.39 px 4.01 m\n",
      "All good for frame : 663\n"
     ]
    },
    {
     "name": "stderr",
     "output_type": "stream",
     "text": [
      "\r",
      " 53%|█████▎    | 663/1261 [31:24<27:10,  2.73s/it]"
     ]
    },
    {
     "name": "stdout",
     "output_type": "stream",
     "text": [
      "first coefficient diff : 0.0001749223480732133 second coefficient diff : 0.2833037649254605\n",
      "fit pos : 258.48 px 1018.24 px\n",
      "fit distance : 759.76 px 4.02 m\n",
      "All good for frame : 664\n"
     ]
    },
    {
     "name": "stderr",
     "output_type": "stream",
     "text": [
      "\r",
      " 53%|█████▎    | 664/1261 [31:27<27:09,  2.73s/it]"
     ]
    },
    {
     "name": "stdout",
     "output_type": "stream",
     "text": [
      "first coefficient diff : 0.00026084958998143915 second coefficient diff : 0.36990070145016385\n",
      "fit pos : 259.52 px 1014.23 px\n",
      "fit distance : 754.71 px 3.99 m\n",
      "All good for frame : 665\n"
     ]
    },
    {
     "name": "stderr",
     "output_type": "stream",
     "text": [
      "\r",
      " 53%|█████▎    | 665/1261 [31:30<27:05,  2.73s/it]"
     ]
    },
    {
     "name": "stdout",
     "output_type": "stream",
     "text": [
      "first coefficient diff : 0.00022267040582296365 second coefficient diff : 0.356962450697235\n",
      "fit pos : 256.27 px 1013.17 px\n",
      "fit distance : 756.90 px 4.00 m\n",
      "All good for frame : 666\n"
     ]
    },
    {
     "name": "stderr",
     "output_type": "stream",
     "text": [
      "\r",
      " 53%|█████▎    | 666/1261 [31:32<26:55,  2.71s/it]"
     ]
    },
    {
     "name": "stdout",
     "output_type": "stream",
     "text": [
      "first coefficient diff : 0.0001247208031263173 second coefficient diff : 0.2920881505291801\n",
      "fit pos : 254.17 px 1020.04 px\n",
      "fit distance : 765.87 px 4.05 m\n",
      "All good for frame : 667\n"
     ]
    },
    {
     "name": "stderr",
     "output_type": "stream",
     "text": [
      "\r",
      " 53%|█████▎    | 667/1261 [31:35<26:47,  2.71s/it]"
     ]
    },
    {
     "name": "stdout",
     "output_type": "stream",
     "text": [
      "first coefficient diff : 0.00012588092256190898 second coefficient diff : 0.2825261005438407\n",
      "fit pos : 254.25 px 1025.09 px\n",
      "fit distance : 770.85 px 4.07 m\n",
      "All good for frame : 668\n"
     ]
    },
    {
     "name": "stderr",
     "output_type": "stream",
     "text": [
      "\r",
      " 53%|█████▎    | 668/1261 [31:38<26:44,  2.70s/it]"
     ]
    },
    {
     "name": "stdout",
     "output_type": "stream",
     "text": [
      "first coefficient diff : 7.32856173863857e-05 second coefficient diff : 0.23822480839961307\n",
      "fit pos : 252.77 px 1030.54 px\n",
      "fit distance : 777.76 px 4.11 m\n",
      "All good for frame : 669\n"
     ]
    },
    {
     "name": "stderr",
     "output_type": "stream",
     "text": [
      "\r",
      " 53%|█████▎    | 669/1261 [31:40<26:39,  2.70s/it]"
     ]
    },
    {
     "name": "stdout",
     "output_type": "stream",
     "text": [
      "first coefficient diff : 9.723317374385454e-06 second coefficient diff : 0.17628305804606925\n",
      "fit pos : 251.41 px 1032.48 px\n",
      "fit distance : 781.07 px 4.13 m\n",
      "All good for frame : 670\n"
     ]
    },
    {
     "name": "stderr",
     "output_type": "stream",
     "text": [
      "\r",
      " 53%|█████▎    | 670/1261 [31:43<26:37,  2.70s/it]"
     ]
    },
    {
     "name": "stdout",
     "output_type": "stream",
     "text": [
      "first coefficient diff : 3.945794849364258e-05 second coefficient diff : 0.12922644066641215\n",
      "fit pos : 249.82 px 1034.87 px\n",
      "fit distance : 785.05 px 4.15 m\n",
      "All good for frame : 671\n"
     ]
    },
    {
     "name": "stderr",
     "output_type": "stream",
     "text": [
      "\r",
      " 53%|█████▎    | 671/1261 [31:46<26:35,  2.70s/it]"
     ]
    },
    {
     "name": "stdout",
     "output_type": "stream",
     "text": [
      "first coefficient diff : 3.8062306669138626e-05 second coefficient diff : 0.15190457105441324\n",
      "fit pos : 253.07 px 1034.94 px\n",
      "fit distance : 781.87 px 4.13 m\n",
      "All good for frame : 672\n"
     ]
    },
    {
     "name": "stderr",
     "output_type": "stream",
     "text": [
      "\r",
      " 53%|█████▎    | 672/1261 [31:48<26:33,  2.70s/it]"
     ]
    },
    {
     "name": "stdout",
     "output_type": "stream",
     "text": [
      "first coefficient diff : 2.6401781183762297e-05 second coefficient diff : 0.14261845277216068\n",
      "fit pos : 253.58 px 1030.95 px\n",
      "fit distance : 777.37 px 4.11 m\n",
      "All good for frame : 673\n"
     ]
    },
    {
     "name": "stderr",
     "output_type": "stream",
     "text": [
      "\r",
      " 53%|█████▎    | 673/1261 [31:51<26:31,  2.71s/it]"
     ]
    },
    {
     "name": "stdout",
     "output_type": "stream",
     "text": [
      "first coefficient diff : 9.406775616071204e-06 second coefficient diff : 0.16213686951512257\n",
      "fit pos : 254.88 px 1028.64 px\n",
      "fit distance : 773.75 px 4.09 m\n",
      "All good for frame : 674\n"
     ]
    },
    {
     "name": "stderr",
     "output_type": "stream",
     "text": [
      "\r",
      " 53%|█████▎    | 674/1261 [31:54<26:31,  2.71s/it]"
     ]
    },
    {
     "name": "stdout",
     "output_type": "stream",
     "text": [
      "first coefficient diff : 2.186917974847952e-05 second coefficient diff : 0.18664712231788166\n",
      "fit pos : 254.79 px 1024.62 px\n",
      "fit distance : 769.83 px 4.07 m\n",
      "All good for frame : 675\n"
     ]
    },
    {
     "name": "stderr",
     "output_type": "stream",
     "text": [
      "\r",
      " 54%|█████▎    | 675/1261 [31:57<26:37,  2.73s/it]"
     ]
    },
    {
     "name": "stdout",
     "output_type": "stream",
     "text": [
      "first coefficient diff : 5.798482856292551e-05 second coefficient diff : 0.2246521191721497\n",
      "fit pos : 255.06 px 1020.51 px\n",
      "fit distance : 765.45 px 4.05 m\n",
      "All good for frame : 676\n"
     ]
    },
    {
     "name": "stderr",
     "output_type": "stream",
     "text": [
      "\r",
      " 54%|█████▎    | 676/1261 [31:59<26:40,  2.74s/it]"
     ]
    },
    {
     "name": "stdout",
     "output_type": "stream",
     "text": [
      "first coefficient diff : 6.693983250098803e-05 second coefficient diff : 0.23299989780323463\n",
      "fit pos : 257.15 px 1020.95 px\n",
      "fit distance : 763.80 px 4.04 m\n",
      "All good for frame : 677\n"
     ]
    },
    {
     "name": "stderr",
     "output_type": "stream",
     "text": [
      "\r",
      " 54%|█████▎    | 677/1261 [32:02<26:41,  2.74s/it]"
     ]
    },
    {
     "name": "stdout",
     "output_type": "stream",
     "text": [
      "first coefficient diff : 5.502972501325389e-05 second coefficient diff : 0.21246618356806582\n",
      "fit pos : 255.65 px 1021.17 px\n",
      "fit distance : 765.52 px 4.05 m\n",
      "All good for frame : 678\n"
     ]
    },
    {
     "name": "stderr",
     "output_type": "stream",
     "text": [
      "\r",
      " 54%|█████▍    | 678/1261 [32:05<26:40,  2.75s/it]"
     ]
    },
    {
     "name": "stdout",
     "output_type": "stream",
     "text": [
      "first coefficient diff : 1.495856989130529e-05 second coefficient diff : 0.15337879488014283\n",
      "fit pos : 255.24 px 1021.41 px\n",
      "fit distance : 766.17 px 4.05 m\n",
      "All good for frame : 679\n"
     ]
    },
    {
     "name": "stderr",
     "output_type": "stream",
     "text": [
      "\r",
      " 54%|█████▍    | 679/1261 [32:08<26:39,  2.75s/it]"
     ]
    },
    {
     "name": "stdout",
     "output_type": "stream",
     "text": [
      "first coefficient diff : 2.1207482939088434e-05 second coefficient diff : 0.14781664205032702\n",
      "fit pos : 259.97 px 1028.62 px\n",
      "fit distance : 768.65 px 4.06 m\n",
      "All good for frame : 680\n"
     ]
    },
    {
     "name": "stderr",
     "output_type": "stream",
     "text": [
      "\r",
      " 54%|█████▍    | 680/1261 [32:10<26:38,  2.75s/it]"
     ]
    },
    {
     "name": "stdout",
     "output_type": "stream",
     "text": [
      "first coefficient diff : 4.6313025860911396e-05 second coefficient diff : 0.13063029331009907\n",
      "fit pos : 258.27 px 1028.16 px\n",
      "fit distance : 769.89 px 4.07 m\n",
      "All good for frame : 681\n"
     ]
    },
    {
     "name": "stderr",
     "output_type": "stream",
     "text": [
      "\r",
      " 54%|█████▍    | 681/1261 [32:13<26:38,  2.76s/it]"
     ]
    },
    {
     "name": "stdout",
     "output_type": "stream",
     "text": [
      "first coefficient diff : 1.1317953962804584e-05 second coefficient diff : 0.15479686933582076\n",
      "fit pos : 262.86 px 1029.55 px\n",
      "fit distance : 766.68 px 4.05 m\n",
      "All good for frame : 682\n"
     ]
    },
    {
     "name": "stderr",
     "output_type": "stream",
     "text": [
      "\r",
      " 54%|█████▍    | 682/1261 [32:16<26:36,  2.76s/it]"
     ]
    },
    {
     "name": "stdout",
     "output_type": "stream",
     "text": [
      "first coefficient diff : 7.117470079289574e-06 second coefficient diff : 0.16570672283557147\n",
      "fit pos : 266.05 px 1030.66 px\n",
      "fit distance : 764.61 px 4.04 m\n",
      "All good for frame : 683\n"
     ]
    },
    {
     "name": "stderr",
     "output_type": "stream",
     "text": [
      "\r",
      " 54%|█████▍    | 683/1261 [32:19<26:34,  2.76s/it]"
     ]
    },
    {
     "name": "stdout",
     "output_type": "stream",
     "text": [
      "first coefficient diff : 1.344474517360548e-05 second coefficient diff : 0.15219512118689205\n",
      "fit pos : 266.48 px 1029.23 px\n",
      "fit distance : 762.75 px 4.03 m\n",
      "All good for frame : 684\n"
     ]
    },
    {
     "name": "stderr",
     "output_type": "stream",
     "text": [
      "\r",
      " 54%|█████▍    | 684/1261 [32:22<26:41,  2.78s/it]"
     ]
    },
    {
     "name": "stdout",
     "output_type": "stream",
     "text": [
      "first coefficient diff : 3.063975547259215e-05 second coefficient diff : 0.1648707482811827\n",
      "fit pos : 268.69 px 1028.41 px\n",
      "fit distance : 759.72 px 4.02 m\n",
      "All good for frame : 685\n"
     ]
    },
    {
     "name": "stderr",
     "output_type": "stream",
     "text": [
      "\r",
      " 54%|█████▍    | 685/1261 [32:24<26:35,  2.77s/it]"
     ]
    },
    {
     "name": "stdout",
     "output_type": "stream",
     "text": [
      "first coefficient diff : 7.665246965067756e-05 second coefficient diff : 0.20906144873372184\n",
      "fit pos : 271.46 px 1024.15 px\n",
      "fit distance : 752.70 px 3.98 m\n",
      "All good for frame : 686\n"
     ]
    },
    {
     "name": "stderr",
     "output_type": "stream",
     "text": [
      "\r",
      " 54%|█████▍    | 686/1261 [32:27<26:34,  2.77s/it]"
     ]
    },
    {
     "name": "stdout",
     "output_type": "stream",
     "text": [
      "first coefficient diff : 0.00013583215402463434 second coefficient diff : 0.26330247550948466\n",
      "fit pos : 273.23 px 1022.74 px\n",
      "fit distance : 749.51 px 3.96 m\n",
      "All good for frame : 687\n"
     ]
    },
    {
     "name": "stderr",
     "output_type": "stream",
     "text": [
      "\r",
      " 54%|█████▍    | 687/1261 [32:30<26:32,  2.77s/it]"
     ]
    },
    {
     "name": "stdout",
     "output_type": "stream",
     "text": [
      "first coefficient diff : 0.00017064818647249212 second coefficient diff : 0.2824298332273937\n",
      "fit pos : 273.24 px 1022.39 px\n",
      "fit distance : 749.15 px 3.96 m\n",
      "All good for frame : 688\n"
     ]
    },
    {
     "name": "stderr",
     "output_type": "stream",
     "text": [
      "\r",
      " 55%|█████▍    | 688/1261 [32:33<26:34,  2.78s/it]"
     ]
    },
    {
     "name": "stdout",
     "output_type": "stream",
     "text": [
      "first coefficient diff : 0.00014891236012977261 second coefficient diff : 0.24020211972634797\n",
      "fit pos : 271.30 px 1024.44 px\n",
      "fit distance : 753.14 px 3.98 m\n",
      "All good for frame : 689\n"
     ]
    },
    {
     "name": "stderr",
     "output_type": "stream",
     "text": [
      "\r",
      " 55%|█████▍    | 689/1261 [32:35<26:34,  2.79s/it]"
     ]
    },
    {
     "name": "stdout",
     "output_type": "stream",
     "text": [
      "first coefficient diff : 0.00018376853248581006 second coefficient diff : 0.28267434639905026\n",
      "fit pos : 272.05 px 1023.84 px\n",
      "fit distance : 751.80 px 3.97 m\n",
      "All good for frame : 690\n"
     ]
    },
    {
     "name": "stderr",
     "output_type": "stream",
     "text": [
      "\r",
      " 55%|█████▍    | 690/1261 [32:38<26:32,  2.79s/it]"
     ]
    },
    {
     "name": "stdout",
     "output_type": "stream",
     "text": [
      "first coefficient diff : 0.00020970546826937353 second coefficient diff : 0.3010562890354782\n",
      "fit pos : 271.03 px 1019.93 px\n",
      "fit distance : 748.90 px 3.96 m\n",
      "All good for frame : 691\n"
     ]
    },
    {
     "name": "stderr",
     "output_type": "stream",
     "text": [
      "\r",
      " 55%|█████▍    | 691/1261 [32:41<27:03,  2.85s/it]"
     ]
    },
    {
     "name": "stdout",
     "output_type": "stream",
     "text": [
      "first coefficient diff : 0.00012190585081873595 second coefficient diff : 0.2583254000511358\n",
      "fit pos : 269.98 px 1027.99 px\n",
      "fit distance : 758.01 px 4.01 m\n",
      "All good for frame : 692\n"
     ]
    },
    {
     "name": "stderr",
     "output_type": "stream",
     "text": [
      "\r",
      " 55%|█████▍    | 692/1261 [32:44<27:03,  2.85s/it]"
     ]
    },
    {
     "name": "stdout",
     "output_type": "stream",
     "text": [
      "first coefficient diff : 0.00013633689579547147 second coefficient diff : 0.26743378685312524\n",
      "fit pos : 272.13 px 1028.93 px\n",
      "fit distance : 756.81 px 4.00 m\n",
      "All good for frame : 693\n"
     ]
    },
    {
     "name": "stderr",
     "output_type": "stream",
     "text": [
      "\r",
      " 55%|█████▍    | 693/1261 [32:47<26:51,  2.84s/it]"
     ]
    },
    {
     "name": "stdout",
     "output_type": "stream",
     "text": [
      "first coefficient diff : 0.00012921663163905874 second coefficient diff : 0.2620407750940851\n",
      "fit pos : 270.17 px 1029.20 px\n",
      "fit distance : 759.04 px 4.01 m\n",
      "All good for frame : 694\n"
     ]
    },
    {
     "name": "stderr",
     "output_type": "stream",
     "text": [
      "\r",
      " 55%|█████▌    | 694/1261 [32:50<26:41,  2.82s/it]"
     ]
    },
    {
     "name": "stdout",
     "output_type": "stream",
     "text": [
      "first coefficient diff : 0.00011560500693320701 second coefficient diff : 0.2533412427762718\n",
      "fit pos : 269.31 px 1028.42 px\n",
      "fit distance : 759.11 px 4.01 m\n",
      "All good for frame : 695\n"
     ]
    },
    {
     "name": "stderr",
     "output_type": "stream",
     "text": [
      "\r",
      " 55%|█████▌    | 695/1261 [32:52<26:32,  2.81s/it]"
     ]
    },
    {
     "name": "stdout",
     "output_type": "stream",
     "text": [
      "first coefficient diff : 0.0001209656558905294 second coefficient diff : 0.25294926061965156\n",
      "fit pos : 268.82 px 1027.21 px\n",
      "fit distance : 758.39 px 4.01 m\n",
      "All good for frame : 696\n"
     ]
    },
    {
     "name": "stderr",
     "output_type": "stream",
     "text": [
      "\r",
      " 55%|█████▌    | 696/1261 [32:55<26:23,  2.80s/it]"
     ]
    },
    {
     "name": "stdout",
     "output_type": "stream",
     "text": [
      "first coefficient diff : 0.00011470824411747253 second coefficient diff : 0.26142353429675474\n",
      "fit pos : 268.07 px 1024.48 px\n",
      "fit distance : 756.42 px 4.00 m\n",
      "All good for frame : 697\n"
     ]
    },
    {
     "name": "stderr",
     "output_type": "stream",
     "text": [
      "\r",
      " 55%|█████▌    | 697/1261 [32:58<26:15,  2.79s/it]"
     ]
    },
    {
     "name": "stdout",
     "output_type": "stream",
     "text": [
      "first coefficient diff : 0.0001650387744806005 second coefficient diff : 0.31076439194273014\n",
      "fit pos : 269.30 px 1020.34 px\n",
      "fit distance : 751.04 px 3.97 m\n",
      "All good for frame : 698\n"
     ]
    },
    {
     "name": "stderr",
     "output_type": "stream",
     "text": [
      "\r",
      " 55%|█████▌    | 698/1261 [33:01<26:08,  2.79s/it]"
     ]
    },
    {
     "name": "stdout",
     "output_type": "stream",
     "text": [
      "first coefficient diff : 0.00017632013335198125 second coefficient diff : 0.33204705794822964\n",
      "fit pos : 266.58 px 1018.42 px\n",
      "fit distance : 751.84 px 3.97 m\n",
      "All good for frame : 699\n"
     ]
    },
    {
     "name": "stderr",
     "output_type": "stream",
     "text": [
      "\r",
      " 55%|█████▌    | 699/1261 [33:04<26:03,  2.78s/it]"
     ]
    },
    {
     "name": "stdout",
     "output_type": "stream",
     "text": [
      "first coefficient diff : 0.00017193756937047475 second coefficient diff : 0.3475575284082333\n",
      "fit pos : 266.08 px 1017.15 px\n",
      "fit distance : 751.07 px 3.97 m\n",
      "All good for frame : 700\n"
     ]
    },
    {
     "name": "stderr",
     "output_type": "stream",
     "text": [
      "\r",
      " 56%|█████▌    | 700/1261 [33:06<26:01,  2.78s/it]"
     ]
    },
    {
     "name": "stdout",
     "output_type": "stream",
     "text": [
      "first coefficient diff : 0.00012481068755544622 second coefficient diff : 0.31472035977131857\n",
      "fit pos : 263.43 px 1016.94 px\n",
      "fit distance : 753.51 px 3.98 m\n",
      "All good for frame : 701\n"
     ]
    },
    {
     "name": "stderr",
     "output_type": "stream",
     "text": [
      "\r",
      " 56%|█████▌    | 701/1261 [33:09<26:03,  2.79s/it]"
     ]
    },
    {
     "name": "stdout",
     "output_type": "stream",
     "text": [
      "first coefficient diff : 0.00016542822506425696 second coefficient diff : 0.33353511851377377\n",
      "fit pos : 264.99 px 1016.90 px\n",
      "fit distance : 751.91 px 3.97 m\n",
      "All good for frame : 702\n"
     ]
    },
    {
     "name": "stderr",
     "output_type": "stream",
     "text": [
      "\r",
      " 56%|█████▌    | 702/1261 [33:12<26:09,  2.81s/it]"
     ]
    },
    {
     "name": "stdout",
     "output_type": "stream",
     "text": [
      "first coefficient diff : 5.169192032617175e-05 second coefficient diff : 0.24883947246851096\n",
      "fit pos : 260.05 px 1023.21 px\n",
      "fit distance : 763.16 px 4.03 m\n",
      "All good for frame : 703\n"
     ]
    },
    {
     "name": "stderr",
     "output_type": "stream",
     "text": [
      "\r",
      " 56%|█████▌    | 703/1261 [33:15<26:04,  2.80s/it]"
     ]
    },
    {
     "name": "stdout",
     "output_type": "stream",
     "text": [
      "first coefficient diff : 1.1504629749757133e-05 second coefficient diff : 0.21694693693518863\n",
      "fit pos : 260.67 px 1034.49 px\n",
      "fit distance : 773.83 px 4.09 m\n",
      "All good for frame : 704\n"
     ]
    },
    {
     "name": "stderr",
     "output_type": "stream",
     "text": [
      "\r",
      " 56%|█████▌    | 704/1261 [33:18<26:15,  2.83s/it]"
     ]
    },
    {
     "name": "stdout",
     "output_type": "stream",
     "text": [
      "first coefficient diff : 3.460909722761968e-05 second coefficient diff : 0.20755441448184486\n",
      "fit pos : 259.85 px 1035.00 px\n",
      "fit distance : 775.15 px 4.10 m\n",
      "All good for frame : 705\n"
     ]
    },
    {
     "name": "stderr",
     "output_type": "stream",
     "text": [
      "\r",
      " 56%|█████▌    | 705/1261 [33:21<26:22,  2.85s/it]"
     ]
    },
    {
     "name": "stdout",
     "output_type": "stream",
     "text": [
      "first coefficient diff : 2.138763776537544e-05 second coefficient diff : 0.20502228412274737\n",
      "fit pos : 259.85 px 1032.46 px\n",
      "fit distance : 772.62 px 4.08 m\n",
      "All good for frame : 706\n"
     ]
    },
    {
     "name": "stderr",
     "output_type": "stream",
     "text": [
      "\r",
      " 56%|█████▌    | 706/1261 [33:23<26:29,  2.86s/it]"
     ]
    },
    {
     "name": "stdout",
     "output_type": "stream",
     "text": [
      "first coefficient diff : 4.373378090180184e-05 second coefficient diff : 0.1774647166943556\n",
      "fit pos : 256.66 px 1030.35 px\n",
      "fit distance : 773.69 px 4.09 m\n",
      "All good for frame : 707\n"
     ]
    },
    {
     "name": "stderr",
     "output_type": "stream",
     "text": [
      "\r",
      " 56%|█████▌    | 707/1261 [33:26<26:33,  2.88s/it]"
     ]
    },
    {
     "name": "stdout",
     "output_type": "stream",
     "text": [
      "first coefficient diff : 5.581811221853824e-05 second coefficient diff : 0.16687729588684497\n",
      "fit pos : 255.91 px 1028.94 px\n",
      "fit distance : 773.03 px 4.09 m\n",
      "All good for frame : 708\n"
     ]
    },
    {
     "name": "stderr",
     "output_type": "stream",
     "text": [
      "\r",
      " 56%|█████▌    | 708/1261 [33:29<26:35,  2.89s/it]"
     ]
    },
    {
     "name": "stdout",
     "output_type": "stream",
     "text": [
      "first coefficient diff : 1.2732295580885993e-05 second coefficient diff : 0.1973438904867979\n",
      "fit pos : 256.92 px 1021.59 px\n",
      "fit distance : 764.67 px 4.04 m\n",
      "All good for frame : 709\n"
     ]
    },
    {
     "name": "stderr",
     "output_type": "stream",
     "text": [
      "\r",
      " 56%|█████▌    | 709/1261 [33:32<26:37,  2.89s/it]"
     ]
    },
    {
     "name": "stdout",
     "output_type": "stream",
     "text": [
      "first coefficient diff : 1.7219154677813485e-05 second coefficient diff : 0.22123593831325944\n",
      "fit pos : 257.31 px 1018.09 px\n",
      "fit distance : 760.78 px 4.02 m\n",
      "All good for frame : 710\n"
     ]
    },
    {
     "name": "stderr",
     "output_type": "stream",
     "text": [
      "\r",
      " 56%|█████▋    | 710/1261 [33:35<26:43,  2.91s/it]"
     ]
    },
    {
     "name": "stdout",
     "output_type": "stream",
     "text": [
      "first coefficient diff : 1.7823361769256677e-05 second coefficient diff : 0.18200301791664342\n",
      "fit pos : 257.07 px 1018.34 px\n",
      "fit distance : 761.27 px 4.02 m\n",
      "All good for frame : 711\n"
     ]
    },
    {
     "name": "stderr",
     "output_type": "stream",
     "text": [
      "\r",
      " 56%|█████▋    | 711/1261 [33:38<26:46,  2.92s/it]"
     ]
    },
    {
     "name": "stdout",
     "output_type": "stream",
     "text": [
      "first coefficient diff : 3.905430194861299e-06 second coefficient diff : 0.18570348672884657\n",
      "fit pos : 255.07 px 1016.80 px\n",
      "fit distance : 761.73 px 4.03 m\n",
      "All good for frame : 712\n"
     ]
    },
    {
     "name": "stderr",
     "output_type": "stream",
     "text": [
      "\r",
      " 56%|█████▋    | 712/1261 [33:41<26:46,  2.93s/it]"
     ]
    },
    {
     "name": "stdout",
     "output_type": "stream",
     "text": [
      "first coefficient diff : 5.60477588063617e-05 second coefficient diff : 0.2196008831202696\n",
      "fit pos : 257.81 px 1014.85 px\n",
      "fit distance : 757.04 px 4.00 m\n",
      "All good for frame : 713\n"
     ]
    },
    {
     "name": "stderr",
     "output_type": "stream",
     "text": [
      "\r",
      " 57%|█████▋    | 713/1261 [33:44<26:46,  2.93s/it]"
     ]
    },
    {
     "name": "stdout",
     "output_type": "stream",
     "text": [
      "first coefficient diff : 8.420485327878692e-05 second coefficient diff : 0.25421720884953386\n",
      "fit pos : 259.76 px 1012.17 px\n",
      "fit distance : 752.42 px 3.98 m\n",
      "All good for frame : 714\n"
     ]
    },
    {
     "name": "stderr",
     "output_type": "stream",
     "text": [
      "\r",
      " 57%|█████▋    | 714/1261 [33:47<26:49,  2.94s/it]"
     ]
    },
    {
     "name": "stdout",
     "output_type": "stream",
     "text": [
      "first coefficient diff : 3.85910562987501e-06 second coefficient diff : 0.20175263973860552\n",
      "fit pos : 255.80 px 1012.59 px\n",
      "fit distance : 756.80 px 4.00 m\n",
      "All good for frame : 715\n"
     ]
    },
    {
     "name": "stderr",
     "output_type": "stream",
     "text": [
      "\r",
      " 57%|█████▋    | 715/1261 [33:50<26:41,  2.93s/it]"
     ]
    },
    {
     "name": "stdout",
     "output_type": "stream",
     "text": [
      "first coefficient diff : 3.4155127916432344e-05 second coefficient diff : 0.17455958841798985\n",
      "fit pos : 256.90 px 1020.04 px\n",
      "fit distance : 763.14 px 4.03 m\n",
      "All good for frame : 716\n"
     ]
    },
    {
     "name": "stderr",
     "output_type": "stream",
     "text": [
      "\r",
      " 57%|█████▋    | 716/1261 [33:53<26:36,  2.93s/it]"
     ]
    },
    {
     "name": "stdout",
     "output_type": "stream",
     "text": [
      "first coefficient diff : 6.7599707238578575e-06 second coefficient diff : 0.17536557378339535\n",
      "fit pos : 257.39 px 1018.56 px\n",
      "fit distance : 761.17 px 4.02 m\n",
      "All good for frame : 717\n"
     ]
    },
    {
     "name": "stderr",
     "output_type": "stream",
     "text": [
      "\r",
      " 57%|█████▋    | 717/1261 [33:56<26:23,  2.91s/it]"
     ]
    },
    {
     "name": "stdout",
     "output_type": "stream",
     "text": [
      "first coefficient diff : 1.1077337890099163e-05 second coefficient diff : 0.1721990860672446\n",
      "fit pos : 259.24 px 1019.91 px\n",
      "fit distance : 760.67 px 4.02 m\n",
      "All good for frame : 718\n"
     ]
    },
    {
     "name": "stderr",
     "output_type": "stream",
     "text": [
      "\r",
      " 57%|█████▋    | 718/1261 [33:59<26:14,  2.90s/it]"
     ]
    },
    {
     "name": "stdout",
     "output_type": "stream",
     "text": [
      "first coefficient diff : 2.611372976636943e-05 second coefficient diff : 0.1420704080870132\n",
      "fit pos : 259.27 px 1022.57 px\n",
      "fit distance : 763.31 px 4.03 m\n",
      "All good for frame : 719\n"
     ]
    },
    {
     "name": "stderr",
     "output_type": "stream",
     "text": [
      "\r",
      " 57%|█████▋    | 719/1261 [34:01<26:12,  2.90s/it]"
     ]
    },
    {
     "name": "stdout",
     "output_type": "stream",
     "text": [
      "first coefficient diff : 2.604803449477003e-05 second coefficient diff : 0.12918420423384785\n",
      "fit pos : 260.76 px 1023.79 px\n",
      "fit distance : 763.02 px 4.03 m\n",
      "All good for frame : 720\n"
     ]
    },
    {
     "name": "stderr",
     "output_type": "stream",
     "text": [
      "\r",
      " 57%|█████▋    | 720/1261 [34:04<26:04,  2.89s/it]"
     ]
    },
    {
     "name": "stdout",
     "output_type": "stream",
     "text": [
      "first coefficient diff : 2.9672206096277803e-05 second coefficient diff : 0.17550889599578628\n",
      "fit pos : 263.36 px 1024.14 px\n",
      "fit distance : 760.79 px 4.02 m\n",
      "All good for frame : 721\n"
     ]
    },
    {
     "name": "stderr",
     "output_type": "stream",
     "text": [
      "\r",
      " 57%|█████▋    | 721/1261 [34:08<26:55,  2.99s/it]"
     ]
    },
    {
     "name": "stdout",
     "output_type": "stream",
     "text": [
      "first coefficient diff : 3.317474662725304e-05 second coefficient diff : 0.16728056198328511\n",
      "fit pos : 265.44 px 1024.90 px\n",
      "fit distance : 759.47 px 4.01 m\n",
      "All good for frame : 722\n"
     ]
    },
    {
     "name": "stderr",
     "output_type": "stream",
     "text": [
      "\r",
      " 57%|█████▋    | 722/1261 [34:11<26:51,  2.99s/it]"
     ]
    },
    {
     "name": "stdout",
     "output_type": "stream",
     "text": [
      "first coefficient diff : 5.668714706289624e-05 second coefficient diff : 0.17852932237652275\n",
      "fit pos : 266.71 px 1024.31 px\n",
      "fit distance : 757.60 px 4.00 m\n",
      "All good for frame : 723\n"
     ]
    },
    {
     "name": "stderr",
     "output_type": "stream",
     "text": [
      "\r",
      " 57%|█████▋    | 723/1261 [34:13<26:33,  2.96s/it]"
     ]
    },
    {
     "name": "stdout",
     "output_type": "stream",
     "text": [
      "first coefficient diff : 6.691939670245493e-05 second coefficient diff : 0.1825443507504384\n",
      "fit pos : 268.41 px 1024.96 px\n",
      "fit distance : 756.55 px 4.00 m\n",
      "All good for frame : 724\n"
     ]
    },
    {
     "name": "stderr",
     "output_type": "stream",
     "text": [
      "\r",
      " 57%|█████▋    | 724/1261 [34:16<26:18,  2.94s/it]"
     ]
    },
    {
     "name": "stdout",
     "output_type": "stream",
     "text": [
      "first coefficient diff : 3.937592613693637e-05 second coefficient diff : 0.13720751086502103\n",
      "fit pos : 266.34 px 1026.86 px\n",
      "fit distance : 760.52 px 4.02 m\n",
      "All good for frame : 725\n"
     ]
    },
    {
     "name": "stderr",
     "output_type": "stream",
     "text": [
      "\r",
      " 57%|█████▋    | 725/1261 [34:19<26:08,  2.93s/it]"
     ]
    },
    {
     "name": "stdout",
     "output_type": "stream",
     "text": [
      "first coefficient diff : 5.209731077842532e-05 second coefficient diff : 0.16156797763007524\n",
      "fit pos : 266.86 px 1026.30 px\n",
      "fit distance : 759.44 px 4.01 m\n",
      "All good for frame : 726\n"
     ]
    },
    {
     "name": "stderr",
     "output_type": "stream",
     "text": [
      "\r",
      " 58%|█████▊    | 726/1261 [34:22<25:58,  2.91s/it]"
     ]
    },
    {
     "name": "stdout",
     "output_type": "stream",
     "text": [
      "first coefficient diff : 3.81914700128344e-05 second coefficient diff : 0.16220824892263036\n",
      "fit pos : 265.26 px 1028.23 px\n",
      "fit distance : 762.98 px 4.03 m\n",
      "All good for frame : 727\n"
     ]
    },
    {
     "name": "stderr",
     "output_type": "stream",
     "text": [
      "\r",
      " 58%|█████▊    | 727/1261 [34:25<25:51,  2.90s/it]"
     ]
    },
    {
     "name": "stdout",
     "output_type": "stream",
     "text": [
      "first coefficient diff : 0.00022893384870061707 second coefficient diff : 0.3056261252494326\n",
      "fit pos : 269.93 px 1013.65 px\n",
      "fit distance : 743.72 px 3.93 m\n",
      "All good for frame : 728\n"
     ]
    },
    {
     "name": "stderr",
     "output_type": "stream",
     "text": [
      "\r",
      " 58%|█████▊    | 728/1261 [34:28<25:43,  2.90s/it]"
     ]
    },
    {
     "name": "stdout",
     "output_type": "stream",
     "text": [
      "first coefficient diff : 0.00010262796874600983 second coefficient diff : 0.21463347323122633\n",
      "fit pos : 266.33 px 1021.68 px\n",
      "fit distance : 755.35 px 3.99 m\n",
      "All good for frame : 729\n"
     ]
    },
    {
     "name": "stderr",
     "output_type": "stream",
     "text": [
      "\r",
      " 58%|█████▊    | 729/1261 [34:31<25:39,  2.89s/it]"
     ]
    },
    {
     "name": "stdout",
     "output_type": "stream",
     "text": [
      "first coefficient diff : 8.896862230500693e-05 second coefficient diff : 0.21386949377962194\n",
      "fit pos : 269.68 px 1030.67 px\n",
      "fit distance : 760.99 px 4.02 m\n",
      "All good for frame : 730\n"
     ]
    },
    {
     "name": "stderr",
     "output_type": "stream",
     "text": [
      "\r",
      " 58%|█████▊    | 730/1261 [34:34<25:38,  2.90s/it]"
     ]
    },
    {
     "name": "stdout",
     "output_type": "stream",
     "text": [
      "first coefficient diff : 1.1279494928950144e-05 second coefficient diff : 0.1514460717040575\n",
      "fit pos : 268.87 px 1037.12 px\n",
      "fit distance : 768.25 px 4.06 m\n",
      "All good for frame : 731\n"
     ]
    },
    {
     "name": "stderr",
     "output_type": "stream",
     "text": [
      "\r",
      " 58%|█████▊    | 731/1261 [34:37<25:42,  2.91s/it]"
     ]
    },
    {
     "name": "stdout",
     "output_type": "stream",
     "text": [
      "first coefficient diff : 5.151337465841572e-05 second coefficient diff : 0.13401857325899647\n",
      "fit pos : 269.29 px 1037.93 px\n",
      "fit distance : 768.65 px 4.06 m\n",
      "All good for frame : 732\n"
     ]
    },
    {
     "name": "stderr",
     "output_type": "stream",
     "text": [
      "\r",
      " 58%|█████▊    | 732/1261 [34:39<25:38,  2.91s/it]"
     ]
    },
    {
     "name": "stdout",
     "output_type": "stream",
     "text": [
      "first coefficient diff : 8.904327118998943e-06 second coefficient diff : 0.20373139090067638\n",
      "fit pos : 274.41 px 1035.89 px\n",
      "fit distance : 761.48 px 4.02 m\n",
      "All good for frame : 733\n"
     ]
    },
    {
     "name": "stderr",
     "output_type": "stream",
     "text": [
      "\r",
      " 58%|█████▊    | 733/1261 [34:42<25:31,  2.90s/it]"
     ]
    },
    {
     "name": "stdout",
     "output_type": "stream",
     "text": [
      "first coefficient diff : 2.9764111039484677e-05 second coefficient diff : 0.17463796639940632\n",
      "fit pos : 269.15 px 1034.38 px\n",
      "fit distance : 765.23 px 4.04 m\n",
      "All good for frame : 734\n"
     ]
    },
    {
     "name": "stderr",
     "output_type": "stream",
     "text": [
      "\r",
      " 58%|█████▊    | 734/1261 [34:45<25:28,  2.90s/it]"
     ]
    },
    {
     "name": "stdout",
     "output_type": "stream",
     "text": [
      "first coefficient diff : 6.139472304991529e-05 second coefficient diff : 0.24367767506760013\n",
      "fit pos : 276.68 px 1034.36 px\n",
      "fit distance : 757.67 px 4.00 m\n",
      "All good for frame : 735\n"
     ]
    },
    {
     "name": "stderr",
     "output_type": "stream",
     "text": [
      "\r",
      " 58%|█████▊    | 735/1261 [34:48<25:26,  2.90s/it]"
     ]
    },
    {
     "name": "stdout",
     "output_type": "stream",
     "text": [
      "first coefficient diff : 8.541632735760635e-06 second coefficient diff : 0.19741553882274498\n",
      "fit pos : 272.45 px 1033.18 px\n",
      "fit distance : 760.73 px 4.02 m\n",
      "All good for frame : 736\n"
     ]
    },
    {
     "name": "stderr",
     "output_type": "stream",
     "text": [
      "\r",
      " 58%|█████▊    | 736/1261 [34:51<25:25,  2.91s/it]"
     ]
    },
    {
     "name": "stdout",
     "output_type": "stream",
     "text": [
      "first coefficient diff : 9.042676614945888e-06 second coefficient diff : 0.19524287807289825\n",
      "fit pos : 271.56 px 1032.61 px\n",
      "fit distance : 761.05 px 4.02 m\n",
      "All good for frame : 737\n"
     ]
    },
    {
     "name": "stderr",
     "output_type": "stream",
     "text": [
      "\r",
      " 58%|█████▊    | 737/1261 [34:54<25:36,  2.93s/it]"
     ]
    },
    {
     "name": "stdout",
     "output_type": "stream",
     "text": [
      "first coefficient diff : 0.00010695440866951162 second coefficient diff : 0.27541176084959124\n",
      "fit pos : 281.91 px 1033.71 px\n",
      "fit distance : 751.80 px 3.97 m\n",
      "All good for frame : 738\n"
     ]
    },
    {
     "name": "stderr",
     "output_type": "stream",
     "text": [
      "\r",
      " 59%|█████▊    | 738/1261 [34:57<25:40,  2.95s/it]"
     ]
    },
    {
     "name": "stdout",
     "output_type": "stream",
     "text": [
      "first coefficient diff : 9.94049989156017e-05 second coefficient diff : 0.2585254549653053\n",
      "fit pos : 280.13 px 1034.16 px\n",
      "fit distance : 754.03 px 3.99 m\n",
      "All good for frame : 739\n"
     ]
    },
    {
     "name": "stderr",
     "output_type": "stream",
     "text": [
      "\r",
      " 59%|█████▊    | 739/1261 [35:00<25:36,  2.94s/it]"
     ]
    },
    {
     "name": "stdout",
     "output_type": "stream",
     "text": [
      "first coefficient diff : 1.4615700833706655e-05 second coefficient diff : 0.22272334084805712\n",
      "fit pos : 280.48 px 1044.56 px\n",
      "fit distance : 764.08 px 4.04 m\n",
      "All good for frame : 740\n"
     ]
    },
    {
     "name": "stderr",
     "output_type": "stream",
     "text": [
      "\r",
      " 59%|█████▊    | 740/1261 [35:03<25:32,  2.94s/it]"
     ]
    },
    {
     "name": "stdout",
     "output_type": "stream",
     "text": [
      "first coefficient diff : 7.315838043817969e-05 second coefficient diff : 0.15411160669803392\n",
      "fit pos : 278.08 px 1049.03 px\n",
      "fit distance : 770.95 px 4.08 m\n",
      "All good for frame : 741\n"
     ]
    },
    {
     "name": "stderr",
     "output_type": "stream",
     "text": [
      "\r",
      " 59%|█████▉    | 741/1261 [35:06<25:27,  2.94s/it]"
     ]
    },
    {
     "name": "stdout",
     "output_type": "stream",
     "text": [
      "first coefficient diff : 4.610863497635107e-05 second coefficient diff : 0.1799643195670642\n",
      "fit pos : 282.82 px 1047.95 px\n",
      "fit distance : 765.13 px 4.04 m\n",
      "All good for frame : 742\n"
     ]
    },
    {
     "name": "stderr",
     "output_type": "stream",
     "text": [
      "\r",
      " 59%|█████▉    | 742/1261 [35:09<25:24,  2.94s/it]"
     ]
    },
    {
     "name": "stdout",
     "output_type": "stream",
     "text": [
      "first coefficient diff : 4.005065012610971e-05 second coefficient diff : 0.17901739628095042\n",
      "fit pos : 284.46 px 1046.20 px\n",
      "fit distance : 761.74 px 4.03 m\n",
      "All good for frame : 743\n"
     ]
    },
    {
     "name": "stderr",
     "output_type": "stream",
     "text": [
      "\r",
      " 59%|█████▉    | 743/1261 [35:12<25:42,  2.98s/it]"
     ]
    },
    {
     "name": "stdout",
     "output_type": "stream",
     "text": [
      "first coefficient diff : 5.163650372873172e-05 second coefficient diff : 0.1652274642885927\n",
      "fit pos : 286.15 px 1044.32 px\n",
      "fit distance : 758.17 px 4.01 m\n",
      "All good for frame : 744\n"
     ]
    },
    {
     "name": "stderr",
     "output_type": "stream",
     "text": [
      "\r",
      " 59%|█████▉    | 744/1261 [35:15<25:42,  2.98s/it]"
     ]
    },
    {
     "name": "stdout",
     "output_type": "stream",
     "text": [
      "first coefficient diff : 7.521854034635289e-05 second coefficient diff : 0.133354930016861\n",
      "fit pos : 286.46 px 1046.44 px\n",
      "fit distance : 759.98 px 4.02 m\n",
      "All good for frame : 745\n"
     ]
    },
    {
     "name": "stderr",
     "output_type": "stream",
     "text": [
      "\r",
      " 59%|█████▉    | 745/1261 [35:18<25:43,  2.99s/it]"
     ]
    },
    {
     "name": "stdout",
     "output_type": "stream",
     "text": [
      "first coefficient diff : 5.0954281901508295e-05 second coefficient diff : 0.1372480755624539\n",
      "fit pos : 287.28 px 1043.90 px\n",
      "fit distance : 756.62 px 4.00 m\n",
      "All good for frame : 746\n"
     ]
    },
    {
     "name": "stderr",
     "output_type": "stream",
     "text": [
      "\r",
      " 59%|█████▉    | 746/1261 [35:21<25:43,  3.00s/it]"
     ]
    },
    {
     "name": "stdout",
     "output_type": "stream",
     "text": [
      "first coefficient diff : 9.629350541823966e-05 second coefficient diff : 0.08596883795458998\n",
      "fit pos : 286.85 px 1045.52 px\n",
      "fit distance : 758.67 px 4.01 m\n",
      "All good for frame : 747\n"
     ]
    },
    {
     "name": "stderr",
     "output_type": "stream",
     "text": [
      "\r",
      " 59%|█████▉    | 747/1261 [35:24<25:42,  3.00s/it]"
     ]
    },
    {
     "name": "stdout",
     "output_type": "stream",
     "text": [
      "first coefficient diff : 6.088564816958864e-05 second coefficient diff : 0.09799981812264857\n",
      "fit pos : 289.54 px 1045.17 px\n",
      "fit distance : 755.63 px 3.99 m\n",
      "All good for frame : 748\n"
     ]
    },
    {
     "name": "stderr",
     "output_type": "stream",
     "text": [
      "\r",
      " 59%|█████▉    | 748/1261 [35:27<25:42,  3.01s/it]"
     ]
    },
    {
     "name": "stdout",
     "output_type": "stream",
     "text": [
      "first coefficient diff : 4.221729135806619e-05 second coefficient diff : 0.09903888568319313\n",
      "fit pos : 291.56 px 1046.26 px\n",
      "fit distance : 754.71 px 3.99 m\n",
      "All good for frame : 749\n"
     ]
    },
    {
     "name": "stderr",
     "output_type": "stream",
     "text": [
      "\r",
      " 59%|█████▉    | 749/1261 [35:30<25:40,  3.01s/it]"
     ]
    },
    {
     "name": "stdout",
     "output_type": "stream",
     "text": [
      "first coefficient diff : 6.753893877341568e-05 second coefficient diff : 0.08888338957741798\n",
      "fit pos : 289.10 px 1047.59 px\n",
      "fit distance : 758.48 px 4.01 m\n",
      "All good for frame : 750\n"
     ]
    },
    {
     "name": "stderr",
     "output_type": "stream",
     "text": [
      "\r",
      " 59%|█████▉    | 750/1261 [35:33<25:39,  3.01s/it]"
     ]
    },
    {
     "name": "stdout",
     "output_type": "stream",
     "text": [
      "first coefficient diff : 6.525379007487405e-06 second coefficient diff : 0.14325154974828608\n",
      "fit pos : 298.30 px 1050.10 px\n",
      "fit distance : 751.81 px 3.97 m\n",
      "All good for frame : 751\n"
     ]
    },
    {
     "name": "stderr",
     "output_type": "stream",
     "text": [
      "\r",
      " 60%|█████▉    | 751/1261 [35:36<26:16,  3.09s/it]"
     ]
    },
    {
     "name": "stdout",
     "output_type": "stream",
     "text": [
      "first coefficient diff : 1.4257534914112783e-05 second coefficient diff : 0.12972482819762915\n",
      "fit pos : 297.99 px 1048.11 px\n",
      "fit distance : 750.12 px 3.96 m\n",
      "All good for frame : 752\n"
     ]
    },
    {
     "name": "stderr",
     "output_type": "stream",
     "text": [
      "\r",
      " 60%|█████▉    | 752/1261 [35:39<26:05,  3.08s/it]"
     ]
    },
    {
     "name": "stdout",
     "output_type": "stream",
     "text": [
      "first coefficient diff : 0.00011380930780969785 second coefficient diff : 0.20982528883642898\n",
      "fit pos : 298.48 px 1038.06 px\n",
      "fit distance : 739.58 px 3.91 m\n",
      "All good for frame : 753\n"
     ]
    },
    {
     "name": "stderr",
     "output_type": "stream",
     "text": [
      "\r",
      " 60%|█████▉    | 753/1261 [35:42<25:46,  3.05s/it]"
     ]
    },
    {
     "name": "stdout",
     "output_type": "stream",
     "text": [
      "first coefficient diff : 4.55909612118867e-05 second coefficient diff : 0.1774541799962034\n",
      "fit pos : 303.62 px 1047.95 px\n",
      "fit distance : 744.33 px 3.93 m\n",
      "All good for frame : 754\n"
     ]
    },
    {
     "name": "stderr",
     "output_type": "stream",
     "text": [
      "\r",
      " 60%|█████▉    | 754/1261 [35:45<25:29,  3.02s/it]"
     ]
    },
    {
     "name": "stdout",
     "output_type": "stream",
     "text": [
      "first coefficient diff : 5.6556960948282785e-05 second coefficient diff : 0.19071251897599623\n",
      "fit pos : 308.38 px 1051.88 px\n",
      "fit distance : 743.49 px 3.93 m\n",
      "All good for frame : 755\n"
     ]
    },
    {
     "name": "stderr",
     "output_type": "stream",
     "text": [
      "\r",
      " 60%|█████▉    | 755/1261 [35:48<25:14,  2.99s/it]"
     ]
    },
    {
     "name": "stdout",
     "output_type": "stream",
     "text": [
      "first coefficient diff : 5.120628036285347e-05 second coefficient diff : 0.1597657879090869\n",
      "fit pos : 309.22 px 1053.39 px\n",
      "fit distance : 744.17 px 3.93 m\n",
      "All good for frame : 756\n"
     ]
    },
    {
     "name": "stderr",
     "output_type": "stream",
     "text": [
      "\r",
      " 60%|█████▉    | 756/1261 [35:51<25:04,  2.98s/it]"
     ]
    },
    {
     "name": "stdout",
     "output_type": "stream",
     "text": [
      "first coefficient diff : 5.765507200167078e-05 second coefficient diff : 0.1538078806940653\n",
      "fit pos : 311.04 px 1054.72 px\n",
      "fit distance : 743.68 px 3.93 m\n",
      "All good for frame : 757\n"
     ]
    },
    {
     "name": "stderr",
     "output_type": "stream",
     "text": [
      "\r",
      " 60%|██████    | 757/1261 [35:54<24:56,  2.97s/it]"
     ]
    },
    {
     "name": "stdout",
     "output_type": "stream",
     "text": [
      "first coefficient diff : 9.676029002125375e-05 second coefficient diff : 0.1710811261728215\n",
      "fit pos : 315.85 px 1055.26 px\n",
      "fit distance : 739.41 px 3.91 m\n",
      "All good for frame : 758\n"
     ]
    },
    {
     "name": "stderr",
     "output_type": "stream",
     "text": [
      "\r",
      " 60%|██████    | 758/1261 [35:57<24:48,  2.96s/it]"
     ]
    },
    {
     "name": "stdout",
     "output_type": "stream",
     "text": [
      "first coefficient diff : 0.00011761432689921515 second coefficient diff : 0.18797425861038541\n",
      "fit pos : 318.19 px 1057.80 px\n",
      "fit distance : 739.61 px 3.91 m\n",
      "All good for frame : 759\n"
     ]
    },
    {
     "name": "stderr",
     "output_type": "stream",
     "text": [
      "\r",
      " 60%|██████    | 759/1261 [36:00<24:43,  2.95s/it]"
     ]
    },
    {
     "name": "stdout",
     "output_type": "stream",
     "text": [
      "first coefficient diff : 9.443995424854784e-05 second coefficient diff : 0.16769184601370846\n",
      "fit pos : 318.38 px 1058.96 px\n",
      "fit distance : 740.58 px 3.91 m\n",
      "All good for frame : 760\n"
     ]
    },
    {
     "name": "stderr",
     "output_type": "stream",
     "text": [
      "\r",
      " 60%|██████    | 760/1261 [36:03<24:40,  2.96s/it]"
     ]
    },
    {
     "name": "stdout",
     "output_type": "stream",
     "text": [
      "first coefficient diff : 0.00010674048522068451 second coefficient diff : 0.1759802925192045\n",
      "fit pos : 320.86 px 1059.99 px\n",
      "fit distance : 739.13 px 3.91 m\n",
      "All good for frame : 761\n"
     ]
    },
    {
     "name": "stderr",
     "output_type": "stream",
     "text": [
      "\r",
      " 60%|██████    | 761/1261 [36:06<24:36,  2.95s/it]"
     ]
    },
    {
     "name": "stdout",
     "output_type": "stream",
     "text": [
      "first coefficient diff : 7.19031589036048e-05 second coefficient diff : 0.1386473778812578\n",
      "fit pos : 317.67 px 1063.23 px\n",
      "fit distance : 745.56 px 3.94 m\n",
      "All good for frame : 762\n"
     ]
    },
    {
     "name": "stderr",
     "output_type": "stream",
     "text": [
      "\r",
      " 60%|██████    | 762/1261 [36:09<24:34,  2.95s/it]"
     ]
    },
    {
     "name": "stdout",
     "output_type": "stream",
     "text": [
      "first coefficient diff : 9.20842528479696e-05 second coefficient diff : 0.16222570795602226\n",
      "fit pos : 318.99 px 1067.10 px\n",
      "fit distance : 748.11 px 3.95 m\n",
      "All good for frame : 763\n"
     ]
    },
    {
     "name": "stderr",
     "output_type": "stream",
     "text": [
      "\r",
      " 61%|██████    | 763/1261 [36:12<24:33,  2.96s/it]"
     ]
    },
    {
     "name": "stdout",
     "output_type": "stream",
     "text": [
      "first coefficient diff : 0.00026573123586067415 second coefficient diff : 0.2933277096512065\n",
      "fit pos : 319.00 px 1053.37 px\n",
      "fit distance : 734.37 px 3.88 m\n",
      "All good for frame : 764\n"
     ]
    },
    {
     "name": "stderr",
     "output_type": "stream",
     "text": [
      "\r",
      " 61%|██████    | 764/1261 [36:15<24:32,  2.96s/it]"
     ]
    },
    {
     "name": "stdout",
     "output_type": "stream",
     "text": [
      "first coefficient diff : 0.0003190668764305939 second coefficient diff : 0.331760559206336\n",
      "fit pos : 319.95 px 1049.93 px\n",
      "fit distance : 729.98 px 3.86 m\n",
      "All good for frame : 765\n"
     ]
    },
    {
     "name": "stderr",
     "output_type": "stream",
     "text": [
      "\r",
      " 61%|██████    | 765/1261 [36:18<24:27,  2.96s/it]"
     ]
    },
    {
     "name": "stdout",
     "output_type": "stream",
     "text": [
      "first coefficient diff : 0.00018031490426463487 second coefficient diff : 0.2484323080076044\n",
      "fit pos : 316.47 px 1062.19 px\n",
      "fit distance : 745.72 px 3.94 m\n",
      "All good for frame : 766\n"
     ]
    },
    {
     "name": "stderr",
     "output_type": "stream",
     "text": [
      "\r",
      " 61%|██████    | 766/1261 [36:21<24:25,  2.96s/it]"
     ]
    },
    {
     "name": "stdout",
     "output_type": "stream",
     "text": [
      "first coefficient diff : 0.00016508288807813324 second coefficient diff : 0.23616699831854987\n",
      "fit pos : 316.60 px 1066.15 px\n",
      "fit distance : 749.55 px 3.96 m\n",
      "All good for frame : 767\n"
     ]
    },
    {
     "name": "stderr",
     "output_type": "stream",
     "text": [
      "\r",
      " 61%|██████    | 767/1261 [36:24<24:23,  2.96s/it]"
     ]
    },
    {
     "name": "stdout",
     "output_type": "stream",
     "text": [
      "first coefficient diff : 0.00016864040002183704 second coefficient diff : 0.24922674620197333\n",
      "fit pos : 318.34 px 1067.24 px\n",
      "fit distance : 748.90 px 3.96 m\n",
      "All good for frame : 768\n"
     ]
    },
    {
     "name": "stderr",
     "output_type": "stream",
     "text": [
      "\r",
      " 61%|██████    | 768/1261 [36:27<24:20,  2.96s/it]"
     ]
    },
    {
     "name": "stdout",
     "output_type": "stream",
     "text": [
      "first coefficient diff : 0.0001531102206640252 second coefficient diff : 0.26901899532358015\n",
      "fit pos : 316.83 px 1069.53 px\n",
      "fit distance : 752.70 px 3.98 m\n",
      "All good for frame : 769\n"
     ]
    },
    {
     "name": "stderr",
     "output_type": "stream",
     "text": [
      "\r",
      " 61%|██████    | 769/1261 [36:30<24:18,  2.96s/it]"
     ]
    },
    {
     "name": "stdout",
     "output_type": "stream",
     "text": [
      "first coefficient diff : 0.00017146832767134232 second coefficient diff : 0.3015495529691164\n",
      "fit pos : 317.64 px 1069.90 px\n",
      "fit distance : 752.25 px 3.98 m\n",
      "All good for frame : 770\n"
     ]
    },
    {
     "name": "stderr",
     "output_type": "stream",
     "text": [
      "\r",
      " 61%|██████    | 770/1261 [36:32<24:17,  2.97s/it]"
     ]
    },
    {
     "name": "stdout",
     "output_type": "stream",
     "text": [
      "first coefficient diff : 0.00015974580856363516 second coefficient diff : 0.28809145245066964\n",
      "fit pos : 316.73 px 1071.99 px\n",
      "fit distance : 755.26 px 3.99 m\n",
      "All good for frame : 771\n"
     ]
    },
    {
     "name": "stderr",
     "output_type": "stream",
     "text": [
      "\r",
      " 61%|██████    | 771/1261 [36:35<24:18,  2.98s/it]"
     ]
    },
    {
     "name": "stdout",
     "output_type": "stream",
     "text": [
      "first coefficient diff : 0.000143985725670559 second coefficient diff : 0.24958347772938605\n",
      "fit pos : 317.32 px 1074.65 px\n",
      "fit distance : 757.33 px 4.00 m\n",
      "All good for frame : 772\n"
     ]
    },
    {
     "name": "stderr",
     "output_type": "stream",
     "text": [
      "\r",
      " 61%|██████    | 772/1261 [36:38<24:20,  2.99s/it]"
     ]
    },
    {
     "name": "stdout",
     "output_type": "stream",
     "text": [
      "first coefficient diff : 0.00010396934520851591 second coefficient diff : 0.21772822034429995\n",
      "fit pos : 312.95 px 1076.36 px\n",
      "fit distance : 763.41 px 4.04 m\n",
      "All good for frame : 773\n"
     ]
    },
    {
     "name": "stderr",
     "output_type": "stream",
     "text": [
      "\r",
      " 61%|██████▏   | 773/1261 [36:41<24:18,  2.99s/it]"
     ]
    },
    {
     "name": "stdout",
     "output_type": "stream",
     "text": [
      "first coefficient diff : 0.00012944083649106056 second coefficient diff : 0.2488543133989914\n",
      "fit pos : 313.13 px 1077.39 px\n",
      "fit distance : 764.26 px 4.04 m\n",
      "All good for frame : 774\n"
     ]
    },
    {
     "name": "stderr",
     "output_type": "stream",
     "text": [
      "\r",
      " 61%|██████▏   | 774/1261 [36:44<24:17,  2.99s/it]"
     ]
    },
    {
     "name": "stdout",
     "output_type": "stream",
     "text": [
      "first coefficient diff : 0.0001204633446699589 second coefficient diff : 0.245844510205175\n",
      "fit pos : 311.39 px 1078.43 px\n",
      "fit distance : 767.04 px 4.05 m\n",
      "All good for frame : 775\n"
     ]
    },
    {
     "name": "stderr",
     "output_type": "stream",
     "text": [
      "\r",
      " 61%|██████▏   | 775/1261 [36:47<24:12,  2.99s/it]"
     ]
    },
    {
     "name": "stdout",
     "output_type": "stream",
     "text": [
      "first coefficient diff : 0.00019322902189418143 second coefficient diff : 0.31584389656266726\n",
      "fit pos : 309.33 px 1067.55 px\n",
      "fit distance : 758.22 px 4.01 m\n",
      "All good for frame : 776\n"
     ]
    },
    {
     "name": "stderr",
     "output_type": "stream",
     "text": [
      "\r",
      " 62%|██████▏   | 776/1261 [36:50<24:07,  2.98s/it]"
     ]
    },
    {
     "name": "stdout",
     "output_type": "stream",
     "text": [
      "first coefficient diff : 6.046186246417792e-05 second coefficient diff : 0.24077676684747434\n",
      "fit pos : 310.25 px 1085.44 px\n",
      "fit distance : 775.19 px 4.10 m\n",
      "All good for frame : 777\n"
     ]
    },
    {
     "name": "stderr",
     "output_type": "stream",
     "text": [
      "\r",
      " 62%|██████▏   | 777/1261 [36:53<24:03,  2.98s/it]"
     ]
    },
    {
     "name": "stdout",
     "output_type": "stream",
     "text": [
      "first coefficient diff : 2.8714877608326448e-05 second coefficient diff : 0.19326314589078003\n",
      "fit pos : 311.80 px 1093.56 px\n",
      "fit distance : 781.76 px 4.13 m\n",
      "All good for frame : 778\n"
     ]
    },
    {
     "name": "stderr",
     "output_type": "stream",
     "text": [
      "\r",
      " 62%|██████▏   | 778/1261 [36:56<24:00,  2.98s/it]"
     ]
    },
    {
     "name": "stdout",
     "output_type": "stream",
     "text": [
      "first coefficient diff : 3.912319548042683e-05 second coefficient diff : 0.18468075354285174\n",
      "fit pos : 310.49 px 1090.86 px\n",
      "fit distance : 780.37 px 4.12 m\n",
      "All good for frame : 779\n"
     ]
    },
    {
     "name": "stderr",
     "output_type": "stream",
     "text": [
      "\r",
      " 62%|██████▏   | 779/1261 [36:59<23:58,  2.99s/it]"
     ]
    },
    {
     "name": "stdout",
     "output_type": "stream",
     "text": [
      "first coefficient diff : 4.821361654085886e-05 second coefficient diff : 0.16583144228446922\n",
      "fit pos : 310.16 px 1088.95 px\n",
      "fit distance : 778.79 px 4.12 m\n",
      "All good for frame : 780\n"
     ]
    },
    {
     "name": "stderr",
     "output_type": "stream",
     "text": [
      "\r",
      " 62%|██████▏   | 780/1261 [37:02<23:55,  2.99s/it]"
     ]
    },
    {
     "name": "stdout",
     "output_type": "stream",
     "text": [
      "first coefficient diff : 1.5138325399937454e-05 second coefficient diff : 0.1802743021730558\n",
      "fit pos : 314.21 px 1090.52 px\n",
      "fit distance : 776.31 px 4.10 m\n",
      "All good for frame : 781\n"
     ]
    },
    {
     "name": "stderr",
     "output_type": "stream",
     "text": [
      "\r",
      " 62%|██████▏   | 781/1261 [37:06<24:39,  3.08s/it]"
     ]
    },
    {
     "name": "stdout",
     "output_type": "stream",
     "text": [
      "first coefficient diff : 2.3165405752545887e-05 second coefficient diff : 0.14120614747070215\n",
      "fit pos : 311.86 px 1089.01 px\n",
      "fit distance : 777.16 px 4.11 m\n",
      "All good for frame : 782\n"
     ]
    },
    {
     "name": "stderr",
     "output_type": "stream",
     "text": [
      "\r",
      " 62%|██████▏   | 782/1261 [37:09<24:38,  3.09s/it]"
     ]
    },
    {
     "name": "stdout",
     "output_type": "stream",
     "text": [
      "first coefficient diff : 6.702552110717094e-07 second coefficient diff : 0.160204174169653\n",
      "fit pos : 312.10 px 1084.01 px\n",
      "fit distance : 771.91 px 4.08 m\n",
      "All good for frame : 783\n"
     ]
    },
    {
     "name": "stderr",
     "output_type": "stream",
     "text": [
      "\r",
      " 62%|██████▏   | 783/1261 [37:12<24:22,  3.06s/it]"
     ]
    },
    {
     "name": "stdout",
     "output_type": "stream",
     "text": [
      "first coefficient diff : 3.534730763528251e-05 second coefficient diff : 0.17611536219955282\n",
      "fit pos : 314.16 px 1081.60 px\n",
      "fit distance : 767.44 px 4.06 m\n",
      "All good for frame : 784\n"
     ]
    },
    {
     "name": "stderr",
     "output_type": "stream",
     "text": [
      "\r",
      " 62%|██████▏   | 784/1261 [37:15<24:09,  3.04s/it]"
     ]
    },
    {
     "name": "stdout",
     "output_type": "stream",
     "text": [
      "first coefficient diff : 4.959245341043059e-05 second coefficient diff : 0.173688513486642\n",
      "fit pos : 313.78 px 1081.45 px\n",
      "fit distance : 767.67 px 4.06 m\n",
      "All good for frame : 785\n"
     ]
    },
    {
     "name": "stderr",
     "output_type": "stream",
     "text": [
      "\r",
      " 62%|██████▏   | 785/1261 [37:18<23:57,  3.02s/it]"
     ]
    },
    {
     "name": "stdout",
     "output_type": "stream",
     "text": [
      "first coefficient diff : 3.371703443797331e-05 second coefficient diff : 0.17242564041868197\n",
      "fit pos : 314.25 px 1081.42 px\n",
      "fit distance : 767.17 px 4.06 m\n",
      "All good for frame : 786\n"
     ]
    },
    {
     "name": "stderr",
     "output_type": "stream",
     "text": [
      "\r",
      " 62%|██████▏   | 786/1261 [37:21<23:45,  3.00s/it]"
     ]
    },
    {
     "name": "stdout",
     "output_type": "stream",
     "text": [
      "first coefficient diff : 5.271098559365853e-06 second coefficient diff : 0.14400705941405956\n",
      "fit pos : 312.06 px 1084.38 px\n",
      "fit distance : 772.32 px 4.08 m\n",
      "All good for frame : 787\n"
     ]
    },
    {
     "name": "stderr",
     "output_type": "stream",
     "text": [
      "\r",
      " 62%|██████▏   | 787/1261 [37:24<23:34,  2.98s/it]"
     ]
    },
    {
     "name": "stdout",
     "output_type": "stream",
     "text": [
      "first coefficient diff : 3.8624620402067544e-05 second coefficient diff : 0.18822790243547283\n",
      "fit pos : 309.14 px 1075.42 px\n",
      "fit distance : 766.27 px 4.05 m\n",
      "All good for frame : 788\n"
     ]
    },
    {
     "name": "stderr",
     "output_type": "stream",
     "text": [
      "\r",
      " 62%|██████▏   | 788/1261 [37:27<23:24,  2.97s/it]"
     ]
    },
    {
     "name": "stdout",
     "output_type": "stream",
     "text": [
      "first coefficient diff : 3.1707764670707274e-05 second coefficient diff : 0.195132428340525\n",
      "fit pos : 308.65 px 1072.31 px\n",
      "fit distance : 763.66 px 4.04 m\n",
      "All good for frame : 789\n"
     ]
    },
    {
     "name": "stderr",
     "output_type": "stream",
     "text": [
      "\r",
      " 63%|██████▎   | 789/1261 [37:30<23:17,  2.96s/it]"
     ]
    },
    {
     "name": "stdout",
     "output_type": "stream",
     "text": [
      "first coefficient diff : 7.359753154270255e-08 second coefficient diff : 0.1687970392851566\n",
      "fit pos : 310.94 px 1073.82 px\n",
      "fit distance : 762.88 px 4.03 m\n",
      "All good for frame : 790\n"
     ]
    },
    {
     "name": "stderr",
     "output_type": "stream",
     "text": [
      "\r",
      " 63%|██████▎   | 790/1261 [37:32<23:10,  2.95s/it]"
     ]
    },
    {
     "name": "stdout",
     "output_type": "stream",
     "text": [
      "first coefficient diff : 1.4698240538698552e-05 second coefficient diff : 0.14493563274229396\n",
      "fit pos : 311.56 px 1073.87 px\n",
      "fit distance : 762.31 px 4.03 m\n",
      "All good for frame : 791\n"
     ]
    },
    {
     "name": "stderr",
     "output_type": "stream",
     "text": [
      "\r",
      " 63%|██████▎   | 791/1261 [37:35<23:05,  2.95s/it]"
     ]
    },
    {
     "name": "stdout",
     "output_type": "stream",
     "text": [
      "first coefficient diff : 3.561935502861642e-05 second coefficient diff : 0.170303331691239\n",
      "fit pos : 312.02 px 1070.35 px\n",
      "fit distance : 758.33 px 4.01 m\n",
      "All good for frame : 792\n"
     ]
    },
    {
     "name": "stderr",
     "output_type": "stream",
     "text": [
      "\r",
      " 63%|██████▎   | 792/1261 [37:38<23:01,  2.95s/it]"
     ]
    },
    {
     "name": "stdout",
     "output_type": "stream",
     "text": [
      "first coefficient diff : 2.5228092217067502e-05 second coefficient diff : 0.17320523810866167\n",
      "fit pos : 312.56 px 1068.72 px\n",
      "fit distance : 756.15 px 4.00 m\n",
      "All good for frame : 793\n"
     ]
    },
    {
     "name": "stderr",
     "output_type": "stream",
     "text": [
      "\r",
      " 63%|██████▎   | 793/1261 [37:41<22:55,  2.94s/it]"
     ]
    },
    {
     "name": "stdout",
     "output_type": "stream",
     "text": [
      "first coefficient diff : 2.963132565663408e-05 second coefficient diff : 0.17368724570011937\n",
      "fit pos : 314.00 px 1068.04 px\n",
      "fit distance : 754.04 px 3.99 m\n",
      "All good for frame : 794\n"
     ]
    },
    {
     "name": "stderr",
     "output_type": "stream",
     "text": [
      "\r",
      " 63%|██████▎   | 794/1261 [37:44<22:50,  2.94s/it]"
     ]
    },
    {
     "name": "stdout",
     "output_type": "stream",
     "text": [
      "first coefficient diff : 4.1881420217210625e-05 second coefficient diff : 0.19131004715829678\n",
      "fit pos : 314.72 px 1064.89 px\n",
      "fit distance : 750.17 px 3.97 m\n",
      "All good for frame : 795\n"
     ]
    },
    {
     "name": "stderr",
     "output_type": "stream",
     "text": [
      "\r",
      " 63%|██████▎   | 795/1261 [37:47<22:50,  2.94s/it]"
     ]
    },
    {
     "name": "stdout",
     "output_type": "stream",
     "text": [
      "first coefficient diff : 6.37777381181709e-05 second coefficient diff : 0.22463969657504412\n",
      "fit pos : 317.25 px 1064.79 px\n",
      "fit distance : 747.54 px 3.95 m\n",
      "All good for frame : 796\n"
     ]
    },
    {
     "name": "stderr",
     "output_type": "stream",
     "text": [
      "\r",
      " 63%|██████▎   | 796/1261 [37:50<22:49,  2.95s/it]"
     ]
    },
    {
     "name": "stdout",
     "output_type": "stream",
     "text": [
      "first coefficient diff : 6.493817567120852e-05 second coefficient diff : 0.21206725787714042\n",
      "fit pos : 317.97 px 1064.82 px\n",
      "fit distance : 746.85 px 3.95 m\n",
      "All good for frame : 797\n"
     ]
    },
    {
     "name": "stderr",
     "output_type": "stream",
     "text": [
      "\r",
      " 63%|██████▎   | 797/1261 [37:53<22:46,  2.95s/it]"
     ]
    },
    {
     "name": "stdout",
     "output_type": "stream",
     "text": [
      "first coefficient diff : 7.213459630193098e-05 second coefficient diff : 0.22164492785060746\n",
      "fit pos : 316.62 px 1063.97 px\n",
      "fit distance : 747.35 px 3.95 m\n",
      "All good for frame : 798\n"
     ]
    },
    {
     "name": "stderr",
     "output_type": "stream",
     "text": [
      "\r",
      " 63%|██████▎   | 798/1261 [37:56<22:41,  2.94s/it]"
     ]
    },
    {
     "name": "stdout",
     "output_type": "stream",
     "text": [
      "first coefficient diff : 3.2623256735627145e-05 second coefficient diff : 0.16756336141318962\n",
      "fit pos : 314.84 px 1067.53 px\n",
      "fit distance : 752.69 px 3.98 m\n",
      "All good for frame : 799\n"
     ]
    },
    {
     "name": "stderr",
     "output_type": "stream",
     "text": [
      "\r",
      " 63%|██████▎   | 799/1261 [37:59<22:36,  2.94s/it]"
     ]
    },
    {
     "name": "stdout",
     "output_type": "stream",
     "text": [
      "first coefficient diff : 7.85487520307768e-05 second coefficient diff : 0.18065765886086754\n",
      "fit pos : 313.96 px 1061.31 px\n",
      "fit distance : 747.34 px 3.95 m\n",
      "All good for frame : 800\n"
     ]
    },
    {
     "name": "stderr",
     "output_type": "stream",
     "text": [
      "\r",
      " 63%|██████▎   | 800/1261 [38:02<22:32,  2.93s/it]"
     ]
    },
    {
     "name": "stdout",
     "output_type": "stream",
     "text": [
      "first coefficient diff : 8.754315435914364e-05 second coefficient diff : 0.18295986651268734\n",
      "fit pos : 314.97 px 1064.40 px\n",
      "fit distance : 749.44 px 3.96 m\n",
      "All good for frame : 801\n"
     ]
    },
    {
     "name": "stderr",
     "output_type": "stream",
     "text": [
      "\r",
      " 64%|██████▎   | 801/1261 [38:05<22:29,  2.93s/it]"
     ]
    },
    {
     "name": "stdout",
     "output_type": "stream",
     "text": [
      "first coefficient diff : 6.676093947479014e-05 second coefficient diff : 0.15477436963091867\n",
      "fit pos : 312.59 px 1064.60 px\n",
      "fit distance : 752.01 px 3.97 m\n",
      "All good for frame : 802\n"
     ]
    },
    {
     "name": "stderr",
     "output_type": "stream",
     "text": [
      "\r",
      " 64%|██████▎   | 802/1261 [38:08<22:33,  2.95s/it]"
     ]
    },
    {
     "name": "stdout",
     "output_type": "stream",
     "text": [
      "first coefficient diff : 8.48510092415709e-05 second coefficient diff : 0.17220054282897201\n",
      "fit pos : 316.03 px 1066.94 px\n",
      "fit distance : 750.91 px 3.97 m\n",
      "All good for frame : 803\n"
     ]
    },
    {
     "name": "stderr",
     "output_type": "stream",
     "text": [
      "\r",
      " 64%|██████▎   | 803/1261 [38:11<22:27,  2.94s/it]"
     ]
    },
    {
     "name": "stdout",
     "output_type": "stream",
     "text": [
      "first coefficient diff : 0.00013404438731829727 second coefficient diff : 0.24128463779870574\n",
      "fit pos : 320.66 px 1063.46 px\n",
      "fit distance : 742.80 px 3.93 m\n",
      "All good for frame : 804\n"
     ]
    },
    {
     "name": "stderr",
     "output_type": "stream",
     "text": [
      "\r",
      " 64%|██████▍   | 804/1261 [38:14<22:21,  2.94s/it]"
     ]
    },
    {
     "name": "stdout",
     "output_type": "stream",
     "text": [
      "first coefficient diff : 0.00019252989167304306 second coefficient diff : 0.30870181349309567\n",
      "fit pos : 322.72 px 1056.36 px\n",
      "fit distance : 733.63 px 3.88 m\n",
      "All good for frame : 805\n"
     ]
    },
    {
     "name": "stderr",
     "output_type": "stream",
     "text": [
      "\r",
      " 64%|██████▍   | 805/1261 [38:16<22:14,  2.93s/it]"
     ]
    },
    {
     "name": "stdout",
     "output_type": "stream",
     "text": [
      "first coefficient diff : 0.0001889841434167758 second coefficient diff : 0.30654490980281734\n",
      "fit pos : 325.39 px 1058.37 px\n",
      "fit distance : 732.98 px 3.87 m\n",
      "All good for frame : 806\n"
     ]
    },
    {
     "name": "stderr",
     "output_type": "stream",
     "text": [
      "\r",
      " 64%|██████▍   | 806/1261 [38:19<22:08,  2.92s/it]"
     ]
    },
    {
     "name": "stdout",
     "output_type": "stream",
     "text": [
      "first coefficient diff : 0.00021454370933345578 second coefficient diff : 0.32863721088422715\n",
      "fit pos : 325.28 px 1058.93 px\n",
      "fit distance : 733.65 px 3.88 m\n",
      "All good for frame : 807\n"
     ]
    },
    {
     "name": "stderr",
     "output_type": "stream",
     "text": [
      "\r",
      " 64%|██████▍   | 807/1261 [38:22<22:01,  2.91s/it]"
     ]
    },
    {
     "name": "stdout",
     "output_type": "stream",
     "text": [
      "first coefficient diff : 0.00020433384161279227 second coefficient diff : 0.3278095253238594\n",
      "fit pos : 326.34 px 1060.07 px\n",
      "fit distance : 733.73 px 3.88 m\n",
      "All good for frame : 808\n"
     ]
    },
    {
     "name": "stderr",
     "output_type": "stream",
     "text": [
      "\r",
      " 64%|██████▍   | 808/1261 [38:25<21:58,  2.91s/it]"
     ]
    },
    {
     "name": "stdout",
     "output_type": "stream",
     "text": [
      "first coefficient diff : 0.000166309867697293 second coefficient diff : 0.27086051077871043\n",
      "fit pos : 322.94 px 1061.97 px\n",
      "fit distance : 739.03 px 3.91 m\n",
      "All good for frame : 809\n"
     ]
    },
    {
     "name": "stderr",
     "output_type": "stream",
     "text": [
      "\r",
      " 64%|██████▍   | 809/1261 [38:28<21:52,  2.90s/it]"
     ]
    },
    {
     "name": "stdout",
     "output_type": "stream",
     "text": [
      "first coefficient diff : 0.0001608719719350389 second coefficient diff : 0.2545809543244717\n",
      "fit pos : 319.51 px 1061.88 px\n",
      "fit distance : 742.37 px 3.92 m\n",
      "All good for frame : 810\n"
     ]
    },
    {
     "name": "stderr",
     "output_type": "stream",
     "text": [
      "\r",
      " 64%|██████▍   | 810/1261 [38:31<21:44,  2.89s/it]"
     ]
    },
    {
     "name": "stdout",
     "output_type": "stream",
     "text": [
      "first coefficient diff : 0.00017756876799008222 second coefficient diff : 0.27610961491415437\n",
      "fit pos : 315.82 px 1063.66 px\n",
      "fit distance : 747.83 px 3.95 m\n",
      "All good for frame : 811\n"
     ]
    },
    {
     "name": "stderr",
     "output_type": "stream",
     "text": [
      "\r",
      " 64%|██████▍   | 811/1261 [38:34<22:21,  2.98s/it]"
     ]
    },
    {
     "name": "stdout",
     "output_type": "stream",
     "text": [
      "first coefficient diff : 0.00011681088847994539 second coefficient diff : 0.20461647892327167\n",
      "fit pos : 313.17 px 1072.38 px\n",
      "fit distance : 759.21 px 4.01 m\n",
      "All good for frame : 812\n"
     ]
    },
    {
     "name": "stderr",
     "output_type": "stream",
     "text": [
      "\r",
      " 64%|██████▍   | 812/1261 [38:37<22:13,  2.97s/it]"
     ]
    },
    {
     "name": "stdout",
     "output_type": "stream",
     "text": [
      "first coefficient diff : 9.162732694028962e-05 second coefficient diff : 0.18369620225603983\n",
      "fit pos : 309.31 px 1073.35 px\n",
      "fit distance : 764.03 px 4.04 m\n",
      "All good for frame : 813\n"
     ]
    },
    {
     "name": "stderr",
     "output_type": "stream",
     "text": [
      "\r",
      " 64%|██████▍   | 813/1261 [38:40<21:58,  2.94s/it]"
     ]
    },
    {
     "name": "stdout",
     "output_type": "stream",
     "text": [
      "first coefficient diff : 9.218314341659042e-05 second coefficient diff : 0.17153883611137596\n",
      "fit pos : 307.57 px 1071.12 px\n",
      "fit distance : 763.54 px 4.04 m\n",
      "All good for frame : 814\n"
     ]
    },
    {
     "name": "stderr",
     "output_type": "stream",
     "text": [
      "\r",
      " 65%|██████▍   | 814/1261 [38:43<21:42,  2.91s/it]"
     ]
    },
    {
     "name": "stdout",
     "output_type": "stream",
     "text": [
      "first coefficient diff : 6.967643268991164e-07 second coefficient diff : 0.10487491759028161\n",
      "fit pos : 299.92 px 1070.37 px\n",
      "fit distance : 770.44 px 4.07 m\n",
      "All good for frame : 815\n"
     ]
    },
    {
     "name": "stderr",
     "output_type": "stream",
     "text": [
      "\r",
      " 65%|██████▍   | 815/1261 [38:46<21:26,  2.88s/it]"
     ]
    },
    {
     "name": "stdout",
     "output_type": "stream",
     "text": [
      "first coefficient diff : 2.0034570074041133e-05 second coefficient diff : 0.12383183052282473\n",
      "fit pos : 302.60 px 1072.03 px\n",
      "fit distance : 769.43 px 4.07 m\n",
      "All good for frame : 816\n"
     ]
    },
    {
     "name": "stderr",
     "output_type": "stream",
     "text": [
      "\r",
      " 65%|██████▍   | 816/1261 [38:48<21:12,  2.86s/it]"
     ]
    },
    {
     "name": "stdout",
     "output_type": "stream",
     "text": [
      "first coefficient diff : 7.791594150662664e-05 second coefficient diff : 0.11075872752920876\n",
      "fit pos : 297.98 px 1065.58 px\n",
      "fit distance : 767.59 px 4.06 m\n",
      "All good for frame : 817\n"
     ]
    },
    {
     "name": "stderr",
     "output_type": "stream",
     "text": [
      "\r",
      " 65%|██████▍   | 817/1261 [38:51<21:01,  2.84s/it]"
     ]
    },
    {
     "name": "stdout",
     "output_type": "stream",
     "text": [
      "first coefficient diff : 4.6492462292107076e-05 second coefficient diff : 0.14394904009580714\n",
      "fit pos : 298.85 px 1063.54 px\n",
      "fit distance : 764.70 px 4.04 m\n",
      "All good for frame : 818\n"
     ]
    },
    {
     "name": "stderr",
     "output_type": "stream",
     "text": [
      "\r",
      " 65%|██████▍   | 818/1261 [38:54<20:53,  2.83s/it]"
     ]
    },
    {
     "name": "stdout",
     "output_type": "stream",
     "text": [
      "first coefficient diff : 1.4936702724580898e-05 second coefficient diff : 0.15227824176276725\n",
      "fit pos : 298.34 px 1061.53 px\n",
      "fit distance : 763.19 px 4.03 m\n",
      "All good for frame : 819\n"
     ]
    },
    {
     "name": "stderr",
     "output_type": "stream",
     "text": [
      "\r",
      " 65%|██████▍   | 819/1261 [38:57<20:45,  2.82s/it]"
     ]
    },
    {
     "name": "stdout",
     "output_type": "stream",
     "text": [
      "first coefficient diff : 5.033662690799633e-06 second coefficient diff : 0.1428770027977299\n",
      "fit pos : 299.28 px 1059.87 px\n",
      "fit distance : 760.59 px 4.02 m\n",
      "All good for frame : 820\n"
     ]
    },
    {
     "name": "stderr",
     "output_type": "stream",
     "text": [
      "\r",
      " 65%|██████▌   | 820/1261 [39:00<20:38,  2.81s/it]"
     ]
    },
    {
     "name": "stdout",
     "output_type": "stream",
     "text": [
      "first coefficient diff : 4.059874968166124e-05 second coefficient diff : 0.09639622400897391\n",
      "fit pos : 297.79 px 1061.69 px\n",
      "fit distance : 763.89 px 4.04 m\n",
      "All good for frame : 821\n"
     ]
    },
    {
     "name": "stderr",
     "output_type": "stream",
     "text": [
      "\r",
      " 65%|██████▌   | 821/1261 [39:02<20:31,  2.80s/it]"
     ]
    },
    {
     "name": "stdout",
     "output_type": "stream",
     "text": [
      "first coefficient diff : 0.00010462866892470578 second coefficient diff : 0.019304591091956702\n",
      "fit pos : 292.34 px 1064.67 px\n",
      "fit distance : 772.33 px 4.08 m\n",
      "All good for frame : 822\n"
     ]
    },
    {
     "name": "stderr",
     "output_type": "stream",
     "text": [
      "\r",
      " 65%|██████▌   | 822/1261 [39:05<20:24,  2.79s/it]"
     ]
    },
    {
     "name": "stdout",
     "output_type": "stream",
     "text": [
      "first coefficient diff : 0.0002552038453687283 second coefficient diff : 0.085220537831668\n",
      "fit pos : 289.43 px 1081.70 px\n",
      "fit distance : 792.26 px 4.19 m\n",
      "All good for frame : 823\n"
     ]
    },
    {
     "name": "stderr",
     "output_type": "stream",
     "text": [
      "\r",
      " 65%|██████▌   | 823/1261 [39:08<20:23,  2.79s/it]"
     ]
    },
    {
     "name": "stdout",
     "output_type": "stream",
     "text": [
      "first coefficient diff : 0.00016611197978079516 second coefficient diff : 0.025327022097986374\n",
      "fit pos : 285.64 px 1065.27 px\n",
      "fit distance : 779.63 px 4.12 m\n",
      "All good for frame : 824\n"
     ]
    },
    {
     "name": "stderr",
     "output_type": "stream",
     "text": [
      "\r",
      " 65%|██████▌   | 824/1261 [39:11<20:23,  2.80s/it]"
     ]
    },
    {
     "name": "stdout",
     "output_type": "stream",
     "text": [
      "first coefficient diff : 8.464665120632377e-05 second coefficient diff : 0.03624911931569902\n",
      "fit pos : 283.17 px 1052.68 px\n",
      "fit distance : 769.51 px 4.07 m\n",
      "All good for frame : 825\n"
     ]
    },
    {
     "name": "stderr",
     "output_type": "stream",
     "text": [
      "\r",
      " 65%|██████▌   | 825/1261 [39:14<20:27,  2.81s/it]"
     ]
    },
    {
     "name": "stdout",
     "output_type": "stream",
     "text": [
      "first coefficient diff : 0.0001685123966539689 second coefficient diff : 0.014032588095011456\n",
      "fit pos : 283.46 px 1058.94 px\n",
      "fit distance : 775.48 px 4.10 m\n",
      "All good for frame : 826\n"
     ]
    },
    {
     "name": "stderr",
     "output_type": "stream",
     "text": [
      "\r",
      " 66%|██████▌   | 826/1261 [39:16<20:24,  2.81s/it]"
     ]
    },
    {
     "name": "stdout",
     "output_type": "stream",
     "text": [
      "first coefficient diff : 0.00016838410136348867 second coefficient diff : 0.01356779306689232\n",
      "fit pos : 283.80 px 1056.47 px\n",
      "fit distance : 772.67 px 4.08 m\n",
      "All good for frame : 827\n"
     ]
    },
    {
     "name": "stderr",
     "output_type": "stream",
     "text": [
      "\r",
      " 66%|██████▌   | 827/1261 [39:19<20:22,  2.82s/it]"
     ]
    },
    {
     "name": "stdout",
     "output_type": "stream",
     "text": [
      "first coefficient diff : 0.00017989959217071708 second coefficient diff : 0.02822765339472999\n",
      "fit pos : 282.76 px 1053.31 px\n",
      "fit distance : 770.55 px 4.07 m\n",
      "All good for frame : 828\n"
     ]
    },
    {
     "name": "stderr",
     "output_type": "stream",
     "text": [
      "\r",
      " 66%|██████▌   | 828/1261 [39:22<20:20,  2.82s/it]"
     ]
    },
    {
     "name": "stdout",
     "output_type": "stream",
     "text": [
      "first coefficient diff : 0.00010264324261414945 second coefficient diff : 0.02291094305015645\n",
      "fit pos : 289.08 px 1047.51 px\n",
      "fit distance : 758.43 px 4.01 m\n",
      "All good for frame : 829\n"
     ]
    },
    {
     "name": "stderr",
     "output_type": "stream",
     "text": [
      "\r",
      " 66%|██████▌   | 829/1261 [39:25<20:18,  2.82s/it]"
     ]
    },
    {
     "name": "stdout",
     "output_type": "stream",
     "text": [
      "first coefficient diff : 2.917486320793783e-05 second coefficient diff : 0.05939642262611805\n",
      "fit pos : 292.10 px 1041.92 px\n",
      "fit distance : 749.82 px 3.96 m\n",
      "All good for frame : 830\n"
     ]
    },
    {
     "name": "stderr",
     "output_type": "stream",
     "text": [
      "\r",
      " 66%|██████▌   | 830/1261 [39:28<20:18,  2.83s/it]"
     ]
    },
    {
     "name": "stdout",
     "output_type": "stream",
     "text": [
      "first coefficient diff : 6.841501619609617e-06 second coefficient diff : 0.06564470321169502\n",
      "fit pos : 291.61 px 1039.60 px\n",
      "fit distance : 747.99 px 3.95 m\n",
      "All good for frame : 831\n"
     ]
    },
    {
     "name": "stderr",
     "output_type": "stream",
     "text": [
      "\r",
      " 66%|██████▌   | 831/1261 [39:31<20:21,  2.84s/it]"
     ]
    },
    {
     "name": "stdout",
     "output_type": "stream",
     "text": [
      "first coefficient diff : 1.9739966729014882e-05 second coefficient diff : 0.04614154866479464\n",
      "fit pos : 289.75 px 1037.79 px\n",
      "fit distance : 748.04 px 3.95 m\n",
      "All good for frame : 832\n"
     ]
    },
    {
     "name": "stderr",
     "output_type": "stream",
     "text": [
      "\r",
      " 66%|██████▌   | 832/1261 [39:34<20:28,  2.86s/it]"
     ]
    },
    {
     "name": "stdout",
     "output_type": "stream",
     "text": [
      "first coefficient diff : 8.211035474333208e-06 second coefficient diff : 0.06354494065610256\n",
      "fit pos : 291.25 px 1037.59 px\n",
      "fit distance : 746.34 px 3.94 m\n",
      "All good for frame : 833\n"
     ]
    },
    {
     "name": "stderr",
     "output_type": "stream",
     "text": [
      "\r",
      " 66%|██████▌   | 833/1261 [39:36<20:24,  2.86s/it]"
     ]
    },
    {
     "name": "stdout",
     "output_type": "stream",
     "text": [
      "first coefficient diff : 3.917598291741859e-05 second coefficient diff : 0.009592654671172096\n",
      "fit pos : 290.10 px 1046.33 px\n",
      "fit distance : 756.23 px 4.00 m\n",
      "All good for frame : 834\n"
     ]
    },
    {
     "name": "stderr",
     "output_type": "stream",
     "text": [
      "\r",
      " 66%|██████▌   | 834/1261 [39:39<20:20,  2.86s/it]"
     ]
    },
    {
     "name": "stdout",
     "output_type": "stream",
     "text": [
      "first coefficient diff : 0.000294210004695338 second coefficient diff : 0.1664972052955208\n",
      "fit pos : 286.65 px 1076.85 px\n",
      "fit distance : 790.20 px 4.18 m\n",
      "All good for frame : 835\n"
     ]
    },
    {
     "name": "stderr",
     "output_type": "stream",
     "text": [
      "\r",
      " 66%|██████▌   | 835/1261 [39:42<20:13,  2.85s/it]"
     ]
    },
    {
     "name": "stdout",
     "output_type": "stream",
     "text": [
      "first coefficient diff : 0.0003362168569746413 second coefficient diff : 0.2224120165964117\n",
      "fit pos : 281.32 px 1076.36 px\n",
      "fit distance : 795.04 px 4.20 m\n",
      "All good for frame : 836\n"
     ]
    },
    {
     "name": "stderr",
     "output_type": "stream",
     "text": [
      "\r",
      " 66%|██████▋   | 836/1261 [39:45<20:09,  2.85s/it]"
     ]
    },
    {
     "name": "stdout",
     "output_type": "stream",
     "text": [
      "first coefficient diff : 0.0003601195833606293 second coefficient diff : 0.26928952562066616\n",
      "fit pos : 276.30 px 1072.21 px\n",
      "fit distance : 795.91 px 4.21 m\n",
      "All good for frame : 837\n"
     ]
    },
    {
     "name": "stderr",
     "output_type": "stream",
     "text": [
      "\r",
      " 66%|██████▋   | 837/1261 [39:48<20:07,  2.85s/it]"
     ]
    },
    {
     "name": "stdout",
     "output_type": "stream",
     "text": [
      "first coefficient diff : 1.5351494434509864e-06 second coefficient diff : 0.027091583781675643\n",
      "fit pos : 272.55 px 1038.07 px\n",
      "fit distance : 765.53 px 4.05 m\n",
      "All good for frame : 838\n"
     ]
    },
    {
     "name": "stderr",
     "output_type": "stream",
     "text": [
      "\r",
      " 66%|██████▋   | 838/1261 [39:51<20:03,  2.85s/it]"
     ]
    },
    {
     "name": "stdout",
     "output_type": "stream",
     "text": [
      "first coefficient diff : 2.3439384260133794e-05 second coefficient diff : 0.0625240719748344\n",
      "fit pos : 270.37 px 1038.23 px\n",
      "fit distance : 767.86 px 4.06 m\n",
      "All good for frame : 839\n"
     ]
    },
    {
     "name": "stderr",
     "output_type": "stream",
     "text": [
      "\r",
      " 67%|██████▋   | 839/1261 [39:53<20:02,  2.85s/it]"
     ]
    },
    {
     "name": "stdout",
     "output_type": "stream",
     "text": [
      "first coefficient diff : 1.9678976778259483e-05 second coefficient diff : 0.04311181111999446\n",
      "fit pos : 268.15 px 1040.45 px\n",
      "fit distance : 772.30 px 4.08 m\n",
      "All good for frame : 840\n"
     ]
    },
    {
     "name": "stderr",
     "output_type": "stream",
     "text": [
      "\r",
      " 67%|██████▋   | 840/1261 [39:56<20:00,  2.85s/it]"
     ]
    },
    {
     "name": "stdout",
     "output_type": "stream",
     "text": [
      "first coefficient diff : 1.646711178294102e-05 second coefficient diff : 0.07342066334606434\n",
      "fit pos : 265.91 px 1039.89 px\n",
      "fit distance : 773.98 px 4.09 m\n",
      "All good for frame : 841\n"
     ]
    },
    {
     "name": "stderr",
     "output_type": "stream",
     "text": [
      "\r",
      " 67%|██████▋   | 841/1261 [39:59<20:32,  2.94s/it]"
     ]
    },
    {
     "name": "stdout",
     "output_type": "stream",
     "text": [
      "first coefficient diff : 2.1020412894064654e-05 second coefficient diff : 0.042860874122620185\n",
      "fit pos : 260.72 px 1034.69 px\n",
      "fit distance : 773.97 px 4.09 m\n",
      "All good for frame : 842\n"
     ]
    },
    {
     "name": "stderr",
     "output_type": "stream",
     "text": [
      "\r",
      " 67%|██████▋   | 842/1261 [40:02<20:23,  2.92s/it]"
     ]
    },
    {
     "name": "stdout",
     "output_type": "stream",
     "text": [
      "first coefficient diff : 1.3760464693925406e-05 second coefficient diff : 0.02801462615457545\n",
      "fit pos : 257.14 px 1030.80 px\n",
      "fit distance : 773.65 px 4.09 m\n",
      "All good for frame : 843\n"
     ]
    },
    {
     "name": "stderr",
     "output_type": "stream",
     "text": [
      "\r",
      " 67%|██████▋   | 843/1261 [40:05<20:12,  2.90s/it]"
     ]
    },
    {
     "name": "stdout",
     "output_type": "stream",
     "text": [
      "first coefficient diff : 2.2961348161597587e-05 second coefficient diff : 0.02787589289098813\n",
      "fit pos : 254.55 px 1032.26 px\n",
      "fit distance : 777.72 px 4.11 m\n",
      "All good for frame : 844\n"
     ]
    },
    {
     "name": "stderr",
     "output_type": "stream",
     "text": [
      "\r",
      " 67%|██████▋   | 844/1261 [40:08<20:03,  2.89s/it]"
     ]
    },
    {
     "name": "stdout",
     "output_type": "stream",
     "text": [
      "first coefficient diff : 7.033318264100888e-05 second coefficient diff : 0.04486090729135955\n",
      "fit pos : 250.84 px 1036.92 px\n",
      "fit distance : 786.08 px 4.15 m\n",
      "All good for frame : 845\n"
     ]
    },
    {
     "name": "stderr",
     "output_type": "stream",
     "text": [
      "\r",
      " 67%|██████▋   | 845/1261 [40:11<19:55,  2.87s/it]"
     ]
    },
    {
     "name": "stdout",
     "output_type": "stream",
     "text": [
      "first coefficient diff : 0.0001299096807216946 second coefficient diff : 0.04628564183294759\n",
      "fit pos : 248.68 px 1046.87 px\n",
      "fit distance : 798.19 px 4.22 m\n",
      "All good for frame : 846\n"
     ]
    },
    {
     "name": "stderr",
     "output_type": "stream",
     "text": [
      "\r",
      " 67%|██████▋   | 846/1261 [40:14<19:49,  2.87s/it]"
     ]
    },
    {
     "name": "stdout",
     "output_type": "stream",
     "text": [
      "first coefficient diff : 0.00040172733112696146 second coefficient diff : 0.21903092093458693\n",
      "fit pos : 243.95 px 1081.85 px\n",
      "fit distance : 837.91 px 4.43 m\n",
      "All good for frame : 847\n"
     ]
    },
    {
     "name": "stderr",
     "output_type": "stream",
     "text": [
      "\r",
      " 67%|██████▋   | 847/1261 [40:17<19:39,  2.85s/it]"
     ]
    },
    {
     "name": "stdout",
     "output_type": "stream",
     "text": [
      "first coefficient diff : 0.0004883772164949668 second coefficient diff : 0.31637337006283367\n",
      "fit pos : 239.47 px 1082.35 px\n",
      "fit distance : 842.88 px 4.46 m\n",
      "All good for frame : 848\n"
     ]
    },
    {
     "name": "stderr",
     "output_type": "stream",
     "text": [
      "\r",
      " 67%|██████▋   | 848/1261 [40:19<19:38,  2.85s/it]"
     ]
    },
    {
     "name": "stdout",
     "output_type": "stream",
     "text": [
      "first coefficient diff : 0.0005406684864477396 second coefficient diff : 0.37982885197182065\n",
      "fit pos : 238.64 px 1078.75 px\n",
      "fit distance : 840.10 px 4.44 m\n",
      "All good for frame : 849\n"
     ]
    },
    {
     "name": "stderr",
     "output_type": "stream",
     "text": [
      "\r",
      " 67%|██████▋   | 849/1261 [40:22<19:36,  2.86s/it]"
     ]
    },
    {
     "name": "stdout",
     "output_type": "stream",
     "text": [
      "first coefficient diff : 0.000169157556868662 second coefficient diff : 0.08968498008726539\n",
      "fit pos : 236.41 px 1043.08 px\n",
      "fit distance : 806.68 px 4.26 m\n",
      "All good for frame : 850\n"
     ]
    },
    {
     "name": "stderr",
     "output_type": "stream",
     "text": [
      "\r",
      " 67%|██████▋   | 850/1261 [40:25<19:36,  2.86s/it]"
     ]
    },
    {
     "name": "stdout",
     "output_type": "stream",
     "text": [
      "first coefficient diff : 1.1273908006818184e-05 second coefficient diff : 0.05106537972537667\n",
      "fit pos : 234.19 px 1032.08 px\n",
      "fit distance : 797.89 px 4.22 m\n",
      "All good for frame : 851\n"
     ]
    },
    {
     "name": "stderr",
     "output_type": "stream",
     "text": [
      "\r",
      " 67%|██████▋   | 851/1261 [40:28<19:35,  2.87s/it]"
     ]
    },
    {
     "name": "stdout",
     "output_type": "stream",
     "text": [
      "first coefficient diff : 2.8366918061129362e-05 second coefficient diff : 0.033847729064774845\n",
      "fit pos : 233.35 px 1035.35 px\n",
      "fit distance : 802.00 px 4.24 m\n",
      "All good for frame : 852\n"
     ]
    },
    {
     "name": "stderr",
     "output_type": "stream",
     "text": [
      "\r",
      " 68%|██████▊   | 852/1261 [40:31<19:33,  2.87s/it]"
     ]
    },
    {
     "name": "stdout",
     "output_type": "stream",
     "text": [
      "first coefficient diff : 7.989571293155837e-05 second coefficient diff : 0.0018688949661758159\n",
      "fit pos : 231.59 px 1031.73 px\n",
      "fit distance : 800.13 px 4.23 m\n",
      "All good for frame : 853\n"
     ]
    },
    {
     "name": "stderr",
     "output_type": "stream",
     "text": [
      "\r",
      " 68%|██████▊   | 853/1261 [40:34<19:32,  2.87s/it]"
     ]
    },
    {
     "name": "stdout",
     "output_type": "stream",
     "text": [
      "first coefficient diff : 7.282100372894216e-05 second coefficient diff : 0.023901658638929513\n",
      "fit pos : 232.16 px 1029.82 px\n",
      "fit distance : 797.66 px 4.22 m\n",
      "All good for frame : 854\n"
     ]
    },
    {
     "name": "stderr",
     "output_type": "stream",
     "text": [
      "\r",
      " 68%|██████▊   | 854/1261 [40:37<19:32,  2.88s/it]"
     ]
    },
    {
     "name": "stdout",
     "output_type": "stream",
     "text": [
      "first coefficient diff : 8.354301775074063e-05 second coefficient diff : 0.04000333675977896\n",
      "fit pos : 230.22 px 1028.87 px\n",
      "fit distance : 798.65 px 4.22 m\n",
      "All good for frame : 855\n"
     ]
    },
    {
     "name": "stderr",
     "output_type": "stream",
     "text": [
      "\r",
      " 68%|██████▊   | 855/1261 [40:40<19:33,  2.89s/it]"
     ]
    },
    {
     "name": "stdout",
     "output_type": "stream",
     "text": [
      "first coefficient diff : 0.0001215822884143709 second coefficient diff : 0.06304852797480304\n",
      "fit pos : 232.29 px 1034.73 px\n",
      "fit distance : 802.44 px 4.24 m\n",
      "All good for frame : 856\n"
     ]
    },
    {
     "name": "stderr",
     "output_type": "stream",
     "text": [
      "\r",
      " 68%|██████▊   | 856/1261 [40:42<19:32,  2.89s/it]"
     ]
    },
    {
     "name": "stdout",
     "output_type": "stream",
     "text": [
      "first coefficient diff : 0.00011982618862906545 second coefficient diff : 0.05208773562219765\n",
      "fit pos : 235.08 px 1039.89 px\n",
      "fit distance : 804.81 px 4.25 m\n",
      "All good for frame : 857\n"
     ]
    },
    {
     "name": "stderr",
     "output_type": "stream",
     "text": [
      "\r",
      " 68%|██████▊   | 857/1261 [40:45<19:33,  2.90s/it]"
     ]
    },
    {
     "name": "stdout",
     "output_type": "stream",
     "text": [
      "first coefficient diff : 0.00029096705388948884 second coefficient diff : 0.14741705444688435\n",
      "fit pos : 231.95 px 1059.04 px\n",
      "fit distance : 827.09 px 4.37 m\n",
      "All good for frame : 858\n"
     ]
    },
    {
     "name": "stderr",
     "output_type": "stream",
     "text": [
      "\r",
      " 68%|██████▊   | 858/1261 [40:48<19:29,  2.90s/it]"
     ]
    },
    {
     "name": "stdout",
     "output_type": "stream",
     "text": [
      "first coefficient diff : 0.0005318868880763979 second coefficient diff : 0.3138394470498053\n",
      "fit pos : 231.50 px 1082.32 px\n",
      "fit distance : 850.82 px 4.50 m\n",
      "All good for frame : 859\n"
     ]
    },
    {
     "name": "stderr",
     "output_type": "stream",
     "text": [
      "\r",
      " 68%|██████▊   | 859/1261 [40:51<19:26,  2.90s/it]"
     ]
    },
    {
     "name": "stdout",
     "output_type": "stream",
     "text": [
      "first coefficient diff : 0.0005758431674030829 second coefficient diff : 0.37535143562492523\n",
      "fit pos : 231.55 px 1076.32 px\n",
      "fit distance : 844.77 px 4.47 m\n",
      "All good for frame : 860\n"
     ]
    },
    {
     "name": "stderr",
     "output_type": "stream",
     "text": [
      "\r",
      " 68%|██████▊   | 860/1261 [40:54<19:22,  2.90s/it]"
     ]
    },
    {
     "name": "stdout",
     "output_type": "stream",
     "text": [
      "first coefficient diff : 0.0005425405401080493 second coefficient diff : 0.3669212485626419\n",
      "fit pos : 234.14 px 1065.37 px\n",
      "fit distance : 831.23 px 4.39 m\n",
      "All good for frame : 861\n"
     ]
    },
    {
     "name": "stderr",
     "output_type": "stream",
     "text": [
      "\r",
      " 68%|██████▊   | 861/1261 [40:57<19:18,  2.90s/it]"
     ]
    },
    {
     "name": "stdout",
     "output_type": "stream",
     "text": [
      "first coefficient diff : 0.0002648380398872932 second coefficient diff : 0.15939098114129047\n",
      "fit pos : 234.52 px 1041.84 px\n",
      "fit distance : 807.33 px 4.27 m\n",
      "All good for frame : 862\n"
     ]
    },
    {
     "name": "stderr",
     "output_type": "stream",
     "text": [
      "\r",
      " 68%|██████▊   | 862/1261 [41:00<19:14,  2.89s/it]"
     ]
    },
    {
     "name": "stdout",
     "output_type": "stream",
     "text": [
      "first coefficient diff : 0.00017126028872648056 second coefficient diff : 0.08804634058026428\n",
      "fit pos : 234.57 px 1037.31 px\n",
      "fit distance : 802.74 px 4.24 m\n",
      "All good for frame : 863\n"
     ]
    },
    {
     "name": "stderr",
     "output_type": "stream",
     "text": [
      "\r",
      " 68%|██████▊   | 863/1261 [41:03<19:10,  2.89s/it]"
     ]
    },
    {
     "name": "stdout",
     "output_type": "stream",
     "text": [
      "first coefficient diff : 0.00015300739829280535 second coefficient diff : 0.1013539713755639\n",
      "fit pos : 235.22 px 1034.49 px\n",
      "fit distance : 799.27 px 4.22 m\n",
      "All good for frame : 864\n"
     ]
    },
    {
     "name": "stderr",
     "output_type": "stream",
     "text": [
      "\r",
      " 69%|██████▊   | 864/1261 [41:06<19:07,  2.89s/it]"
     ]
    },
    {
     "name": "stdout",
     "output_type": "stream",
     "text": [
      "first coefficient diff : 0.00014299031280431092 second coefficient diff : 0.12545543603873494\n",
      "fit pos : 233.92 px 1031.13 px\n",
      "fit distance : 797.22 px 4.21 m\n",
      "All good for frame : 865\n"
     ]
    },
    {
     "name": "stderr",
     "output_type": "stream",
     "text": [
      "\r",
      " 69%|██████▊   | 865/1261 [41:09<19:04,  2.89s/it]"
     ]
    },
    {
     "name": "stdout",
     "output_type": "stream",
     "text": [
      "first coefficient diff : 0.00011759366472898885 second coefficient diff : 0.10210454368381383\n",
      "fit pos : 238.96 px 1029.30 px\n",
      "fit distance : 790.34 px 4.18 m\n",
      "All good for frame : 866\n"
     ]
    },
    {
     "name": "stderr",
     "output_type": "stream",
     "text": [
      "\r",
      " 69%|██████▊   | 866/1261 [41:11<19:05,  2.90s/it]"
     ]
    },
    {
     "name": "stdout",
     "output_type": "stream",
     "text": [
      "first coefficient diff : 0.0001544473396265779 second coefficient diff : 0.16977088486650882\n",
      "fit pos : 235.92 px 1028.07 px\n",
      "fit distance : 792.15 px 4.19 m\n",
      "All good for frame : 867\n"
     ]
    },
    {
     "name": "stderr",
     "output_type": "stream",
     "text": [
      "\r",
      " 69%|██████▉   | 867/1261 [41:14<19:10,  2.92s/it]"
     ]
    },
    {
     "name": "stdout",
     "output_type": "stream",
     "text": [
      "first coefficient diff : 0.0002044253043560397 second coefficient diff : 0.19780260739760164\n",
      "fit pos : 237.22 px 1034.42 px\n",
      "fit distance : 797.20 px 4.21 m\n",
      "All good for frame : 868\n"
     ]
    },
    {
     "name": "stderr",
     "output_type": "stream",
     "text": [
      "\r",
      " 69%|██████▉   | 868/1261 [41:17<19:07,  2.92s/it]"
     ]
    },
    {
     "name": "stdout",
     "output_type": "stream",
     "text": [
      "first coefficient diff : 0.00023395219359948987 second coefficient diff : 0.19958706485679917\n",
      "fit pos : 238.12 px 1040.08 px\n",
      "fit distance : 801.96 px 4.24 m\n",
      "All good for frame : 869\n"
     ]
    },
    {
     "name": "stderr",
     "output_type": "stream",
     "text": [
      "\r",
      " 69%|██████▉   | 869/1261 [41:20<19:03,  2.92s/it]"
     ]
    },
    {
     "name": "stdout",
     "output_type": "stream",
     "text": [
      "first coefficient diff : 0.0003927818202868477 second coefficient diff : 0.304660791619032\n",
      "fit pos : 236.26 px 1064.20 px\n",
      "fit distance : 827.94 px 4.38 m\n",
      "All good for frame : 870\n"
     ]
    },
    {
     "name": "stderr",
     "output_type": "stream",
     "text": [
      "\r",
      " 69%|██████▉   | 870/1261 [41:23<19:04,  2.93s/it]"
     ]
    },
    {
     "name": "stdout",
     "output_type": "stream",
     "text": [
      "first coefficient diff : 0.0002447542434296027 second coefficient diff : 0.20018732870235545\n",
      "fit pos : 239.57 px 1047.08 px\n",
      "fit distance : 807.50 px 4.27 m\n",
      "All good for frame : 871\n"
     ]
    },
    {
     "name": "stderr",
     "output_type": "stream",
     "text": [
      "\r",
      " 69%|██████▉   | 871/1261 [41:26<19:36,  3.02s/it]"
     ]
    },
    {
     "name": "stdout",
     "output_type": "stream",
     "text": [
      "first coefficient diff : 0.0003597949970667567 second coefficient diff : 0.30847310449689946\n",
      "fit pos : 238.63 px 1060.64 px\n",
      "fit distance : 822.01 px 4.34 m\n",
      "All good for frame : 872\n"
     ]
    },
    {
     "name": "stderr",
     "output_type": "stream",
     "text": [
      "\r",
      " 69%|██████▉   | 872/1261 [41:29<19:33,  3.02s/it]"
     ]
    },
    {
     "name": "stdout",
     "output_type": "stream",
     "text": [
      "first coefficient diff : 0.00026923151183453535 second coefficient diff : 0.2606492318874799\n",
      "fit pos : 237.82 px 1043.60 px\n",
      "fit distance : 805.77 px 4.26 m\n",
      "All good for frame : 873\n"
     ]
    },
    {
     "name": "stderr",
     "output_type": "stream",
     "text": [
      "\r",
      " 69%|██████▉   | 873/1261 [41:32<19:21,  2.99s/it]"
     ]
    },
    {
     "name": "stdout",
     "output_type": "stream",
     "text": [
      "first coefficient diff : 0.0003273254005671038 second coefficient diff : 0.3342240970187653\n",
      "fit pos : 236.54 px 1045.43 px\n",
      "fit distance : 808.90 px 4.28 m\n",
      "All good for frame : 874\n"
     ]
    },
    {
     "name": "stderr",
     "output_type": "stream",
     "text": [
      "\r",
      " 69%|██████▉   | 874/1261 [41:35<19:05,  2.96s/it]"
     ]
    },
    {
     "name": "stdout",
     "output_type": "stream",
     "text": [
      "first coefficient diff : 0.00037182673244214205 second coefficient diff : 0.38663247840126164\n",
      "fit pos : 238.13 px 1044.57 px\n",
      "fit distance : 806.44 px 4.26 m\n",
      "All good for frame : 875\n"
     ]
    },
    {
     "name": "stderr",
     "output_type": "stream",
     "text": [
      "\r",
      " 69%|██████▉   | 875/1261 [41:38<18:50,  2.93s/it]"
     ]
    },
    {
     "name": "stdout",
     "output_type": "stream",
     "text": [
      "first coefficient diff : 0.0002673812881296248 second coefficient diff : 0.17617156058978073\n",
      "fit pos : 243.23 px 1009.05 px\n",
      "fit distance : 765.82 px 4.05 m\n",
      "All good for frame : 876\n"
     ]
    },
    {
     "name": "stderr",
     "output_type": "stream",
     "text": [
      "\r",
      " 69%|██████▉   | 876/1261 [41:41<18:41,  2.91s/it]"
     ]
    },
    {
     "name": "stdout",
     "output_type": "stream",
     "text": [
      "first coefficient diff : 0.0002331346461613697 second coefficient diff : 0.12475577270881572\n",
      "fit pos : 243.96 px 1012.30 px\n",
      "fit distance : 768.35 px 4.06 m\n",
      "All good for frame : 877\n"
     ]
    },
    {
     "name": "stderr",
     "output_type": "stream",
     "text": [
      "\r",
      " 70%|██████▉   | 877/1261 [41:44<18:32,  2.90s/it]"
     ]
    },
    {
     "name": "stdout",
     "output_type": "stream",
     "text": [
      "first coefficient diff : 0.0002204060290278187 second coefficient diff : 0.12270427521914185\n",
      "fit pos : 243.59 px 1016.48 px\n",
      "fit distance : 772.89 px 4.09 m\n",
      "All good for frame : 878\n"
     ]
    },
    {
     "name": "stderr",
     "output_type": "stream",
     "text": [
      "\r",
      " 70%|██████▉   | 878/1261 [41:47<18:25,  2.89s/it]"
     ]
    },
    {
     "name": "stdout",
     "output_type": "stream",
     "text": [
      "first coefficient diff : 0.00017838753636615235 second coefficient diff : 0.10942529797935957\n",
      "fit pos : 242.69 px 1020.58 px\n",
      "fit distance : 777.89 px 4.11 m\n",
      "All good for frame : 879\n"
     ]
    },
    {
     "name": "stderr",
     "output_type": "stream",
     "text": [
      "\r",
      " 70%|██████▉   | 879/1261 [41:50<18:20,  2.88s/it]"
     ]
    },
    {
     "name": "stdout",
     "output_type": "stream",
     "text": [
      "first coefficient diff : 0.00010710155723187714 second coefficient diff : 0.061574611006089186\n",
      "fit pos : 241.06 px 1025.80 px\n",
      "fit distance : 784.74 px 4.15 m\n",
      "All good for frame : 880\n"
     ]
    },
    {
     "name": "stderr",
     "output_type": "stream",
     "text": [
      "\r",
      " 70%|██████▉   | 880/1261 [41:52<18:15,  2.87s/it]"
     ]
    },
    {
     "name": "stdout",
     "output_type": "stream",
     "text": [
      "first coefficient diff : 6.695844475983095e-05 second coefficient diff : 0.053119012707498636\n",
      "fit pos : 239.14 px 1031.89 px\n",
      "fit distance : 792.75 px 4.19 m\n",
      "All good for frame : 881\n"
     ]
    },
    {
     "name": "stderr",
     "output_type": "stream",
     "text": [
      "\r",
      " 70%|██████▉   | 881/1261 [41:55<18:10,  2.87s/it]"
     ]
    },
    {
     "name": "stdout",
     "output_type": "stream",
     "text": [
      "first coefficient diff : 9.250244938610125e-05 second coefficient diff : 0.06084497953933993\n",
      "fit pos : 235.19 px 1059.34 px\n",
      "fit distance : 824.15 px 4.36 m\n",
      "All good for frame : 882\n"
     ]
    },
    {
     "name": "stderr",
     "output_type": "stream",
     "text": [
      "\r",
      " 70%|██████▉   | 882/1261 [41:58<18:05,  2.86s/it]"
     ]
    },
    {
     "name": "stdout",
     "output_type": "stream",
     "text": [
      "first coefficient diff : 0.0001485041436218143 second coefficient diff : 0.09217985616098628\n",
      "fit pos : 232.39 px 1056.59 px\n",
      "fit distance : 824.20 px 4.36 m\n",
      "All good for frame : 883\n"
     ]
    },
    {
     "name": "stderr",
     "output_type": "stream",
     "text": [
      "\r",
      " 70%|███████   | 883/1261 [42:01<18:02,  2.86s/it]"
     ]
    },
    {
     "name": "stdout",
     "output_type": "stream",
     "text": [
      "first coefficient diff : 0.00022392156518073796 second coefficient diff : 0.12935518895525427\n",
      "fit pos : 232.14 px 1060.50 px\n",
      "fit distance : 828.36 px 4.38 m\n",
      "All good for frame : 884\n"
     ]
    },
    {
     "name": "stderr",
     "output_type": "stream",
     "text": [
      "\r",
      " 70%|███████   | 884/1261 [42:04<17:58,  2.86s/it]"
     ]
    },
    {
     "name": "stdout",
     "output_type": "stream",
     "text": [
      "first coefficient diff : 0.0002735168791321693 second coefficient diff : 0.17062638706515454\n",
      "fit pos : 229.43 px 1053.98 px\n",
      "fit distance : 824.55 px 4.36 m\n",
      "All good for frame : 885\n"
     ]
    },
    {
     "name": "stderr",
     "output_type": "stream",
     "text": [
      "\r",
      " 70%|███████   | 885/1261 [42:07<17:53,  2.86s/it]"
     ]
    },
    {
     "name": "stdout",
     "output_type": "stream",
     "text": [
      "first coefficient diff : 0.0001229639303011553 second coefficient diff : 0.17742859668417868\n",
      "fit pos : 229.63 px 1016.34 px\n",
      "fit distance : 786.71 px 4.16 m\n",
      "All good for frame : 886\n"
     ]
    },
    {
     "name": "stderr",
     "output_type": "stream",
     "text": [
      "\r",
      " 70%|███████   | 886/1261 [42:10<17:49,  2.85s/it]"
     ]
    },
    {
     "name": "stdout",
     "output_type": "stream",
     "text": [
      "first coefficient diff : 0.00014146445534595636 second coefficient diff : 0.18189633092177793\n",
      "fit pos : 230.91 px 1017.12 px\n",
      "fit distance : 786.21 px 4.16 m\n",
      "All good for frame : 887\n"
     ]
    },
    {
     "name": "stderr",
     "output_type": "stream",
     "text": [
      "\r",
      " 70%|███████   | 887/1261 [42:12<17:44,  2.85s/it]"
     ]
    },
    {
     "name": "stdout",
     "output_type": "stream",
     "text": [
      "first coefficient diff : 3.0577431833345994e-05 second coefficient diff : 0.06056576479521153\n",
      "fit pos : 226.87 px 1022.07 px\n",
      "fit distance : 795.20 px 4.20 m\n",
      "All good for frame : 888\n"
     ]
    },
    {
     "name": "stderr",
     "output_type": "stream",
     "text": [
      "\r",
      " 70%|███████   | 888/1261 [42:15<17:41,  2.84s/it]"
     ]
    },
    {
     "name": "stdout",
     "output_type": "stream",
     "text": [
      "first coefficient diff : 9.841959816102753e-05 second coefficient diff : 0.0013094147362120445\n",
      "fit pos : 227.45 px 1023.18 px\n",
      "fit distance : 795.73 px 4.21 m\n",
      "All good for frame : 889\n"
     ]
    },
    {
     "name": "stderr",
     "output_type": "stream",
     "text": [
      "\r",
      " 70%|███████   | 889/1261 [42:18<17:38,  2.85s/it]"
     ]
    },
    {
     "name": "stdout",
     "output_type": "stream",
     "text": [
      "first coefficient diff : 6.437201120876738e-05 second coefficient diff : 0.010816532933460243\n",
      "fit pos : 231.62 px 1027.70 px\n",
      "fit distance : 796.08 px 4.21 m\n",
      "All good for frame : 890\n"
     ]
    },
    {
     "name": "stderr",
     "output_type": "stream",
     "text": [
      "\r",
      " 71%|███████   | 890/1261 [42:21<17:37,  2.85s/it]"
     ]
    },
    {
     "name": "stdout",
     "output_type": "stream",
     "text": [
      "first coefficient diff : 0.0001207253698571925 second coefficient diff : 0.04044586363252317\n",
      "fit pos : 231.45 px 1033.13 px\n",
      "fit distance : 801.68 px 4.24 m\n",
      "All good for frame : 891\n"
     ]
    },
    {
     "name": "stderr",
     "output_type": "stream",
     "text": [
      "\r",
      " 71%|███████   | 891/1261 [42:24<17:35,  2.85s/it]"
     ]
    },
    {
     "name": "stdout",
     "output_type": "stream",
     "text": [
      "first coefficient diff : 0.00015700120659824457 second coefficient diff : 0.08140993765947241\n",
      "fit pos : 232.20 px 1038.92 px\n",
      "fit distance : 806.72 px 4.26 m\n",
      "All good for frame : 892\n"
     ]
    },
    {
     "name": "stderr",
     "output_type": "stream",
     "text": [
      "\r",
      " 71%|███████   | 892/1261 [42:27<17:33,  2.85s/it]"
     ]
    },
    {
     "name": "stdout",
     "output_type": "stream",
     "text": [
      "first coefficient diff : 0.00019565522283747347 second coefficient diff : 0.10381283447816525\n",
      "fit pos : 235.16 px 1045.45 px\n",
      "fit distance : 810.28 px 4.28 m\n",
      "All good for frame : 893\n"
     ]
    },
    {
     "name": "stderr",
     "output_type": "stream",
     "text": [
      "\r",
      " 71%|███████   | 893/1261 [42:30<17:30,  2.85s/it]"
     ]
    },
    {
     "name": "stdout",
     "output_type": "stream",
     "text": [
      "first coefficient diff : 0.00035992854813149 second coefficient diff : 0.19625536061624105\n",
      "fit pos : 237.89 px 1073.63 px\n",
      "fit distance : 835.74 px 4.42 m\n",
      "All good for frame : 894\n"
     ]
    },
    {
     "name": "stderr",
     "output_type": "stream",
     "text": [
      "\r",
      " 71%|███████   | 894/1261 [42:32<17:27,  2.85s/it]"
     ]
    },
    {
     "name": "stdout",
     "output_type": "stream",
     "text": [
      "first coefficient diff : 0.00041219039015073555 second coefficient diff : 0.2246659841008175\n",
      "fit pos : 242.11 px 1078.16 px\n",
      "fit distance : 836.05 px 4.42 m\n",
      "All good for frame : 895\n"
     ]
    },
    {
     "name": "stderr",
     "output_type": "stream",
     "text": [
      "\r",
      " 71%|███████   | 895/1261 [42:35<17:29,  2.87s/it]"
     ]
    },
    {
     "name": "stdout",
     "output_type": "stream",
     "text": [
      "first coefficient diff : 0.0004105645491667929 second coefficient diff : 0.24692162335984663\n",
      "fit pos : 248.86 px 1072.32 px\n",
      "fit distance : 823.46 px 4.35 m\n",
      "All good for frame : 896\n"
     ]
    },
    {
     "name": "stderr",
     "output_type": "stream",
     "text": [
      "\r",
      " 71%|███████   | 896/1261 [42:38<17:36,  2.89s/it]"
     ]
    },
    {
     "name": "stdout",
     "output_type": "stream",
     "text": [
      "first coefficient diff : 0.00013097972718764182 second coefficient diff : 0.05457276640399439\n",
      "fit pos : 250.47 px 1047.95 px\n",
      "fit distance : 797.48 px 4.22 m\n",
      "All good for frame : 897\n"
     ]
    },
    {
     "name": "stderr",
     "output_type": "stream",
     "text": [
      "\r",
      " 71%|███████   | 897/1261 [42:41<17:34,  2.90s/it]"
     ]
    },
    {
     "name": "stdout",
     "output_type": "stream",
     "text": [
      "first coefficient diff : 5.680178107714815e-06 second coefficient diff : 0.049125396357981244\n",
      "fit pos : 251.73 px 1035.41 px\n",
      "fit distance : 783.68 px 4.14 m\n",
      "All good for frame : 898\n"
     ]
    },
    {
     "name": "stderr",
     "output_type": "stream",
     "text": [
      "\r",
      " 71%|███████   | 898/1261 [42:44<17:36,  2.91s/it]"
     ]
    },
    {
     "name": "stdout",
     "output_type": "stream",
     "text": [
      "first coefficient diff : 7.29804121418488e-06 second coefficient diff : 0.02519576840886334\n",
      "fit pos : 252.80 px 1036.21 px\n",
      "fit distance : 783.41 px 4.14 m\n",
      "All good for frame : 899\n"
     ]
    },
    {
     "name": "stderr",
     "output_type": "stream",
     "text": [
      "\r",
      " 71%|███████▏  | 899/1261 [42:47<17:34,  2.91s/it]"
     ]
    },
    {
     "name": "stdout",
     "output_type": "stream",
     "text": [
      "first coefficient diff : 7.25791841143232e-05 second coefficient diff : 0.016108916955492214\n",
      "fit pos : 256.31 px 1040.68 px\n",
      "fit distance : 784.37 px 4.15 m\n",
      "All good for frame : 900\n"
     ]
    },
    {
     "name": "stderr",
     "output_type": "stream",
     "text": [
      "\r",
      " 71%|███████▏  | 900/1261 [42:50<17:32,  2.92s/it]"
     ]
    },
    {
     "name": "stdout",
     "output_type": "stream",
     "text": [
      "first coefficient diff : 0.00014280688080328801 second coefficient diff : 0.06354981069409493\n",
      "fit pos : 255.96 px 1039.33 px\n",
      "fit distance : 783.37 px 4.14 m\n",
      "All good for frame : 901\n"
     ]
    },
    {
     "name": "stderr",
     "output_type": "stream",
     "text": [
      "\r",
      " 71%|███████▏  | 901/1261 [42:53<18:02,  3.01s/it]"
     ]
    },
    {
     "name": "stdout",
     "output_type": "stream",
     "text": [
      "first coefficient diff : 0.00010532833565585645 second coefficient diff : 0.06653262607144295\n",
      "fit pos : 256.52 px 1033.59 px\n",
      "fit distance : 777.07 px 4.11 m\n",
      "All good for frame : 902\n"
     ]
    },
    {
     "name": "stderr",
     "output_type": "stream",
     "text": [
      "\r",
      " 72%|███████▏  | 902/1261 [42:56<17:56,  3.00s/it]"
     ]
    },
    {
     "name": "stdout",
     "output_type": "stream",
     "text": [
      "first coefficient diff : 0.00013259715812395393 second coefficient diff : 0.09598726095310822\n",
      "fit pos : 255.62 px 1034.43 px\n",
      "fit distance : 778.81 px 4.12 m\n",
      "All good for frame : 903\n"
     ]
    },
    {
     "name": "stderr",
     "output_type": "stream",
     "text": [
      "\r",
      " 72%|███████▏  | 903/1261 [42:59<17:44,  2.97s/it]"
     ]
    },
    {
     "name": "stdout",
     "output_type": "stream",
     "text": [
      "first coefficient diff : 0.000133072877158014 second coefficient diff : 0.11008225493872231\n",
      "fit pos : 256.91 px 1039.66 px\n",
      "fit distance : 782.75 px 4.14 m\n",
      "All good for frame : 904\n"
     ]
    },
    {
     "name": "stderr",
     "output_type": "stream",
     "text": [
      "\r",
      " 72%|███████▏  | 904/1261 [43:02<17:34,  2.95s/it]"
     ]
    },
    {
     "name": "stdout",
     "output_type": "stream",
     "text": [
      "first coefficient diff : 0.00019129235843003614 second coefficient diff : 0.15485718134161897\n",
      "fit pos : 256.78 px 1051.29 px\n",
      "fit distance : 794.51 px 4.20 m\n",
      "All good for frame : 905\n"
     ]
    },
    {
     "name": "stderr",
     "output_type": "stream",
     "text": [
      "\r",
      " 72%|███████▏  | 905/1261 [43:05<17:25,  2.94s/it]"
     ]
    },
    {
     "name": "stdout",
     "output_type": "stream",
     "text": [
      "first coefficient diff : 0.0003676440827740123 second coefficient diff : 0.2565613943061512\n",
      "fit pos : 255.35 px 1075.38 px\n",
      "fit distance : 820.03 px 4.33 m\n",
      "All good for frame : 906\n"
     ]
    },
    {
     "name": "stderr",
     "output_type": "stream",
     "text": [
      "\r",
      " 72%|███████▏  | 906/1261 [43:08<17:17,  2.92s/it]"
     ]
    },
    {
     "name": "stdout",
     "output_type": "stream",
     "text": [
      "first coefficient diff : 0.0004062826953253096 second coefficient diff : 0.3073080321810852\n",
      "fit pos : 254.49 px 1075.89 px\n",
      "fit distance : 821.40 px 4.34 m\n",
      "All good for frame : 907\n"
     ]
    },
    {
     "name": "stderr",
     "output_type": "stream",
     "text": [
      "\r",
      " 72%|███████▏  | 907/1261 [43:11<17:10,  2.91s/it]"
     ]
    },
    {
     "name": "stdout",
     "output_type": "stream",
     "text": [
      "first coefficient diff : 0.0003090978373715866 second coefficient diff : 0.2367377832762344\n",
      "fit pos : 258.28 px 1059.79 px\n",
      "fit distance : 801.51 px 4.24 m\n",
      "All good for frame : 908\n"
     ]
    },
    {
     "name": "stderr",
     "output_type": "stream",
     "text": [
      "\r",
      " 72%|███████▏  | 908/1261 [43:14<17:06,  2.91s/it]"
     ]
    },
    {
     "name": "stdout",
     "output_type": "stream",
     "text": [
      "first coefficient diff : 0.00028664970312607043 second coefficient diff : 0.2323442049223765\n",
      "fit pos : 257.13 px 1050.07 px\n",
      "fit distance : 792.94 px 4.19 m\n",
      "All good for frame : 909\n"
     ]
    },
    {
     "name": "stderr",
     "output_type": "stream",
     "text": [
      "\r",
      " 72%|███████▏  | 909/1261 [43:16<17:02,  2.91s/it]"
     ]
    },
    {
     "name": "stdout",
     "output_type": "stream",
     "text": [
      "first coefficient diff : 4.322335932344806e-05 second coefficient diff : 0.046434176386888626\n",
      "fit pos : 258.51 px 1024.67 px\n",
      "fit distance : 766.16 px 4.05 m\n",
      "All good for frame : 910\n"
     ]
    },
    {
     "name": "stderr",
     "output_type": "stream",
     "text": [
      "\r",
      " 72%|███████▏  | 910/1261 [43:19<16:58,  2.90s/it]"
     ]
    },
    {
     "name": "stdout",
     "output_type": "stream",
     "text": [
      "first coefficient diff : 3.250098318040393e-05 second coefficient diff : 0.03904810073609599\n",
      "fit pos : 259.54 px 1026.94 px\n",
      "fit distance : 767.40 px 4.06 m\n",
      "All good for frame : 911\n"
     ]
    },
    {
     "name": "stderr",
     "output_type": "stream",
     "text": [
      "\r",
      " 72%|███████▏  | 911/1261 [43:22<16:53,  2.90s/it]"
     ]
    },
    {
     "name": "stdout",
     "output_type": "stream",
     "text": [
      "first coefficient diff : 1.7829746944050904e-05 second coefficient diff : 0.01159758442148734\n",
      "fit pos : 257.12 px 1028.38 px\n",
      "fit distance : 771.26 px 4.08 m\n",
      "All good for frame : 912\n"
     ]
    },
    {
     "name": "stderr",
     "output_type": "stream",
     "text": [
      "\r",
      " 72%|███████▏  | 912/1261 [43:25<16:49,  2.89s/it]"
     ]
    },
    {
     "name": "stdout",
     "output_type": "stream",
     "text": [
      "first coefficient diff : 2.3600839952761076e-05 second coefficient diff : 0.010925654603449075\n",
      "fit pos : 257.86 px 1028.55 px\n",
      "fit distance : 770.69 px 4.07 m\n",
      "All good for frame : 913\n"
     ]
    },
    {
     "name": "stderr",
     "output_type": "stream",
     "text": [
      "\r",
      " 72%|███████▏  | 913/1261 [43:28<16:46,  2.89s/it]"
     ]
    },
    {
     "name": "stdout",
     "output_type": "stream",
     "text": [
      "first coefficient diff : 5.766446702123573e-07 second coefficient diff : 0.0013474773237064364\n",
      "fit pos : 258.76 px 1025.28 px\n",
      "fit distance : 766.52 px 4.05 m\n",
      "All good for frame : 914\n"
     ]
    },
    {
     "name": "stderr",
     "output_type": "stream",
     "text": [
      "\r",
      " 72%|███████▏  | 914/1261 [43:31<16:46,  2.90s/it]"
     ]
    },
    {
     "name": "stdout",
     "output_type": "stream",
     "text": [
      "first coefficient diff : 3.4388775023494055e-06 second coefficient diff : 0.013101241169472644\n",
      "fit pos : 256.82 px 1027.52 px\n",
      "fit distance : 770.70 px 4.07 m\n",
      "All good for frame : 915\n"
     ]
    },
    {
     "name": "stderr",
     "output_type": "stream",
     "text": [
      "\r",
      " 73%|███████▎  | 915/1261 [43:34<16:45,  2.91s/it]"
     ]
    },
    {
     "name": "stdout",
     "output_type": "stream",
     "text": [
      "first coefficient diff : 5.4784492830347166e-06 second coefficient diff : 0.0072691643023674035\n",
      "fit pos : 257.60 px 1029.38 px\n",
      "fit distance : 771.77 px 4.08 m\n",
      "All good for frame : 916\n"
     ]
    },
    {
     "name": "stderr",
     "output_type": "stream",
     "text": [
      "\r",
      " 73%|███████▎  | 916/1261 [43:37<16:43,  2.91s/it]"
     ]
    },
    {
     "name": "stdout",
     "output_type": "stream",
     "text": [
      "first coefficient diff : 7.263222606841398e-05 second coefficient diff : 0.057059469065127044\n",
      "fit pos : 254.32 px 1040.01 px\n",
      "fit distance : 785.69 px 4.15 m\n",
      "All good for frame : 917\n"
     ]
    },
    {
     "name": "stderr",
     "output_type": "stream",
     "text": [
      "\r",
      " 73%|███████▎  | 917/1261 [43:40<16:40,  2.91s/it]"
     ]
    },
    {
     "name": "stdout",
     "output_type": "stream",
     "text": [
      "first coefficient diff : 0.0001747399397628373 second coefficient diff : 0.10275331377545766\n",
      "fit pos : 254.57 px 1057.74 px\n",
      "fit distance : 803.17 px 4.25 m\n",
      "All good for frame : 918\n"
     ]
    },
    {
     "name": "stderr",
     "output_type": "stream",
     "text": [
      "\r",
      " 73%|███████▎  | 918/1261 [43:43<16:41,  2.92s/it]"
     ]
    },
    {
     "name": "stdout",
     "output_type": "stream",
     "text": [
      "first coefficient diff : 0.0002336799655417759 second coefficient diff : 0.15301927931194614\n",
      "fit pos : 250.99 px 1060.21 px\n",
      "fit distance : 809.23 px 4.28 m\n",
      "All good for frame : 919\n"
     ]
    },
    {
     "name": "stderr",
     "output_type": "stream",
     "text": [
      "\r",
      " 73%|███████▎  | 919/1261 [43:45<16:38,  2.92s/it]"
     ]
    },
    {
     "name": "stdout",
     "output_type": "stream",
     "text": [
      "first coefficient diff : 4.899758771804801e-05 second coefficient diff : 0.0818969175421757\n",
      "fit pos : 247.00 px 1030.26 px\n",
      "fit distance : 783.26 px 4.14 m\n",
      "All good for frame : 920\n"
     ]
    },
    {
     "name": "stderr",
     "output_type": "stream",
     "text": [
      "\r",
      " 73%|███████▎  | 920/1261 [43:48<16:36,  2.92s/it]"
     ]
    },
    {
     "name": "stdout",
     "output_type": "stream",
     "text": [
      "first coefficient diff : 0.00022943530080088634 second coefficient diff : 0.2404914853275089\n",
      "fit pos : 246.51 px 1016.31 px\n",
      "fit distance : 769.80 px 4.07 m\n",
      "All good for frame : 921\n"
     ]
    },
    {
     "name": "stderr",
     "output_type": "stream",
     "text": [
      "\r",
      " 73%|███████▎  | 921/1261 [43:51<16:33,  2.92s/it]"
     ]
    },
    {
     "name": "stdout",
     "output_type": "stream",
     "text": [
      "first coefficient diff : 0.00013222743699723024 second coefficient diff : 0.16414574001949006\n",
      "fit pos : 240.58 px 1019.31 px\n",
      "fit distance : 778.73 px 4.12 m\n",
      "All good for frame : 922\n"
     ]
    },
    {
     "name": "stderr",
     "output_type": "stream",
     "text": [
      "\r",
      " 73%|███████▎  | 922/1261 [43:54<16:32,  2.93s/it]"
     ]
    },
    {
     "name": "stdout",
     "output_type": "stream",
     "text": [
      "first coefficient diff : 0.00011390885286299829 second coefficient diff : 0.15416667725914862\n",
      "fit pos : 242.10 px 1022.51 px\n",
      "fit distance : 780.41 px 4.13 m\n",
      "All good for frame : 923\n"
     ]
    },
    {
     "name": "stderr",
     "output_type": "stream",
     "text": [
      "\r",
      " 73%|███████▎  | 923/1261 [43:57<16:29,  2.93s/it]"
     ]
    },
    {
     "name": "stdout",
     "output_type": "stream",
     "text": [
      "first coefficient diff : 6.448408329155192e-05 second coefficient diff : 0.10869138903884518\n",
      "fit pos : 239.50 px 1021.93 px\n",
      "fit distance : 782.43 px 4.14 m\n",
      "All good for frame : 924\n"
     ]
    },
    {
     "name": "stderr",
     "output_type": "stream",
     "text": [
      "\r",
      " 73%|███████▎  | 924/1261 [44:00<16:29,  2.94s/it]"
     ]
    },
    {
     "name": "stdout",
     "output_type": "stream",
     "text": [
      "first coefficient diff : 1.2251781533828337e-05 second coefficient diff : 0.07788280660709807\n",
      "fit pos : 236.88 px 1022.48 px\n",
      "fit distance : 785.60 px 4.15 m\n",
      "All good for frame : 925\n"
     ]
    },
    {
     "name": "stderr",
     "output_type": "stream",
     "text": [
      "\r",
      " 73%|███████▎  | 925/1261 [44:03<16:27,  2.94s/it]"
     ]
    },
    {
     "name": "stdout",
     "output_type": "stream",
     "text": [
      "first coefficient diff : 1.3858842864928245e-05 second coefficient diff : 0.08562712768940917\n",
      "fit pos : 235.82 px 1020.63 px\n",
      "fit distance : 784.81 px 4.15 m\n",
      "All good for frame : 926\n"
     ]
    },
    {
     "name": "stderr",
     "output_type": "stream",
     "text": [
      "\r",
      " 73%|███████▎  | 926/1261 [44:06<16:26,  2.95s/it]"
     ]
    },
    {
     "name": "stdout",
     "output_type": "stream",
     "text": [
      "first coefficient diff : 3.618490224347693e-05 second coefficient diff : 0.054120599848968054\n",
      "fit pos : 234.72 px 1024.10 px\n",
      "fit distance : 789.38 px 4.17 m\n",
      "All good for frame : 927\n"
     ]
    },
    {
     "name": "stderr",
     "output_type": "stream",
     "text": [
      "\r",
      " 74%|███████▎  | 927/1261 [44:09<16:25,  2.95s/it]"
     ]
    },
    {
     "name": "stdout",
     "output_type": "stream",
     "text": [
      "first coefficient diff : 0.00010082872059949597 second coefficient diff : 0.00696486417985287\n",
      "fit pos : 231.36 px 1028.36 px\n",
      "fit distance : 797.00 px 4.21 m\n",
      "All good for frame : 928\n"
     ]
    },
    {
     "name": "stderr",
     "output_type": "stream",
     "text": [
      "\r",
      " 74%|███████▎  | 928/1261 [44:12<16:25,  2.96s/it]"
     ]
    },
    {
     "name": "stdout",
     "output_type": "stream",
     "text": [
      "first coefficient diff : 0.0002536801637028264 second coefficient diff : 0.1060343060629459\n",
      "fit pos : 229.59 px 1049.00 px\n",
      "fit distance : 819.41 px 4.33 m\n",
      "All good for frame : 929\n"
     ]
    },
    {
     "name": "stderr",
     "output_type": "stream",
     "text": [
      "\r",
      " 74%|███████▎  | 929/1261 [44:15<16:24,  2.97s/it]"
     ]
    },
    {
     "name": "stdout",
     "output_type": "stream",
     "text": [
      "first coefficient diff : 0.0004742012056797284 second coefficient diff : 0.24975814201778346\n",
      "fit pos : 231.20 px 1075.58 px\n",
      "fit distance : 844.38 px 4.46 m\n",
      "All good for frame : 930\n"
     ]
    },
    {
     "name": "stderr",
     "output_type": "stream",
     "text": [
      "\r",
      " 74%|███████▍  | 930/1261 [44:18<16:28,  2.98s/it]"
     ]
    },
    {
     "name": "stdout",
     "output_type": "stream",
     "text": [
      "first coefficient diff : 0.0001004631822164969 second coefficient diff : 0.029925088676760858\n",
      "fit pos : 232.81 px 1035.76 px\n",
      "fit distance : 802.96 px 4.24 m\n",
      "All good for frame : 931\n"
     ]
    },
    {
     "name": "stderr",
     "output_type": "stream",
     "text": [
      "\r",
      " 74%|███████▍  | 931/1261 [44:21<16:59,  3.09s/it]"
     ]
    },
    {
     "name": "stdout",
     "output_type": "stream",
     "text": [
      "first coefficient diff : 6.117595152719654e-05 second coefficient diff : 0.044699203984063796\n",
      "fit pos : 234.11 px 1029.87 px\n",
      "fit distance : 795.76 px 4.21 m\n",
      "All good for frame : 932\n"
     ]
    },
    {
     "name": "stderr",
     "output_type": "stream",
     "text": [
      "\r",
      " 74%|███████▍  | 932/1261 [44:24<16:55,  3.09s/it]"
     ]
    },
    {
     "name": "stdout",
     "output_type": "stream",
     "text": [
      "first coefficient diff : 4.6286796828511306e-05 second coefficient diff : 0.06342536314211128\n",
      "fit pos : 239.05 px 1030.24 px\n",
      "fit distance : 791.19 px 4.18 m\n",
      "All good for frame : 933\n"
     ]
    },
    {
     "name": "stderr",
     "output_type": "stream",
     "text": [
      "\r",
      " 74%|███████▍  | 933/1261 [44:27<16:45,  3.07s/it]"
     ]
    },
    {
     "name": "stdout",
     "output_type": "stream",
     "text": [
      "first coefficient diff : 9.900973331429495e-05 second coefficient diff : 0.006590889533484301\n",
      "fit pos : 237.62 px 1032.33 px\n",
      "fit distance : 794.71 px 4.20 m\n",
      "All good for frame : 934\n"
     ]
    },
    {
     "name": "stderr",
     "output_type": "stream",
     "text": [
      "\r",
      " 74%|███████▍  | 934/1261 [44:30<16:39,  3.06s/it]"
     ]
    },
    {
     "name": "stdout",
     "output_type": "stream",
     "text": [
      "first coefficient diff : 9.900531088717537e-05 second coefficient diff : 0.007720531382376716\n",
      "fit pos : 244.41 px 1033.41 px\n",
      "fit distance : 789.00 px 4.17 m\n",
      "All good for frame : 935\n"
     ]
    },
    {
     "name": "stderr",
     "output_type": "stream",
     "text": [
      "\r",
      " 74%|███████▍  | 935/1261 [44:33<16:28,  3.03s/it]"
     ]
    },
    {
     "name": "stdout",
     "output_type": "stream",
     "text": [
      "first coefficient diff : 0.00014222155931481781 second coefficient diff : 0.0437379857591263\n",
      "fit pos : 246.23 px 1031.36 px\n",
      "fit distance : 785.12 px 4.15 m\n",
      "All good for frame : 936\n"
     ]
    },
    {
     "name": "stderr",
     "output_type": "stream",
     "text": [
      "\r",
      " 74%|███████▍  | 936/1261 [44:36<16:18,  3.01s/it]"
     ]
    },
    {
     "name": "stdout",
     "output_type": "stream",
     "text": [
      "first coefficient diff : 0.00013890601703566306 second coefficient diff : 0.06129607050336905\n",
      "fit pos : 248.09 px 1029.78 px\n",
      "fit distance : 781.69 px 4.13 m\n",
      "All good for frame : 937\n"
     ]
    },
    {
     "name": "stderr",
     "output_type": "stream",
     "text": [
      "\r",
      " 74%|███████▍  | 937/1261 [44:39<16:10,  3.00s/it]"
     ]
    },
    {
     "name": "stdout",
     "output_type": "stream",
     "text": [
      "first coefficient diff : 0.00012652829683439018 second coefficient diff : 0.047004087260529015\n",
      "fit pos : 249.19 px 1027.42 px\n",
      "fit distance : 778.23 px 4.11 m\n",
      "All good for frame : 938\n"
     ]
    },
    {
     "name": "stderr",
     "output_type": "stream",
     "text": [
      "\r",
      " 74%|███████▍  | 938/1261 [44:42<16:05,  2.99s/it]"
     ]
    },
    {
     "name": "stdout",
     "output_type": "stream",
     "text": [
      "first coefficient diff : 8.442712998347742e-05 second coefficient diff : 0.021236337305740205\n",
      "fit pos : 253.15 px 1027.49 px\n",
      "fit distance : 774.34 px 4.09 m\n",
      "All good for frame : 939\n"
     ]
    },
    {
     "name": "stderr",
     "output_type": "stream",
     "text": [
      "\r",
      " 74%|███████▍  | 939/1261 [44:45<16:02,  2.99s/it]"
     ]
    },
    {
     "name": "stdout",
     "output_type": "stream",
     "text": [
      "first coefficient diff : 0.00014666429590752116 second coefficient diff : 0.057906903262859466\n",
      "fit pos : 250.78 px 1033.11 px\n",
      "fit distance : 782.34 px 4.14 m\n",
      "All good for frame : 940\n"
     ]
    },
    {
     "name": "stderr",
     "output_type": "stream",
     "text": [
      "\r",
      " 75%|███████▍  | 940/1261 [44:48<15:56,  2.98s/it]"
     ]
    },
    {
     "name": "stdout",
     "output_type": "stream",
     "text": [
      "first coefficient diff : 0.0004201324247418413 second coefficient diff : 0.23191201898452918\n",
      "fit pos : 246.98 px 1067.74 px\n",
      "fit distance : 820.75 px 4.34 m\n",
      "All good for frame : 941\n"
     ]
    },
    {
     "name": "stderr",
     "output_type": "stream",
     "text": [
      "\r",
      " 75%|███████▍  | 941/1261 [44:51<15:53,  2.98s/it]"
     ]
    },
    {
     "name": "stdout",
     "output_type": "stream",
     "text": [
      "first coefficient diff : 0.0004735114416605338 second coefficient diff : 0.29604469151551693\n",
      "fit pos : 245.86 px 1067.45 px\n",
      "fit distance : 821.59 px 4.34 m\n",
      "All good for frame : 942\n"
     ]
    },
    {
     "name": "stderr",
     "output_type": "stream",
     "text": [
      "\r",
      " 75%|███████▍  | 942/1261 [44:54<15:48,  2.97s/it]"
     ]
    },
    {
     "name": "stdout",
     "output_type": "stream",
     "text": [
      "first coefficient diff : 0.00012687737012415464 second coefficient diff : 0.03400913106521514\n",
      "fit pos : 246.39 px 1031.48 px\n",
      "fit distance : 785.10 px 4.15 m\n",
      "All good for frame : 943\n"
     ]
    },
    {
     "name": "stderr",
     "output_type": "stream",
     "text": [
      "\r",
      " 75%|███████▍  | 943/1261 [44:57<15:44,  2.97s/it]"
     ]
    },
    {
     "name": "stdout",
     "output_type": "stream",
     "text": [
      "first coefficient diff : 9.159420760202465e-05 second coefficient diff : 0.038840428072135724\n",
      "fit pos : 244.00 px 1029.00 px\n",
      "fit distance : 785.00 px 4.15 m\n",
      "All good for frame : 944\n"
     ]
    },
    {
     "name": "stderr",
     "output_type": "stream",
     "text": [
      "\r",
      " 75%|███████▍  | 944/1261 [45:00<15:42,  2.97s/it]"
     ]
    },
    {
     "name": "stdout",
     "output_type": "stream",
     "text": [
      "first coefficient diff : 1.764090859041818e-05 second coefficient diff : 0.06582038086848974\n",
      "fit pos : 244.16 px 1017.45 px\n",
      "fit distance : 773.29 px 4.09 m\n",
      "All good for frame : 945\n"
     ]
    },
    {
     "name": "stderr",
     "output_type": "stream",
     "text": [
      "\r",
      " 75%|███████▍  | 945/1261 [45:03<15:39,  2.97s/it]"
     ]
    },
    {
     "name": "stdout",
     "output_type": "stream",
     "text": [
      "first coefficient diff : 2.3946471918953084e-06 second coefficient diff : 0.047542525566057536\n",
      "fit pos : 246.03 px 1019.99 px\n",
      "fit distance : 773.96 px 4.09 m\n",
      "All good for frame : 946\n"
     ]
    },
    {
     "name": "stderr",
     "output_type": "stream",
     "text": [
      "\r",
      " 75%|███████▌  | 946/1261 [45:06<15:35,  2.97s/it]"
     ]
    },
    {
     "name": "stdout",
     "output_type": "stream",
     "text": [
      "first coefficient diff : 3.549137935947961e-05 second coefficient diff : 0.00367355916231632\n",
      "fit pos : 242.78 px 1020.80 px\n",
      "fit distance : 778.01 px 4.11 m\n",
      "All good for frame : 947\n"
     ]
    },
    {
     "name": "stderr",
     "output_type": "stream",
     "text": [
      "\r",
      " 75%|███████▌  | 947/1261 [45:09<15:32,  2.97s/it]"
     ]
    },
    {
     "name": "stdout",
     "output_type": "stream",
     "text": [
      "first coefficient diff : 1.5969802384914271e-06 second coefficient diff : 0.04399499499816145\n",
      "fit pos : 246.94 px 1020.62 px\n",
      "fit distance : 773.68 px 4.09 m\n",
      "All good for frame : 948\n"
     ]
    },
    {
     "name": "stderr",
     "output_type": "stream",
     "text": [
      "\r",
      " 75%|███████▌  | 948/1261 [45:12<15:33,  2.98s/it]"
     ]
    },
    {
     "name": "stdout",
     "output_type": "stream",
     "text": [
      "first coefficient diff : 1.712564149918786e-05 second coefficient diff : 0.016940556541426233\n",
      "fit pos : 245.22 px 1022.11 px\n",
      "fit distance : 776.89 px 4.11 m\n",
      "All good for frame : 949\n"
     ]
    },
    {
     "name": "stderr",
     "output_type": "stream",
     "text": [
      "\r",
      " 75%|███████▌  | 949/1261 [45:15<15:34,  3.00s/it]"
     ]
    },
    {
     "name": "stdout",
     "output_type": "stream",
     "text": [
      "first coefficient diff : 2.2550714082746797e-05 second coefficient diff : 0.013801597358573725\n",
      "fit pos : 245.67 px 1022.63 px\n",
      "fit distance : 776.96 px 4.11 m\n",
      "All good for frame : 950\n"
     ]
    },
    {
     "name": "stderr",
     "output_type": "stream",
     "text": [
      "\r",
      " 75%|███████▌  | 950/1261 [45:18<15:29,  2.99s/it]"
     ]
    },
    {
     "name": "stdout",
     "output_type": "stream",
     "text": [
      "first coefficient diff : 1.5164832946720623e-05 second coefficient diff : 0.03855870998975608\n",
      "fit pos : 246.91 px 1025.37 px\n",
      "fit distance : 778.46 px 4.11 m\n",
      "All good for frame : 951\n"
     ]
    },
    {
     "name": "stderr",
     "output_type": "stream",
     "text": [
      "\r",
      " 75%|███████▌  | 951/1261 [45:21<15:25,  2.99s/it]"
     ]
    },
    {
     "name": "stdout",
     "output_type": "stream",
     "text": [
      "first coefficient diff : 1.4969933967557737e-05 second coefficient diff : 0.0024573221188616823\n",
      "fit pos : 243.53 px 1033.75 px\n",
      "fit distance : 790.21 px 4.18 m\n",
      "All good for frame : 952\n"
     ]
    },
    {
     "name": "stderr",
     "output_type": "stream",
     "text": [
      "\r",
      " 75%|███████▌  | 952/1261 [45:24<15:22,  2.99s/it]"
     ]
    },
    {
     "name": "stdout",
     "output_type": "stream",
     "text": [
      "first coefficient diff : 0.00014858085982513372 second coefficient diff : 0.06342943388886141\n",
      "fit pos : 246.36 px 1053.39 px\n",
      "fit distance : 807.03 px 4.27 m\n",
      "All good for frame : 953\n"
     ]
    },
    {
     "name": "stderr",
     "output_type": "stream",
     "text": [
      "\r",
      " 76%|███████▌  | 953/1261 [45:27<15:21,  2.99s/it]"
     ]
    },
    {
     "name": "stdout",
     "output_type": "stream",
     "text": [
      "first coefficient diff : 0.00019329313949553647 second coefficient diff : 0.1292140743935803\n",
      "fit pos : 247.82 px 1057.86 px\n",
      "fit distance : 810.04 px 4.28 m\n",
      "All good for frame : 954\n"
     ]
    },
    {
     "name": "stderr",
     "output_type": "stream",
     "text": [
      "\r",
      " 76%|███████▌  | 954/1261 [45:30<15:20,  3.00s/it]"
     ]
    },
    {
     "name": "stdout",
     "output_type": "stream",
     "text": [
      "first coefficient diff : 3.5800533646607755e-05 second coefficient diff : 0.05410569450879005\n",
      "fit pos : 248.26 px 1033.69 px\n",
      "fit distance : 785.43 px 4.15 m\n",
      "All good for frame : 955\n"
     ]
    },
    {
     "name": "stderr",
     "output_type": "stream",
     "text": [
      "\r",
      " 76%|███████▌  | 955/1261 [45:33<15:18,  3.00s/it]"
     ]
    },
    {
     "name": "stdout",
     "output_type": "stream",
     "text": [
      "first coefficient diff : 0.00027237141564679355 second coefficient diff : 0.27889217472384575\n",
      "fit pos : 241.87 px 1009.41 px\n",
      "fit distance : 767.54 px 4.06 m\n",
      "All good for frame : 956\n"
     ]
    },
    {
     "name": "stderr",
     "output_type": "stream",
     "text": [
      "\r",
      " 76%|███████▌  | 956/1261 [45:36<15:17,  3.01s/it]"
     ]
    },
    {
     "name": "stdout",
     "output_type": "stream",
     "text": [
      "first coefficient diff : 0.000226758586476878 second coefficient diff : 0.22956110379144257\n",
      "fit pos : 242.10 px 1015.19 px\n",
      "fit distance : 773.09 px 4.09 m\n",
      "All good for frame : 957\n"
     ]
    },
    {
     "name": "stderr",
     "output_type": "stream",
     "text": [
      "\r",
      " 76%|███████▌  | 957/1261 [45:39<15:15,  3.01s/it]"
     ]
    },
    {
     "name": "stdout",
     "output_type": "stream",
     "text": [
      "first coefficient diff : 0.0001399429267817917 second coefficient diff : 0.190169701586055\n",
      "fit pos : 245.28 px 1025.95 px\n",
      "fit distance : 780.67 px 4.13 m\n",
      "All good for frame : 958\n"
     ]
    },
    {
     "name": "stderr",
     "output_type": "stream",
     "text": [
      "\r",
      " 76%|███████▌  | 958/1261 [45:42<15:15,  3.02s/it]"
     ]
    },
    {
     "name": "stdout",
     "output_type": "stream",
     "text": [
      "first coefficient diff : 0.00018029290759533892 second coefficient diff : 0.19321118499897222\n",
      "fit pos : 253.78 px 1028.84 px\n",
      "fit distance : 775.06 px 4.10 m\n",
      "All good for frame : 959\n"
     ]
    },
    {
     "name": "stderr",
     "output_type": "stream",
     "text": [
      "\r",
      " 76%|███████▌  | 959/1261 [45:45<15:17,  3.04s/it]"
     ]
    },
    {
     "name": "stdout",
     "output_type": "stream",
     "text": [
      "first coefficient diff : 0.00011956170447235473 second coefficient diff : 0.18158898990293448\n",
      "fit pos : 256.62 px 1035.10 px\n",
      "fit distance : 778.47 px 4.11 m\n",
      "All good for frame : 960\n"
     ]
    },
    {
     "name": "stderr",
     "output_type": "stream",
     "text": [
      "\r",
      " 76%|███████▌  | 960/1261 [45:48<15:22,  3.06s/it]"
     ]
    },
    {
     "name": "stdout",
     "output_type": "stream",
     "text": [
      "first coefficient diff : 7.844848712189282e-05 second coefficient diff : 0.14450720638894943\n",
      "fit pos : 258.26 px 1037.40 px\n",
      "fit distance : 779.14 px 4.12 m\n",
      "All good for frame : 961\n"
     ]
    },
    {
     "name": "stderr",
     "output_type": "stream",
     "text": [
      "\r",
      " 76%|███████▌  | 961/1261 [45:52<15:55,  3.19s/it]"
     ]
    },
    {
     "name": "stdout",
     "output_type": "stream",
     "text": [
      "first coefficient diff : 5.2292339435623116e-05 second coefficient diff : 0.12141076878814161\n",
      "fit pos : 260.23 px 1043.53 px\n",
      "fit distance : 783.31 px 4.14 m\n",
      "All good for frame : 962\n"
     ]
    },
    {
     "name": "stderr",
     "output_type": "stream",
     "text": [
      "\r",
      " 76%|███████▋  | 962/1261 [45:55<16:01,  3.22s/it]"
     ]
    },
    {
     "name": "stdout",
     "output_type": "stream",
     "text": [
      "first coefficient diff : 7.451716887264202e-05 second coefficient diff : 0.1596715855440552\n",
      "fit pos : 263.99 px 1046.13 px\n",
      "fit distance : 782.14 px 4.13 m\n",
      "All good for frame : 963\n"
     ]
    },
    {
     "name": "stderr",
     "output_type": "stream",
     "text": [
      "\r",
      " 76%|███████▋  | 963/1261 [45:58<15:58,  3.22s/it]"
     ]
    },
    {
     "name": "stdout",
     "output_type": "stream",
     "text": [
      "first coefficient diff : 2.3153336648824743e-05 second coefficient diff : 0.11402301593643482\n",
      "fit pos : 266.39 px 1059.16 px\n",
      "fit distance : 792.77 px 4.19 m\n",
      "All good for frame : 964\n"
     ]
    },
    {
     "name": "stderr",
     "output_type": "stream",
     "text": [
      "\r",
      " 76%|███████▋  | 964/1261 [46:02<15:51,  3.20s/it]"
     ]
    },
    {
     "name": "stdout",
     "output_type": "stream",
     "text": [
      "first coefficient diff : 0.000171673131988628 second coefficient diff : 0.0011364949208413355\n",
      "fit pos : 266.81 px 1081.48 px\n",
      "fit distance : 814.67 px 4.31 m\n",
      "All good for frame : 965\n"
     ]
    },
    {
     "name": "stderr",
     "output_type": "stream",
     "text": [
      "\r",
      " 77%|███████▋  | 965/1261 [46:05<15:47,  3.20s/it]"
     ]
    },
    {
     "name": "stdout",
     "output_type": "stream",
     "text": [
      "first coefficient diff : 0.00021861212307377188 second coefficient diff : 0.04908341649623893\n",
      "fit pos : 264.93 px 1071.41 px\n",
      "fit distance : 806.48 px 4.26 m\n",
      "All good for frame : 966\n"
     ]
    },
    {
     "name": "stderr",
     "output_type": "stream",
     "text": [
      "\r",
      " 77%|███████▋  | 966/1261 [46:08<15:46,  3.21s/it]"
     ]
    },
    {
     "name": "stdout",
     "output_type": "stream",
     "text": [
      "first coefficient diff : 0.00019890873051976276 second coefficient diff : 0.04819999806835484\n",
      "fit pos : 268.56 px 1069.97 px\n",
      "fit distance : 801.42 px 4.24 m\n",
      "All good for frame : 967\n"
     ]
    },
    {
     "name": "stderr",
     "output_type": "stream",
     "text": [
      "\r",
      " 77%|███████▋  | 967/1261 [46:11<15:45,  3.22s/it]"
     ]
    },
    {
     "name": "stdout",
     "output_type": "stream",
     "text": [
      "first coefficient diff : 8.154436052765644e-05 second coefficient diff : 0.04176402530005313\n",
      "fit pos : 269.54 px 1055.16 px\n",
      "fit distance : 785.62 px 4.15 m\n",
      "All good for frame : 968\n"
     ]
    },
    {
     "name": "stderr",
     "output_type": "stream",
     "text": [
      "\r",
      " 77%|███████▋  | 968/1261 [46:14<15:47,  3.23s/it]"
     ]
    },
    {
     "name": "stdout",
     "output_type": "stream",
     "text": [
      "first coefficient diff : 9.451982528225616e-05 second coefficient diff : 0.015910991551744802\n",
      "fit pos : 271.59 px 1055.85 px\n",
      "fit distance : 784.26 px 4.15 m\n",
      "All good for frame : 969\n"
     ]
    },
    {
     "name": "stderr",
     "output_type": "stream",
     "text": [
      "\r",
      " 77%|███████▋  | 969/1261 [46:18<15:47,  3.25s/it]"
     ]
    },
    {
     "name": "stdout",
     "output_type": "stream",
     "text": [
      "first coefficient diff : 0.00010285977299348857 second coefficient diff : 0.016749823064446723\n",
      "fit pos : 269.80 px 1054.16 px\n",
      "fit distance : 784.37 px 4.15 m\n",
      "All good for frame : 970\n"
     ]
    },
    {
     "name": "stderr",
     "output_type": "stream",
     "text": [
      "\r",
      " 77%|███████▋  | 970/1261 [46:21<15:47,  3.26s/it]"
     ]
    },
    {
     "name": "stdout",
     "output_type": "stream",
     "text": [
      "first coefficient diff : 5.711655835614955e-05 second coefficient diff : 0.020989364777335928\n",
      "fit pos : 275.01 px 1054.83 px\n",
      "fit distance : 779.83 px 4.12 m\n",
      "All good for frame : 971\n"
     ]
    },
    {
     "name": "stderr",
     "output_type": "stream",
     "text": [
      "\r",
      " 77%|███████▋  | 971/1261 [46:24<15:48,  3.27s/it]"
     ]
    },
    {
     "name": "stdout",
     "output_type": "stream",
     "text": [
      "first coefficient diff : 0.00017392473217795428 second coefficient diff : 0.09470538942955578\n",
      "fit pos : 269.70 px 1054.43 px\n",
      "fit distance : 784.73 px 4.15 m\n",
      "All good for frame : 972\n"
     ]
    },
    {
     "name": "stderr",
     "output_type": "stream",
     "text": [
      "\r",
      " 77%|███████▋  | 972/1261 [46:28<15:49,  3.28s/it]"
     ]
    },
    {
     "name": "stdout",
     "output_type": "stream",
     "text": [
      "first coefficient diff : 0.00018801283312612675 second coefficient diff : 0.0898359436602805\n",
      "fit pos : 269.35 px 1051.64 px\n",
      "fit distance : 782.29 px 4.13 m\n",
      "All good for frame : 973\n"
     ]
    },
    {
     "name": "stderr",
     "output_type": "stream",
     "text": [
      "\r",
      " 77%|███████▋  | 973/1261 [46:31<15:49,  3.30s/it]"
     ]
    },
    {
     "name": "stdout",
     "output_type": "stream",
     "text": [
      "first coefficient diff : 0.0002305416792383023 second coefficient diff : 0.1582643627325975\n",
      "fit pos : 270.18 px 1054.75 px\n",
      "fit distance : 784.57 px 4.15 m\n",
      "All good for frame : 974\n"
     ]
    },
    {
     "name": "stderr",
     "output_type": "stream",
     "text": [
      "\r",
      " 77%|███████▋  | 974/1261 [46:34<15:50,  3.31s/it]"
     ]
    },
    {
     "name": "stdout",
     "output_type": "stream",
     "text": [
      "first coefficient diff : 0.0001531402369761274 second coefficient diff : 0.08425610465057193\n",
      "fit pos : 274.39 px 1052.86 px\n",
      "fit distance : 778.47 px 4.11 m\n",
      "All good for frame : 975\n"
     ]
    },
    {
     "name": "stderr",
     "output_type": "stream",
     "text": [
      "\r",
      " 77%|███████▋  | 975/1261 [46:38<15:49,  3.32s/it]"
     ]
    },
    {
     "name": "stdout",
     "output_type": "stream",
     "text": [
      "first coefficient diff : 0.00023366083369578494 second coefficient diff : 0.12074043885901878\n",
      "fit pos : 271.99 px 1057.63 px\n",
      "fit distance : 785.63 px 4.15 m\n",
      "All good for frame : 976\n"
     ]
    },
    {
     "name": "stderr",
     "output_type": "stream",
     "text": [
      "\r",
      " 77%|███████▋  | 976/1261 [46:41<15:48,  3.33s/it]"
     ]
    },
    {
     "name": "stdout",
     "output_type": "stream",
     "text": [
      "first coefficient diff : 0.00024536830933434426 second coefficient diff : 0.12453204179612029\n",
      "fit pos : 273.86 px 1064.64 px\n",
      "fit distance : 790.78 px 4.18 m\n",
      "All good for frame : 977\n"
     ]
    },
    {
     "name": "stderr",
     "output_type": "stream",
     "text": [
      "\r",
      " 77%|███████▋  | 977/1261 [46:44<15:42,  3.32s/it]"
     ]
    },
    {
     "name": "stdout",
     "output_type": "stream",
     "text": [
      "first coefficient diff : 0.00026107235485246024 second coefficient diff : 0.129861791528518\n",
      "fit pos : 280.12 px 1064.71 px\n",
      "fit distance : 784.59 px 4.15 m\n",
      "All good for frame : 978\n"
     ]
    },
    {
     "name": "stderr",
     "output_type": "stream",
     "text": [
      "\r",
      " 78%|███████▊  | 978/1261 [46:48<15:36,  3.31s/it]"
     ]
    },
    {
     "name": "stdout",
     "output_type": "stream",
     "text": [
      "first coefficient diff : 0.00027307501928647987 second coefficient diff : 0.14481597244504116\n",
      "fit pos : 277.13 px 1059.36 px\n",
      "fit distance : 782.23 px 4.13 m\n",
      "All good for frame : 979\n"
     ]
    },
    {
     "name": "stderr",
     "output_type": "stream",
     "text": [
      "\r",
      " 78%|███████▊  | 979/1261 [46:51<15:31,  3.30s/it]"
     ]
    },
    {
     "name": "stdout",
     "output_type": "stream",
     "text": [
      "first coefficient diff : 0.00023375779609003752 second coefficient diff : 0.11480634410555449\n",
      "fit pos : 277.17 px 1054.27 px\n",
      "fit distance : 777.10 px 4.11 m\n",
      "All good for frame : 980\n"
     ]
    },
    {
     "name": "stderr",
     "output_type": "stream",
     "text": [
      "\r",
      " 78%|███████▊  | 980/1261 [46:54<15:24,  3.29s/it]"
     ]
    },
    {
     "name": "stdout",
     "output_type": "stream",
     "text": [
      "first coefficient diff : 0.00027680828303669475 second coefficient diff : 0.17010882200307564\n",
      "fit pos : 280.41 px 1055.55 px\n",
      "fit distance : 775.14 px 4.10 m\n",
      "All good for frame : 981\n"
     ]
    },
    {
     "name": "stderr",
     "output_type": "stream",
     "text": [
      "\r",
      " 78%|███████▊  | 981/1261 [46:57<15:18,  3.28s/it]"
     ]
    },
    {
     "name": "stdout",
     "output_type": "stream",
     "text": [
      "first coefficient diff : 0.00023203244687202372 second coefficient diff : 0.1565959305602151\n",
      "fit pos : 281.80 px 1051.29 px\n",
      "fit distance : 769.49 px 4.07 m\n",
      "All good for frame : 982\n"
     ]
    },
    {
     "name": "stderr",
     "output_type": "stream",
     "text": [
      "\r",
      " 78%|███████▊  | 982/1261 [47:01<15:16,  3.29s/it]"
     ]
    },
    {
     "name": "stdout",
     "output_type": "stream",
     "text": [
      "first coefficient diff : 0.0002835627553542095 second coefficient diff : 0.22255320098921083\n",
      "fit pos : 283.38 px 1053.02 px\n",
      "fit distance : 769.64 px 4.07 m\n",
      "All good for frame : 983\n"
     ]
    },
    {
     "name": "stderr",
     "output_type": "stream",
     "text": [
      "\r",
      " 78%|███████▊  | 983/1261 [47:04<15:09,  3.27s/it]"
     ]
    },
    {
     "name": "stdout",
     "output_type": "stream",
     "text": [
      "first coefficient diff : 0.00025523707932873174 second coefficient diff : 0.23323251754723393\n",
      "fit pos : 283.91 px 1053.77 px\n",
      "fit distance : 769.87 px 4.07 m\n",
      "All good for frame : 984\n"
     ]
    },
    {
     "name": "stderr",
     "output_type": "stream",
     "text": [
      "\r",
      " 78%|███████▊  | 984/1261 [47:07<15:03,  3.26s/it]"
     ]
    },
    {
     "name": "stdout",
     "output_type": "stream",
     "text": [
      "first coefficient diff : 0.0002241169772334341 second coefficient diff : 0.21191498863778307\n",
      "fit pos : 281.87 px 1049.86 px\n",
      "fit distance : 767.99 px 4.06 m\n",
      "All good for frame : 985\n"
     ]
    },
    {
     "name": "stderr",
     "output_type": "stream",
     "text": [
      "\r",
      " 78%|███████▊  | 985/1261 [47:10<14:59,  3.26s/it]"
     ]
    },
    {
     "name": "stdout",
     "output_type": "stream",
     "text": [
      "first coefficient diff : 0.00010159656107774716 second coefficient diff : 0.0703383855081074\n",
      "fit pos : 280.26 px 1049.01 px\n",
      "fit distance : 768.75 px 4.06 m\n",
      "All good for frame : 986\n"
     ]
    },
    {
     "name": "stderr",
     "output_type": "stream",
     "text": [
      "\r",
      " 78%|███████▊  | 986/1261 [47:14<15:18,  3.34s/it]"
     ]
    },
    {
     "name": "stdout",
     "output_type": "stream",
     "text": [
      "first coefficient diff : 3.346046451650974e-05 second coefficient diff : 0.0031270934060915745\n",
      "fit pos : 277.18 px 1048.39 px\n",
      "fit distance : 771.21 px 4.08 m\n",
      "All good for frame : 987\n"
     ]
    },
    {
     "name": "stderr",
     "output_type": "stream",
     "text": [
      "\r",
      " 78%|███████▊  | 987/1261 [47:17<15:03,  3.30s/it]"
     ]
    },
    {
     "name": "stdout",
     "output_type": "stream",
     "text": [
      "first coefficient diff : 0.00010249081792709695 second coefficient diff : 0.14642704015988184\n",
      "fit pos : 283.93 px 1041.64 px\n",
      "fit distance : 757.71 px 4.01 m\n",
      "All good for frame : 988\n"
     ]
    },
    {
     "name": "stderr",
     "output_type": "stream",
     "text": [
      "\r",
      " 78%|███████▊  | 988/1261 [47:20<14:52,  3.27s/it]"
     ]
    },
    {
     "name": "stdout",
     "output_type": "stream",
     "text": [
      "first coefficient diff : 8.08682690815525e-05 second coefficient diff : 0.03903551615166698\n",
      "fit pos : 276.19 px 1049.36 px\n",
      "fit distance : 773.17 px 4.09 m\n",
      "All good for frame : 989\n"
     ]
    },
    {
     "name": "stderr",
     "output_type": "stream",
     "text": [
      "\r",
      " 78%|███████▊  | 989/1261 [47:24<14:43,  3.25s/it]"
     ]
    },
    {
     "name": "stdout",
     "output_type": "stream",
     "text": [
      "first coefficient diff : 0.00018323645871792446 second coefficient diff : 0.1420003089058071\n",
      "fit pos : 267.48 px 1049.65 px\n",
      "fit distance : 782.17 px 4.13 m\n",
      "All good for frame : 990\n"
     ]
    },
    {
     "name": "stderr",
     "output_type": "stream",
     "text": [
      "\r",
      " 79%|███████▊  | 990/1261 [47:27<14:38,  3.24s/it]"
     ]
    },
    {
     "name": "stdout",
     "output_type": "stream",
     "text": [
      "first coefficient diff : 6.32236533492861e-05 second coefficient diff : 0.09526589874163449\n",
      "fit pos : 275.85 px 1050.18 px\n",
      "fit distance : 774.33 px 4.09 m\n",
      "All good for frame : 991\n"
     ]
    },
    {
     "name": "stderr",
     "output_type": "stream",
     "text": [
      "\r",
      " 79%|███████▊  | 991/1261 [47:30<14:15,  3.17s/it]"
     ]
    },
    {
     "name": "stdout",
     "output_type": "stream",
     "text": [
      "first coefficient diff : 9.810530753370656e-05 second coefficient diff : 0.10310730134534257\n",
      "fit pos : 277.83 px 1050.95 px\n",
      "fit distance : 773.12 px 4.09 m\n",
      "All good for frame : 992\n"
     ]
    },
    {
     "name": "stderr",
     "output_type": "stream",
     "text": [
      "\r",
      " 79%|███████▊  | 992/1261 [47:33<14:02,  3.13s/it]"
     ]
    },
    {
     "name": "stdout",
     "output_type": "stream",
     "text": [
      "first coefficient diff : 9.732923386796823e-05 second coefficient diff : 0.15068425881226172\n",
      "fit pos : 277.67 px 1050.49 px\n",
      "fit distance : 772.83 px 4.08 m\n",
      "All good for frame : 993\n"
     ]
    },
    {
     "name": "stderr",
     "output_type": "stream",
     "text": [
      "\r",
      " 79%|███████▊  | 993/1261 [47:36<13:53,  3.11s/it]"
     ]
    },
    {
     "name": "stdout",
     "output_type": "stream",
     "text": [
      "first coefficient diff : 2.611189164154434e-05 second coefficient diff : 0.0815492163396822\n",
      "fit pos : 280.10 px 1053.27 px\n",
      "fit distance : 773.16 px 4.09 m\n",
      "All good for frame : 994\n"
     ]
    },
    {
     "name": "stderr",
     "output_type": "stream",
     "text": [
      "\r",
      " 79%|███████▉  | 994/1261 [47:39<13:47,  3.10s/it]"
     ]
    },
    {
     "name": "stdout",
     "output_type": "stream",
     "text": [
      "first coefficient diff : 3.866117180246283e-05 second coefficient diff : 0.04068199815078272\n",
      "fit pos : 273.33 px 1048.13 px\n",
      "fit distance : 774.79 px 4.10 m\n",
      "All good for frame : 995\n"
     ]
    },
    {
     "name": "stderr",
     "output_type": "stream",
     "text": [
      "\r",
      " 79%|███████▉  | 995/1261 [47:42<13:47,  3.11s/it]"
     ]
    },
    {
     "name": "stdout",
     "output_type": "stream",
     "text": [
      "first coefficient diff : 9.324095720289444e-05 second coefficient diff : 0.019006438949585813\n",
      "fit pos : 270.84 px 1044.08 px\n",
      "fit distance : 773.24 px 4.09 m\n",
      "All good for frame : 996\n"
     ]
    },
    {
     "name": "stderr",
     "output_type": "stream",
     "text": [
      "\r",
      " 79%|███████▉  | 996/1261 [47:45<13:51,  3.14s/it]"
     ]
    },
    {
     "name": "stdout",
     "output_type": "stream",
     "text": [
      "first coefficient diff : 0.00016626639018233375 second coefficient diff : 0.1143765693798322\n",
      "fit pos : 264.11 px 1043.31 px\n",
      "fit distance : 779.20 px 4.12 m\n",
      "All good for frame : 997\n"
     ]
    },
    {
     "name": "stderr",
     "output_type": "stream",
     "text": [
      "\r",
      " 79%|███████▉  | 997/1261 [47:49<13:58,  3.18s/it]"
     ]
    },
    {
     "name": "stdout",
     "output_type": "stream",
     "text": [
      "first coefficient diff : 8.049202978686686e-05 second coefficient diff : 0.04290634308284763\n",
      "fit pos : 263.73 px 1037.14 px\n",
      "fit distance : 773.42 px 4.09 m\n",
      "All good for frame : 998\n"
     ]
    },
    {
     "name": "stderr",
     "output_type": "stream",
     "text": [
      "\r",
      " 79%|███████▉  | 998/1261 [47:52<14:06,  3.22s/it]"
     ]
    },
    {
     "name": "stdout",
     "output_type": "stream",
     "text": [
      "first coefficient diff : 7.330243105994503e-05 second coefficient diff : 0.06661715963285697\n",
      "fit pos : 256.65 px 1033.97 px\n",
      "fit distance : 777.32 px 4.11 m\n",
      "All good for frame : 999\n"
     ]
    },
    {
     "name": "stderr",
     "output_type": "stream",
     "text": [
      "\r",
      " 79%|███████▉  | 999/1261 [47:55<14:15,  3.27s/it]"
     ]
    },
    {
     "name": "stdout",
     "output_type": "stream",
     "text": [
      "first coefficient diff : 4.0823918702334366e-05 second coefficient diff : 0.03056249766254754\n",
      "fit pos : 247.37 px 1028.93 px\n",
      "fit distance : 781.56 px 4.13 m\n",
      "All good for frame : 1000\n"
     ]
    },
    {
     "name": "stderr",
     "output_type": "stream",
     "text": [
      "\r",
      " 79%|███████▉  | 1000/1261 [47:59<14:25,  3.32s/it]"
     ]
    },
    {
     "name": "stdout",
     "output_type": "stream",
     "text": [
      "first coefficient diff : 0.0002200485512048392 second coefficient diff : 0.17196595218860744\n",
      "fit pos : 238.17 px 1047.72 px\n",
      "fit distance : 809.54 px 4.28 m\n",
      "All good for frame : 1001\n"
     ]
    },
    {
     "name": "stderr",
     "output_type": "stream",
     "text": [
      "\r",
      " 79%|███████▉  | 1001/1261 [48:02<14:30,  3.35s/it]"
     ]
    },
    {
     "name": "stdout",
     "output_type": "stream",
     "text": [
      "first coefficient diff : 0.0002658622913180483 second coefficient diff : 0.2633127924337052\n",
      "fit pos : 224.10 px 1051.19 px\n",
      "fit distance : 827.09 px 4.37 m\n",
      "All good for frame : 1002\n"
     ]
    },
    {
     "name": "stderr",
     "output_type": "stream",
     "text": [
      "\r",
      " 79%|███████▉  | 1002/1261 [48:06<14:35,  3.38s/it]"
     ]
    },
    {
     "name": "stdout",
     "output_type": "stream",
     "text": [
      "first coefficient diff : 0.00031048907976801706 second coefficient diff : 0.33730232664649795\n",
      "fit pos : 213.65 px 1057.63 px\n",
      "fit distance : 843.98 px 4.46 m\n",
      "All good for frame : 1003\n"
     ]
    },
    {
     "name": "stderr",
     "output_type": "stream",
     "text": [
      "\r",
      " 80%|███████▉  | 1003/1261 [48:09<14:37,  3.40s/it]"
     ]
    },
    {
     "name": "stdout",
     "output_type": "stream",
     "text": [
      "first coefficient diff : 0.0003136303790264098 second coefficient diff : 0.39305809083759147\n",
      "fit pos : 206.07 px 1062.10 px\n",
      "fit distance : 856.03 px 4.52 m\n",
      "All good for frame : 1004\n"
     ]
    },
    {
     "name": "stderr",
     "output_type": "stream",
     "text": [
      "\r",
      " 80%|███████▉  | 1004/1261 [48:12<14:38,  3.42s/it]"
     ]
    },
    {
     "name": "stdout",
     "output_type": "stream",
     "text": [
      "first coefficient diff : 0.0003588751560257841 second coefficient diff : 0.42116779552142414\n",
      "fit pos : 201.54 px 1059.50 px\n",
      "fit distance : 857.96 px 4.53 m\n",
      "All good for frame : 1005\n"
     ]
    },
    {
     "name": "stderr",
     "output_type": "stream",
     "text": [
      "\r",
      " 80%|███████▉  | 1005/1261 [48:16<14:39,  3.43s/it]"
     ]
    },
    {
     "name": "stdout",
     "output_type": "stream",
     "text": [
      "first coefficient diff : 0.00034758709619491445 second coefficient diff : 0.2637744547001545\n",
      "fit pos : 221.22 px 1052.37 px\n",
      "fit distance : 831.15 px 4.39 m\n",
      "All good for frame : 1006\n"
     ]
    },
    {
     "name": "stderr",
     "output_type": "stream",
     "text": [
      "\r",
      " 80%|███████▉  | 1006/1261 [48:19<14:36,  3.44s/it]"
     ]
    },
    {
     "name": "stdout",
     "output_type": "stream",
     "text": [
      "first coefficient diff : 0.0005359893372487732 second coefficient diff : 0.4571144909311219\n",
      "fit pos : 218.61 px 1060.57 px\n",
      "fit distance : 841.96 px 4.45 m\n",
      "All good for frame : 1007\n"
     ]
    },
    {
     "name": "stderr",
     "output_type": "stream",
     "text": [
      "\r",
      " 80%|███████▉  | 1007/1261 [48:23<14:35,  3.44s/it]"
     ]
    },
    {
     "name": "stdout",
     "output_type": "stream",
     "text": [
      "first coefficient diff : 0.0004504154245132201 second coefficient diff : 0.30669559915856015\n",
      "fit pos : 218.06 px 1040.11 px\n",
      "fit distance : 822.06 px 4.35 m\n",
      "All good for frame : 1008\n"
     ]
    },
    {
     "name": "stderr",
     "output_type": "stream",
     "text": [
      "\r",
      " 80%|███████▉  | 1008/1261 [48:26<14:32,  3.45s/it]"
     ]
    },
    {
     "name": "stdout",
     "output_type": "stream",
     "text": [
      "first coefficient diff : 0.0002926577414553675 second coefficient diff : 0.1981196330357679\n",
      "fit pos : 222.61 px 1033.24 px\n",
      "fit distance : 810.63 px 4.28 m\n",
      "All good for frame : 1009\n"
     ]
    },
    {
     "name": "stderr",
     "output_type": "stream",
     "text": [
      "\r",
      " 80%|████████  | 1009/1261 [48:30<14:33,  3.46s/it]"
     ]
    },
    {
     "name": "stdout",
     "output_type": "stream",
     "text": [
      "first coefficient diff : 0.00024465404948855764 second coefficient diff : 0.19964218348015741\n",
      "fit pos : 216.86 px 1026.41 px\n",
      "fit distance : 809.55 px 4.28 m\n",
      "All good for frame : 1010\n"
     ]
    },
    {
     "name": "stderr",
     "output_type": "stream",
     "text": [
      "\r",
      " 80%|████████  | 1010/1261 [48:33<14:35,  3.49s/it]"
     ]
    },
    {
     "name": "stdout",
     "output_type": "stream",
     "text": [
      "first coefficient diff : 0.00023044650495452853 second coefficient diff : 0.20034098422975102\n",
      "fit pos : 219.86 px 1020.31 px\n",
      "fit distance : 800.45 px 4.23 m\n",
      "All good for frame : 1011\n"
     ]
    },
    {
     "name": "stderr",
     "output_type": "stream",
     "text": [
      "\r",
      " 80%|████████  | 1011/1261 [48:37<14:36,  3.51s/it]"
     ]
    },
    {
     "name": "stdout",
     "output_type": "stream",
     "text": [
      "first coefficient diff : 0.00025654643256092487 second coefficient diff : 0.30574098544743167\n",
      "fit pos : 206.47 px 1019.38 px\n",
      "fit distance : 812.91 px 4.30 m\n",
      "All good for frame : 1012\n"
     ]
    },
    {
     "name": "stderr",
     "output_type": "stream",
     "text": [
      "\r",
      " 80%|████████  | 1012/1261 [48:40<14:39,  3.53s/it]"
     ]
    },
    {
     "name": "stdout",
     "output_type": "stream",
     "text": [
      "first coefficient diff : 0.00030722900463190094 second coefficient diff : 0.3648836630587818\n",
      "fit pos : 203.07 px 1016.77 px\n",
      "fit distance : 813.70 px 4.30 m\n",
      "All good for frame : 1013\n"
     ]
    },
    {
     "name": "stderr",
     "output_type": "stream",
     "text": [
      "\r",
      " 80%|████████  | 1013/1261 [48:44<14:43,  3.56s/it]"
     ]
    },
    {
     "name": "stdout",
     "output_type": "stream",
     "text": [
      "first coefficient diff : 0.00035174396182901385 second coefficient diff : 0.40242039955500264\n",
      "fit pos : 202.87 px 1021.81 px\n",
      "fit distance : 818.94 px 4.33 m\n",
      "All good for frame : 1014\n"
     ]
    },
    {
     "name": "stderr",
     "output_type": "stream",
     "text": [
      "\r",
      " 80%|████████  | 1014/1261 [48:48<14:46,  3.59s/it]"
     ]
    },
    {
     "name": "stdout",
     "output_type": "stream",
     "text": [
      "first coefficient diff : 0.000538479179227233 second coefficient diff : 0.49278491150468534\n",
      "fit pos : 201.28 px 1062.80 px\n",
      "fit distance : 861.52 px 4.55 m\n",
      "All good for frame : 1015\n"
     ]
    },
    {
     "name": "stderr",
     "output_type": "stream",
     "text": [
      "\r",
      " 80%|████████  | 1015/1261 [48:51<14:48,  3.61s/it]"
     ]
    },
    {
     "name": "stdout",
     "output_type": "stream",
     "text": [
      "first coefficient diff : 4.273145151617401e-05 second coefficient diff : 0.1404373572786401\n",
      "fit pos : 200.86 px 974.51 px\n",
      "fit distance : 773.65 px 4.09 m\n",
      "All good for frame : 1016\n"
     ]
    },
    {
     "name": "stderr",
     "output_type": "stream",
     "text": [
      "\r",
      " 81%|████████  | 1016/1261 [48:55<14:55,  3.66s/it]"
     ]
    },
    {
     "name": "stdout",
     "output_type": "stream",
     "text": [
      "first coefficient diff : 0.00011899099110259501 second coefficient diff : 0.23865357607220178\n",
      "fit pos : 199.56 px 995.70 px\n",
      "fit distance : 796.13 px 4.21 m\n",
      "All good for frame : 1017\n"
     ]
    },
    {
     "name": "stderr",
     "output_type": "stream",
     "text": [
      "\r",
      " 81%|████████  | 1017/1261 [48:59<14:59,  3.68s/it]"
     ]
    },
    {
     "name": "stdout",
     "output_type": "stream",
     "text": [
      "first coefficient diff : 0.00017751098383373423 second coefficient diff : 0.24775588067215584\n",
      "fit pos : 204.14 px 1008.71 px\n",
      "fit distance : 804.57 px 4.25 m\n",
      "All good for frame : 1018\n"
     ]
    },
    {
     "name": "stderr",
     "output_type": "stream",
     "text": [
      "\r",
      " 81%|████████  | 1018/1261 [49:03<15:01,  3.71s/it]"
     ]
    },
    {
     "name": "stdout",
     "output_type": "stream",
     "text": [
      "first coefficient diff : 4.577932357386983e-05 second coefficient diff : 0.1364117825082329\n",
      "fit pos : 203.62 px 1001.77 px\n",
      "fit distance : 798.16 px 4.22 m\n",
      "All good for frame : 1019\n"
     ]
    },
    {
     "name": "stderr",
     "output_type": "stream",
     "text": [
      "\r",
      " 81%|████████  | 1019/1261 [49:06<15:01,  3.72s/it]"
     ]
    },
    {
     "name": "stdout",
     "output_type": "stream",
     "text": [
      "first coefficient diff : 0.00017579180169299943 second coefficient diff : 0.014984021680314541\n",
      "fit pos : 201.05 px 985.52 px\n",
      "fit distance : 784.47 px 4.15 m\n",
      "All good for frame : 1020\n"
     ]
    },
    {
     "name": "stderr",
     "output_type": "stream",
     "text": [
      "\r",
      " 81%|████████  | 1020/1261 [49:10<15:03,  3.75s/it]"
     ]
    },
    {
     "name": "stdout",
     "output_type": "stream",
     "text": [
      "first coefficient diff : 0.00012250552192473747 second coefficient diff : 0.15964632786705504\n",
      "fit pos : 203.63 px 1008.37 px\n",
      "fit distance : 804.74 px 4.25 m\n",
      "All good for frame : 1021\n"
     ]
    },
    {
     "name": "stderr",
     "output_type": "stream",
     "text": [
      "\r",
      " 81%|████████  | 1021/1261 [49:14<14:51,  3.71s/it]"
     ]
    },
    {
     "name": "stdout",
     "output_type": "stream",
     "text": [
      "first coefficient diff : 8.868857878018024e-05 second coefficient diff : 0.1433911994860942\n",
      "fit pos : 199.50 px 1011.96 px\n",
      "fit distance : 812.46 px 4.29 m\n",
      "All good for frame : 1022\n"
     ]
    },
    {
     "name": "stderr",
     "output_type": "stream",
     "text": [
      "\r",
      " 81%|████████  | 1022/1261 [49:18<14:42,  3.69s/it]"
     ]
    },
    {
     "name": "stdout",
     "output_type": "stream",
     "text": [
      "first coefficient diff : 9.137426489208838e-05 second coefficient diff : 0.1669965021302704\n",
      "fit pos : 192.64 px 1014.06 px\n",
      "fit distance : 821.42 px 4.34 m\n",
      "All good for frame : 1023\n"
     ]
    },
    {
     "name": "stderr",
     "output_type": "stream",
     "text": [
      "\r",
      " 81%|████████  | 1023/1261 [49:21<14:35,  3.68s/it]"
     ]
    },
    {
     "name": "stdout",
     "output_type": "stream",
     "text": [
      "first coefficient diff : 4.663124561298573e-05 second coefficient diff : 0.12509324607230304\n",
      "fit pos : 189.91 px 1015.69 px\n",
      "fit distance : 825.78 px 4.36 m\n",
      "All good for frame : 1024\n"
     ]
    },
    {
     "name": "stderr",
     "output_type": "stream",
     "text": [
      "\r",
      " 81%|████████  | 1024/1261 [49:25<14:30,  3.67s/it]"
     ]
    },
    {
     "name": "stdout",
     "output_type": "stream",
     "text": [
      "first coefficient diff : 8.414399780169848e-05 second coefficient diff : 0.15876736538484212\n",
      "fit pos : 187.51 px 1023.76 px\n",
      "fit distance : 836.25 px 4.42 m\n",
      "All good for frame : 1025\n"
     ]
    },
    {
     "name": "stderr",
     "output_type": "stream",
     "text": [
      "\r",
      " 81%|████████▏ | 1025/1261 [49:29<14:25,  3.67s/it]"
     ]
    },
    {
     "name": "stdout",
     "output_type": "stream",
     "text": [
      "first coefficient diff : 0.0001381756766478534 second coefficient diff : 0.12080924466257176\n",
      "fit pos : 189.98 px 1033.33 px\n",
      "fit distance : 843.35 px 4.46 m\n",
      "All good for frame : 1026\n"
     ]
    },
    {
     "name": "stderr",
     "output_type": "stream",
     "text": [
      "\r",
      " 81%|████████▏ | 1026/1261 [49:32<14:20,  3.66s/it]"
     ]
    },
    {
     "name": "stdout",
     "output_type": "stream",
     "text": [
      "first coefficient diff : 5.870677598055201e-05 second coefficient diff : 0.045918110794703065\n",
      "fit pos : 190.61 px 1004.17 px\n",
      "fit distance : 813.56 px 4.30 m\n",
      "All good for frame : 1027\n"
     ]
    },
    {
     "name": "stderr",
     "output_type": "stream",
     "text": [
      "\r",
      " 81%|████████▏ | 1027/1261 [49:36<14:14,  3.65s/it]"
     ]
    },
    {
     "name": "stdout",
     "output_type": "stream",
     "text": [
      "first coefficient diff : 4.4917765375096475e-05 second coefficient diff : 0.07644178658811523\n",
      "fit pos : 193.06 px 1005.36 px\n",
      "fit distance : 812.31 px 4.29 m\n",
      "All good for frame : 1028\n"
     ]
    },
    {
     "name": "stderr",
     "output_type": "stream",
     "text": [
      "\r",
      " 82%|████████▏ | 1028/1261 [49:39<14:06,  3.63s/it]"
     ]
    },
    {
     "name": "stdout",
     "output_type": "stream",
     "text": [
      "first coefficient diff : 0.00013919670622296703 second coefficient diff : 0.0656870234482202\n",
      "fit pos : 192.86 px 1014.54 px\n",
      "fit distance : 821.68 px 4.34 m\n",
      "All good for frame : 1029\n"
     ]
    },
    {
     "name": "stderr",
     "output_type": "stream",
     "text": [
      "\r",
      " 82%|████████▏ | 1029/1261 [49:43<13:59,  3.62s/it]"
     ]
    },
    {
     "name": "stdout",
     "output_type": "stream",
     "text": [
      "first coefficient diff : 0.0001015938998999172 second coefficient diff : 0.038666936102071114\n",
      "fit pos : 190.91 px 1013.34 px\n",
      "fit distance : 822.43 px 4.35 m\n",
      "All good for frame : 1030\n"
     ]
    },
    {
     "name": "stderr",
     "output_type": "stream",
     "text": [
      "\r",
      " 82%|████████▏ | 1030/1261 [49:47<13:54,  3.61s/it]"
     ]
    },
    {
     "name": "stdout",
     "output_type": "stream",
     "text": [
      "first coefficient diff : 0.00017156800152654962 second coefficient diff : 0.06686318125065727\n",
      "fit pos : 191.31 px 1016.28 px\n",
      "fit distance : 824.97 px 4.36 m\n",
      "All good for frame : 1031\n"
     ]
    },
    {
     "name": "stderr",
     "output_type": "stream",
     "text": [
      "\r",
      " 82%|████████▏ | 1031/1261 [49:50<13:47,  3.60s/it]"
     ]
    },
    {
     "name": "stdout",
     "output_type": "stream",
     "text": [
      "first coefficient diff : 0.00017583656748290956 second coefficient diff : 0.08742821827887026\n",
      "fit pos : 186.93 px 1011.80 px\n",
      "fit distance : 824.87 px 4.36 m\n",
      "All good for frame : 1032\n"
     ]
    },
    {
     "name": "stderr",
     "output_type": "stream",
     "text": [
      "\r",
      " 82%|████████▏ | 1032/1261 [49:54<13:42,  3.59s/it]"
     ]
    },
    {
     "name": "stdout",
     "output_type": "stream",
     "text": [
      "first coefficient diff : 0.00019139095784731063 second coefficient diff : 0.11734835726413062\n",
      "fit pos : 182.98 px 1016.09 px\n",
      "fit distance : 833.11 px 4.40 m\n",
      "All good for frame : 1033\n"
     ]
    },
    {
     "name": "stderr",
     "output_type": "stream",
     "text": [
      "\r",
      " 82%|████████▏ | 1033/1261 [49:57<13:39,  3.59s/it]"
     ]
    },
    {
     "name": "stdout",
     "output_type": "stream",
     "text": [
      "first coefficient diff : 0.0001588032986966006 second coefficient diff : 0.07351242196424779\n",
      "fit pos : 187.53 px 1010.05 px\n",
      "fit distance : 822.52 px 4.35 m\n",
      "All good for frame : 1034\n"
     ]
    },
    {
     "name": "stderr",
     "output_type": "stream",
     "text": [
      "\r",
      " 82%|████████▏ | 1034/1261 [50:01<13:36,  3.60s/it]"
     ]
    },
    {
     "name": "stdout",
     "output_type": "stream",
     "text": [
      "first coefficient diff : 0.00018886111982983688 second coefficient diff : 0.07067478156140994\n",
      "fit pos : 189.06 px 1010.32 px\n",
      "fit distance : 821.26 px 4.34 m\n",
      "All good for frame : 1035\n"
     ]
    },
    {
     "name": "stderr",
     "output_type": "stream",
     "text": [
      "\r",
      " 82%|████████▏ | 1035/1261 [50:04<13:29,  3.58s/it]"
     ]
    },
    {
     "name": "stdout",
     "output_type": "stream",
     "text": [
      "first coefficient diff : 3.2290499570722224e-05 second coefficient diff : 0.10291797281962112\n",
      "fit pos : 197.79 px 1002.43 px\n",
      "fit distance : 804.65 px 4.25 m\n",
      "All good for frame : 1036\n"
     ]
    },
    {
     "name": "stderr",
     "output_type": "stream",
     "text": [
      "\r",
      " 82%|████████▏ | 1036/1261 [50:08<13:24,  3.57s/it]"
     ]
    },
    {
     "name": "stdout",
     "output_type": "stream",
     "text": [
      "first coefficient diff : 6.319490086487324e-05 second coefficient diff : 0.05839033267462562\n",
      "fit pos : 197.50 px 1001.62 px\n",
      "fit distance : 804.12 px 4.25 m\n",
      "All good for frame : 1037\n"
     ]
    },
    {
     "name": "stderr",
     "output_type": "stream",
     "text": [
      "\r",
      " 82%|████████▏ | 1037/1261 [50:12<13:18,  3.56s/it]"
     ]
    },
    {
     "name": "stdout",
     "output_type": "stream",
     "text": [
      "first coefficient diff : 5.046777225622799e-05 second coefficient diff : 0.1192738139308927\n",
      "fit pos : 198.08 px 990.03 px\n",
      "fit distance : 791.94 px 4.19 m\n",
      "All good for frame : 1038\n"
     ]
    },
    {
     "name": "stderr",
     "output_type": "stream",
     "text": [
      "\r",
      " 82%|████████▏ | 1038/1261 [50:15<13:11,  3.55s/it]"
     ]
    },
    {
     "name": "stdout",
     "output_type": "stream",
     "text": [
      "first coefficient diff : 2.1864087450423225e-05 second coefficient diff : 0.14014610404710248\n",
      "fit pos : 202.55 px 996.01 px\n",
      "fit distance : 793.47 px 4.19 m\n",
      "All good for frame : 1039\n"
     ]
    },
    {
     "name": "stderr",
     "output_type": "stream",
     "text": [
      "\r",
      " 82%|████████▏ | 1039/1261 [50:19<13:02,  3.52s/it]"
     ]
    },
    {
     "name": "stdout",
     "output_type": "stream",
     "text": [
      "first coefficient diff : 0.00011632149655772925 second coefficient diff : 0.16356646226906718\n",
      "fit pos : 204.27 px 991.18 px\n",
      "fit distance : 786.92 px 4.16 m\n",
      "All good for frame : 1040\n"
     ]
    },
    {
     "name": "stderr",
     "output_type": "stream",
     "text": [
      "\r",
      " 82%|████████▏ | 1040/1261 [50:22<12:48,  3.48s/it]"
     ]
    },
    {
     "name": "stdout",
     "output_type": "stream",
     "text": [
      "first coefficient diff : 0.00015888762443476876 second coefficient diff : 0.17468888551765782\n",
      "fit pos : 202.93 px 988.06 px\n",
      "fit distance : 785.13 px 4.15 m\n",
      "All good for frame : 1041\n"
     ]
    },
    {
     "name": "stderr",
     "output_type": "stream",
     "text": [
      "\r",
      " 83%|████████▎ | 1041/1261 [50:25<12:28,  3.40s/it]"
     ]
    },
    {
     "name": "stdout",
     "output_type": "stream",
     "text": [
      "first coefficient diff : 0.00010841696976235062 second coefficient diff : 0.17029114828008018\n",
      "fit pos : 205.52 px 994.20 px\n",
      "fit distance : 788.69 px 4.17 m\n",
      "All good for frame : 1042\n"
     ]
    },
    {
     "name": "stderr",
     "output_type": "stream",
     "text": [
      "\r",
      " 83%|████████▎ | 1042/1261 [50:28<12:06,  3.32s/it]"
     ]
    },
    {
     "name": "stdout",
     "output_type": "stream",
     "text": [
      "first coefficient diff : 0.0001729920860532643 second coefficient diff : 0.19062179105998328\n",
      "fit pos : 210.75 px 994.89 px\n",
      "fit distance : 784.14 px 4.14 m\n",
      "All good for frame : 1043\n"
     ]
    },
    {
     "name": "stderr",
     "output_type": "stream",
     "text": [
      "\r",
      " 83%|████████▎ | 1043/1261 [50:31<11:48,  3.25s/it]"
     ]
    },
    {
     "name": "stdout",
     "output_type": "stream",
     "text": [
      "first coefficient diff : 0.00012371558383007688 second coefficient diff : 0.15671024311343223\n",
      "fit pos : 205.59 px 994.60 px\n",
      "fit distance : 789.01 px 4.17 m\n",
      "All good for frame : 1044\n"
     ]
    },
    {
     "name": "stderr",
     "output_type": "stream",
     "text": [
      "\r",
      " 83%|████████▎ | 1044/1261 [50:34<11:37,  3.21s/it]"
     ]
    },
    {
     "name": "stdout",
     "output_type": "stream",
     "text": [
      "first coefficient diff : 0.0001741479815247207 second coefficient diff : 0.11870055085276632\n",
      "fit pos : 206.66 px 998.90 px\n",
      "fit distance : 792.24 px 4.19 m\n",
      "All good for frame : 1045\n"
     ]
    },
    {
     "name": "stderr",
     "output_type": "stream",
     "text": [
      "\r",
      " 83%|████████▎ | 1045/1261 [50:38<11:32,  3.21s/it]"
     ]
    },
    {
     "name": "stdout",
     "output_type": "stream",
     "text": [
      "first coefficient diff : 0.00010531779727479963 second coefficient diff : 0.1560029118260503\n",
      "fit pos : 198.55 px 995.01 px\n",
      "fit distance : 796.46 px 4.21 m\n",
      "All good for frame : 1046\n"
     ]
    },
    {
     "name": "stderr",
     "output_type": "stream",
     "text": [
      "\r",
      " 83%|████████▎ | 1046/1261 [50:41<11:22,  3.17s/it]"
     ]
    },
    {
     "name": "stdout",
     "output_type": "stream",
     "text": [
      "first coefficient diff : 5.2243245662299525e-05 second coefficient diff : 0.12055611710254621\n",
      "fit pos : 192.91 px 1000.38 px\n",
      "fit distance : 807.48 px 4.27 m\n",
      "All good for frame : 1047\n"
     ]
    },
    {
     "name": "stderr",
     "output_type": "stream",
     "text": [
      "\r",
      " 83%|████████▎ | 1047/1261 [50:44<11:15,  3.15s/it]"
     ]
    },
    {
     "name": "stdout",
     "output_type": "stream",
     "text": [
      "first coefficient diff : 8.03579932518185e-05 second coefficient diff : 0.026885259572938525\n",
      "fit pos : 182.36 px 1027.36 px\n",
      "fit distance : 845.00 px 4.47 m\n",
      "All good for frame : 1048\n"
     ]
    },
    {
     "name": "stderr",
     "output_type": "stream",
     "text": [
      "\r",
      " 83%|████████▎ | 1048/1261 [50:47<11:09,  3.14s/it]"
     ]
    },
    {
     "name": "stdout",
     "output_type": "stream",
     "text": [
      "first coefficient diff : 9.658929244475435e-05 second coefficient diff : 0.04384069149775022\n",
      "fit pos : 177.76 px 1028.50 px\n",
      "fit distance : 850.74 px 4.50 m\n",
      "All good for frame : 1049\n"
     ]
    },
    {
     "name": "stderr",
     "output_type": "stream",
     "text": [
      "\r",
      " 83%|████████▎ | 1049/1261 [50:50<11:02,  3.12s/it]"
     ]
    },
    {
     "name": "stdout",
     "output_type": "stream",
     "text": [
      "first coefficient diff : 0.00012789727095161404 second coefficient diff : 0.09682418411623528\n",
      "fit pos : 172.45 px 1027.91 px\n",
      "fit distance : 855.46 px 4.52 m\n",
      "All good for frame : 1050\n"
     ]
    },
    {
     "name": "stderr",
     "output_type": "stream",
     "text": [
      "\r",
      " 83%|████████▎ | 1050/1261 [50:53<10:57,  3.11s/it]"
     ]
    },
    {
     "name": "stdout",
     "output_type": "stream",
     "text": [
      "first coefficient diff : 0.0002047543773420307 second coefficient diff : 0.10477115483604488\n",
      "fit pos : 169.05 px 1023.10 px\n",
      "fit distance : 854.05 px 4.51 m\n",
      "All good for frame : 1051\n"
     ]
    },
    {
     "name": "stderr",
     "output_type": "stream",
     "text": [
      "\r",
      " 83%|████████▎ | 1051/1261 [50:56<10:32,  3.01s/it]"
     ]
    },
    {
     "name": "stdout",
     "output_type": "stream",
     "text": [
      "first coefficient diff : 0.00021849020370070152 second coefficient diff : 0.11699199353642897\n",
      "fit pos : 165.91 px 1018.60 px\n",
      "fit distance : 852.69 px 4.51 m\n",
      "All good for frame : 1052\n"
     ]
    },
    {
     "name": "stderr",
     "output_type": "stream",
     "text": [
      "\r",
      " 83%|████████▎ | 1052/1261 [50:59<10:19,  2.96s/it]"
     ]
    },
    {
     "name": "stdout",
     "output_type": "stream",
     "text": [
      "first coefficient diff : 1.4039948185877666e-05 second coefficient diff : 0.048857314770250626\n",
      "fit pos : 161.05 px 999.05 px\n",
      "fit distance : 838.00 px 4.43 m\n",
      "All good for frame : 1053\n"
     ]
    },
    {
     "name": "stderr",
     "output_type": "stream",
     "text": [
      "\r",
      " 84%|████████▎ | 1053/1261 [51:02<10:07,  2.92s/it]"
     ]
    },
    {
     "name": "stdout",
     "output_type": "stream",
     "text": [
      "first coefficient diff : 1.6036529183643337e-05 second coefficient diff : 0.12720066973723193\n",
      "fit pos : 168.30 px 1000.44 px\n",
      "fit distance : 832.15 px 4.40 m\n",
      "All good for frame : 1054\n"
     ]
    },
    {
     "name": "stderr",
     "output_type": "stream",
     "text": [
      "\r",
      " 84%|████████▎ | 1054/1261 [51:04<09:55,  2.87s/it]"
     ]
    },
    {
     "name": "stdout",
     "output_type": "stream",
     "text": [
      "first coefficient diff : 0.00012756789825447924 second coefficient diff : 0.07972383474785599\n",
      "fit pos : 173.51 px 1006.09 px\n",
      "fit distance : 832.58 px 4.40 m\n",
      "All good for frame : 1055\n"
     ]
    },
    {
     "name": "stderr",
     "output_type": "stream",
     "text": [
      "\r",
      " 84%|████████▎ | 1055/1261 [51:07<09:49,  2.86s/it]"
     ]
    },
    {
     "name": "stdout",
     "output_type": "stream",
     "text": [
      "first coefficient diff : 0.00010082302513588358 second coefficient diff : 0.12597278223314773\n",
      "fit pos : 180.92 px 1005.37 px\n",
      "fit distance : 824.45 px 4.36 m\n",
      "All good for frame : 1056\n"
     ]
    },
    {
     "name": "stderr",
     "output_type": "stream",
     "text": [
      "\r",
      " 84%|████████▎ | 1056/1261 [51:10<09:44,  2.85s/it]"
     ]
    },
    {
     "name": "stdout",
     "output_type": "stream",
     "text": [
      "first coefficient diff : 7.653230304555681e-05 second coefficient diff : 0.1845571126834457\n",
      "fit pos : 187.38 px 1003.18 px\n",
      "fit distance : 815.80 px 4.31 m\n",
      "All good for frame : 1057\n"
     ]
    },
    {
     "name": "stderr",
     "output_type": "stream",
     "text": [
      "\r",
      " 84%|████████▍ | 1057/1261 [51:13<09:45,  2.87s/it]"
     ]
    },
    {
     "name": "stdout",
     "output_type": "stream",
     "text": [
      "first coefficient diff : 3.709266874392928e-05 second coefficient diff : 0.22102370277626865\n",
      "fit pos : 192.37 px 1002.86 px\n",
      "fit distance : 810.50 px 4.28 m\n",
      "All good for frame : 1058\n"
     ]
    },
    {
     "name": "stderr",
     "output_type": "stream",
     "text": [
      "\r",
      " 84%|████████▍ | 1058/1261 [51:16<09:45,  2.89s/it]"
     ]
    },
    {
     "name": "stdout",
     "output_type": "stream",
     "text": [
      "first coefficient diff : 9.995188700717426e-05 second coefficient diff : 0.19419094577475254\n",
      "fit pos : 197.87 px 1001.62 px\n",
      "fit distance : 803.75 px 4.25 m\n",
      "All good for frame : 1059\n"
     ]
    },
    {
     "name": "stderr",
     "output_type": "stream",
     "text": [
      "\r",
      " 84%|████████▍ | 1059/1261 [51:19<09:47,  2.91s/it]"
     ]
    },
    {
     "name": "stdout",
     "output_type": "stream",
     "text": [
      "first coefficient diff : 0.00020703735618322428 second coefficient diff : 0.14396183288304404\n",
      "fit pos : 209.20 px 1018.02 px\n",
      "fit distance : 808.82 px 4.28 m\n",
      "All good for frame : 1060\n"
     ]
    },
    {
     "name": "stderr",
     "output_type": "stream",
     "text": [
      "\r",
      " 84%|████████▍ | 1060/1261 [51:22<09:48,  2.93s/it]"
     ]
    },
    {
     "name": "stdout",
     "output_type": "stream",
     "text": [
      "first coefficient diff : 0.0001927620733270777 second coefficient diff : 0.17829790024323278\n",
      "fit pos : 219.51 px 1014.00 px\n",
      "fit distance : 794.49 px 4.20 m\n",
      "All good for frame : 1061\n"
     ]
    },
    {
     "name": "stderr",
     "output_type": "stream",
     "text": [
      "\r",
      " 84%|████████▍ | 1061/1261 [51:25<09:51,  2.96s/it]"
     ]
    },
    {
     "name": "stdout",
     "output_type": "stream",
     "text": [
      "first coefficient diff : 0.00017220121511917947 second coefficient diff : 0.16697628907829914\n",
      "fit pos : 224.96 px 1011.48 px\n",
      "fit distance : 786.52 px 4.16 m\n",
      "All good for frame : 1062\n"
     ]
    },
    {
     "name": "stderr",
     "output_type": "stream",
     "text": [
      "\r",
      " 84%|████████▍ | 1062/1261 [51:28<09:53,  2.98s/it]"
     ]
    },
    {
     "name": "stdout",
     "output_type": "stream",
     "text": [
      "first coefficient diff : 0.000157733945293223 second coefficient diff : 0.08286474392914689\n",
      "fit pos : 226.13 px 1018.92 px\n",
      "fit distance : 792.79 px 4.19 m\n",
      "All good for frame : 1063\n"
     ]
    },
    {
     "name": "stderr",
     "output_type": "stream",
     "text": [
      "\r",
      " 84%|████████▍ | 1063/1261 [51:31<09:53,  3.00s/it]"
     ]
    },
    {
     "name": "stdout",
     "output_type": "stream",
     "text": [
      "first coefficient diff : 9.245795826703465e-05 second coefficient diff : 0.08485920124990959\n",
      "fit pos : 226.51 px 1016.81 px\n",
      "fit distance : 790.29 px 4.18 m\n",
      "All good for frame : 1064\n"
     ]
    },
    {
     "name": "stderr",
     "output_type": "stream",
     "text": [
      "\r",
      " 84%|████████▍ | 1064/1261 [51:34<09:53,  3.01s/it]"
     ]
    },
    {
     "name": "stdout",
     "output_type": "stream",
     "text": [
      "first coefficient diff : 8.291815456873159e-05 second coefficient diff : 0.15353943657057645\n",
      "fit pos : 230.78 px 1013.09 px\n",
      "fit distance : 782.31 px 4.14 m\n",
      "All good for frame : 1065\n"
     ]
    },
    {
     "name": "stderr",
     "output_type": "stream",
     "text": [
      "\r",
      " 84%|████████▍ | 1065/1261 [51:37<09:52,  3.02s/it]"
     ]
    },
    {
     "name": "stdout",
     "output_type": "stream",
     "text": [
      "first coefficient diff : 5.5264128735981664e-05 second coefficient diff : 0.08935141255422308\n",
      "fit pos : 228.10 px 1015.49 px\n",
      "fit distance : 787.39 px 4.16 m\n",
      "All good for frame : 1066\n"
     ]
    },
    {
     "name": "stderr",
     "output_type": "stream",
     "text": [
      "\r",
      " 85%|████████▍ | 1066/1261 [51:40<09:53,  3.05s/it]"
     ]
    },
    {
     "name": "stdout",
     "output_type": "stream",
     "text": [
      "first coefficient diff : 8.040859387810828e-05 second coefficient diff : 0.014241683353450219\n",
      "fit pos : 227.66 px 1020.49 px\n",
      "fit distance : 792.83 px 4.19 m\n",
      "All good for frame : 1067\n"
     ]
    },
    {
     "name": "stderr",
     "output_type": "stream",
     "text": [
      "\r",
      " 85%|████████▍ | 1067/1261 [51:43<09:52,  3.05s/it]"
     ]
    },
    {
     "name": "stdout",
     "output_type": "stream",
     "text": [
      "first coefficient diff : 0.00010043694125384429 second coefficient diff : 0.0427110856723355\n",
      "fit pos : 228.40 px 1023.24 px\n",
      "fit distance : 794.84 px 4.20 m\n",
      "All good for frame : 1068\n"
     ]
    },
    {
     "name": "stderr",
     "output_type": "stream",
     "text": [
      "\r",
      " 85%|████████▍ | 1068/1261 [51:46<09:51,  3.07s/it]"
     ]
    },
    {
     "name": "stdout",
     "output_type": "stream",
     "text": [
      "first coefficient diff : 0.00016424384146988317 second coefficient diff : 0.08253598100271192\n",
      "fit pos : 231.82 px 1024.71 px\n",
      "fit distance : 792.89 px 4.19 m\n",
      "All good for frame : 1069\n"
     ]
    },
    {
     "name": "stderr",
     "output_type": "stream",
     "text": [
      "\r",
      " 85%|████████▍ | 1069/1261 [51:49<09:49,  3.07s/it]"
     ]
    },
    {
     "name": "stdout",
     "output_type": "stream",
     "text": [
      "first coefficient diff : 0.00017405480850947173 second coefficient diff : 0.08431458561578253\n",
      "fit pos : 231.66 px 1025.74 px\n",
      "fit distance : 794.08 px 4.20 m\n",
      "All good for frame : 1070\n"
     ]
    },
    {
     "name": "stderr",
     "output_type": "stream",
     "text": [
      "\r",
      " 85%|████████▍ | 1070/1261 [51:52<09:47,  3.07s/it]"
     ]
    },
    {
     "name": "stdout",
     "output_type": "stream",
     "text": [
      "first coefficient diff : 0.00016876661486199933 second coefficient diff : 0.10350795184265821\n",
      "fit pos : 232.25 px 1031.17 px\n",
      "fit distance : 798.92 px 4.22 m\n",
      "All good for frame : 1071\n"
     ]
    },
    {
     "name": "stderr",
     "output_type": "stream",
     "text": [
      "\r",
      " 85%|████████▍ | 1071/1261 [51:55<09:44,  3.08s/it]"
     ]
    },
    {
     "name": "stdout",
     "output_type": "stream",
     "text": [
      "first coefficient diff : 0.00026271901564107276 second coefficient diff : 0.13874559065176134\n",
      "fit pos : 233.36 px 1044.15 px\n",
      "fit distance : 810.79 px 4.29 m\n",
      "All good for frame : 1072\n"
     ]
    },
    {
     "name": "stderr",
     "output_type": "stream",
     "text": [
      "\r",
      " 85%|████████▌ | 1072/1261 [51:59<09:40,  3.07s/it]"
     ]
    },
    {
     "name": "stdout",
     "output_type": "stream",
     "text": [
      "first coefficient diff : 0.0003004887386203872 second coefficient diff : 0.19490467682537677\n",
      "fit pos : 233.75 px 1045.23 px\n",
      "fit distance : 811.48 px 4.29 m\n",
      "All good for frame : 1073\n"
     ]
    },
    {
     "name": "stderr",
     "output_type": "stream",
     "text": [
      "\r",
      " 85%|████████▌ | 1073/1261 [52:02<09:38,  3.08s/it]"
     ]
    },
    {
     "name": "stdout",
     "output_type": "stream",
     "text": [
      "first coefficient diff : 0.0002696184676461281 second coefficient diff : 0.1710704567968352\n",
      "fit pos : 236.60 px 1040.16 px\n",
      "fit distance : 803.56 px 4.25 m\n",
      "All good for frame : 1074\n"
     ]
    },
    {
     "name": "stderr",
     "output_type": "stream",
     "text": [
      "\r",
      " 85%|████████▌ | 1074/1261 [52:05<09:36,  3.08s/it]"
     ]
    },
    {
     "name": "stdout",
     "output_type": "stream",
     "text": [
      "first coefficient diff : 0.0001153938904039221 second coefficient diff : 0.13127668408500937\n",
      "fit pos : 240.95 px 1007.77 px\n",
      "fit distance : 766.82 px 4.05 m\n",
      "All good for frame : 1075\n"
     ]
    },
    {
     "name": "stderr",
     "output_type": "stream",
     "text": [
      "\r",
      " 85%|████████▌ | 1075/1261 [52:08<09:34,  3.09s/it]"
     ]
    },
    {
     "name": "stdout",
     "output_type": "stream",
     "text": [
      "first coefficient diff : 0.00016229924112618355 second coefficient diff : 0.15386036559460697\n",
      "fit pos : 241.55 px 1006.12 px\n",
      "fit distance : 764.57 px 4.04 m\n",
      "All good for frame : 1076\n"
     ]
    },
    {
     "name": "stderr",
     "output_type": "stream",
     "text": [
      "\r",
      " 85%|████████▌ | 1076/1261 [52:11<09:33,  3.10s/it]"
     ]
    },
    {
     "name": "stdout",
     "output_type": "stream",
     "text": [
      "first coefficient diff : 5.406492618884937e-05 second coefficient diff : 0.029729496867137717\n",
      "fit pos : 242.80 px 1018.37 px\n",
      "fit distance : 775.58 px 4.10 m\n",
      "All good for frame : 1077\n"
     ]
    },
    {
     "name": "stderr",
     "output_type": "stream",
     "text": [
      "\r",
      " 85%|████████▌ | 1077/1261 [52:14<09:35,  3.13s/it]"
     ]
    },
    {
     "name": "stdout",
     "output_type": "stream",
     "text": [
      "first coefficient diff : 9.231572539978203e-05 second coefficient diff : 0.003149726551625598\n",
      "fit pos : 247.12 px 1023.92 px\n",
      "fit distance : 776.80 px 4.11 m\n",
      "All good for frame : 1078\n"
     ]
    },
    {
     "name": "stderr",
     "output_type": "stream",
     "text": [
      "\r",
      " 85%|████████▌ | 1078/1261 [52:17<09:34,  3.14s/it]"
     ]
    },
    {
     "name": "stdout",
     "output_type": "stream",
     "text": [
      "first coefficient diff : 5.7182366253443286e-05 second coefficient diff : 0.01967406177120784\n",
      "fit pos : 250.37 px 1026.26 px\n",
      "fit distance : 775.89 px 4.10 m\n",
      "All good for frame : 1079\n"
     ]
    },
    {
     "name": "stderr",
     "output_type": "stream",
     "text": [
      "\r",
      " 86%|████████▌ | 1079/1261 [52:21<09:32,  3.15s/it]"
     ]
    },
    {
     "name": "stdout",
     "output_type": "stream",
     "text": [
      "first coefficient diff : 0.00010464229950911264 second coefficient diff : 0.031229725474784475\n",
      "fit pos : 250.18 px 1030.36 px\n",
      "fit distance : 780.18 px 4.12 m\n",
      "All good for frame : 1080\n"
     ]
    },
    {
     "name": "stderr",
     "output_type": "stream",
     "text": [
      "\r",
      " 86%|████████▌ | 1080/1261 [52:24<09:32,  3.17s/it]"
     ]
    },
    {
     "name": "stdout",
     "output_type": "stream",
     "text": [
      "first coefficient diff : 5.144670262731242e-05 second coefficient diff : 0.03670391839752879\n",
      "fit pos : 254.88 px 1037.67 px\n",
      "fit distance : 782.79 px 4.14 m\n",
      "All good for frame : 1081\n"
     ]
    },
    {
     "name": "stderr",
     "output_type": "stream",
     "text": [
      "\r",
      " 86%|████████▌ | 1081/1261 [52:26<09:08,  3.05s/it]"
     ]
    },
    {
     "name": "stdout",
     "output_type": "stream",
     "text": [
      "first coefficient diff : 9.989148829667153e-05 second coefficient diff : 0.05494477641766171\n",
      "fit pos : 254.97 px 1044.57 px\n",
      "fit distance : 789.60 px 4.17 m\n",
      "All good for frame : 1082\n"
     ]
    },
    {
     "name": "stderr",
     "output_type": "stream",
     "text": [
      "\r",
      " 86%|████████▌ | 1082/1261 [52:29<08:52,  2.97s/it]"
     ]
    },
    {
     "name": "stdout",
     "output_type": "stream",
     "text": [
      "first coefficient diff : 0.00021982165479344593 second coefficient diff : 0.11030235979374309\n",
      "fit pos : 254.90 px 1070.97 px\n",
      "fit distance : 816.08 px 4.31 m\n",
      "All good for frame : 1083\n"
     ]
    },
    {
     "name": "stderr",
     "output_type": "stream",
     "text": [
      "\r",
      " 86%|████████▌ | 1083/1261 [52:32<08:40,  2.93s/it]"
     ]
    },
    {
     "name": "stdout",
     "output_type": "stream",
     "text": [
      "first coefficient diff : 0.00031586603908145773 second coefficient diff : 0.1873887906068461\n",
      "fit pos : 255.42 px 1084.73 px\n",
      "fit distance : 829.32 px 4.38 m\n",
      "All good for frame : 1084\n"
     ]
    },
    {
     "name": "stderr",
     "output_type": "stream",
     "text": [
      "\r",
      " 86%|████████▌ | 1084/1261 [52:35<08:33,  2.90s/it]"
     ]
    },
    {
     "name": "stdout",
     "output_type": "stream",
     "text": [
      "first coefficient diff : 0.0002977545805265577 second coefficient diff : 0.18731347809668036\n",
      "fit pos : 255.18 px 1072.64 px\n",
      "fit distance : 817.46 px 4.32 m\n",
      "All good for frame : 1085\n"
     ]
    },
    {
     "name": "stderr",
     "output_type": "stream",
     "text": [
      "\r",
      " 86%|████████▌ | 1085/1261 [52:38<08:29,  2.89s/it]"
     ]
    },
    {
     "name": "stdout",
     "output_type": "stream",
     "text": [
      "first coefficient diff : 0.0003318414151445475 second coefficient diff : 0.25955656675239197\n",
      "fit pos : 255.04 px 1073.95 px\n",
      "fit distance : 818.91 px 4.33 m\n",
      "All good for frame : 1086\n"
     ]
    },
    {
     "name": "stderr",
     "output_type": "stream",
     "text": [
      "\r",
      " 86%|████████▌ | 1086/1261 [52:41<08:26,  2.90s/it]"
     ]
    },
    {
     "name": "stdout",
     "output_type": "stream",
     "text": [
      "first coefficient diff : 0.0003233293126989106 second coefficient diff : 0.24275858033451464\n",
      "fit pos : 255.77 px 1065.32 px\n",
      "fit distance : 809.55 px 4.28 m\n",
      "All good for frame : 1087\n"
     ]
    },
    {
     "name": "stderr",
     "output_type": "stream",
     "text": [
      "\r",
      " 86%|████████▌ | 1087/1261 [52:44<08:24,  2.90s/it]"
     ]
    },
    {
     "name": "stdout",
     "output_type": "stream",
     "text": [
      "first coefficient diff : 6.859844979997684e-06 second coefficient diff : 0.022410184692118806\n",
      "fit pos : 257.45 px 1038.95 px\n",
      "fit distance : 781.50 px 4.13 m\n",
      "All good for frame : 1088\n"
     ]
    },
    {
     "name": "stderr",
     "output_type": "stream",
     "text": [
      "\r",
      " 86%|████████▋ | 1088/1261 [52:47<08:23,  2.91s/it]"
     ]
    },
    {
     "name": "stdout",
     "output_type": "stream",
     "text": [
      "first coefficient diff : 4.155865546436334e-05 second coefficient diff : 0.06627825317149338\n",
      "fit pos : 257.93 px 1035.93 px\n",
      "fit distance : 778.00 px 4.11 m\n",
      "All good for frame : 1089\n"
     ]
    },
    {
     "name": "stderr",
     "output_type": "stream",
     "text": [
      "\r",
      " 86%|████████▋ | 1089/1261 [52:50<08:22,  2.92s/it]"
     ]
    },
    {
     "name": "stdout",
     "output_type": "stream",
     "text": [
      "first coefficient diff : 0.00010191656433107147 second coefficient diff : 0.019441890006348217\n",
      "fit pos : 258.99 px 1041.92 px\n",
      "fit distance : 782.94 px 4.14 m\n",
      "All good for frame : 1090\n"
     ]
    },
    {
     "name": "stderr",
     "output_type": "stream",
     "text": [
      "\r",
      " 86%|████████▋ | 1090/1261 [52:52<08:21,  2.93s/it]"
     ]
    },
    {
     "name": "stdout",
     "output_type": "stream",
     "text": [
      "first coefficient diff : 0.0001168884183637606 second coefficient diff : 0.06695436079876355\n",
      "fit pos : 258.02 px 1040.41 px\n",
      "fit distance : 782.38 px 4.14 m\n",
      "All good for frame : 1091\n"
     ]
    },
    {
     "name": "stderr",
     "output_type": "stream",
     "text": [
      "\r",
      " 87%|████████▋ | 1091/1261 [52:55<08:21,  2.95s/it]"
     ]
    },
    {
     "name": "stdout",
     "output_type": "stream",
     "text": [
      "first coefficient diff : 0.0001535213309295288 second coefficient diff : 0.10198216198793814\n",
      "fit pos : 256.49 px 1042.37 px\n",
      "fit distance : 785.87 px 4.15 m\n",
      "All good for frame : 1092\n"
     ]
    },
    {
     "name": "stderr",
     "output_type": "stream",
     "text": [
      "\r",
      " 87%|████████▋ | 1092/1261 [52:59<08:23,  2.98s/it]"
     ]
    },
    {
     "name": "stdout",
     "output_type": "stream",
     "text": [
      "first coefficient diff : 0.00016679420119445785 second coefficient diff : 0.11884461807684593\n",
      "fit pos : 257.21 px 1045.15 px\n",
      "fit distance : 787.94 px 4.16 m\n",
      "All good for frame : 1093\n"
     ]
    },
    {
     "name": "stderr",
     "output_type": "stream",
     "text": [
      "\r",
      " 87%|████████▋ | 1093/1261 [53:02<08:21,  2.99s/it]"
     ]
    },
    {
     "name": "stdout",
     "output_type": "stream",
     "text": [
      "first coefficient diff : 0.00016715968757094292 second coefficient diff : 0.13662562430006542\n",
      "fit pos : 256.44 px 1045.94 px\n",
      "fit distance : 789.50 px 4.17 m\n",
      "All good for frame : 1094\n"
     ]
    },
    {
     "name": "stderr",
     "output_type": "stream",
     "text": [
      "\r",
      " 87%|████████▋ | 1094/1261 [53:05<08:19,  2.99s/it]"
     ]
    },
    {
     "name": "stdout",
     "output_type": "stream",
     "text": [
      "first coefficient diff : 0.00026625102488701585 second coefficient diff : 0.1664512045826067\n",
      "fit pos : 258.27 px 1056.35 px\n",
      "fit distance : 798.08 px 4.22 m\n",
      "All good for frame : 1095\n"
     ]
    },
    {
     "name": "stderr",
     "output_type": "stream",
     "text": [
      "\r",
      " 87%|████████▋ | 1095/1261 [53:08<08:16,  2.99s/it]"
     ]
    },
    {
     "name": "stdout",
     "output_type": "stream",
     "text": [
      "first coefficient diff : 0.0002911672724413371 second coefficient diff : 0.1907286226595613\n",
      "fit pos : 258.39 px 1051.75 px\n",
      "fit distance : 793.37 px 4.19 m\n",
      "All good for frame : 1096\n"
     ]
    },
    {
     "name": "stderr",
     "output_type": "stream",
     "text": [
      "\r",
      " 87%|████████▋ | 1096/1261 [53:10<08:13,  2.99s/it]"
     ]
    },
    {
     "name": "stdout",
     "output_type": "stream",
     "text": [
      "first coefficient diff : 0.0002945369833474749 second coefficient diff : 0.1961714608498854\n",
      "fit pos : 258.42 px 1047.29 px\n",
      "fit distance : 788.87 px 4.17 m\n",
      "All good for frame : 1097\n"
     ]
    },
    {
     "name": "stderr",
     "output_type": "stream",
     "text": [
      "\r",
      " 87%|████████▋ | 1097/1261 [53:13<08:10,  2.99s/it]"
     ]
    },
    {
     "name": "stdout",
     "output_type": "stream",
     "text": [
      "first coefficient diff : 0.00014728635342893025 second coefficient diff : 0.1513710334118602\n",
      "fit pos : 260.10 px 1008.87 px\n",
      "fit distance : 748.77 px 3.96 m\n",
      "All good for frame : 1098\n"
     ]
    },
    {
     "name": "stderr",
     "output_type": "stream",
     "text": [
      "\r",
      " 87%|████████▋ | 1098/1261 [53:16<08:06,  2.99s/it]"
     ]
    },
    {
     "name": "stdout",
     "output_type": "stream",
     "text": [
      "first coefficient diff : 0.00014317808238356486 second coefficient diff : 0.1319037859005956\n",
      "fit pos : 263.01 px 1012.21 px\n",
      "fit distance : 749.19 px 3.96 m\n",
      "All good for frame : 1099\n"
     ]
    },
    {
     "name": "stderr",
     "output_type": "stream",
     "text": [
      "\r",
      " 87%|████████▋ | 1099/1261 [53:19<08:02,  2.98s/it]"
     ]
    },
    {
     "name": "stdout",
     "output_type": "stream",
     "text": [
      "first coefficient diff : 4.9829419895694075e-05 second coefficient diff : 0.07558613556719199\n",
      "fit pos : 267.94 px 1026.33 px\n",
      "fit distance : 758.38 px 4.01 m\n",
      "All good for frame : 1100\n"
     ]
    },
    {
     "name": "stderr",
     "output_type": "stream",
     "text": [
      "\r",
      " 87%|████████▋ | 1100/1261 [53:22<07:58,  2.97s/it]"
     ]
    },
    {
     "name": "stdout",
     "output_type": "stream",
     "text": [
      "first coefficient diff : 2.6467492854926578e-05 second coefficient diff : 0.06549743326823096\n",
      "fit pos : 273.34 px 1033.35 px\n",
      "fit distance : 760.01 px 4.02 m\n",
      "All good for frame : 1101\n"
     ]
    },
    {
     "name": "stderr",
     "output_type": "stream",
     "text": [
      "\r",
      " 87%|████████▋ | 1101/1261 [53:25<07:55,  2.97s/it]"
     ]
    },
    {
     "name": "stdout",
     "output_type": "stream",
     "text": [
      "first coefficient diff : 5.0107731498015345e-05 second coefficient diff : 0.02291521251584913\n",
      "fit pos : 270.69 px 1037.65 px\n",
      "fit distance : 766.97 px 4.05 m\n",
      "All good for frame : 1102\n"
     ]
    },
    {
     "name": "stderr",
     "output_type": "stream",
     "text": [
      "\r",
      " 87%|████████▋ | 1102/1261 [53:28<07:52,  2.97s/it]"
     ]
    },
    {
     "name": "stdout",
     "output_type": "stream",
     "text": [
      "first coefficient diff : 1.5030289870414805e-05 second coefficient diff : 0.011202535982093031\n",
      "fit pos : 277.03 px 1044.63 px\n",
      "fit distance : 767.60 px 4.06 m\n",
      "All good for frame : 1103\n"
     ]
    },
    {
     "name": "stderr",
     "output_type": "stream",
     "text": [
      "\r",
      " 87%|████████▋ | 1103/1261 [53:31<07:49,  2.97s/it]"
     ]
    },
    {
     "name": "stdout",
     "output_type": "stream",
     "text": [
      "first coefficient diff : 2.0762498979877615e-05 second coefficient diff : 0.031377356739730744\n",
      "fit pos : 277.69 px 1051.07 px\n",
      "fit distance : 773.37 px 4.09 m\n",
      "All good for frame : 1104\n"
     ]
    },
    {
     "name": "stderr",
     "output_type": "stream",
     "text": [
      "\r",
      " 88%|████████▊ | 1104/1261 [53:34<07:47,  2.98s/it]"
     ]
    },
    {
     "name": "stdout",
     "output_type": "stream",
     "text": [
      "first coefficient diff : 4.055744196867635e-05 second coefficient diff : 0.035729005751788834\n",
      "fit pos : 279.47 px 1059.78 px\n",
      "fit distance : 780.31 px 4.12 m\n",
      "All good for frame : 1105\n"
     ]
    },
    {
     "name": "stderr",
     "output_type": "stream",
     "text": [
      "\r",
      " 88%|████████▊ | 1105/1261 [53:37<07:44,  2.97s/it]"
     ]
    },
    {
     "name": "stdout",
     "output_type": "stream",
     "text": [
      "first coefficient diff : 8.34185338018953e-05 second coefficient diff : 0.007451830869068976\n",
      "fit pos : 281.73 px 1070.18 px\n",
      "fit distance : 788.45 px 4.17 m\n",
      "All good for frame : 1106\n"
     ]
    },
    {
     "name": "stderr",
     "output_type": "stream",
     "text": [
      "\r",
      " 88%|████████▊ | 1106/1261 [53:40<07:41,  2.98s/it]"
     ]
    },
    {
     "name": "stdout",
     "output_type": "stream",
     "text": [
      "first coefficient diff : 0.0002924078283456815 second coefficient diff : 0.17742609399623765\n",
      "fit pos : 279.96 px 1103.02 px\n",
      "fit distance : 823.05 px 4.35 m\n",
      "All good for frame : 1107\n"
     ]
    },
    {
     "name": "stderr",
     "output_type": "stream",
     "text": [
      "\r",
      " 88%|████████▊ | 1107/1261 [53:43<07:37,  2.97s/it]"
     ]
    },
    {
     "name": "stdout",
     "output_type": "stream",
     "text": [
      "first coefficient diff : 0.00032589378225361996 second coefficient diff : 0.18669865192786367\n",
      "fit pos : 278.18 px 1095.43 px\n",
      "fit distance : 817.25 px 4.32 m\n",
      "All good for frame : 1108\n"
     ]
    },
    {
     "name": "stderr",
     "output_type": "stream",
     "text": [
      "\r",
      " 88%|████████▊ | 1108/1261 [53:46<07:32,  2.96s/it]"
     ]
    },
    {
     "name": "stdout",
     "output_type": "stream",
     "text": [
      "first coefficient diff : 0.0003306702223562362 second coefficient diff : 0.21909158794067968\n",
      "fit pos : 277.14 px 1093.02 px\n",
      "fit distance : 815.88 px 4.31 m\n",
      "All good for frame : 1109\n"
     ]
    },
    {
     "name": "stderr",
     "output_type": "stream",
     "text": [
      "\r",
      " 88%|████████▊ | 1109/1261 [53:49<07:28,  2.95s/it]"
     ]
    },
    {
     "name": "stdout",
     "output_type": "stream",
     "text": [
      "first coefficient diff : 0.00035446869121215537 second coefficient diff : 0.24531899796900458\n",
      "fit pos : 276.62 px 1086.24 px\n",
      "fit distance : 809.63 px 4.28 m\n",
      "All good for frame : 1110\n"
     ]
    },
    {
     "name": "stderr",
     "output_type": "stream",
     "text": [
      "\r",
      " 88%|████████▊ | 1110/1261 [53:52<07:24,  2.94s/it]"
     ]
    },
    {
     "name": "stdout",
     "output_type": "stream",
     "text": [
      "first coefficient diff : 3.902334205634837e-05 second coefficient diff : 0.031096638861707215\n",
      "fit pos : 277.15 px 1054.49 px\n",
      "fit distance : 777.34 px 4.11 m\n",
      "All good for frame : 1111\n"
     ]
    },
    {
     "name": "stderr",
     "output_type": "stream",
     "text": [
      "\r",
      " 88%|████████▊ | 1111/1261 [53:55<07:18,  2.92s/it]"
     ]
    },
    {
     "name": "stdout",
     "output_type": "stream",
     "text": [
      "first coefficient diff : 0.00013286025739576502 second coefficient diff : 0.07335733336674272\n",
      "fit pos : 274.13 px 1056.49 px\n",
      "fit distance : 782.37 px 4.14 m\n",
      "All good for frame : 1112\n"
     ]
    },
    {
     "name": "stderr",
     "output_type": "stream",
     "text": [
      "\r",
      " 88%|████████▊ | 1112/1261 [53:58<07:15,  2.92s/it]"
     ]
    },
    {
     "name": "stdout",
     "output_type": "stream",
     "text": [
      "first coefficient diff : 0.00018276345302301034 second coefficient diff : 0.10859565951816058\n",
      "fit pos : 275.50 px 1052.98 px\n",
      "fit distance : 777.48 px 4.11 m\n",
      "All good for frame : 1113\n"
     ]
    },
    {
     "name": "stderr",
     "output_type": "stream",
     "text": [
      "\r",
      " 88%|████████▊ | 1113/1261 [54:01<07:11,  2.92s/it]"
     ]
    },
    {
     "name": "stdout",
     "output_type": "stream",
     "text": [
      "first coefficient diff : 0.0002040621114792774 second coefficient diff : 0.1453599977211697\n",
      "fit pos : 273.25 px 1049.52 px\n",
      "fit distance : 776.27 px 4.10 m\n",
      "All good for frame : 1114\n"
     ]
    },
    {
     "name": "stderr",
     "output_type": "stream",
     "text": [
      "\r",
      " 88%|████████▊ | 1114/1261 [54:04<07:09,  2.92s/it]"
     ]
    },
    {
     "name": "stdout",
     "output_type": "stream",
     "text": [
      "first coefficient diff : 0.00023973963143276712 second coefficient diff : 0.20010340632081422\n",
      "fit pos : 269.56 px 1048.77 px\n",
      "fit distance : 779.21 px 4.12 m\n",
      "All good for frame : 1115\n"
     ]
    },
    {
     "name": "stderr",
     "output_type": "stream",
     "text": [
      "\r",
      " 88%|████████▊ | 1115/1261 [54:07<07:06,  2.92s/it]"
     ]
    },
    {
     "name": "stdout",
     "output_type": "stream",
     "text": [
      "first coefficient diff : 0.00028711543305828477 second coefficient diff : 0.20604082745972704\n",
      "fit pos : 272.21 px 1045.29 px\n",
      "fit distance : 773.07 px 4.09 m\n",
      "All good for frame : 1116\n"
     ]
    },
    {
     "name": "stderr",
     "output_type": "stream",
     "text": [
      "\r",
      " 89%|████████▊ | 1116/1261 [54:09<07:05,  2.93s/it]"
     ]
    },
    {
     "name": "stdout",
     "output_type": "stream",
     "text": [
      "first coefficient diff : 0.0003105143124110794 second coefficient diff : 0.22326472151891866\n",
      "fit pos : 273.65 px 1042.91 px\n",
      "fit distance : 769.26 px 4.07 m\n",
      "All good for frame : 1117\n"
     ]
    },
    {
     "name": "stderr",
     "output_type": "stream",
     "text": [
      "\r",
      " 89%|████████▊ | 1117/1261 [54:12<07:01,  2.93s/it]"
     ]
    },
    {
     "name": "stdout",
     "output_type": "stream",
     "text": [
      "first coefficient diff : 0.0004454475884502524 second coefficient diff : 0.3159786090487184\n",
      "fit pos : 273.95 px 1059.87 px\n",
      "fit distance : 785.92 px 4.15 m\n",
      "All good for frame : 1118\n"
     ]
    },
    {
     "name": "stderr",
     "output_type": "stream",
     "text": [
      "\r",
      " 89%|████████▊ | 1118/1261 [54:15<06:57,  2.92s/it]"
     ]
    },
    {
     "name": "stdout",
     "output_type": "stream",
     "text": [
      "first coefficient diff : 0.00047633527979146624 second coefficient diff : 0.36746899464511906\n",
      "fit pos : 273.20 px 1058.60 px\n",
      "fit distance : 785.41 px 4.15 m\n",
      "All good for frame : 1119\n"
     ]
    },
    {
     "name": "stderr",
     "output_type": "stream",
     "text": [
      "\r",
      " 89%|████████▊ | 1119/1261 [54:18<06:53,  2.91s/it]"
     ]
    },
    {
     "name": "stdout",
     "output_type": "stream",
     "text": [
      "first coefficient diff : 0.0004311063712337278 second coefficient diff : 0.3657885740489092\n",
      "fit pos : 272.85 px 1055.52 px\n",
      "fit distance : 782.67 px 4.14 m\n",
      "All good for frame : 1120\n"
     ]
    },
    {
     "name": "stderr",
     "output_type": "stream",
     "text": [
      "\r",
      " 89%|████████▉ | 1120/1261 [54:21<06:50,  2.91s/it]"
     ]
    },
    {
     "name": "stdout",
     "output_type": "stream",
     "text": [
      "first coefficient diff : 0.00041809298676585274 second coefficient diff : 0.38799779533389367\n",
      "fit pos : 271.34 px 1051.10 px\n",
      "fit distance : 779.76 px 4.12 m\n",
      "All good for frame : 1121\n"
     ]
    },
    {
     "name": "stderr",
     "output_type": "stream",
     "text": [
      "\r",
      " 89%|████████▉ | 1121/1261 [54:24<06:47,  2.91s/it]"
     ]
    },
    {
     "name": "stdout",
     "output_type": "stream",
     "text": [
      "first coefficient diff : 0.0005177368665377809 second coefficient diff : 0.5010950093801331\n",
      "Skipping for frame : 1122\n"
     ]
    },
    {
     "name": "stderr",
     "output_type": "stream",
     "text": [
      "\r",
      " 89%|████████▉ | 1122/1261 [54:27<06:42,  2.90s/it]"
     ]
    },
    {
     "name": "stdout",
     "output_type": "stream",
     "text": [
      "first coefficient diff : 0.0004999757766026444 second coefficient diff : 0.5324589163791911\n",
      "Skipping for frame : 1123\n"
     ]
    },
    {
     "name": "stderr",
     "output_type": "stream",
     "text": [
      "\r",
      " 89%|████████▉ | 1123/1261 [54:30<06:46,  2.95s/it]"
     ]
    },
    {
     "name": "stdout",
     "output_type": "stream",
     "text": [
      "first coefficient diff : 6.181676950112155e-05 second coefficient diff : 0.025419959267411335\n",
      "fit pos : 272.00 px 1024.67 px\n",
      "fit distance : 752.66 px 3.98 m\n",
      "All good for frame : 1124\n"
     ]
    },
    {
     "name": "stderr",
     "output_type": "stream",
     "text": [
      "\r",
      " 89%|████████▉ | 1124/1261 [54:33<06:49,  2.99s/it]"
     ]
    },
    {
     "name": "stdout",
     "output_type": "stream",
     "text": [
      "first coefficient diff : 3.964150382302698e-05 second coefficient diff : 0.06509289349998348\n",
      "fit pos : 269.05 px 1030.08 px\n",
      "fit distance : 761.03 px 4.02 m\n",
      "All good for frame : 1125\n"
     ]
    },
    {
     "name": "stderr",
     "output_type": "stream",
     "text": [
      "\r",
      " 89%|████████▉ | 1125/1261 [54:36<06:44,  2.97s/it]"
     ]
    },
    {
     "name": "stdout",
     "output_type": "stream",
     "text": [
      "first coefficient diff : 7.671002473483009e-06 second coefficient diff : 0.09131223976279629\n",
      "fit pos : 270.48 px 1036.19 px\n",
      "fit distance : 765.70 px 4.05 m\n",
      "All good for frame : 1126\n"
     ]
    },
    {
     "name": "stderr",
     "output_type": "stream",
     "text": [
      "\r",
      " 89%|████████▉ | 1126/1261 [54:39<06:37,  2.95s/it]"
     ]
    },
    {
     "name": "stdout",
     "output_type": "stream",
     "text": [
      "first coefficient diff : 5.123382084488306e-05 second coefficient diff : 0.10644650996915483\n",
      "fit pos : 271.35 px 1039.30 px\n",
      "fit distance : 767.95 px 4.06 m\n",
      "All good for frame : 1127\n"
     ]
    },
    {
     "name": "stderr",
     "output_type": "stream",
     "text": [
      "\r",
      " 89%|████████▉ | 1127/1261 [54:42<06:32,  2.93s/it]"
     ]
    },
    {
     "name": "stdout",
     "output_type": "stream",
     "text": [
      "first coefficient diff : 7.405129576350228e-05 second coefficient diff : 0.13449912799317953\n",
      "fit pos : 268.94 px 1046.47 px\n",
      "fit distance : 777.53 px 4.11 m\n",
      "All good for frame : 1128\n"
     ]
    },
    {
     "name": "stderr",
     "output_type": "stream",
     "text": [
      "\r",
      " 89%|████████▉ | 1128/1261 [54:45<06:27,  2.91s/it]"
     ]
    },
    {
     "name": "stdout",
     "output_type": "stream",
     "text": [
      "first coefficient diff : 0.00016787721810344834 second coefficient diff : 0.1401620688789158\n",
      "fit pos : 272.36 px 1065.54 px\n",
      "fit distance : 793.17 px 4.19 m\n",
      "All good for frame : 1129\n"
     ]
    },
    {
     "name": "stderr",
     "output_type": "stream",
     "text": [
      "\r",
      " 90%|████████▉ | 1129/1261 [54:47<06:23,  2.90s/it]"
     ]
    },
    {
     "name": "stdout",
     "output_type": "stream",
     "text": [
      "first coefficient diff : 0.0001787575703609421 second coefficient diff : 0.12953059930839012\n",
      "fit pos : 271.11 px 1064.11 px\n",
      "fit distance : 792.99 px 4.19 m\n",
      "All good for frame : 1130\n"
     ]
    },
    {
     "name": "stderr",
     "output_type": "stream",
     "text": [
      "\r",
      " 90%|████████▉ | 1130/1261 [54:50<06:19,  2.90s/it]"
     ]
    },
    {
     "name": "stdout",
     "output_type": "stream",
     "text": [
      "first coefficient diff : 0.00017239230576224273 second coefficient diff : 0.13205063862175748\n",
      "fit pos : 268.01 px 1057.55 px\n",
      "fit distance : 789.54 px 4.17 m\n",
      "All good for frame : 1131\n"
     ]
    },
    {
     "name": "stderr",
     "output_type": "stream",
     "text": [
      "\r",
      " 90%|████████▉ | 1131/1261 [54:53<06:15,  2.89s/it]"
     ]
    },
    {
     "name": "stdout",
     "output_type": "stream",
     "text": [
      "first coefficient diff : 0.00012691904111824577 second coefficient diff : 0.14120345904931436\n",
      "fit pos : 267.07 px 1023.57 px\n",
      "fit distance : 756.50 px 4.00 m\n",
      "All good for frame : 1132\n"
     ]
    },
    {
     "name": "stderr",
     "output_type": "stream",
     "text": [
      "\r",
      " 90%|████████▉ | 1132/1261 [54:56<06:12,  2.89s/it]"
     ]
    },
    {
     "name": "stdout",
     "output_type": "stream",
     "text": [
      "first coefficient diff : 7.553950669568326e-05 second coefficient diff : 0.06048830272392336\n",
      "fit pos : 261.62 px 1027.29 px\n",
      "fit distance : 765.67 px 4.05 m\n",
      "All good for frame : 1133\n"
     ]
    },
    {
     "name": "stderr",
     "output_type": "stream",
     "text": [
      "\r",
      " 90%|████████▉ | 1133/1261 [54:59<06:09,  2.89s/it]"
     ]
    },
    {
     "name": "stdout",
     "output_type": "stream",
     "text": [
      "first coefficient diff : 7.403330191241805e-05 second coefficient diff : 0.07237563192237673\n",
      "fit pos : 259.82 px 1024.76 px\n",
      "fit distance : 764.93 px 4.04 m\n",
      "All good for frame : 1134\n"
     ]
    },
    {
     "name": "stderr",
     "output_type": "stream",
     "text": [
      "\r",
      " 90%|████████▉ | 1134/1261 [55:02<06:06,  2.89s/it]"
     ]
    },
    {
     "name": "stdout",
     "output_type": "stream",
     "text": [
      "first coefficient diff : 2.869126661146187e-05 second coefficient diff : 0.04448752393607747\n",
      "fit pos : 259.10 px 1029.28 px\n",
      "fit distance : 770.19 px 4.07 m\n",
      "All good for frame : 1135\n"
     ]
    },
    {
     "name": "stderr",
     "output_type": "stream",
     "text": [
      "\r",
      " 90%|█████████ | 1135/1261 [55:05<06:04,  2.89s/it]"
     ]
    },
    {
     "name": "stdout",
     "output_type": "stream",
     "text": [
      "first coefficient diff : 7.050946696571909e-05 second coefficient diff : 0.025247843430555972\n",
      "fit pos : 257.24 px 1033.13 px\n",
      "fit distance : 775.89 px 4.10 m\n",
      "All good for frame : 1136\n"
     ]
    },
    {
     "name": "stderr",
     "output_type": "stream",
     "text": [
      "\r",
      " 90%|█████████ | 1136/1261 [55:08<06:02,  2.90s/it]"
     ]
    },
    {
     "name": "stdout",
     "output_type": "stream",
     "text": [
      "first coefficient diff : 0.00010743488698580363 second coefficient diff : 0.03470440674602432\n",
      "fit pos : 257.12 px 1031.98 px\n",
      "fit distance : 774.86 px 4.10 m\n",
      "All good for frame : 1137\n"
     ]
    },
    {
     "name": "stderr",
     "output_type": "stream",
     "text": [
      "\r",
      " 90%|█████████ | 1137/1261 [55:11<06:00,  2.91s/it]"
     ]
    },
    {
     "name": "stdout",
     "output_type": "stream",
     "text": [
      "first coefficient diff : 0.00011876308600953137 second coefficient diff : 0.0593924684673911\n",
      "fit pos : 258.14 px 1033.22 px\n",
      "fit distance : 775.08 px 4.10 m\n",
      "All good for frame : 1138\n"
     ]
    },
    {
     "name": "stderr",
     "output_type": "stream",
     "text": [
      "\r",
      " 90%|█████████ | 1138/1261 [55:14<05:59,  2.93s/it]"
     ]
    },
    {
     "name": "stdout",
     "output_type": "stream",
     "text": [
      "first coefficient diff : 0.00016088354682466978 second coefficient diff : 0.08084732628990002\n",
      "fit pos : 252.43 px 1032.28 px\n",
      "fit distance : 779.85 px 4.12 m\n",
      "All good for frame : 1139\n"
     ]
    },
    {
     "name": "stderr",
     "output_type": "stream",
     "text": [
      "\r",
      " 90%|█████████ | 1139/1261 [55:17<05:56,  2.92s/it]"
     ]
    },
    {
     "name": "stdout",
     "output_type": "stream",
     "text": [
      "first coefficient diff : 0.00013036446356503805 second coefficient diff : 0.03977379300140338\n",
      "fit pos : 256.78 px 1036.01 px\n",
      "fit distance : 779.23 px 4.12 m\n",
      "All good for frame : 1140\n"
     ]
    },
    {
     "name": "stderr",
     "output_type": "stream",
     "text": [
      "\r",
      " 90%|█████████ | 1140/1261 [55:19<05:53,  2.92s/it]"
     ]
    },
    {
     "name": "stdout",
     "output_type": "stream",
     "text": [
      "first coefficient diff : 0.0002817155717659676 second coefficient diff : 0.17793250086577667\n",
      "fit pos : 256.38 px 1057.62 px\n",
      "fit distance : 801.24 px 4.24 m\n",
      "All good for frame : 1141\n"
     ]
    },
    {
     "name": "stderr",
     "output_type": "stream",
     "text": [
      "\r",
      " 90%|█████████ | 1141/1261 [55:22<05:53,  2.94s/it]"
     ]
    },
    {
     "name": "stdout",
     "output_type": "stream",
     "text": [
      "first coefficient diff : 0.0003320118366179289 second coefficient diff : 0.22361130806233542\n",
      "fit pos : 255.34 px 1054.07 px\n",
      "fit distance : 798.73 px 4.22 m\n",
      "All good for frame : 1142\n"
     ]
    },
    {
     "name": "stderr",
     "output_type": "stream",
     "text": [
      "\r",
      " 91%|█████████ | 1142/1261 [55:25<05:51,  2.95s/it]"
     ]
    },
    {
     "name": "stdout",
     "output_type": "stream",
     "text": [
      "first coefficient diff : 0.00036783526076569143 second coefficient diff : 0.2567587052033948\n",
      "fit pos : 256.00 px 1053.48 px\n",
      "fit distance : 797.48 px 4.22 m\n",
      "All good for frame : 1143\n"
     ]
    },
    {
     "name": "stderr",
     "output_type": "stream",
     "text": [
      "\r",
      " 91%|█████████ | 1143/1261 [55:28<05:47,  2.94s/it]"
     ]
    },
    {
     "name": "stdout",
     "output_type": "stream",
     "text": [
      "first coefficient diff : 2.1862837337721907e-06 second coefficient diff : 0.038531183453233225\n",
      "fit pos : 260.03 px 1027.00 px\n",
      "fit distance : 766.97 px 4.05 m\n",
      "All good for frame : 1144\n"
     ]
    },
    {
     "name": "stderr",
     "output_type": "stream",
     "text": [
      "\r",
      " 91%|█████████ | 1144/1261 [55:31<05:42,  2.93s/it]"
     ]
    },
    {
     "name": "stdout",
     "output_type": "stream",
     "text": [
      "first coefficient diff : 0.00010177333955396694 second coefficient diff : 0.02055424651491361\n",
      "fit pos : 263.87 px 1032.83 px\n",
      "fit distance : 768.97 px 4.06 m\n",
      "All good for frame : 1145\n"
     ]
    },
    {
     "name": "stderr",
     "output_type": "stream",
     "text": [
      "\r",
      " 91%|█████████ | 1145/1261 [55:34<05:37,  2.91s/it]"
     ]
    },
    {
     "name": "stdout",
     "output_type": "stream",
     "text": [
      "first coefficient diff : 6.145415857331673e-05 second coefficient diff : 0.0199014414001894\n",
      "fit pos : 265.43 px 1032.64 px\n",
      "fit distance : 767.21 px 4.06 m\n",
      "All good for frame : 1146\n"
     ]
    },
    {
     "name": "stderr",
     "output_type": "stream",
     "text": [
      "\r",
      " 91%|█████████ | 1146/1261 [55:37<05:33,  2.90s/it]"
     ]
    },
    {
     "name": "stdout",
     "output_type": "stream",
     "text": [
      "first coefficient diff : 6.058689887520466e-05 second coefficient diff : 0.015898201473077855\n",
      "fit pos : 267.93 px 1034.75 px\n",
      "fit distance : 766.82 px 4.05 m\n",
      "All good for frame : 1147\n"
     ]
    },
    {
     "name": "stderr",
     "output_type": "stream",
     "text": [
      "\r",
      " 91%|█████████ | 1147/1261 [55:40<05:30,  2.90s/it]"
     ]
    },
    {
     "name": "stdout",
     "output_type": "stream",
     "text": [
      "first coefficient diff : 0.00010157373880630995 second coefficient diff : 0.048444114494185564\n",
      "fit pos : 267.22 px 1033.09 px\n",
      "fit distance : 765.86 px 4.05 m\n",
      "All good for frame : 1148\n"
     ]
    },
    {
     "name": "stderr",
     "output_type": "stream",
     "text": [
      "\r",
      " 91%|█████████ | 1148/1261 [55:43<05:27,  2.90s/it]"
     ]
    },
    {
     "name": "stdout",
     "output_type": "stream",
     "text": [
      "first coefficient diff : 8.603516836993834e-05 second coefficient diff : 0.07430285324995828\n",
      "fit pos : 267.76 px 1036.78 px\n",
      "fit distance : 769.02 px 4.06 m\n",
      "All good for frame : 1149\n"
     ]
    },
    {
     "name": "stderr",
     "output_type": "stream",
     "text": [
      "\r",
      " 91%|█████████ | 1149/1261 [55:46<05:24,  2.89s/it]"
     ]
    },
    {
     "name": "stdout",
     "output_type": "stream",
     "text": [
      "first coefficient diff : 7.657109934362577e-05 second coefficient diff : 0.041268508156753536\n",
      "fit pos : 266.11 px 1034.96 px\n",
      "fit distance : 768.85 px 4.06 m\n",
      "All good for frame : 1150\n"
     ]
    },
    {
     "name": "stderr",
     "output_type": "stream",
     "text": [
      "\r",
      " 91%|█████████ | 1150/1261 [55:49<05:21,  2.89s/it]"
     ]
    },
    {
     "name": "stdout",
     "output_type": "stream",
     "text": [
      "first coefficient diff : 0.00012842603218738696 second coefficient diff : 0.09180929790826808\n",
      "fit pos : 264.54 px 1036.53 px\n",
      "fit distance : 771.99 px 4.08 m\n",
      "All good for frame : 1151\n"
     ]
    },
    {
     "name": "stderr",
     "output_type": "stream",
     "text": [
      "\r",
      " 91%|█████████▏| 1151/1261 [55:51<05:17,  2.89s/it]"
     ]
    },
    {
     "name": "stdout",
     "output_type": "stream",
     "text": [
      "first coefficient diff : 0.00024978187103483885 second coefficient diff : 0.15798713648602908\n",
      "fit pos : 262.65 px 1056.12 px\n",
      "fit distance : 793.47 px 4.19 m\n",
      "All good for frame : 1152\n"
     ]
    },
    {
     "name": "stderr",
     "output_type": "stream",
     "text": [
      "\r",
      " 91%|█████████▏| 1152/1261 [55:54<05:14,  2.89s/it]"
     ]
    },
    {
     "name": "stdout",
     "output_type": "stream",
     "text": [
      "first coefficient diff : 0.0002765929792640714 second coefficient diff : 0.1783918088475463\n",
      "fit pos : 264.11 px 1055.94 px\n",
      "fit distance : 791.83 px 4.19 m\n",
      "All good for frame : 1153\n"
     ]
    },
    {
     "name": "stderr",
     "output_type": "stream",
     "text": [
      "\r",
      " 91%|█████████▏| 1153/1261 [55:57<05:11,  2.88s/it]"
     ]
    },
    {
     "name": "stdout",
     "output_type": "stream",
     "text": [
      "first coefficient diff : 0.0002998972113701627 second coefficient diff : 0.24104133709197723\n",
      "fit pos : 260.76 px 1057.99 px\n",
      "fit distance : 797.23 px 4.21 m\n",
      "All good for frame : 1154\n"
     ]
    },
    {
     "name": "stderr",
     "output_type": "stream",
     "text": [
      "\r",
      " 92%|█████████▏| 1154/1261 [56:00<05:07,  2.88s/it]"
     ]
    },
    {
     "name": "stdout",
     "output_type": "stream",
     "text": [
      "first coefficient diff : 0.00027738417949371084 second coefficient diff : 0.2210590521123087\n",
      "fit pos : 260.79 px 1050.58 px\n",
      "fit distance : 789.79 px 4.17 m\n",
      "All good for frame : 1155\n"
     ]
    },
    {
     "name": "stderr",
     "output_type": "stream",
     "text": [
      "\r",
      " 92%|█████████▏| 1155/1261 [56:03<05:04,  2.87s/it]"
     ]
    },
    {
     "name": "stdout",
     "output_type": "stream",
     "text": [
      "first coefficient diff : 4.2489463926032186e-05 second coefficient diff : 0.02085131895669856\n",
      "fit pos : 262.06 px 1025.04 px\n",
      "fit distance : 762.98 px 4.03 m\n",
      "All good for frame : 1156\n"
     ]
    },
    {
     "name": "stderr",
     "output_type": "stream",
     "text": [
      "\r",
      " 92%|█████████▏| 1156/1261 [56:06<05:00,  2.87s/it]"
     ]
    },
    {
     "name": "stdout",
     "output_type": "stream",
     "text": [
      "first coefficient diff : 3.3804950950919914e-05 second coefficient diff : 0.013842466805784215\n",
      "fit pos : 257.11 px 1028.13 px\n",
      "fit distance : 771.02 px 4.08 m\n",
      "All good for frame : 1157\n"
     ]
    },
    {
     "name": "stderr",
     "output_type": "stream",
     "text": [
      "\r",
      " 92%|█████████▏| 1157/1261 [56:09<04:57,  2.86s/it]"
     ]
    },
    {
     "name": "stdout",
     "output_type": "stream",
     "text": [
      "first coefficient diff : 4.728059131419335e-05 second coefficient diff : 0.018668592026005626\n",
      "fit pos : 258.61 px 1029.49 px\n",
      "fit distance : 770.88 px 4.07 m\n",
      "All good for frame : 1158\n"
     ]
    },
    {
     "name": "stderr",
     "output_type": "stream",
     "text": [
      "\r",
      " 92%|█████████▏| 1158/1261 [56:11<04:54,  2.86s/it]"
     ]
    },
    {
     "name": "stdout",
     "output_type": "stream",
     "text": [
      "first coefficient diff : 4.90645412475177e-05 second coefficient diff : 0.06189279996938746\n",
      "fit pos : 254.76 px 1033.37 px\n",
      "fit distance : 778.61 px 4.12 m\n",
      "All good for frame : 1159\n"
     ]
    },
    {
     "name": "stderr",
     "output_type": "stream",
     "text": [
      "\r",
      " 92%|█████████▏| 1159/1261 [56:14<04:51,  2.86s/it]"
     ]
    },
    {
     "name": "stdout",
     "output_type": "stream",
     "text": [
      "first coefficient diff : 1.8531665692566245e-05 second coefficient diff : 0.015471002577089055\n",
      "fit pos : 259.15 px 1034.23 px\n",
      "fit distance : 775.09 px 4.10 m\n",
      "All good for frame : 1160\n"
     ]
    },
    {
     "name": "stderr",
     "output_type": "stream",
     "text": [
      "\r",
      " 92%|█████████▏| 1160/1261 [56:17<04:48,  2.85s/it]"
     ]
    },
    {
     "name": "stdout",
     "output_type": "stream",
     "text": [
      "first coefficient diff : 0.0001325367388994074 second coefficient diff : 0.07975654951447952\n",
      "fit pos : 255.68 px 1034.26 px\n",
      "fit distance : 778.58 px 4.12 m\n",
      "All good for frame : 1161\n"
     ]
    },
    {
     "name": "stderr",
     "output_type": "stream",
     "text": [
      "\r",
      " 92%|█████████▏| 1161/1261 [56:20<04:44,  2.85s/it]"
     ]
    },
    {
     "name": "stdout",
     "output_type": "stream",
     "text": [
      "first coefficient diff : 0.0001339025875753393 second coefficient diff : 0.1008126442641824\n",
      "fit pos : 254.94 px 1037.84 px\n",
      "fit distance : 782.90 px 4.14 m\n",
      "All good for frame : 1162\n"
     ]
    },
    {
     "name": "stderr",
     "output_type": "stream",
     "text": [
      "\r",
      " 92%|█████████▏| 1162/1261 [56:23<04:41,  2.84s/it]"
     ]
    },
    {
     "name": "stdout",
     "output_type": "stream",
     "text": [
      "first coefficient diff : 0.0003013268961367747 second coefficient diff : 0.17518641657685952\n",
      "fit pos : 250.55 px 1055.29 px\n",
      "fit distance : 804.74 px 4.25 m\n",
      "All good for frame : 1163\n"
     ]
    },
    {
     "name": "stderr",
     "output_type": "stream",
     "text": [
      "\r",
      " 92%|█████████▏| 1163/1261 [56:26<04:38,  2.84s/it]"
     ]
    },
    {
     "name": "stdout",
     "output_type": "stream",
     "text": [
      "first coefficient diff : 0.0003775847300637444 second coefficient diff : 0.2282439473229147\n",
      "fit pos : 252.76 px 1064.91 px\n",
      "fit distance : 812.15 px 4.29 m\n",
      "All good for frame : 1164\n"
     ]
    },
    {
     "name": "stderr",
     "output_type": "stream",
     "text": [
      "\r",
      " 92%|█████████▏| 1164/1261 [56:28<04:35,  2.84s/it]"
     ]
    },
    {
     "name": "stdout",
     "output_type": "stream",
     "text": [
      "first coefficient diff : 0.00039077042922965423 second coefficient diff : 0.28944890681806906\n",
      "fit pos : 247.45 px 1059.39 px\n",
      "fit distance : 811.94 px 4.29 m\n",
      "All good for frame : 1165\n"
     ]
    },
    {
     "name": "stderr",
     "output_type": "stream",
     "text": [
      "\r",
      " 92%|█████████▏| 1165/1261 [56:31<04:31,  2.83s/it]"
     ]
    },
    {
     "name": "stdout",
     "output_type": "stream",
     "text": [
      "first coefficient diff : 0.00040051419447276627 second coefficient diff : 0.30271193400622215\n",
      "fit pos : 248.32 px 1054.26 px\n",
      "fit distance : 805.94 px 4.26 m\n",
      "All good for frame : 1166\n"
     ]
    },
    {
     "name": "stderr",
     "output_type": "stream",
     "text": [
      "\r",
      " 92%|█████████▏| 1166/1261 [56:34<04:28,  2.83s/it]"
     ]
    },
    {
     "name": "stdout",
     "output_type": "stream",
     "text": [
      "first coefficient diff : 0.00010008902321865477 second coefficient diff : 0.07472352205706695\n",
      "fit pos : 248.90 px 1029.43 px\n",
      "fit distance : 780.53 px 4.13 m\n",
      "All good for frame : 1167\n"
     ]
    },
    {
     "name": "stderr",
     "output_type": "stream",
     "text": [
      "\r",
      " 93%|█████████▎| 1167/1261 [56:37<04:26,  2.83s/it]"
     ]
    },
    {
     "name": "stdout",
     "output_type": "stream",
     "text": [
      "first coefficient diff : 4.47031777763343e-05 second coefficient diff : 0.04852430363208632\n",
      "fit pos : 245.02 px 1017.17 px\n",
      "fit distance : 772.14 px 4.08 m\n",
      "All good for frame : 1168\n"
     ]
    },
    {
     "name": "stderr",
     "output_type": "stream",
     "text": [
      "\r",
      " 93%|█████████▎| 1168/1261 [56:40<04:23,  2.84s/it]"
     ]
    },
    {
     "name": "stdout",
     "output_type": "stream",
     "text": [
      "first coefficient diff : 5.552040420457786e-05 second coefficient diff : 0.0034282067885949563\n",
      "fit pos : 245.26 px 1023.00 px\n",
      "fit distance : 777.73 px 4.11 m\n",
      "All good for frame : 1169\n"
     ]
    },
    {
     "name": "stderr",
     "output_type": "stream",
     "text": [
      "\r",
      " 93%|█████████▎| 1169/1261 [56:43<04:21,  2.84s/it]"
     ]
    },
    {
     "name": "stdout",
     "output_type": "stream",
     "text": [
      "first coefficient diff : 9.046100666317447e-05 second coefficient diff : 0.03255287731219231\n",
      "fit pos : 245.50 px 1027.20 px\n",
      "fit distance : 781.70 px 4.13 m\n",
      "All good for frame : 1170\n"
     ]
    },
    {
     "name": "stderr",
     "output_type": "stream",
     "text": [
      "\r",
      " 93%|█████████▎| 1170/1261 [56:46<04:19,  2.85s/it]"
     ]
    },
    {
     "name": "stdout",
     "output_type": "stream",
     "text": [
      "first coefficient diff : 0.00017113562124803286 second coefficient diff : 0.07446036337903739\n",
      "fit pos : 241.94 px 1027.11 px\n",
      "fit distance : 785.17 px 4.15 m\n",
      "All good for frame : 1171\n"
     ]
    },
    {
     "name": "stderr",
     "output_type": "stream",
     "text": [
      "\r",
      " 93%|█████████▎| 1171/1261 [56:49<04:22,  2.91s/it]"
     ]
    },
    {
     "name": "stdout",
     "output_type": "stream",
     "text": [
      "first coefficient diff : 0.00018123442717443556 second coefficient diff : 0.08111442660025275\n",
      "fit pos : 242.03 px 1027.25 px\n",
      "fit distance : 785.22 px 4.15 m\n",
      "All good for frame : 1172\n"
     ]
    },
    {
     "name": "stderr",
     "output_type": "stream",
     "text": [
      "\r",
      " 93%|█████████▎| 1172/1261 [56:52<04:21,  2.94s/it]"
     ]
    },
    {
     "name": "stdout",
     "output_type": "stream",
     "text": [
      "first coefficient diff : 0.0002092090123683022 second coefficient diff : 0.11409615231961212\n",
      "fit pos : 239.24 px 1030.66 px\n",
      "fit distance : 791.42 px 4.18 m\n",
      "All good for frame : 1173\n"
     ]
    },
    {
     "name": "stderr",
     "output_type": "stream",
     "text": [
      "\r",
      " 93%|█████████▎| 1173/1261 [56:55<04:18,  2.94s/it]"
     ]
    },
    {
     "name": "stdout",
     "output_type": "stream",
     "text": [
      "first coefficient diff : 0.0002586835324347094 second coefficient diff : 0.13135963159671699\n",
      "fit pos : 240.34 px 1031.69 px\n",
      "fit distance : 791.35 px 4.18 m\n",
      "All good for frame : 1174\n"
     ]
    },
    {
     "name": "stderr",
     "output_type": "stream",
     "text": [
      "\r",
      " 93%|█████████▎| 1174/1261 [56:57<04:13,  2.92s/it]"
     ]
    },
    {
     "name": "stdout",
     "output_type": "stream",
     "text": [
      "first coefficient diff : 0.0003100995057957068 second coefficient diff : 0.18736654296678612\n",
      "fit pos : 241.28 px 1037.04 px\n",
      "fit distance : 795.76 px 4.21 m\n",
      "All good for frame : 1175\n"
     ]
    },
    {
     "name": "stderr",
     "output_type": "stream",
     "text": [
      "\r",
      " 93%|█████████▎| 1175/1261 [57:00<04:09,  2.90s/it]"
     ]
    },
    {
     "name": "stdout",
     "output_type": "stream",
     "text": [
      "first coefficient diff : 0.00031301589552914415 second coefficient diff : 0.20516710455783216\n",
      "fit pos : 245.64 px 1040.90 px\n",
      "fit distance : 795.26 px 4.20 m\n",
      "All good for frame : 1176\n"
     ]
    },
    {
     "name": "stderr",
     "output_type": "stream",
     "text": [
      "\r",
      " 93%|█████████▎| 1176/1261 [57:03<04:05,  2.89s/it]"
     ]
    },
    {
     "name": "stdout",
     "output_type": "stream",
     "text": [
      "first coefficient diff : 0.00030085271482708435 second coefficient diff : 0.1960611487837896\n",
      "fit pos : 247.31 px 1034.68 px\n",
      "fit distance : 787.37 px 4.16 m\n",
      "All good for frame : 1177\n"
     ]
    },
    {
     "name": "stderr",
     "output_type": "stream",
     "text": [
      "\r",
      " 93%|█████████▎| 1177/1261 [57:06<04:01,  2.88s/it]"
     ]
    },
    {
     "name": "stdout",
     "output_type": "stream",
     "text": [
      "first coefficient diff : 3.972964878221278e-05 second coefficient diff : 0.025122782517424724\n",
      "fit pos : 252.98 px 1020.56 px\n",
      "fit distance : 767.58 px 4.06 m\n",
      "All good for frame : 1178\n"
     ]
    },
    {
     "name": "stderr",
     "output_type": "stream",
     "text": [
      "\r",
      " 93%|█████████▎| 1178/1261 [57:09<03:58,  2.87s/it]"
     ]
    },
    {
     "name": "stdout",
     "output_type": "stream",
     "text": [
      "first coefficient diff : 4.709658031482241e-05 second coefficient diff : 0.022804116137193464\n",
      "fit pos : 253.21 px 1020.29 px\n",
      "fit distance : 767.08 px 4.05 m\n",
      "All good for frame : 1179\n"
     ]
    },
    {
     "name": "stderr",
     "output_type": "stream",
     "text": [
      "\r",
      " 93%|█████████▎| 1179/1261 [57:12<03:54,  2.86s/it]"
     ]
    },
    {
     "name": "stdout",
     "output_type": "stream",
     "text": [
      "first coefficient diff : 0.00011884810021219606 second coefficient diff : 0.0822220981955406\n",
      "fit pos : 256.83 px 1028.90 px\n",
      "fit distance : 772.07 px 4.08 m\n",
      "All good for frame : 1180\n"
     ]
    },
    {
     "name": "stderr",
     "output_type": "stream",
     "text": [
      "\r",
      " 94%|█████████▎| 1180/1261 [57:15<03:52,  2.87s/it]"
     ]
    },
    {
     "name": "stdout",
     "output_type": "stream",
     "text": [
      "first coefficient diff : 0.00012293488190233165 second coefficient diff : 0.1006443563374737\n",
      "fit pos : 260.75 px 1035.11 px\n",
      "fit distance : 774.36 px 4.09 m\n",
      "All good for frame : 1181\n"
     ]
    },
    {
     "name": "stderr",
     "output_type": "stream",
     "text": [
      "\r",
      " 94%|█████████▎| 1181/1261 [57:17<03:49,  2.86s/it]"
     ]
    },
    {
     "name": "stdout",
     "output_type": "stream",
     "text": [
      "first coefficient diff : 0.0001417431243056243 second coefficient diff : 0.10744644254083946\n",
      "fit pos : 264.66 px 1038.92 px\n",
      "fit distance : 774.26 px 4.09 m\n",
      "All good for frame : 1182\n"
     ]
    },
    {
     "name": "stderr",
     "output_type": "stream",
     "text": [
      "\r",
      " 94%|█████████▎| 1182/1261 [57:20<03:46,  2.87s/it]"
     ]
    },
    {
     "name": "stdout",
     "output_type": "stream",
     "text": [
      "first coefficient diff : 0.0001698190701553024 second coefficient diff : 0.14480673655928405\n",
      "fit pos : 267.36 px 1045.22 px\n",
      "fit distance : 777.86 px 4.11 m\n",
      "All good for frame : 1183\n"
     ]
    },
    {
     "name": "stderr",
     "output_type": "stream",
     "text": [
      "\r",
      " 94%|█████████▍| 1183/1261 [57:23<03:44,  2.87s/it]"
     ]
    },
    {
     "name": "stdout",
     "output_type": "stream",
     "text": [
      "first coefficient diff : 0.00023119178559200367 second coefficient diff : 0.18933454941912203\n",
      "fit pos : 267.89 px 1050.89 px\n",
      "fit distance : 783.00 px 4.14 m\n",
      "All good for frame : 1184\n"
     ]
    },
    {
     "name": "stderr",
     "output_type": "stream",
     "text": [
      "\r",
      " 94%|█████████▍| 1184/1261 [57:26<03:40,  2.87s/it]"
     ]
    },
    {
     "name": "stdout",
     "output_type": "stream",
     "text": [
      "first coefficient diff : 0.0002764434177592841 second coefficient diff : 0.18662581427299996\n",
      "fit pos : 271.37 px 1059.64 px\n",
      "fit distance : 788.27 px 4.17 m\n",
      "All good for frame : 1185\n"
     ]
    },
    {
     "name": "stderr",
     "output_type": "stream",
     "text": [
      "\r",
      " 94%|█████████▍| 1185/1261 [57:29<03:37,  2.86s/it]"
     ]
    },
    {
     "name": "stdout",
     "output_type": "stream",
     "text": [
      "first coefficient diff : 0.0004428625924694407 second coefficient diff : 0.30453963841678855\n",
      "fit pos : 274.19 px 1092.91 px\n",
      "fit distance : 818.72 px 4.33 m\n",
      "All good for frame : 1186\n"
     ]
    },
    {
     "name": "stderr",
     "output_type": "stream",
     "text": [
      "\r",
      " 94%|█████████▍| 1186/1261 [57:32<03:34,  2.86s/it]"
     ]
    },
    {
     "name": "stdout",
     "output_type": "stream",
     "text": [
      "first coefficient diff : 0.00037632137330681264 second coefficient diff : 0.2677738789435017\n",
      "fit pos : 277.39 px 1082.14 px\n",
      "fit distance : 804.75 px 4.25 m\n",
      "All good for frame : 1187\n"
     ]
    },
    {
     "name": "stderr",
     "output_type": "stream",
     "text": [
      "\r",
      " 94%|█████████▍| 1187/1261 [57:35<03:31,  2.85s/it]"
     ]
    },
    {
     "name": "stdout",
     "output_type": "stream",
     "text": [
      "first coefficient diff : 0.00042605626369440427 second coefficient diff : 0.3180091261599917\n",
      "fit pos : 277.64 px 1079.76 px\n",
      "fit distance : 802.12 px 4.24 m\n",
      "All good for frame : 1188\n"
     ]
    },
    {
     "name": "stderr",
     "output_type": "stream",
     "text": [
      "\r",
      " 94%|█████████▍| 1188/1261 [57:37<03:28,  2.85s/it]"
     ]
    },
    {
     "name": "stdout",
     "output_type": "stream",
     "text": [
      "first coefficient diff : 8.999435997970715e-05 second coefficient diff : 0.0910068278403866\n",
      "fit pos : 275.23 px 1047.65 px\n",
      "fit distance : 772.43 px 4.08 m\n",
      "All good for frame : 1189\n"
     ]
    },
    {
     "name": "stderr",
     "output_type": "stream",
     "text": [
      "\r",
      " 94%|█████████▍| 1189/1261 [57:40<03:25,  2.85s/it]"
     ]
    },
    {
     "name": "stdout",
     "output_type": "stream",
     "text": [
      "first coefficient diff : 9.606186608485624e-05 second coefficient diff : 0.07836127046893918\n",
      "fit pos : 277.75 px 1033.44 px\n",
      "fit distance : 755.70 px 3.99 m\n",
      "All good for frame : 1190\n"
     ]
    },
    {
     "name": "stderr",
     "output_type": "stream",
     "text": [
      "\r",
      " 94%|█████████▍| 1190/1261 [57:43<03:21,  2.84s/it]"
     ]
    },
    {
     "name": "stdout",
     "output_type": "stream",
     "text": [
      "first coefficient diff : 1.886735206715556e-05 second coefficient diff : 0.02330459113307959\n",
      "fit pos : 280.36 px 1042.41 px\n",
      "fit distance : 762.05 px 4.03 m\n",
      "All good for frame : 1191\n"
     ]
    },
    {
     "name": "stderr",
     "output_type": "stream",
     "text": [
      "\r",
      " 94%|█████████▍| 1191/1261 [57:46<03:19,  2.84s/it]"
     ]
    },
    {
     "name": "stdout",
     "output_type": "stream",
     "text": [
      "first coefficient diff : 2.974530369955576e-05 second coefficient diff : 0.007494759474610868\n",
      "fit pos : 284.03 px 1048.93 px\n",
      "fit distance : 764.90 px 4.04 m\n",
      "All good for frame : 1192\n"
     ]
    },
    {
     "name": "stderr",
     "output_type": "stream",
     "text": [
      "\r",
      " 95%|█████████▍| 1192/1261 [57:49<03:16,  2.84s/it]"
     ]
    },
    {
     "name": "stdout",
     "output_type": "stream",
     "text": [
      "first coefficient diff : 4.300272802591445e-05 second coefficient diff : 0.018496315576536193\n",
      "fit pos : 285.93 px 1049.21 px\n",
      "fit distance : 763.27 px 4.03 m\n",
      "All good for frame : 1193\n"
     ]
    },
    {
     "name": "stderr",
     "output_type": "stream",
     "text": [
      "\r",
      " 95%|█████████▍| 1193/1261 [57:52<03:13,  2.84s/it]"
     ]
    },
    {
     "name": "stdout",
     "output_type": "stream",
     "text": [
      "first coefficient diff : 6.96642211824931e-05 second coefficient diff : 0.021674414758011407\n",
      "fit pos : 282.37 px 1050.39 px\n",
      "fit distance : 768.01 px 4.06 m\n",
      "All good for frame : 1194\n"
     ]
    },
    {
     "name": "stderr",
     "output_type": "stream",
     "text": [
      "\r",
      " 95%|█████████▍| 1194/1261 [57:54<03:10,  2.84s/it]"
     ]
    },
    {
     "name": "stdout",
     "output_type": "stream",
     "text": [
      "first coefficient diff : 6.497675325461559e-05 second coefficient diff : 0.009117746672237803\n",
      "fit pos : 282.89 px 1048.04 px\n",
      "fit distance : 765.15 px 4.04 m\n",
      "All good for frame : 1195\n"
     ]
    },
    {
     "name": "stderr",
     "output_type": "stream",
     "text": [
      "\r",
      " 95%|█████████▍| 1195/1261 [57:57<03:07,  2.85s/it]"
     ]
    },
    {
     "name": "stdout",
     "output_type": "stream",
     "text": [
      "first coefficient diff : 0.00013554688658820002 second coefficient diff : 0.03888600890603283\n",
      "fit pos : 280.80 px 1048.95 px\n",
      "fit distance : 768.14 px 4.06 m\n",
      "All good for frame : 1196\n"
     ]
    },
    {
     "name": "stderr",
     "output_type": "stream",
     "text": [
      "\r",
      " 95%|█████████▍| 1196/1261 [58:00<03:04,  2.84s/it]"
     ]
    },
    {
     "name": "stdout",
     "output_type": "stream",
     "text": [
      "first coefficient diff : 0.0002750214235824012 second coefficient diff : 0.1328652216317307\n",
      "fit pos : 281.89 px 1077.52 px\n",
      "fit distance : 795.63 px 4.21 m\n",
      "All good for frame : 1197\n"
     ]
    },
    {
     "name": "stderr",
     "output_type": "stream",
     "text": [
      "\r",
      " 95%|█████████▍| 1197/1261 [58:03<03:02,  2.84s/it]"
     ]
    },
    {
     "name": "stdout",
     "output_type": "stream",
     "text": [
      "first coefficient diff : 0.00032965306752485047 second coefficient diff : 0.1969561288176082\n",
      "fit pos : 278.26 px 1080.38 px\n",
      "fit distance : 802.12 px 4.24 m\n",
      "All good for frame : 1198\n"
     ]
    },
    {
     "name": "stderr",
     "output_type": "stream",
     "text": [
      "\r",
      " 95%|█████████▌| 1198/1261 [58:06<02:59,  2.85s/it]"
     ]
    },
    {
     "name": "stdout",
     "output_type": "stream",
     "text": [
      "first coefficient diff : 0.00034890697129764036 second coefficient diff : 0.27053340904842826\n",
      "fit pos : 275.09 px 1085.01 px\n",
      "fit distance : 809.92 px 4.28 m\n",
      "All good for frame : 1199\n"
     ]
    },
    {
     "name": "stderr",
     "output_type": "stream",
     "text": [
      "\r",
      " 95%|█████████▌| 1199/1261 [58:09<02:56,  2.85s/it]"
     ]
    },
    {
     "name": "stdout",
     "output_type": "stream",
     "text": [
      "first coefficient diff : 0.000410229735063499 second coefficient diff : 0.3584345001368237\n",
      "fit pos : 270.98 px 1090.01 px\n",
      "fit distance : 819.03 px 4.33 m\n",
      "All good for frame : 1200\n"
     ]
    },
    {
     "name": "stderr",
     "output_type": "stream",
     "text": [
      "\r",
      " 95%|█████████▌| 1200/1261 [58:12<02:53,  2.85s/it]"
     ]
    },
    {
     "name": "stdout",
     "output_type": "stream",
     "text": [
      "first coefficient diff : 0.00041530525316299353 second coefficient diff : 0.34563560596084\n",
      "fit pos : 274.62 px 1088.26 px\n",
      "fit distance : 813.65 px 4.30 m\n",
      "All good for frame : 1201\n"
     ]
    },
    {
     "name": "stderr",
     "output_type": "stream",
     "text": [
      "\r",
      " 95%|█████████▌| 1201/1261 [58:15<02:53,  2.89s/it]"
     ]
    },
    {
     "name": "stdout",
     "output_type": "stream",
     "text": [
      "first coefficient diff : 4.79816461079594e-05 second coefficient diff : 0.06486291794241394\n",
      "fit pos : 274.86 px 1060.94 px\n",
      "fit distance : 786.08 px 4.16 m\n",
      "All good for frame : 1202\n"
     ]
    },
    {
     "name": "stderr",
     "output_type": "stream",
     "text": [
      "\r",
      " 95%|█████████▌| 1202/1261 [58:17<02:50,  2.89s/it]"
     ]
    },
    {
     "name": "stdout",
     "output_type": "stream",
     "text": [
      "first coefficient diff : 4.940433374384302e-06 second coefficient diff : 0.009285797912765903\n",
      "fit pos : 278.44 px 1060.68 px\n",
      "fit distance : 782.24 px 4.13 m\n",
      "All good for frame : 1203\n"
     ]
    },
    {
     "name": "stderr",
     "output_type": "stream",
     "text": [
      "\r",
      " 95%|█████████▌| 1203/1261 [58:20<02:46,  2.87s/it]"
     ]
    },
    {
     "name": "stdout",
     "output_type": "stream",
     "text": [
      "first coefficient diff : 0.0001271911332841586 second coefficient diff : 0.0861984665498603\n",
      "fit pos : 278.54 px 1065.24 px\n",
      "fit distance : 786.70 px 4.16 m\n",
      "All good for frame : 1204\n"
     ]
    },
    {
     "name": "stderr",
     "output_type": "stream",
     "text": [
      "\r",
      " 95%|█████████▌| 1204/1261 [58:23<02:42,  2.86s/it]"
     ]
    },
    {
     "name": "stdout",
     "output_type": "stream",
     "text": [
      "first coefficient diff : 0.00010793485360700871 second coefficient diff : 0.057638618991276036\n",
      "fit pos : 284.57 px 1067.20 px\n",
      "fit distance : 782.62 px 4.14 m\n",
      "All good for frame : 1205\n"
     ]
    },
    {
     "name": "stderr",
     "output_type": "stream",
     "text": [
      "\r",
      " 96%|█████████▌| 1205/1261 [58:26<02:39,  2.85s/it]"
     ]
    },
    {
     "name": "stdout",
     "output_type": "stream",
     "text": [
      "first coefficient diff : 0.00014416702492662495 second coefficient diff : 0.06131916078419608\n",
      "fit pos : 290.11 px 1066.78 px\n",
      "fit distance : 776.68 px 4.11 m\n",
      "All good for frame : 1206\n"
     ]
    },
    {
     "name": "stderr",
     "output_type": "stream",
     "text": [
      "\r",
      " 96%|█████████▌| 1206/1261 [58:29<02:36,  2.84s/it]"
     ]
    },
    {
     "name": "stdout",
     "output_type": "stream",
     "text": [
      "first coefficient diff : 0.00018973048459993742 second coefficient diff : 0.07760146298565052\n",
      "fit pos : 287.52 px 1063.00 px\n",
      "fit distance : 775.48 px 4.10 m\n",
      "All good for frame : 1207\n"
     ]
    },
    {
     "name": "stderr",
     "output_type": "stream",
     "text": [
      "\r",
      " 96%|█████████▌| 1207/1261 [58:32<02:33,  2.84s/it]"
     ]
    },
    {
     "name": "stdout",
     "output_type": "stream",
     "text": [
      "first coefficient diff : 0.0002907481156946522 second coefficient diff : 0.143624067249344\n",
      "fit pos : 290.94 px 1086.34 px\n",
      "fit distance : 795.40 px 4.20 m\n",
      "All good for frame : 1208\n"
     ]
    },
    {
     "name": "stderr",
     "output_type": "stream",
     "text": [
      "\r",
      " 96%|█████████▌| 1208/1261 [58:34<02:30,  2.83s/it]"
     ]
    },
    {
     "name": "stdout",
     "output_type": "stream",
     "text": [
      "first coefficient diff : 1.682370915219195e-05 second coefficient diff : 0.09287801336791623\n",
      "fit pos : 290.40 px 1040.35 px\n",
      "fit distance : 749.95 px 3.96 m\n",
      "All good for frame : 1209\n"
     ]
    },
    {
     "name": "stderr",
     "output_type": "stream",
     "text": [
      "\r",
      " 96%|█████████▌| 1209/1261 [58:37<02:26,  2.83s/it]"
     ]
    },
    {
     "name": "stdout",
     "output_type": "stream",
     "text": [
      "first coefficient diff : 4.28740576057508e-05 second coefficient diff : 0.081031336328722\n",
      "fit pos : 293.91 px 1039.44 px\n",
      "fit distance : 745.53 px 3.94 m\n",
      "All good for frame : 1210\n"
     ]
    },
    {
     "name": "stderr",
     "output_type": "stream",
     "text": [
      "\r",
      " 96%|█████████▌| 1210/1261 [58:40<02:24,  2.83s/it]"
     ]
    },
    {
     "name": "stdout",
     "output_type": "stream",
     "text": [
      "first coefficient diff : 0.00010397066631223967 second coefficient diff : 0.12545520766398438\n",
      "fit pos : 293.78 px 1033.95 px\n",
      "fit distance : 740.17 px 3.91 m\n",
      "All good for frame : 1211\n"
     ]
    },
    {
     "name": "stderr",
     "output_type": "stream",
     "text": [
      "\r",
      " 96%|█████████▌| 1211/1261 [58:43<02:21,  2.83s/it]"
     ]
    },
    {
     "name": "stdout",
     "output_type": "stream",
     "text": [
      "first coefficient diff : 2.894254342821086e-05 second coefficient diff : 0.05346719168727815\n",
      "fit pos : 294.13 px 1040.14 px\n",
      "fit distance : 746.01 px 3.94 m\n",
      "All good for frame : 1212\n"
     ]
    },
    {
     "name": "stderr",
     "output_type": "stream",
     "text": [
      "\r",
      " 96%|█████████▌| 1212/1261 [58:46<02:18,  2.83s/it]"
     ]
    },
    {
     "name": "stdout",
     "output_type": "stream",
     "text": [
      "first coefficient diff : 8.480030649285082e-05 second coefficient diff : 0.054143711503798486\n",
      "fit pos : 295.53 px 1042.11 px\n",
      "fit distance : 746.58 px 3.95 m\n",
      "All good for frame : 1213\n"
     ]
    },
    {
     "name": "stderr",
     "output_type": "stream",
     "text": [
      "\r",
      " 96%|█████████▌| 1213/1261 [58:49<02:16,  2.83s/it]"
     ]
    },
    {
     "name": "stdout",
     "output_type": "stream",
     "text": [
      "first coefficient diff : 9.205590812432212e-06 second coefficient diff : 0.012459948535953724\n",
      "fit pos : 295.02 px 1049.84 px\n",
      "fit distance : 754.81 px 3.99 m\n",
      "All good for frame : 1214\n"
     ]
    },
    {
     "name": "stderr",
     "output_type": "stream",
     "text": [
      "\r",
      " 96%|█████████▋| 1214/1261 [58:51<02:13,  2.84s/it]"
     ]
    },
    {
     "name": "stdout",
     "output_type": "stream",
     "text": [
      "first coefficient diff : 6.125398451069521e-05 second coefficient diff : 0.044430476411146835\n",
      "fit pos : 296.56 px 1053.66 px\n",
      "fit distance : 757.10 px 4.00 m\n",
      "All good for frame : 1215\n"
     ]
    },
    {
     "name": "stderr",
     "output_type": "stream",
     "text": [
      "\r",
      " 96%|█████████▋| 1215/1261 [58:54<02:11,  2.85s/it]"
     ]
    },
    {
     "name": "stdout",
     "output_type": "stream",
     "text": [
      "first coefficient diff : 6.016776950078733e-05 second coefficient diff : 0.06562006743438153\n",
      "fit pos : 296.09 px 1056.30 px\n",
      "fit distance : 760.21 px 4.02 m\n",
      "All good for frame : 1216\n"
     ]
    },
    {
     "name": "stderr",
     "output_type": "stream",
     "text": [
      "\r",
      " 96%|█████████▋| 1216/1261 [58:57<02:08,  2.86s/it]"
     ]
    },
    {
     "name": "stdout",
     "output_type": "stream",
     "text": [
      "first coefficient diff : 7.69846491148104e-05 second coefficient diff : 0.05747820349486771\n",
      "fit pos : 300.03 px 1061.70 px\n",
      "fit distance : 761.67 px 4.03 m\n",
      "All good for frame : 1217\n"
     ]
    },
    {
     "name": "stderr",
     "output_type": "stream",
     "text": [
      "\r",
      " 97%|█████████▋| 1217/1261 [59:00<02:06,  2.86s/it]"
     ]
    },
    {
     "name": "stdout",
     "output_type": "stream",
     "text": [
      "first coefficient diff : 0.00016442615531692665 second coefficient diff : 0.13486741420330534\n",
      "fit pos : 296.62 px 1068.20 px\n",
      "fit distance : 771.58 px 4.08 m\n",
      "All good for frame : 1218\n"
     ]
    },
    {
     "name": "stderr",
     "output_type": "stream",
     "text": [
      "\r",
      " 97%|█████████▋| 1218/1261 [59:03<02:03,  2.87s/it]"
     ]
    },
    {
     "name": "stdout",
     "output_type": "stream",
     "text": [
      "first coefficient diff : 0.00027680824302001267 second coefficient diff : 0.20395976304047841\n",
      "fit pos : 295.33 px 1087.07 px\n",
      "fit distance : 791.75 px 4.18 m\n",
      "All good for frame : 1219\n"
     ]
    },
    {
     "name": "stderr",
     "output_type": "stream",
     "text": [
      "\r",
      " 97%|█████████▋| 1219/1261 [59:06<02:00,  2.86s/it]"
     ]
    },
    {
     "name": "stdout",
     "output_type": "stream",
     "text": [
      "first coefficient diff : 0.00036850608433941826 second coefficient diff : 0.2543975948636271\n",
      "fit pos : 297.70 px 1096.27 px\n",
      "fit distance : 798.57 px 4.22 m\n",
      "All good for frame : 1220\n"
     ]
    },
    {
     "name": "stderr",
     "output_type": "stream",
     "text": [
      "\r",
      " 97%|█████████▋| 1220/1261 [59:09<01:56,  2.85s/it]"
     ]
    },
    {
     "name": "stdout",
     "output_type": "stream",
     "text": [
      "first coefficient diff : 0.000414501913240168 second coefficient diff : 0.31039410141964024\n",
      "fit pos : 297.67 px 1101.44 px\n",
      "fit distance : 803.76 px 4.25 m\n",
      "All good for frame : 1221\n"
     ]
    },
    {
     "name": "stderr",
     "output_type": "stream",
     "text": [
      "\r",
      " 97%|█████████▋| 1221/1261 [59:11<01:53,  2.85s/it]"
     ]
    },
    {
     "name": "stdout",
     "output_type": "stream",
     "text": [
      "first coefficient diff : 0.000354422863078975 second coefficient diff : 0.2676405624701262\n",
      "fit pos : 300.33 px 1088.30 px\n",
      "fit distance : 787.98 px 4.17 m\n",
      "All good for frame : 1222\n"
     ]
    },
    {
     "name": "stderr",
     "output_type": "stream",
     "text": [
      "\r",
      " 97%|█████████▋| 1222/1261 [59:14<01:51,  2.85s/it]"
     ]
    },
    {
     "name": "stdout",
     "output_type": "stream",
     "text": [
      "first coefficient diff : 9.72126854250157e-05 second coefficient diff : 0.10694573253949985\n",
      "fit pos : 305.75 px 1049.73 px\n",
      "fit distance : 743.98 px 3.93 m\n",
      "All good for frame : 1223\n"
     ]
    },
    {
     "name": "stderr",
     "output_type": "stream",
     "text": [
      "\r",
      " 97%|█████████▋| 1223/1261 [59:17<01:48,  2.85s/it]"
     ]
    },
    {
     "name": "stdout",
     "output_type": "stream",
     "text": [
      "first coefficient diff : 4.46973519036133e-05 second coefficient diff : 0.05443533976697873\n",
      "fit pos : 308.03 px 1057.28 px\n",
      "fit distance : 749.25 px 3.96 m\n",
      "All good for frame : 1224\n"
     ]
    },
    {
     "name": "stderr",
     "output_type": "stream",
     "text": [
      "\r",
      " 97%|█████████▋| 1224/1261 [59:20<01:45,  2.84s/it]"
     ]
    },
    {
     "name": "stdout",
     "output_type": "stream",
     "text": [
      "first coefficient diff : 3.278520029776334e-05 second coefficient diff : 0.01650172146995693\n",
      "fit pos : 310.57 px 1064.47 px\n",
      "fit distance : 753.90 px 3.98 m\n",
      "All good for frame : 1225\n"
     ]
    },
    {
     "name": "stderr",
     "output_type": "stream",
     "text": [
      "\r",
      " 97%|█████████▋| 1225/1261 [59:23<01:42,  2.84s/it]"
     ]
    },
    {
     "name": "stdout",
     "output_type": "stream",
     "text": [
      "first coefficient diff : 1.3273354461993726e-05 second coefficient diff : 0.006028739273767125\n",
      "fit pos : 311.57 px 1065.34 px\n",
      "fit distance : 753.76 px 3.98 m\n",
      "All good for frame : 1226\n"
     ]
    },
    {
     "name": "stderr",
     "output_type": "stream",
     "text": [
      "\r",
      " 97%|█████████▋| 1226/1261 [59:26<01:39,  2.83s/it]"
     ]
    },
    {
     "name": "stdout",
     "output_type": "stream",
     "text": [
      "first coefficient diff : 2.1422835176184096e-05 second coefficient diff : 0.05233941599822728\n",
      "fit pos : 310.81 px 1068.19 px\n",
      "fit distance : 757.38 px 4.00 m\n",
      "All good for frame : 1227\n"
     ]
    },
    {
     "name": "stderr",
     "output_type": "stream",
     "text": [
      "\r",
      " 97%|█████████▋| 1227/1261 [59:28<01:36,  2.84s/it]"
     ]
    },
    {
     "name": "stdout",
     "output_type": "stream",
     "text": [
      "first coefficient diff : 8.167550040487454e-05 second coefficient diff : 0.10761178017758105\n",
      "fit pos : 309.64 px 1072.07 px\n",
      "fit distance : 762.43 px 4.03 m\n",
      "All good for frame : 1228\n"
     ]
    },
    {
     "name": "stderr",
     "output_type": "stream",
     "text": [
      "\r",
      " 97%|█████████▋| 1228/1261 [59:31<01:33,  2.84s/it]"
     ]
    },
    {
     "name": "stdout",
     "output_type": "stream",
     "text": [
      "first coefficient diff : 8.217961458252115e-05 second coefficient diff : 0.13435035741694085\n",
      "fit pos : 306.18 px 1074.11 px\n",
      "fit distance : 767.93 px 4.06 m\n",
      "All good for frame : 1229\n"
     ]
    },
    {
     "name": "stderr",
     "output_type": "stream",
     "text": [
      "\r",
      " 97%|█████████▋| 1229/1261 [59:34<01:30,  2.84s/it]"
     ]
    },
    {
     "name": "stdout",
     "output_type": "stream",
     "text": [
      "first coefficient diff : 0.00016550030318335961 second coefficient diff : 0.18652563807256695\n",
      "fit pos : 304.44 px 1082.75 px\n",
      "fit distance : 778.30 px 4.11 m\n",
      "All good for frame : 1230\n"
     ]
    },
    {
     "name": "stderr",
     "output_type": "stream",
     "text": [
      "\r",
      " 98%|█████████▊| 1230/1261 [59:37<01:28,  2.85s/it]"
     ]
    },
    {
     "name": "stdout",
     "output_type": "stream",
     "text": [
      "first coefficient diff : 0.00027782023748645354 second coefficient diff : 0.25432116734038634\n",
      "fit pos : 305.85 px 1091.11 px\n",
      "fit distance : 785.26 px 4.15 m\n",
      "All good for frame : 1231\n"
     ]
    },
    {
     "name": "stderr",
     "output_type": "stream",
     "text": [
      "\r",
      " 98%|█████████▊| 1231/1261 [59:40<01:27,  2.91s/it]"
     ]
    },
    {
     "name": "stdout",
     "output_type": "stream",
     "text": [
      "first coefficient diff : 0.00033502930800304433 second coefficient diff : 0.3020689012009553\n",
      "fit pos : 304.88 px 1093.67 px\n",
      "fit distance : 788.80 px 4.17 m\n",
      "All good for frame : 1232\n"
     ]
    },
    {
     "name": "stderr",
     "output_type": "stream",
     "text": [
      "\r",
      " 98%|█████████▊| 1232/1261 [59:43<01:24,  2.91s/it]"
     ]
    },
    {
     "name": "stdout",
     "output_type": "stream",
     "text": [
      "first coefficient diff : 0.0002563657185536077 second coefficient diff : 0.22545933472220878\n",
      "fit pos : 306.67 px 1078.09 px\n",
      "fit distance : 771.42 px 4.08 m\n",
      "All good for frame : 1233\n"
     ]
    },
    {
     "name": "stderr",
     "output_type": "stream",
     "text": [
      "\r",
      " 98%|█████████▊| 1233/1261 [59:46<01:21,  2.90s/it]"
     ]
    },
    {
     "name": "stdout",
     "output_type": "stream",
     "text": [
      "first coefficient diff : 0.0001321658681695099 second coefficient diff : 0.08382261906850846\n",
      "fit pos : 307.19 px 1047.65 px\n",
      "fit distance : 740.45 px 3.91 m\n",
      "All good for frame : 1234\n"
     ]
    },
    {
     "name": "stderr",
     "output_type": "stream",
     "text": [
      "\r",
      " 98%|█████████▊| 1234/1261 [59:49<01:17,  2.89s/it]"
     ]
    },
    {
     "name": "stdout",
     "output_type": "stream",
     "text": [
      "first coefficient diff : 0.0001730760886596987 second coefficient diff : 0.10208224480372355\n",
      "fit pos : 308.09 px 1048.68 px\n",
      "fit distance : 740.58 px 3.91 m\n",
      "All good for frame : 1235\n"
     ]
    },
    {
     "name": "stderr",
     "output_type": "stream",
     "text": [
      "\r",
      " 98%|█████████▊| 1235/1261 [59:52<01:14,  2.88s/it]"
     ]
    },
    {
     "name": "stdout",
     "output_type": "stream",
     "text": [
      "first coefficient diff : 9.776613771489634e-05 second coefficient diff : 0.05576191806536232\n",
      "fit pos : 308.44 px 1058.88 px\n",
      "fit distance : 750.43 px 3.97 m\n",
      "All good for frame : 1236\n"
     ]
    },
    {
     "name": "stderr",
     "output_type": "stream",
     "text": [
      "\r",
      " 98%|█████████▊| 1236/1261 [59:54<01:11,  2.88s/it]"
     ]
    },
    {
     "name": "stdout",
     "output_type": "stream",
     "text": [
      "first coefficient diff : 6.838434120145072e-05 second coefficient diff : 0.008654127214365981\n",
      "fit pos : 308.55 px 1065.78 px\n",
      "fit distance : 757.22 px 4.00 m\n",
      "All good for frame : 1237\n"
     ]
    },
    {
     "name": "stderr",
     "output_type": "stream",
     "text": [
      "\r",
      " 98%|█████████▊| 1237/1261 [59:57<01:09,  2.88s/it]"
     ]
    },
    {
     "name": "stdout",
     "output_type": "stream",
     "text": [
      "first coefficient diff : 7.447569176258064e-06 second coefficient diff : 0.049200822754816464\n",
      "fit pos : 309.10 px 1074.06 px\n",
      "fit distance : 764.96 px 4.04 m\n",
      "All good for frame : 1238\n"
     ]
    },
    {
     "name": "stderr",
     "output_type": "stream",
     "text": [
      "\r",
      " 98%|█████████▊| 1238/1261 [1:00:00<01:06,  2.88s/it]"
     ]
    },
    {
     "name": "stdout",
     "output_type": "stream",
     "text": [
      "first coefficient diff : 7.797106237506361e-05 second coefficient diff : 0.07883098003000089\n",
      "fit pos : 310.49 px 1078.07 px\n",
      "fit distance : 767.58 px 4.06 m\n",
      "All good for frame : 1239\n"
     ]
    },
    {
     "name": "stderr",
     "output_type": "stream",
     "text": [
      "\r",
      " 98%|█████████▊| 1239/1261 [1:00:03<01:03,  2.88s/it]"
     ]
    },
    {
     "name": "stdout",
     "output_type": "stream",
     "text": [
      "first coefficient diff : 0.00010474884657100127 second coefficient diff : 0.10373519840278472\n",
      "fit pos : 310.03 px 1083.15 px\n",
      "fit distance : 773.12 px 4.09 m\n",
      "All good for frame : 1240\n"
     ]
    },
    {
     "name": "stderr",
     "output_type": "stream",
     "text": [
      "\r",
      " 98%|█████████▊| 1240/1261 [1:00:06<01:00,  2.89s/it]"
     ]
    },
    {
     "name": "stdout",
     "output_type": "stream",
     "text": [
      "first coefficient diff : 0.00010086413441573953 second coefficient diff : 0.07241078757226091\n",
      "fit pos : 313.13 px 1088.46 px\n",
      "fit distance : 775.32 px 4.10 m\n",
      "All good for frame : 1241\n"
     ]
    },
    {
     "name": "stderr",
     "output_type": "stream",
     "text": [
      "\r",
      " 98%|█████████▊| 1241/1261 [1:00:09<00:57,  2.89s/it]"
     ]
    },
    {
     "name": "stdout",
     "output_type": "stream",
     "text": [
      "first coefficient diff : 0.00024001441574380736 second coefficient diff : 0.1453568222537146\n",
      "fit pos : 313.37 px 1111.26 px\n",
      "fit distance : 797.89 px 4.22 m\n",
      "All good for frame : 1242\n"
     ]
    },
    {
     "name": "stderr",
     "output_type": "stream",
     "text": [
      "\r",
      " 98%|█████████▊| 1242/1261 [1:00:12<00:55,  2.90s/it]"
     ]
    },
    {
     "name": "stdout",
     "output_type": "stream",
     "text": [
      "first coefficient diff : 0.0002997905498374954 second coefficient diff : 0.21856309053131193\n",
      "fit pos : 311.11 px 1115.93 px\n",
      "fit distance : 804.82 px 4.25 m\n",
      "All good for frame : 1243\n"
     ]
    },
    {
     "name": "stderr",
     "output_type": "stream",
     "text": [
      "\r",
      " 99%|█████████▊| 1243/1261 [1:00:15<00:52,  2.91s/it]"
     ]
    },
    {
     "name": "stdout",
     "output_type": "stream",
     "text": [
      "first coefficient diff : 0.00016941283795297347 second coefficient diff : 0.11054815406722714\n",
      "fit pos : 314.59 px 1098.86 px\n",
      "fit distance : 784.27 px 4.15 m\n",
      "All good for frame : 1244\n"
     ]
    },
    {
     "name": "stderr",
     "output_type": "stream",
     "text": [
      "\r",
      " 99%|█████████▊| 1244/1261 [1:00:18<00:49,  2.91s/it]"
     ]
    },
    {
     "name": "stdout",
     "output_type": "stream",
     "text": [
      "first coefficient diff : 0.0001882360807247003 second coefficient diff : 0.1513667380872698\n",
      "fit pos : 313.52 px 1066.34 px\n",
      "fit distance : 752.81 px 3.98 m\n",
      "All good for frame : 1245\n"
     ]
    },
    {
     "name": "stderr",
     "output_type": "stream",
     "text": [
      "\r",
      " 99%|█████████▊| 1245/1261 [1:00:21<00:46,  2.91s/it]"
     ]
    },
    {
     "name": "stdout",
     "output_type": "stream",
     "text": [
      "first coefficient diff : 0.00014504172877134833 second coefficient diff : 0.1243068090632081\n",
      "fit pos : 313.46 px 1073.69 px\n",
      "fit distance : 760.23 px 4.02 m\n",
      "All good for frame : 1246\n"
     ]
    },
    {
     "name": "stderr",
     "output_type": "stream",
     "text": [
      "\r",
      " 99%|█████████▉| 1246/1261 [1:00:23<00:43,  2.92s/it]"
     ]
    },
    {
     "name": "stdout",
     "output_type": "stream",
     "text": [
      "first coefficient diff : 8.785847062977027e-05 second coefficient diff : 0.11428468505258033\n",
      "fit pos : 318.26 px 1073.20 px\n",
      "fit distance : 754.95 px 3.99 m\n",
      "All good for frame : 1247\n"
     ]
    },
    {
     "name": "stderr",
     "output_type": "stream",
     "text": [
      "\r",
      " 99%|█████████▉| 1247/1261 [1:00:26<00:40,  2.92s/it]"
     ]
    },
    {
     "name": "stdout",
     "output_type": "stream",
     "text": [
      "first coefficient diff : 8.848108204361945e-05 second coefficient diff : 0.10366669272770139\n",
      "fit pos : 316.21 px 1076.42 px\n",
      "fit distance : 760.21 px 4.02 m\n",
      "All good for frame : 1248\n"
     ]
    },
    {
     "name": "stderr",
     "output_type": "stream",
     "text": [
      "\r",
      " 99%|█████████▉| 1248/1261 [1:00:29<00:38,  2.93s/it]"
     ]
    },
    {
     "name": "stdout",
     "output_type": "stream",
     "text": [
      "first coefficient diff : 3.7521517809875e-05 second coefficient diff : 0.0815187122326948\n",
      "fit pos : 317.12 px 1081.83 px\n",
      "fit distance : 764.72 px 4.04 m\n",
      "All good for frame : 1249\n"
     ]
    },
    {
     "name": "stderr",
     "output_type": "stream",
     "text": [
      "\r",
      " 99%|█████████▉| 1249/1261 [1:00:32<00:35,  2.92s/it]"
     ]
    },
    {
     "name": "stdout",
     "output_type": "stream",
     "text": [
      "first coefficient diff : 1.879173971891817e-05 second coefficient diff : 0.08314146510949352\n",
      "fit pos : 316.12 px 1080.32 px\n",
      "fit distance : 764.20 px 4.04 m\n",
      "All good for frame : 1250\n"
     ]
    },
    {
     "name": "stderr",
     "output_type": "stream",
     "text": [
      "\r",
      " 99%|█████████▉| 1250/1261 [1:00:35<00:32,  2.92s/it]"
     ]
    },
    {
     "name": "stdout",
     "output_type": "stream",
     "text": [
      "first coefficient diff : 1.1894586935138585e-05 second coefficient diff : 0.036061771628442825\n",
      "fit pos : 310.21 px 1084.37 px\n",
      "fit distance : 774.16 px 4.09 m\n",
      "All good for frame : 1251\n"
     ]
    },
    {
     "name": "stderr",
     "output_type": "stream",
     "text": [
      "\r",
      " 99%|█████████▉| 1251/1261 [1:00:38<00:29,  2.91s/it]"
     ]
    },
    {
     "name": "stdout",
     "output_type": "stream",
     "text": [
      "first coefficient diff : 4.3041480590799805e-05 second coefficient diff : 0.01585666388737871\n",
      "fit pos : 308.61 px 1086.70 px\n",
      "fit distance : 778.09 px 4.11 m\n",
      "All good for frame : 1252\n"
     ]
    },
    {
     "name": "stderr",
     "output_type": "stream",
     "text": [
      "\r",
      " 99%|█████████▉| 1252/1261 [1:00:41<00:26,  2.90s/it]"
     ]
    },
    {
     "name": "stdout",
     "output_type": "stream",
     "text": [
      "first coefficient diff : 5.709793416869628e-05 second coefficient diff : 0.009669710462067358\n",
      "fit pos : 306.02 px 1085.41 px\n",
      "fit distance : 779.39 px 4.12 m\n",
      "All good for frame : 1253\n"
     ]
    },
    {
     "name": "stderr",
     "output_type": "stream",
     "text": [
      "\r",
      " 99%|█████████▉| 1253/1261 [1:00:44<00:23,  2.90s/it]"
     ]
    },
    {
     "name": "stdout",
     "output_type": "stream",
     "text": [
      "first coefficient diff : 0.0001234918214237664 second coefficient diff : 0.048143154395017304\n",
      "fit pos : 301.73 px 1093.45 px\n",
      "fit distance : 791.73 px 4.18 m\n",
      "All good for frame : 1254\n"
     ]
    },
    {
     "name": "stderr",
     "output_type": "stream",
     "text": [
      "\r",
      " 99%|█████████▉| 1254/1261 [1:00:47<00:20,  2.90s/it]"
     ]
    },
    {
     "name": "stdout",
     "output_type": "stream",
     "text": [
      "first coefficient diff : 0.00013197321130417933 second coefficient diff : 0.03628905077443855\n",
      "fit pos : 301.55 px 1090.05 px\n",
      "fit distance : 788.51 px 4.17 m\n",
      "All good for frame : 1255\n"
     ]
    },
    {
     "name": "stderr",
     "output_type": "stream",
     "text": [
      "\r",
      "100%|█████████▉| 1255/1261 [1:00:50<00:17,  2.90s/it]"
     ]
    },
    {
     "name": "stdout",
     "output_type": "stream",
     "text": [
      "first coefficient diff : 9.346595753528179e-05 second coefficient diff : 0.011983453378819696\n",
      "fit pos : 300.25 px 1086.02 px\n",
      "fit distance : 785.77 px 4.15 m\n",
      "All good for frame : 1256\n"
     ]
    },
    {
     "name": "stderr",
     "output_type": "stream",
     "text": [
      "\r",
      "100%|█████████▉| 1256/1261 [1:00:53<00:14,  2.90s/it]"
     ]
    },
    {
     "name": "stdout",
     "output_type": "stream",
     "text": [
      "first coefficient diff : 8.215855866222871e-05 second coefficient diff : 0.007030983839000097\n",
      "fit pos : 298.82 px 1084.39 px\n",
      "fit distance : 785.57 px 4.15 m\n",
      "All good for frame : 1257\n"
     ]
    },
    {
     "name": "stderr",
     "output_type": "stream",
     "text": [
      "\r",
      "100%|█████████▉| 1257/1261 [1:00:55<00:11,  2.90s/it]"
     ]
    },
    {
     "name": "stdout",
     "output_type": "stream",
     "text": [
      "first coefficient diff : 9.692900784702386e-05 second coefficient diff : 0.005783216828594754\n",
      "fit pos : 298.94 px 1078.75 px\n",
      "fit distance : 779.82 px 4.12 m\n",
      "All good for frame : 1258\n"
     ]
    },
    {
     "name": "stderr",
     "output_type": "stream",
     "text": [
      "\r",
      "100%|█████████▉| 1258/1261 [1:00:58<00:08,  2.91s/it]"
     ]
    },
    {
     "name": "stdout",
     "output_type": "stream",
     "text": [
      "first coefficient diff : 7.198278731241018e-05 second coefficient diff : 0.009083021794198915\n",
      "fit pos : 296.66 px 1080.68 px\n",
      "fit distance : 784.03 px 4.14 m\n",
      "All good for frame : 1259\n"
     ]
    },
    {
     "name": "stderr",
     "output_type": "stream",
     "text": [
      "\r",
      "100%|█████████▉| 1259/1261 [1:01:01<00:05,  2.92s/it]"
     ]
    },
    {
     "name": "stdout",
     "output_type": "stream",
     "text": [
      "first coefficient diff : 7.615826749681041e-05 second coefficient diff : 0.0006497553208691762\n",
      "fit pos : 294.81 px 1079.07 px\n",
      "fit distance : 784.26 px 4.15 m\n",
      "All good for frame : 1260\n"
     ]
    },
    {
     "name": "stderr",
     "output_type": "stream",
     "text": [
      "100%|█████████▉| 1260/1261 [1:01:04<00:02,  2.95s/it]\n"
     ]
    },
    {
     "name": "stdout",
     "output_type": "stream",
     "text": [
      "[MoviePy] Done.\n",
      "[MoviePy] >>>> Video ready: ./output/project_video_out.mp4 \n",
      "\n",
      "Number of frames using sliding windows : 14, from existing lane info : 1247\n",
      "Done.\n"
     ]
    },
    {
     "data": {
      "text/plain": [
       "'\\n# create an instance per video\\nadvanced_lane_line_2 = AdvancedLaneLine(session=\"session2\", debug=True)\\ninput_video = VideoFileClip(\"./challenge_video_out.mp4\")\\noutclip = input_video.fl_image(advanced_lane_line_2.image_pipeline)\\noutclip.write_videofile(\"./output/challenge_video.mp4\", audio=False)\\n\\n# challenge video #1\\n# advanced_lane_line_3 = AdvancedLaneLine(session=\"session3\", debug=False)\\n# challenge video #2\\n'"
      ]
     },
     "execution_count": 1,
     "metadata": {},
     "output_type": "execute_result"
    }
   ],
   "source": [
    "import os\n",
    "import cv2\n",
    "import glob\n",
    "import numpy as np\n",
    "import glob\n",
    "import matplotlib.image as mpimg\n",
    "from moviepy.editor import VideoFileClip\n",
    "import matplotlib.pyplot as plt\n",
    "\n",
    "# calibrate camera\n",
    "def calibrate_camera(calibration_files=\"./camera_cal/calibration*.jpg\"):\n",
    "    nx = 9 #enter the number of inside corners in x\n",
    "    ny = 6 #enter the number of inside corners in y\n",
    "\n",
    "    objpoints = [] #3D object points\n",
    "    imgpoints = [] #2D image points\n",
    "\n",
    "    # prepare object points\n",
    "    objp = np.zeros((nx * ny, 3), np.float32)\n",
    "    objp[:,:2] = np.mgrid[0:nx, 0:ny].T.reshape(-1, 2)\n",
    "\n",
    "    images = glob.glob(calibration_files)\n",
    "\n",
    "    for idx, fname in enumerate(images):\n",
    "        # read image, BGR format in cv2\n",
    "        img = cv2.imread(fname)  \n",
    "        # Convert to grayscale\n",
    "        gray = cv2.cvtColor(img, cv2.COLOR_BGR2GRAY)\n",
    "        # Find the chessboard corners\n",
    "        ret, corners = cv2.findChessboardCorners(gray, (nx, ny), None)\n",
    "\n",
    "        # If found, add to the list of imgpoints and objpoints\n",
    "        if ret == True:\n",
    "            objpoints.append(objp)\n",
    "            imgpoints.append(corners)\n",
    "\n",
    "    return cv2.calibrateCamera(objpoints, imgpoints, gray.shape[::-1], None, None)\n",
    "\n",
    "# undistort image\n",
    "def undistort_image(img, mtx, dist):\n",
    "    return cv2.undistort(img, mtx, dist, None, mtx)\n",
    "\n",
    "# get the color mask\n",
    "def color_mask(img, low, high):\n",
    "    return cv2.inRange(img, low, high)\n",
    "\n",
    "def yellow_lines(img):\n",
    "    image = np.copy(img)\n",
    "    hsv = cv2.cvtColor(image, cv2.COLOR_RGB2HSV)\n",
    "    yellow_hsv_low  = np.array([ 10,  70,  100])\n",
    "    yellow_hsv_high = np.array([ 35, 255, 255])\n",
    "    mask = color_mask(hsv, yellow_hsv_low, yellow_hsv_high)\n",
    "    result = cv2.bitwise_and(image, image, mask= mask)\n",
    "    return result, mask\n",
    "\n",
    "def white_lines(img):\n",
    "    image = np.copy(img)\n",
    "    hsv = cv2.cvtColor(image, cv2.COLOR_RGB2HSV)\n",
    "    white_hsv_low  = np.array([ 0,   0,   180])\n",
    "    white_hsv_high = np.array([ 180,  25, 255])\n",
    "    mask = color_mask(hsv, white_hsv_low, white_hsv_high)\n",
    "    result = cv2.bitwise_and(image, image, mask= mask)\n",
    "    return result, mask\n",
    "\n",
    "def apply_filter(img):\n",
    "    gray = cv2.cvtColor(img, cv2.COLOR_RGB2GRAY)\n",
    "    out = cv2.GaussianBlur(gray,(5,5),0)\n",
    "    return out\n",
    "\n",
    "def abs_sobel_thresh(gray, orient='x', sobel_kernel=3, thresh=(0, 255)):\n",
    "    if orient == 'x':\n",
    "        abs_sobel = np.absolute(cv2.Sobel(gray, cv2.CV_64F, 1, 0, ksize=sobel_kernel))\n",
    "    \n",
    "    if orient == 'y':\n",
    "        abs_sobel = np.absolute(cv2.Sobel(gray, cv2.CV_64F, 0, 1, ksize=sobel_kernel))\n",
    "        \n",
    "    scaled_sobel = np.uint8(255*abs_sobel/np.max(abs_sobel))\n",
    "    binary_output = np.zeros_like(scaled_sobel)\n",
    "    binary_output[(scaled_sobel >= thresh[0]) & (scaled_sobel <= thresh[1])] = 1\n",
    "    return binary_output\n",
    "\n",
    "# color gradient threshold\n",
    "def color_gradient_threshold(image):\n",
    "    # Choose a Sobel kernel size\n",
    "    ksize = 31 # Choose a larger odd number to smooth gradient measurements\n",
    "    \n",
    "    # Apply each of the thresholding functions\n",
    "    gradx = abs_sobel_thresh(apply_filter(image), orient='x', sobel_kernel=ksize, thresh=(50, 150))\n",
    "    yellow_lines_binary, yellow_mask = yellow_lines(image)\n",
    "    white_lines_binary, white_mask = white_lines(image)\n",
    "    lane_mask = cv2.bitwise_or(yellow_mask, white_mask)\n",
    "    lane_mask = lane_mask/255.0\n",
    "    \n",
    "    combined = np.zeros_like(gradx)\n",
    "    combined[((gradx == 1) | (lane_mask == 1))] = 1\n",
    "    \n",
    "    return combined\n",
    "\n",
    "# unwarp image\n",
    "def unwarp_image(img, src, dst):\n",
    "    img_height, img_width = img.shape[:2]\n",
    "    M = cv2.getPerspectiveTransform(src, dst)\n",
    "    Minv = cv2.getPerspectiveTransform(dst, src)\n",
    "    warped = cv2.warpPerspective(img, M, (img_width, img_height), flags=cv2.INTER_LINEAR)\n",
    "    return warped, M, Minv\n",
    "\n",
    "# check if the left/right fits are parallel within a given threshold\n",
    "def is_parallel(left_fit, right_fit, threshold = (0.01, 0.5)):\n",
    "    first_coefficient_diff = np.abs(left_fit[0] - right_fit[0])\n",
    "    second_coefficient_diff = np.abs(left_fit[1] - right_fit[1])\n",
    "    print(\"first coefficient diff : {} second coefficient diff : {}\".format(first_coefficient_diff, second_coefficient_diff))\n",
    "    return first_coefficient_diff < threshold[0] and second_coefficient_diff < threshold[1]\n",
    "\n",
    "# get distance between fits\n",
    "def is_distance_in_range(first_fitx, second_fitx, threshold = (600,900)):\n",
    "    dist = np.abs(first_fitx[-1] - second_fitx[-1])\n",
    "    xm_per_pix = 3.7/700 # To be cleaned up\n",
    "    print(\"fit pos : {:.2f} px {:.2f} px\".format(first_fitx[-1], second_fitx[-1]))\n",
    "    print(\"fit distance : {:.2f} px {:.2f} m\".format(dist, dist * xm_per_pix))\n",
    "    return dist > threshold[0] and dist < threshold[1]\n",
    "\n",
    "# removal of outlier samples\n",
    "def outlier_removal(x, y, q=5):\n",
    "    x = np.array(x)\n",
    "    y = np.array(y)\n",
    "\n",
    "    lower_bound = np.percentile(x, q)\n",
    "    upper_bound = np.percentile(x, 100 - q)\n",
    "    selection = (x >= lower_bound) & (x <= upper_bound)\n",
    "    return x[selection], y[selection]\n",
    "\n",
    "# sliding window implementation\n",
    "# for a given image, returns a list of points on the left/right lines\n",
    "def sliding_windows(binary_warped):\n",
    "    # Take a histogram of the bottom half of the image\n",
    "    histogram = np.sum(binary_warped[int(binary_warped.shape[0]/2):,:], axis=0)\n",
    "    # Find the peak of the left and right halves of the histogram\n",
    "    # These will be the starting point for the left and right lines\n",
    "    midpoint = np.int(histogram.shape[0]/2)\n",
    "    leftx_base = np.argmax(histogram[:midpoint])\n",
    "    rightx_base = np.argmax(histogram[midpoint:]) + midpoint\n",
    "    # Choose the number of sliding windows\n",
    "    nwindows = 9\n",
    "    # Set height of windows\n",
    "    window_height = np.int(binary_warped.shape[0]/nwindows)\n",
    "    # Identify the x and y positions of all nonzero pixels in the image\n",
    "    nonzero = binary_warped.nonzero()\n",
    "    nonzeroy = np.array(nonzero[0])\n",
    "    nonzerox = np.array(nonzero[1])\n",
    "    # Current positions to be updated for each window\n",
    "    leftx_current = leftx_base\n",
    "    rightx_current = rightx_base\n",
    "    # Set the width of the windows +/- margin\n",
    "    margin = 100\n",
    "    # Set minimum number of pixels found to recenter window\n",
    "    minpix = 50\n",
    "    # Create empty lists to receive left and right lane pixel indices\n",
    "    left_lane_inds = []\n",
    "    right_lane_inds = []\n",
    "    # initialize sliding windows\n",
    "    sliding_windows_list = []\n",
    "    # Step through the windows one by one\n",
    "    for window in range(nwindows):\n",
    "        # Identify window boundaries in x and y (and right and left)\n",
    "        win_y_low = binary_warped.shape[0] - (window+1)*window_height\n",
    "        win_y_high = binary_warped.shape[0] - window*window_height\n",
    "        win_xleft_low = leftx_current - margin\n",
    "        win_xleft_high = leftx_current + margin\n",
    "        win_xright_low = rightx_current - margin\n",
    "        win_xright_high = rightx_current + margin\n",
    "        # save the sliding window\n",
    "        left_window = [(win_xleft_low, win_y_low), (win_xleft_high, win_y_high)]\n",
    "        right_window = [(win_xright_low, win_y_low), (win_xright_high, win_y_high)]\n",
    "        sliding_windows_list.append((left_window, right_window))\n",
    "        # Identify the nonzero pixels in x and y within the window\n",
    "        good_left_inds = ((nonzeroy >= win_y_low) & (nonzeroy < win_y_high) & (nonzerox >= win_xleft_low) & (nonzerox < win_xleft_high)).nonzero()[0]\n",
    "        good_right_inds = ((nonzeroy >= win_y_low) & (nonzeroy < win_y_high) & (nonzerox >= win_xright_low) & (nonzerox < win_xright_high)).nonzero()[0]\n",
    "        # Append these indices to the lists\n",
    "        left_lane_inds.append(good_left_inds)\n",
    "        right_lane_inds.append(good_right_inds)\n",
    "        # If you found > minpix pixels, recenter next window on their mean position\n",
    "        if len(good_left_inds) > minpix:\n",
    "            leftx_current = np.int(np.mean(nonzerox[good_left_inds]))\n",
    "        if len(good_right_inds) > minpix:        \n",
    "            rightx_current = np.int(np.mean(nonzerox[good_right_inds]))\n",
    "    # Concatenate the arrays of indices\n",
    "    left_lane_inds = np.concatenate(left_lane_inds)\n",
    "    right_lane_inds = np.concatenate(right_lane_inds)\n",
    "    # Extract left and right line pixel positions\n",
    "    leftx = nonzerox[left_lane_inds]\n",
    "    lefty = nonzeroy[left_lane_inds] \n",
    "    rightx = nonzerox[right_lane_inds]\n",
    "    righty = nonzeroy[right_lane_inds] \n",
    "    # Return\n",
    "    return sliding_windows_list, leftx, lefty, rightx, righty\n",
    "\n",
    "# from existing polyfit\n",
    "def find_lane_lines_from_existing(binary_warped, left_fit, right_fit):\n",
    "    nonzero = binary_warped.nonzero()\n",
    "    nonzeroy = np.array(nonzero[0])\n",
    "    nonzerox = np.array(nonzero[1])\n",
    "    margin = 100\n",
    "    left_lane_inds = ((nonzerox > (left_fit[0]*(nonzeroy**2) + left_fit[1]*nonzeroy + left_fit[2] - margin)) & (nonzerox < (left_fit[0]*(nonzeroy**2) + left_fit[1]*nonzeroy + left_fit[2] + margin))) \n",
    "    right_lane_inds = ((nonzerox > (right_fit[0]*(nonzeroy**2) + right_fit[1]*nonzeroy + right_fit[2] - margin)) & (nonzerox < (right_fit[0]*(nonzeroy**2) + right_fit[1]*nonzeroy + right_fit[2] + margin)))  \n",
    "\n",
    "    # Again, extract left and right line pixel positions\n",
    "    leftx = nonzerox[left_lane_inds]\n",
    "    lefty = nonzeroy[left_lane_inds] \n",
    "    rightx = nonzerox[right_lane_inds]\n",
    "    righty = nonzeroy[right_lane_inds]\n",
    "\n",
    "    return leftx, lefty, rightx, righty\n",
    "\n",
    "def sliding_windows_image(binary_warped, sliding_windows_list, color=(0,255,0), border_thickness=3):\n",
    "    # Create an output image to draw on and  visualize the result\n",
    "    out_img = np.dstack((binary_warped, binary_warped, binary_warped))*255\n",
    "    for window in sliding_windows_list:\n",
    "        win_left = window[0]\n",
    "        win_right = window[1]\n",
    "        # Draw the windows on the visualization image\n",
    "        cv2.rectangle(out_img, win_left[0], win_left[1], color, border_thickness)\n",
    "        cv2.rectangle(out_img, win_right[0], win_right[1], color, border_thickness)\n",
    "    return out_img\n",
    "\n",
    "def overlay_image(undist, binary_warped, Minv, left_fit, right_fit):\n",
    "\n",
    "    # Generate x and y values for plotting\n",
    "    ploty = np.linspace(0, binary_warped.shape[0]-1, binary_warped.shape[0])\n",
    "    left_fitx = left_fit[0]*ploty**2 + left_fit[1]*ploty + left_fit[2]\n",
    "    right_fitx = right_fit[0]*ploty**2 + right_fit[1]*ploty + right_fit[2]\n",
    "\n",
    "    # Create an image to draw the lines on\n",
    "    warp_zero = np.zeros_like(binary_warped).astype(np.uint8)\n",
    "    color_warp = np.dstack((warp_zero, warp_zero, warp_zero))\n",
    "\n",
    "    # Recast the x and y points into usable format for cv2.fillPoly()\n",
    "    pts_left = np.array([np.transpose(np.vstack([left_fitx, ploty]))])\n",
    "    pts_right = np.array([np.flipud(np.transpose(np.vstack([right_fitx, ploty])))])\n",
    "    pts = np.hstack((pts_left, pts_right))\n",
    "\n",
    "    # Draw the lane onto the warped blank image\n",
    "    cv2.fillPoly(color_warp, np.int_([pts]), (0,255, 0))\n",
    "\n",
    "    # Warp the blank back to original image space using inverse perspective matrix (Minv)\n",
    "    newwarp = cv2.warpPerspective(color_warp, Minv, (undist.shape[1], undist.shape[0])) \n",
    "    # Combine the result with the original image\n",
    "    result = cv2.addWeighted(undist, 1, newwarp, 0.3, 0)\n",
    "\n",
    "    # Define conversions in x and y from pixels space to meters\n",
    "    ym_per_pix = 30/720 # meters per pixel in y dimension\n",
    "    xm_per_pix = 3.7/700 # meters per pixel in x dimension\n",
    "    y_eval = np.max(ploty)\n",
    "    \n",
    "    img_center = binary_warped.shape[1] / 2\n",
    "    lane_center = (left_fit[-1] + right_fit[-1]) / 2\n",
    "    diff = (lane_center - img_center) * xm_per_pix\n",
    "    left_or_right = 'left' if diff < 0 else 'right'\n",
    "\n",
    "    center_fit = (left_fit + right_fit) / 2\n",
    "    center_curverad = ((1 + (2 * center_fit[0] * y_eval * ym_per_pix + center_fit[1])**2)**1.5) / np.absolute(2 * center_fit[0])\n",
    "\n",
    "    # Adding Curvature and Distance information\n",
    "    result = cv2.putText(\n",
    "        result,\n",
    "        'Curvature : {:.2f} m'.format(center_curverad),(50,50), \n",
    "        cv2.FONT_HERSHEY_SIMPLEX, \n",
    "        1,\n",
    "        (255,255,255),\n",
    "        2,\n",
    "        cv2.LINE_AA)\n",
    "    result = cv2.putText(\n",
    "        result,\n",
    "        'Distance : {:.2f} m {} of the center'.format(abs(diff), left_or_right),\n",
    "        (50,100), \n",
    "        cv2.FONT_HERSHEY_SIMPLEX, \n",
    "        1,\n",
    "        (255,255,255),\n",
    "        2,\n",
    "        cv2.LINE_AA)\n",
    "    return result\n",
    "\n",
    "# Define a class to receive the characteristics of each line detection\n",
    "class Line():\n",
    "    def __init__(self, moving_average=4):\n",
    "        # was the line detected in the last iteration?\n",
    "        self.detected = False  \n",
    "        # x values of the last n fits of the line\n",
    "        self.recent_xfitted = [] \n",
    "        #average x values of the fitted line over the last n iterations\n",
    "        self.bestx = None     \n",
    "        #polynomial coefficients averaged over the last n iterations\n",
    "        self.best_fit = None\n",
    "        #polynomial coefficients for the most recent fit\n",
    "        self.current_fit = []\n",
    "        #radius of curvature of the line in some units\n",
    "        self.radius_of_curvature = None \n",
    "        #distance in meters of vehicle center from the line\n",
    "        self.line_base_pos = None \n",
    "        #difference in fit coefficients between last and new fits\n",
    "        self.diffs = np.array([0,0,0], dtype='float') \n",
    "        #x values for detected line pixels\n",
    "        self.allx = None  \n",
    "        #y values for detected line pixels\n",
    "        self.ally = None\n",
    "        #moving average, number of samples to keep\n",
    "        self.moving_average = moving_average\n",
    "        \n",
    "    def add(self, fit):\n",
    "        if fit is not None:\n",
    "            # reset average, for every new sliding window\n",
    "            if self.detected == False:\n",
    "                self.detected = True\n",
    "                self.current_fit = []\n",
    "            self.current_fit.append(fit)\n",
    "            # keep the recent\n",
    "            if len(self.current_fit) > self.moving_average:\n",
    "                self.current_fit = self.current_fit[len(self.current_fit) - self.moving_average:]\n",
    "            self.best_fit = np.average(self.current_fit, axis=0)\n",
    "        else:\n",
    "            self.detected = False\n",
    "\n",
    "# return a random prefix with numbers and alphabets of N length, used as a session id for output files\n",
    "def random_prefix(N=5):\n",
    "    import random, string\n",
    "    return ''.join(random.SystemRandom().choice(string.ascii_uppercase + string.digits) for _ in range(N))\n",
    "\n",
    "# project class\n",
    "class AdvancedLaneLine:\n",
    "    def __init__(self, session=random_prefix(), debug=False):\n",
    "        # calibrate camera\n",
    "        self.ret, self.mtx, self.dist, self.rvecs, self.tvecs = calibrate_camera()\n",
    "\n",
    "        # previous lines\n",
    "        self.left_line = Line()\n",
    "        self.right_line = Line()\n",
    "        \n",
    "        # perspective transform coordinates\n",
    "        bottom_left = (190, 720)\n",
    "        bottom_right = (1130, 720)\n",
    "        top_left = (585, 455)\n",
    "        top_right = (705, 455)\n",
    "\n",
    "        # source points\n",
    "        self.src = np.float32([top_right,\n",
    "                  bottom_right, \n",
    "                  bottom_left, \n",
    "                  top_left])\n",
    "\n",
    "        # desired destination\n",
    "        dst_top_left = (200, 50)\n",
    "        dst_top_right = (1000, 50)\n",
    "        dst_bottom_right = (1000, 720)\n",
    "        dst_bottom_left = (200, 720)\n",
    "\n",
    "        self.dst = np.float32([dst_top_right,\n",
    "                  dst_bottom_right, \n",
    "                  dst_bottom_left, \n",
    "                  dst_top_left])\n",
    "        \n",
    "        self.frame_number = 0\n",
    "        self.session = session\n",
    "        self.debug = debug\n",
    "        \n",
    "        # counters\n",
    "        self.sliding_window_count = 0\n",
    "        self.from_existing_count = 0\n",
    "        return\n",
    "\n",
    "    # get the session/frame/file name for the given file name suffix\n",
    "    def get_session_frame_file_name(self, file_suffix):\n",
    "        return \"{}_{}_{}\".format(self.session, self.frame_number, file_suffix)\n",
    "\n",
    "    # save intermediate images, debug purposes \n",
    "    def save_image(self, img, suffix=\"out\", out_folder=\"output\"):\n",
    "        if self.debug == True:\n",
    "            outfile = \"./{}/{}.jpg\".format(out_folder, self.get_session_frame_file_name(suffix))\n",
    "            mpimg.imsave(outfile, img)\n",
    "        return\n",
    "\n",
    "    def find_lane_lines(self, unwarp):\n",
    "        if self.left_line.detected == False or self.right_line.detected == False:\n",
    "            #print(\"Sliding windows ...\")\n",
    "            sliding_windows_list, leftx, lefty, rightx, righty = sliding_windows(unwarp)\n",
    "            slide_win_img = sliding_windows_image(unwarp, sliding_windows_list)\n",
    "            self.save_image(slide_win_img, \"slide\")\n",
    "            self.sliding_window_count += 1\n",
    "        else:\n",
    "            #print(\"From existing ...\")\n",
    "            leftx, lefty, rightx, righty = find_lane_lines_from_existing(unwarp, self.left_line.best_fit, self.right_line.best_fit)\n",
    "            self.from_existing_count += 1\n",
    "\n",
    "\n",
    "        left_fit, right_fit = (None, None)\n",
    "        # remove outliers\n",
    "        if len(leftx) > 0:\n",
    "            leftx, lefty = outlier_removal(leftx, lefty)\n",
    "            if len(leftx) > 2:\n",
    "                left_fit = np.polyfit(lefty, leftx, 2)\n",
    "        if len(rightx) > 0:\n",
    "            rightx, righty = outlier_removal(rightx, righty)\n",
    "            if len(rightx) > 2:\n",
    "                right_fit = np.polyfit(righty, rightx, 2)\n",
    "        if left_fit is not None or right_fit is not None:\n",
    "            ploty = np.linspace(0, unwarp.shape[0]-1, unwarp.shape[0])\n",
    "            left_fitx, right_fitx = (None, None)\n",
    "            if left_fit is not None:\n",
    "                left_fitx = left_fit[0]*ploty**2 + left_fit[1]*ploty + left_fit[2]\n",
    "            if right_fit is not None:\n",
    "                right_fitx = right_fit[0]*ploty**2 + right_fit[1]*ploty + right_fit[2]\n",
    "\n",
    "        if left_fitx is not None and right_fitx is not None:\n",
    "            # Create an output image to draw on and  visualize the result\n",
    "            lines_out = np.dstack((unwarp, unwarp, unwarp))*255\n",
    "            ploty = np.linspace(0, unwarp.shape[0]-1, unwarp.shape[0])\n",
    "\n",
    "            # Recast the x and y points into usable format for cv2.fillPoly()\n",
    "            pts_left = np.array([np.transpose(np.vstack([left_fitx, ploty]))])\n",
    "            pts_right = np.array([np.flipud(np.transpose(np.vstack([right_fitx, ploty])))])\n",
    "            pts = np.hstack((pts_left, pts_right))\n",
    "            # Draw the lane onto the warped blank image\n",
    "            cv2.polylines(lines_out, np.int32([pts]), 1, (255,255,0))\n",
    "            self.save_image(lines_out, \"lines\")\n",
    "            \n",
    "        # both fits are not None\n",
    "        if left_fit is not None and right_fit is not None:\n",
    "            # check if the fits are looking valid, if not for the first frame\n",
    "            if self.left_line.best_fit is None or self.right_line.best_fit is None or (is_parallel(left_fit, right_fit) and is_distance_in_range(left_fitx, right_fitx)):\n",
    "                self.left_line.add(left_fit)\n",
    "                self.right_line.add(right_fit)\n",
    "                print(\"All good for frame : {}\".format(self.frame_number))\n",
    "                return\n",
    "            else:\n",
    "                print(\"Skipping for frame : {}\".format(self.frame_number))\n",
    "        else:\n",
    "            if left_fit is None:\n",
    "                print(\"left_fit is None for frame : {}\".format(self.frame_number))\n",
    "            if right_fit is None:\n",
    "                print(\"right_fit is None for frame : {}\".format(self.frame_number))\n",
    "        # reset the flags so that next time, it will do sliding windows\n",
    "        self.left_line.detected = False\n",
    "        self.right_line.detected = False\n",
    "        return\n",
    "    \n",
    "    def overlay_lane_lines(self, undist, unwarp, Minv):\n",
    "        out = overlay_image(undist, unwarp, Minv, self.left_line.best_fit, self.right_line.best_fit)\n",
    "        return out\n",
    "    \n",
    "    def image_pipeline(self, image):\n",
    "        self.save_image(image, \"org\")\n",
    "        # 1. undistort image\n",
    "        undist = undistort_image(image, self.mtx, self.dist)\n",
    "        self.save_image(undist, \"undist\")\n",
    "        # 2. color and gradient threshold\n",
    "        threshold = color_gradient_threshold(undist)\n",
    "        self.save_image(threshold,\"thres\")\n",
    "        # 3. perspective transform\n",
    "        unwarp, M, Minv = unwarp_image(threshold, self.src, self.dst)\n",
    "        self.save_image(unwarp, \"unwarp\")\n",
    "        # 4. find lane lines\n",
    "        self.find_lane_lines(unwarp)\n",
    "        # 5. overlay lane lines on image\n",
    "        out_img = self.overlay_lane_lines(undist, unwarp, Minv)\n",
    "        self.save_image(out_img, \"out\")\n",
    "        # increment the frame counter\n",
    "        self.frame_number += 1\n",
    "        return out_img\n",
    "\n",
    "# try against all test images\n",
    "images = glob.glob('./test_images/*.jpg')\n",
    "\n",
    "for idx, fname in enumerate(images):\n",
    "    print(\"processing image ({}) ...\".format(fname))\n",
    "    # instance of the project class\n",
    "    file_path_split = os.path.splitext(os.path.basename(fname))\n",
    "    file_name = file_path_split[-2]\n",
    "    advanced_lane_line = AdvancedLaneLine(session=file_name, debug=True)\n",
    "    img = mpimg.imread(fname)\n",
    "    out = advanced_lane_line.image_pipeline(img)\n",
    "\n",
    "# create an instance per video\n",
    "advanced_lane_line_1 = AdvancedLaneLine(session=\"session1\", debug=True)\n",
    "\n",
    "print(\"processing project video ...\")\n",
    "# project video\n",
    "input_video = VideoFileClip(\"./project_video.mp4\")\n",
    "outclip = input_video.fl_image(advanced_lane_line_1.image_pipeline)\n",
    "outclip.write_videofile(\"./output/project_video_out.mp4\", audio=False)\n",
    "print(\"Number of frames using sliding windows : {}, from existing lane info : {}\".format(advanced_lane_line_1.sliding_window_count, advanced_lane_line_1.from_existing_count))\n",
    "print(\"Done.\")\n",
    "\n",
    "'''\n",
    "# create an instance per video\n",
    "advanced_lane_line_2 = AdvancedLaneLine(session=\"session2\", debug=True)\n",
    "input_video = VideoFileClip(\"./challenge_video_out.mp4\")\n",
    "outclip = input_video.fl_image(advanced_lane_line_2.image_pipeline)\n",
    "outclip.write_videofile(\"./output/challenge_video.mp4\", audio=False)\n",
    "\n",
    "# challenge video #1\n",
    "# advanced_lane_line_3 = AdvancedLaneLine(session=\"session3\", debug=False)\n",
    "# challenge video #2\n",
    "'''"
   ]
  }
 ],
 "metadata": {
  "kernelspec": {
   "display_name": "Python 3",
   "language": "python",
   "name": "python3"
  },
  "language_info": {
   "codemirror_mode": {
    "name": "ipython",
    "version": 3
   },
   "file_extension": ".py",
   "mimetype": "text/x-python",
   "name": "python",
   "nbconvert_exporter": "python",
   "pygments_lexer": "ipython3",
   "version": "3.5.2"
  },
  "widgets": {
   "state": {},
   "version": "1.1.2"
  }
 },
 "nbformat": 4,
 "nbformat_minor": 2
}
