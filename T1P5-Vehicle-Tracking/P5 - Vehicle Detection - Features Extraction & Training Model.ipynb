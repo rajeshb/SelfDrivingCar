{
 "cells": [
  {
   "cell_type": "markdown",
   "metadata": {},
   "source": [
    "# Features Extraction and Training Model"
   ]
  },
  {
   "cell_type": "code",
   "execution_count": 1,
   "metadata": {
    "collapsed": false
   },
   "outputs": [],
   "source": [
    "import glob\n",
    "import numpy as np\n",
    "from lesson_functions import *\n",
    "from sklearn.model_selection import train_test_split\n",
    "from sklearn.svm import LinearSVC\n",
    "from sklearn.preprocessing import StandardScaler\n",
    "\n",
    "# set the seed\n",
    "np.random.seed(450)\n",
    "\n",
    "def load_data():\n",
    "    vehicle_images = glob.glob(\"./data/vehicles/**/*.png\")\n",
    "    non_vehicle_images = glob.glob(\"./data/non-vehicles/**/*.png\")\n",
    "    images = np.hstack((vehicle_images, non_vehicle_images))\n",
    "    labels = np.hstack((np.ones(len(vehicle_images)), np.zeros(len(non_vehicle_images))))\n",
    "    print(\"Number of vechile images : {}\".format(len(vehicle_images)))\n",
    "    print(\"Number of non-vechile images : {}\".format(len(non_vehicle_images)))\n",
    "    print(\"Total images : {}\".format(len(images)))\n",
    "    return images, labels\n",
    "\n",
    "def feature_extraction(imgs, file_type=\"png\", color_space='RGB', \n",
    "                       spatial_size=(32, 32), hist_bins=32, orient=9,\n",
    "                       pix_per_cell=8, cell_per_block=2, hog_channel=0,\n",
    "                       spatial_feat=True, hist_feat=True, hog_feat=True):\n",
    "\n",
    "    features = extract_features(imgs, file_type=file_type, color_space=color_space, \n",
    "                                spatial_size=spatial_size, hist_bins=hist_bins, orient=orient,\n",
    "                                pix_per_cell=pix_per_cell, cell_per_block=cell_per_block, \n",
    "                                hog_channel=hog_channel, spatial_feat=spatial_feat, \n",
    "                                hist_feat=hist_feat, hog_feat=hog_feat)\n",
    "    \n",
    "    print(\"Settings\")\n",
    "    print(\"=======================\")\n",
    "    print(\"File type : {}\".format(file_type))\n",
    "    print(\"Color space : {}\".format(color_space))\n",
    "    print(\"Spatial size : {}\".format(spatial_size))\n",
    "    print(\"Histogram bins : {}\".format(hist_bins))\n",
    "    print(\"Orientation : {}\".format(orient))\n",
    "    print(\"Pixel per cell : {}\".format(pix_per_cell))\n",
    "    print(\"Cell per block : {}\".format(cell_per_block))\n",
    "    print(\"HOG channel : {}\".format(hog_channel))\n",
    "    print(\"Spatial feature : {}\".format(spatial_feat))\n",
    "    print(\"Histogram feature : {}\".format(hist_feat))\n",
    "    print(\"HOG feature : {}\".format(hog_feat))\n",
    "    print(\"=======================\")\n",
    "    print(\"Total features: {}\".format(len(features)))\n",
    "    return features\n",
    "\n",
    "def scale_features(features):\n",
    "    features = np.array(features).astype(np.float64)\n",
    "    scaler = StandardScaler()\n",
    "    scaler.fit(features)\n",
    "    features = scaler.transform(features)\n",
    "    return features, scaler\n",
    "\n",
    "def test_features_performance(images, labels, color_space='RGB', \n",
    "                              spatial_size=(32, 32), hist_bins=32, orient=9,\n",
    "                              pix_per_cell=8, cell_per_block=2, hog_channel=0,\n",
    "                              spatial_feat=True, hist_feat=True, hog_feat=True):    \n",
    "    features = feature_extraction(images, color_space=color_space,\n",
    "                                  spatial_size=spatial_size, hist_bins=hist_bins, orient=orient,\n",
    "                                  pix_per_cell=pix_per_cell, cell_per_block=cell_per_block, \n",
    "                                  hog_channel=hog_channel, spatial_feat=spatial_feat, \n",
    "                                  hist_feat=hist_feat, hog_feat=hog_feat)\n",
    "    features, scaler = scale_features(features)\n",
    "    X_train, X_test, y_train, y_test = train_test_split(\n",
    "        features,\n",
    "        labels,\n",
    "        test_size=0.2,\n",
    "        stratify = labels,\n",
    "        random_state=256)\n",
    "    clf = LinearSVC()\n",
    "    clf.fit(X_train, y_train)\n",
    "    score = clf.score(X_test, y_test)\n",
    "    print(\"Score: {0:.4f}\".format(score))"
   ]
  },
  {
   "cell_type": "markdown",
   "metadata": {},
   "source": [
    "### Load Data"
   ]
  },
  {
   "cell_type": "code",
   "execution_count": 2,
   "metadata": {
    "collapsed": false
   },
   "outputs": [
    {
     "name": "stdout",
     "output_type": "stream",
     "text": [
      "Number of vechile images : 8792\n",
      "Number of non-vechile images : 8968\n",
      "Total images : 17760\n"
     ]
    }
   ],
   "source": [
    "images, labels = load_data()"
   ]
  },
  {
   "cell_type": "markdown",
   "metadata": {},
   "source": [
    "### Test model performance with different feature extraction options"
   ]
  },
  {
   "cell_type": "code",
   "execution_count": 3,
   "metadata": {
    "collapsed": false
   },
   "outputs": [
    {
     "name": "stdout",
     "output_type": "stream",
     "text": [
      "Settings\n",
      "=======================\n",
      "File type : png\n",
      "Color space : RGB\n",
      "Spatial size : (32, 32)\n",
      "Histogram bins : 32\n",
      "Orientation : 9\n",
      "Pixel per cell : 8\n",
      "Cell per block : 2\n",
      "HOG channel : 0\n",
      "Spatial feature : True\n",
      "Histogram feature : True\n",
      "HOG feature : True\n",
      "=======================\n",
      "Total features: 17760\n",
      "Score: 0.9817\n"
     ]
    }
   ],
   "source": [
    "test_features_performance(images, labels)"
   ]
  },
  {
   "cell_type": "code",
   "execution_count": 4,
   "metadata": {
    "collapsed": false
   },
   "outputs": [
    {
     "name": "stdout",
     "output_type": "stream",
     "text": [
      "Settings\n",
      "=======================\n",
      "File type : png\n",
      "Color space : YUV\n",
      "Spatial size : (32, 32)\n",
      "Histogram bins : 32\n",
      "Orientation : 9\n",
      "Pixel per cell : 8\n",
      "Cell per block : 2\n",
      "HOG channel : 0\n",
      "Spatial feature : True\n",
      "Histogram feature : True\n",
      "HOG feature : True\n",
      "=======================\n",
      "Total features: 17760\n",
      "Score: 0.9834\n"
     ]
    }
   ],
   "source": [
    "test_features_performance(images, labels, color_space='YUV')"
   ]
  },
  {
   "cell_type": "code",
   "execution_count": 5,
   "metadata": {
    "collapsed": false
   },
   "outputs": [
    {
     "name": "stdout",
     "output_type": "stream",
     "text": [
      "Settings\n",
      "=======================\n",
      "File type : png\n",
      "Color space : HSV\n",
      "Spatial size : (32, 32)\n",
      "Histogram bins : 32\n",
      "Orientation : 9\n",
      "Pixel per cell : 8\n",
      "Cell per block : 2\n",
      "HOG channel : 0\n",
      "Spatial feature : True\n",
      "Histogram feature : True\n",
      "HOG feature : True\n",
      "=======================\n",
      "Total features: 17760\n",
      "Score: 0.9775\n"
     ]
    }
   ],
   "source": [
    "test_features_performance(images, labels, color_space='HSV')"
   ]
  },
  {
   "cell_type": "code",
   "execution_count": 6,
   "metadata": {
    "collapsed": false
   },
   "outputs": [
    {
     "name": "stdout",
     "output_type": "stream",
     "text": [
      "Settings\n",
      "=======================\n",
      "File type : png\n",
      "Color space : HLS\n",
      "Spatial size : (32, 32)\n",
      "Histogram bins : 32\n",
      "Orientation : 9\n",
      "Pixel per cell : 8\n",
      "Cell per block : 2\n",
      "HOG channel : 0\n",
      "Spatial feature : True\n",
      "Histogram feature : True\n",
      "HOG feature : True\n",
      "=======================\n",
      "Total features: 17760\n",
      "Score: 0.9730\n"
     ]
    }
   ],
   "source": [
    "test_features_performance(images, labels, color_space='HLS')"
   ]
  },
  {
   "cell_type": "code",
   "execution_count": 7,
   "metadata": {
    "collapsed": false
   },
   "outputs": [
    {
     "name": "stdout",
     "output_type": "stream",
     "text": [
      "Settings\n",
      "=======================\n",
      "File type : png\n",
      "Color space : LUV\n",
      "Spatial size : (32, 32)\n",
      "Histogram bins : 32\n",
      "Orientation : 9\n",
      "Pixel per cell : 8\n",
      "Cell per block : 2\n",
      "HOG channel : 0\n",
      "Spatial feature : True\n",
      "Histogram feature : True\n",
      "HOG feature : True\n",
      "=======================\n",
      "Total features: 17760\n",
      "Score: 0.9862\n"
     ]
    }
   ],
   "source": [
    "test_features_performance(images, labels, color_space='LUV')"
   ]
  },
  {
   "cell_type": "code",
   "execution_count": 8,
   "metadata": {
    "collapsed": false
   },
   "outputs": [
    {
     "name": "stdout",
     "output_type": "stream",
     "text": [
      "Settings\n",
      "=======================\n",
      "File type : png\n",
      "Color space : YCrCb\n",
      "Spatial size : (32, 32)\n",
      "Histogram bins : 32\n",
      "Orientation : 9\n",
      "Pixel per cell : 8\n",
      "Cell per block : 2\n",
      "HOG channel : 0\n",
      "Spatial feature : True\n",
      "Histogram feature : True\n",
      "HOG feature : True\n",
      "=======================\n",
      "Total features: 17760\n",
      "Score: 0.9862\n"
     ]
    }
   ],
   "source": [
    "test_features_performance(images, labels, color_space='YCrCb')"
   ]
  },
  {
   "cell_type": "code",
   "execution_count": 9,
   "metadata": {
    "collapsed": false
   },
   "outputs": [
    {
     "name": "stdout",
     "output_type": "stream",
     "text": [
      "Settings\n",
      "=======================\n",
      "File type : png\n",
      "Color space : YCrCb\n",
      "Spatial size : (24, 24)\n",
      "Histogram bins : 32\n",
      "Orientation : 9\n",
      "Pixel per cell : 8\n",
      "Cell per block : 2\n",
      "HOG channel : 0\n",
      "Spatial feature : True\n",
      "Histogram feature : True\n",
      "HOG feature : True\n",
      "=======================\n",
      "Total features: 17760\n",
      "Score: 0.9859\n"
     ]
    }
   ],
   "source": [
    "test_features_performance(images, labels, color_space='YCrCb', spatial_size=(24, 24))"
   ]
  },
  {
   "cell_type": "code",
   "execution_count": 10,
   "metadata": {
    "collapsed": false
   },
   "outputs": [
    {
     "name": "stdout",
     "output_type": "stream",
     "text": [
      "Settings\n",
      "=======================\n",
      "File type : png\n",
      "Color space : YCrCb\n",
      "Spatial size : (48, 48)\n",
      "Histogram bins : 32\n",
      "Orientation : 9\n",
      "Pixel per cell : 8\n",
      "Cell per block : 2\n",
      "HOG channel : 0\n",
      "Spatial feature : True\n",
      "Histogram feature : True\n",
      "HOG feature : True\n",
      "=======================\n",
      "Total features: 17760\n",
      "Score: 0.9848\n"
     ]
    }
   ],
   "source": [
    "test_features_performance(images, labels, color_space='YCrCb', spatial_size=(48, 48))"
   ]
  },
  {
   "cell_type": "code",
   "execution_count": 11,
   "metadata": {
    "collapsed": false
   },
   "outputs": [
    {
     "name": "stdout",
     "output_type": "stream",
     "text": [
      "Settings\n",
      "=======================\n",
      "File type : png\n",
      "Color space : YCrCb\n",
      "Spatial size : (32, 32)\n",
      "Histogram bins : 32\n",
      "Orientation : 9\n",
      "Pixel per cell : 8\n",
      "Cell per block : 2\n",
      "HOG channel : 1\n",
      "Spatial feature : True\n",
      "Histogram feature : True\n",
      "HOG feature : True\n",
      "=======================\n",
      "Total features: 17760\n",
      "Score: 0.9755\n"
     ]
    }
   ],
   "source": [
    "test_features_performance(images, labels, color_space='YCrCb', spatial_size=(32, 32), hog_channel=1)"
   ]
  },
  {
   "cell_type": "code",
   "execution_count": 12,
   "metadata": {
    "collapsed": false
   },
   "outputs": [
    {
     "name": "stdout",
     "output_type": "stream",
     "text": [
      "Settings\n",
      "=======================\n",
      "File type : png\n",
      "Color space : YCrCb\n",
      "Spatial size : (32, 32)\n",
      "Histogram bins : 32\n",
      "Orientation : 9\n",
      "Pixel per cell : 8\n",
      "Cell per block : 2\n",
      "HOG channel : 2\n",
      "Spatial feature : True\n",
      "Histogram feature : True\n",
      "HOG feature : True\n",
      "=======================\n",
      "Total features: 17760\n",
      "Score: 0.9713\n"
     ]
    }
   ],
   "source": [
    "test_features_performance(images, labels, color_space='YCrCb', spatial_size=(32, 32), hog_channel=2)"
   ]
  },
  {
   "cell_type": "code",
   "execution_count": 13,
   "metadata": {
    "collapsed": false
   },
   "outputs": [
    {
     "name": "stdout",
     "output_type": "stream",
     "text": [
      "Settings\n",
      "=======================\n",
      "File type : png\n",
      "Color space : YCrCb\n",
      "Spatial size : (32, 32)\n",
      "Histogram bins : 32\n",
      "Orientation : 9\n",
      "Pixel per cell : 8\n",
      "Cell per block : 2\n",
      "HOG channel : ALL\n",
      "Spatial feature : True\n",
      "Histogram feature : True\n",
      "HOG feature : True\n",
      "=======================\n",
      "Total features: 17760\n",
      "Score: 0.9927\n"
     ]
    }
   ],
   "source": [
    "test_features_performance(images, labels, color_space='YCrCb', spatial_size=(32, 32), hog_channel=\"ALL\")"
   ]
  },
  {
   "cell_type": "code",
   "execution_count": 14,
   "metadata": {
    "collapsed": false
   },
   "outputs": [
    {
     "name": "stdout",
     "output_type": "stream",
     "text": [
      "Settings\n",
      "=======================\n",
      "File type : png\n",
      "Color space : YCrCb\n",
      "Spatial size : (32, 32)\n",
      "Histogram bins : 32\n",
      "Orientation : 9\n",
      "Pixel per cell : 6\n",
      "Cell per block : 2\n",
      "HOG channel : ALL\n",
      "Spatial feature : True\n",
      "Histogram feature : True\n",
      "HOG feature : True\n",
      "=======================\n",
      "Total features: 17760\n",
      "Score: 0.9955\n"
     ]
    }
   ],
   "source": [
    "test_features_performance(images, labels, color_space='YCrCb', spatial_size=(32, 32), hog_channel=\"ALL\", pix_per_cell=6)"
   ]
  },
  {
   "cell_type": "code",
   "execution_count": 15,
   "metadata": {
    "collapsed": false
   },
   "outputs": [
    {
     "name": "stdout",
     "output_type": "stream",
     "text": [
      "Settings\n",
      "=======================\n",
      "File type : png\n",
      "Color space : YCrCb\n",
      "Spatial size : (32, 32)\n",
      "Histogram bins : 32\n",
      "Orientation : 9\n",
      "Pixel per cell : 12\n",
      "Cell per block : 2\n",
      "HOG channel : ALL\n",
      "Spatial feature : True\n",
      "Histogram feature : True\n",
      "HOG feature : True\n",
      "=======================\n",
      "Total features: 17760\n",
      "Score: 0.9930\n"
     ]
    }
   ],
   "source": [
    "test_features_performance(images, labels, color_space='YCrCb', spatial_size=(32, 32), hog_channel=\"ALL\", pix_per_cell=12)"
   ]
  },
  {
   "cell_type": "code",
   "execution_count": 16,
   "metadata": {
    "collapsed": false
   },
   "outputs": [
    {
     "name": "stdout",
     "output_type": "stream",
     "text": [
      "Settings\n",
      "=======================\n",
      "File type : png\n",
      "Color space : YCrCb\n",
      "Spatial size : (32, 32)\n",
      "Histogram bins : 32\n",
      "Orientation : 9\n",
      "Pixel per cell : 6\n",
      "Cell per block : 4\n",
      "HOG channel : ALL\n",
      "Spatial feature : True\n",
      "Histogram feature : True\n",
      "HOG feature : True\n",
      "=======================\n",
      "Total features: 17760\n",
      "Score: 0.9935\n"
     ]
    }
   ],
   "source": [
    "test_features_performance(images, labels, color_space='YCrCb', spatial_size=(32, 32), hog_channel=\"ALL\", pix_per_cell=6, cell_per_block=4)"
   ]
  },
  {
   "cell_type": "markdown",
   "metadata": {},
   "source": [
    "### Final Selection"
   ]
  },
  {
   "cell_type": "code",
   "execution_count": 17,
   "metadata": {
    "collapsed": false
   },
   "outputs": [
    {
     "name": "stdout",
     "output_type": "stream",
     "text": [
      "Settings\n",
      "=======================\n",
      "File type : png\n",
      "Color space : YCrCb\n",
      "Spatial size : (32, 32)\n",
      "Histogram bins : 32\n",
      "Orientation : 9\n",
      "Pixel per cell : 8\n",
      "Cell per block : 2\n",
      "HOG channel : ALL\n",
      "Spatial feature : True\n",
      "Histogram feature : True\n",
      "HOG feature : True\n",
      "=======================\n",
      "Total features: 17760\n",
      "Score: 0.9927\n"
     ]
    }
   ],
   "source": [
    "# Settings\n",
    "color_space = 'YCrCb'\n",
    "spatial_size = (32,32)\n",
    "hist_bins = 32\n",
    "orient = 9\n",
    "pixel_per_cell = 8\n",
    "cell_per_block = 2\n",
    "hog_channel = 'ALL'\n",
    "spatial_feat = True\n",
    "hist_feat = True\n",
    "hog_feat = True\n",
    "\n",
    "features = feature_extraction(images, color_space=color_space, pix_per_cell=pixel_per_cell, hog_channel=hog_channel)\n",
    "features, scaler = scale_features(features)\n",
    "X_train, X_test, y_train, y_test = train_test_split(\n",
    "    features,\n",
    "    labels,\n",
    "    test_size=0.2,\n",
    "    stratify = labels,\n",
    "    random_state=256)\n",
    "clf = LinearSVC()\n",
    "clf.fit(X_train, y_train)\n",
    "score = clf.score(X_test, y_test)\n",
    "print(\"Score: {0:.4f}\".format(score))"
   ]
  },
  {
   "cell_type": "code",
   "execution_count": 18,
   "metadata": {
    "collapsed": false
   },
   "outputs": [
    {
     "name": "stdout",
     "output_type": "stream",
     "text": [
      "model saved.\n"
     ]
    }
   ],
   "source": [
    "# save model\n",
    "from sklearn.externals import joblib\n",
    "model = { \n",
    "    \"classifier\": clf,\n",
    "    \"scaler\": scaler,\n",
    "    \"color_space\" : color_space,\n",
    "    \"spatial_size\" : spatial_size,\n",
    "    \"hist_bins\" : hist_bins,\n",
    "    \"orient\" : orient,\n",
    "    \"pix_per_cell\" : pixel_per_cell, \n",
    "    \"cell_per_block\" : cell_per_block,\n",
    "    \"hog_channel\" : hog_channel,\n",
    "    \"spatial_feat\" : spatial_feat,\n",
    "    \"hist_feat\" : hist_feat,\n",
    "    \"hog_feat\" : hog_feat\n",
    "}\n",
    "joblib.dump(model, \"model.pkl\")\n",
    "print(\"model saved.\")"
   ]
  }
 ],
 "metadata": {
  "kernelspec": {
   "display_name": "Python 3",
   "language": "python",
   "name": "python3"
  },
  "language_info": {
   "codemirror_mode": {
    "name": "ipython",
    "version": 3
   },
   "file_extension": ".py",
   "mimetype": "text/x-python",
   "name": "python",
   "nbconvert_exporter": "python",
   "pygments_lexer": "ipython3",
   "version": "3.5.2"
  },
  "widgets": {
   "state": {},
   "version": "1.1.2"
  }
 },
 "nbformat": 4,
 "nbformat_minor": 2
}
